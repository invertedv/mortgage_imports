{
 "cells": [
  {
   "cell_type": "markdown",
   "metadata": {
    "collapsed": true,
    "pycharm": {
     "name": "#%% md\n"
    }
   },
   "source": [
    "## investigations\n",
    "Conclusions on mods:\n",
    "\n",
    "- Freddie data only flags mod on the month it occurs, Fannie keeps the flag for the duration of the mod.\n",
    "- The mod_sticky_flg unifies the data: it is always Y after a mod\n",
    "- Mods have significant prior dq\n",
    "\n",
    "Conclusions on borr_asst_plan:\n",
    "\n",
    "- Flags are sticky\n",
    "- Can have multiple episodes of plans\n",
    "- Some but not a lot of overlap with mods\n",
    "- F: most were had at most months_dq=1\n",
    "- R: most were 1+ months_dq prior, mostly used by Freddie\n",
    "- Tend to be short term in nature\n",
    "\n",
    "Conclusions on interest rate reductions:\n",
    "\n",
    "- Almost all ir reductions are marked as mods\n",
    "- mods involve ir reduction about 60% of the time\n"
   ]
  },
  {
   "cell_type": "code",
   "source": [
    "import mortgage_imports.clickhouse_utilities as cu\n",
    "import pandas as pd\n",
    "import numpy as np\n",
    "from muti import chu"
   ],
   "metadata": {
    "collapsed": false,
    "pycharm": {
     "name": "#%%\n"
    }
   },
   "execution_count": 1,
   "outputs": []
  },
  {
   "cell_type": "code",
   "execution_count": 2,
   "outputs": [],
   "source": [
    "# pandas options\n",
    "pd.set_option('display.max_columns', None)\n",
    "pd.set_option('display.width', 1000)\n",
    "pd.set_option('display.colheader_justify', 'center')\n",
    "pd.set_option('display.max_rows', 1000)\n",
    "client = chu.make_connection()"
   ],
   "metadata": {
    "collapsed": false,
    "pycharm": {
     "name": "#%%\n"
    }
   }
  },
  {
   "cell_type": "code",
   "execution_count": 3,
   "outputs": [
    {
     "data": {
      "text/plain": "          src_data       mf msf    ln_mon  \n0                 fannie  !   !    33987601\n1                 fannie  !   Y      368602\n2                 fannie  N   N  2386144619\n3                 fannie  N   Y      119336\n4                 fannie  Y   Y    38026197\n5   freddie:non-standard  N   N   329100922\n6   freddie:non-standard  N   Y    16942726\n7   freddie:non-standard  Y   Y      307970\n8       freddie:standard  N   N  2002062338\n9       freddie:standard  N   Y    25874298\n10      freddie:standard  Y   Y      511910",
      "text/html": "<div>\n<style scoped>\n    .dataframe tbody tr th:only-of-type {\n        vertical-align: middle;\n    }\n\n    .dataframe tbody tr th {\n        vertical-align: top;\n    }\n\n    .dataframe thead th {\n        text-align: right;\n    }\n</style>\n<table border=\"1\" class=\"dataframe\">\n  <thead>\n    <tr style=\"text-align: center;\">\n      <th></th>\n      <th>src_data</th>\n      <th>mf</th>\n      <th>msf</th>\n      <th>ln_mon</th>\n    </tr>\n  </thead>\n  <tbody>\n    <tr>\n      <th>0</th>\n      <td>fannie</td>\n      <td>!</td>\n      <td>!</td>\n      <td>33987601</td>\n    </tr>\n    <tr>\n      <th>1</th>\n      <td>fannie</td>\n      <td>!</td>\n      <td>Y</td>\n      <td>368602</td>\n    </tr>\n    <tr>\n      <th>2</th>\n      <td>fannie</td>\n      <td>N</td>\n      <td>N</td>\n      <td>2386144619</td>\n    </tr>\n    <tr>\n      <th>3</th>\n      <td>fannie</td>\n      <td>N</td>\n      <td>Y</td>\n      <td>119336</td>\n    </tr>\n    <tr>\n      <th>4</th>\n      <td>fannie</td>\n      <td>Y</td>\n      <td>Y</td>\n      <td>38026197</td>\n    </tr>\n    <tr>\n      <th>5</th>\n      <td>freddie:non-standard</td>\n      <td>N</td>\n      <td>N</td>\n      <td>329100922</td>\n    </tr>\n    <tr>\n      <th>6</th>\n      <td>freddie:non-standard</td>\n      <td>N</td>\n      <td>Y</td>\n      <td>16942726</td>\n    </tr>\n    <tr>\n      <th>7</th>\n      <td>freddie:non-standard</td>\n      <td>Y</td>\n      <td>Y</td>\n      <td>307970</td>\n    </tr>\n    <tr>\n      <th>8</th>\n      <td>freddie:standard</td>\n      <td>N</td>\n      <td>N</td>\n      <td>2002062338</td>\n    </tr>\n    <tr>\n      <th>9</th>\n      <td>freddie:standard</td>\n      <td>N</td>\n      <td>Y</td>\n      <td>25874298</td>\n    </tr>\n    <tr>\n      <th>10</th>\n      <td>freddie:standard</td>\n      <td>Y</td>\n      <td>Y</td>\n      <td>511910</td>\n    </tr>\n  </tbody>\n</table>\n</div>"
     },
     "execution_count": 3,
     "metadata": {},
     "output_type": "execute_result"
    }
   ],
   "source": [
    "qry = \\\n",
    "\"\"\"\n",
    "SELECT\n",
    "    src_data,\n",
    "    m.mod_flg AS mf,\n",
    "    m.mod_sticky_flg AS msf,\n",
    "    COUNT(*) AS ln_mon\n",
    "FROM\n",
    "    unified.frannie ARRAY JOIN monthly AS m\n",
    "GROUP BY\n",
    "  src_data,\n",
    "  mf,\n",
    "  msf\n",
    "ORDER BY\n",
    "  src_data,\n",
    "  mf,\n",
    "  msf;\n",
    "\"\"\"\n",
    "\n",
    "df1 = chu.run_query(qry, client, return_df=True)\n",
    "df1.head(n=100)"
   ],
   "metadata": {
    "collapsed": false,
    "pycharm": {
     "name": "#%%\n"
    }
   }
  },
  {
   "cell_type": "code",
   "execution_count": 4,
   "outputs": [
    {
     "data": {
      "text/plain": "          src_data        prior_dq    nl  \n0                 fannie      0        754\n1                 fannie      1       3102\n2                 fannie      2      18232\n3                 fannie      3      45659\n4                 fannie      4      74404\n5                 fannie      5      82696\n6                 fannie      6     368877\n7   freddie:non-standard      0       1108\n8   freddie:non-standard      1       5397\n9   freddie:non-standard      2      11786\n10  freddie:non-standard      3      19441\n11  freddie:non-standard      4      25525\n12  freddie:non-standard      5      27451\n13  freddie:non-standard      6     163022\n14      freddie:standard      0       1615\n15      freddie:standard      1       9044\n16      freddie:standard      2      20160\n17      freddie:standard      3      36161\n18      freddie:standard      4      49954\n19      freddie:standard      5      57704\n20      freddie:standard      6     260129",
      "text/html": "<div>\n<style scoped>\n    .dataframe tbody tr th:only-of-type {\n        vertical-align: middle;\n    }\n\n    .dataframe tbody tr th {\n        vertical-align: top;\n    }\n\n    .dataframe thead th {\n        text-align: right;\n    }\n</style>\n<table border=\"1\" class=\"dataframe\">\n  <thead>\n    <tr style=\"text-align: center;\">\n      <th></th>\n      <th>src_data</th>\n      <th>prior_dq</th>\n      <th>nl</th>\n    </tr>\n  </thead>\n  <tbody>\n    <tr>\n      <th>0</th>\n      <td>fannie</td>\n      <td>0</td>\n      <td>754</td>\n    </tr>\n    <tr>\n      <th>1</th>\n      <td>fannie</td>\n      <td>1</td>\n      <td>3102</td>\n    </tr>\n    <tr>\n      <th>2</th>\n      <td>fannie</td>\n      <td>2</td>\n      <td>18232</td>\n    </tr>\n    <tr>\n      <th>3</th>\n      <td>fannie</td>\n      <td>3</td>\n      <td>45659</td>\n    </tr>\n    <tr>\n      <th>4</th>\n      <td>fannie</td>\n      <td>4</td>\n      <td>74404</td>\n    </tr>\n    <tr>\n      <th>5</th>\n      <td>fannie</td>\n      <td>5</td>\n      <td>82696</td>\n    </tr>\n    <tr>\n      <th>6</th>\n      <td>fannie</td>\n      <td>6</td>\n      <td>368877</td>\n    </tr>\n    <tr>\n      <th>7</th>\n      <td>freddie:non-standard</td>\n      <td>0</td>\n      <td>1108</td>\n    </tr>\n    <tr>\n      <th>8</th>\n      <td>freddie:non-standard</td>\n      <td>1</td>\n      <td>5397</td>\n    </tr>\n    <tr>\n      <th>9</th>\n      <td>freddie:non-standard</td>\n      <td>2</td>\n      <td>11786</td>\n    </tr>\n    <tr>\n      <th>10</th>\n      <td>freddie:non-standard</td>\n      <td>3</td>\n      <td>19441</td>\n    </tr>\n    <tr>\n      <th>11</th>\n      <td>freddie:non-standard</td>\n      <td>4</td>\n      <td>25525</td>\n    </tr>\n    <tr>\n      <th>12</th>\n      <td>freddie:non-standard</td>\n      <td>5</td>\n      <td>27451</td>\n    </tr>\n    <tr>\n      <th>13</th>\n      <td>freddie:non-standard</td>\n      <td>6</td>\n      <td>163022</td>\n    </tr>\n    <tr>\n      <th>14</th>\n      <td>freddie:standard</td>\n      <td>0</td>\n      <td>1615</td>\n    </tr>\n    <tr>\n      <th>15</th>\n      <td>freddie:standard</td>\n      <td>1</td>\n      <td>9044</td>\n    </tr>\n    <tr>\n      <th>16</th>\n      <td>freddie:standard</td>\n      <td>2</td>\n      <td>20160</td>\n    </tr>\n    <tr>\n      <th>17</th>\n      <td>freddie:standard</td>\n      <td>3</td>\n      <td>36161</td>\n    </tr>\n    <tr>\n      <th>18</th>\n      <td>freddie:standard</td>\n      <td>4</td>\n      <td>49954</td>\n    </tr>\n    <tr>\n      <th>19</th>\n      <td>freddie:standard</td>\n      <td>5</td>\n      <td>57704</td>\n    </tr>\n    <tr>\n      <th>20</th>\n      <td>freddie:standard</td>\n      <td>6</td>\n      <td>260129</td>\n    </tr>\n  </tbody>\n</table>\n</div>"
     },
     "execution_count": 4,
     "metadata": {},
     "output_type": "execute_result"
    }
   ],
   "source": [
    "# look at relations between mod_flg and dq on that date and max prior dq\n",
    "# most frequently they are reset to current at the mod date and were 6+ months dq prior\n",
    "qry = \\\n",
    "\"\"\"\n",
    "SELECT\n",
    "  src_data,\n",
    "  prior_dq > 6 ? 6 : prior_dq AS prior_dq,\n",
    "  count(*) AS nl\n",
    "FROM (\n",
    "    SELECT\n",
    "        src_data,\n",
    "        arrayMax(arraySlice(monthly.months_dq, 1, indexOf(monthly.mod_flg, 'Y'))) AS prior_dq\n",
    "    FROM\n",
    "        unified.frannie\n",
    "    WHERE\n",
    "        has(monthly.mod_flg, 'Y'))\n",
    "GROUP BY src_data, prior_dq\n",
    "ORDER BY src_data, prior_dq\n",
    "\"\"\"\n",
    "\n",
    "df2 = chu.run_query(qry, client, return_df=True)\n",
    "df2.head(n=1000)"
   ],
   "metadata": {
    "collapsed": false,
    "pycharm": {
     "name": "#%%\n"
    }
   }
  },
  {
   "cell_type": "markdown",
   "source": [
    "you can see that the effect of the sticky mod flag--little effect on Fannie, big effect of Freddie\n",
    "where the flag only appears on the month of the mod\n",
    "\n",
    "modded loans tend to be very dq in their history"
   ],
   "metadata": {
    "collapsed": false,
    "pycharm": {
     "name": "#%% md\n"
    }
   }
  },
  {
   "cell_type": "code",
   "execution_count": 5,
   "outputs": [
    {
     "data": {
      "text/plain": "          src_data       bap mf msf    ln_mon  \n0                 fannie   !  !   !    30623405\n2                 fannie   !  !   Y      333362\n4                 fannie   !  N   N  2250183556\n10                fannie   !  N   Y       99998\n16                fannie   !  Y   Y    35892258\n1                 fannie   7  !   !     3364196\n3                 fannie   7  !   Y       35240\n5                 fannie   7  N   N   129464692\n11                fannie   7  N   Y       14887\n17                fannie   7  Y   Y     1458903\n6                 fannie   F  N   N     4906953\n12                fannie   F  N   Y        1674\n18                fannie   F  Y   Y      373776\n7                 fannie   N  N   N     1449916\n13                fannie   N  N   Y        2577\n19                fannie   N  Y   Y      278319\n8                 fannie   R  N   N       46060\n14                fannie   R  N   Y          37\n20                fannie   R  Y   Y        6491\n9                 fannie   T  N   N       93442\n15                fannie   T  N   Y         163\n21                fannie   T  Y   Y       16450\n22  freddie:non-standard   !  N   N   328603752\n26  freddie:non-standard   !  N   Y    16601448\n30  freddie:non-standard   !  Y   Y      305331\n23  freddie:non-standard   F  N   N      260803\n27  freddie:non-standard   F  N   Y      122365\n31  freddie:non-standard   F  Y   Y         779\n24  freddie:non-standard   R  N   N       68172\n28  freddie:non-standard   R  N   Y       91091\n32  freddie:non-standard   R  Y   Y         161\n25  freddie:non-standard   T  N   N      168195\n29  freddie:non-standard   T  N   Y      127822\n33  freddie:non-standard   T  Y   Y        1699\n34      freddie:standard   !  N   N  1997621569\n38      freddie:standard   !  N   Y    25261383\n42      freddie:standard   !  Y   Y      503552\n35      freddie:standard   F  N   N     3508603\n39      freddie:standard   F  N   Y      263872\n43      freddie:standard   F  Y   Y        1722\n36      freddie:standard   R  N   N      286367\n40      freddie:standard   R  N   Y      148732\n44      freddie:standard   R  Y   Y         291\n37      freddie:standard   T  N   N      645799\n41      freddie:standard   T  N   Y      200311\n45      freddie:standard   T  Y   Y        6345",
      "text/html": "<div>\n<style scoped>\n    .dataframe tbody tr th:only-of-type {\n        vertical-align: middle;\n    }\n\n    .dataframe tbody tr th {\n        vertical-align: top;\n    }\n\n    .dataframe thead th {\n        text-align: right;\n    }\n</style>\n<table border=\"1\" class=\"dataframe\">\n  <thead>\n    <tr style=\"text-align: center;\">\n      <th></th>\n      <th>src_data</th>\n      <th>bap</th>\n      <th>mf</th>\n      <th>msf</th>\n      <th>ln_mon</th>\n    </tr>\n  </thead>\n  <tbody>\n    <tr>\n      <th>0</th>\n      <td>fannie</td>\n      <td>!</td>\n      <td>!</td>\n      <td>!</td>\n      <td>30623405</td>\n    </tr>\n    <tr>\n      <th>2</th>\n      <td>fannie</td>\n      <td>!</td>\n      <td>!</td>\n      <td>Y</td>\n      <td>333362</td>\n    </tr>\n    <tr>\n      <th>4</th>\n      <td>fannie</td>\n      <td>!</td>\n      <td>N</td>\n      <td>N</td>\n      <td>2250183556</td>\n    </tr>\n    <tr>\n      <th>10</th>\n      <td>fannie</td>\n      <td>!</td>\n      <td>N</td>\n      <td>Y</td>\n      <td>99998</td>\n    </tr>\n    <tr>\n      <th>16</th>\n      <td>fannie</td>\n      <td>!</td>\n      <td>Y</td>\n      <td>Y</td>\n      <td>35892258</td>\n    </tr>\n    <tr>\n      <th>1</th>\n      <td>fannie</td>\n      <td>7</td>\n      <td>!</td>\n      <td>!</td>\n      <td>3364196</td>\n    </tr>\n    <tr>\n      <th>3</th>\n      <td>fannie</td>\n      <td>7</td>\n      <td>!</td>\n      <td>Y</td>\n      <td>35240</td>\n    </tr>\n    <tr>\n      <th>5</th>\n      <td>fannie</td>\n      <td>7</td>\n      <td>N</td>\n      <td>N</td>\n      <td>129464692</td>\n    </tr>\n    <tr>\n      <th>11</th>\n      <td>fannie</td>\n      <td>7</td>\n      <td>N</td>\n      <td>Y</td>\n      <td>14887</td>\n    </tr>\n    <tr>\n      <th>17</th>\n      <td>fannie</td>\n      <td>7</td>\n      <td>Y</td>\n      <td>Y</td>\n      <td>1458903</td>\n    </tr>\n    <tr>\n      <th>6</th>\n      <td>fannie</td>\n      <td>F</td>\n      <td>N</td>\n      <td>N</td>\n      <td>4906953</td>\n    </tr>\n    <tr>\n      <th>12</th>\n      <td>fannie</td>\n      <td>F</td>\n      <td>N</td>\n      <td>Y</td>\n      <td>1674</td>\n    </tr>\n    <tr>\n      <th>18</th>\n      <td>fannie</td>\n      <td>F</td>\n      <td>Y</td>\n      <td>Y</td>\n      <td>373776</td>\n    </tr>\n    <tr>\n      <th>7</th>\n      <td>fannie</td>\n      <td>N</td>\n      <td>N</td>\n      <td>N</td>\n      <td>1449916</td>\n    </tr>\n    <tr>\n      <th>13</th>\n      <td>fannie</td>\n      <td>N</td>\n      <td>N</td>\n      <td>Y</td>\n      <td>2577</td>\n    </tr>\n    <tr>\n      <th>19</th>\n      <td>fannie</td>\n      <td>N</td>\n      <td>Y</td>\n      <td>Y</td>\n      <td>278319</td>\n    </tr>\n    <tr>\n      <th>8</th>\n      <td>fannie</td>\n      <td>R</td>\n      <td>N</td>\n      <td>N</td>\n      <td>46060</td>\n    </tr>\n    <tr>\n      <th>14</th>\n      <td>fannie</td>\n      <td>R</td>\n      <td>N</td>\n      <td>Y</td>\n      <td>37</td>\n    </tr>\n    <tr>\n      <th>20</th>\n      <td>fannie</td>\n      <td>R</td>\n      <td>Y</td>\n      <td>Y</td>\n      <td>6491</td>\n    </tr>\n    <tr>\n      <th>9</th>\n      <td>fannie</td>\n      <td>T</td>\n      <td>N</td>\n      <td>N</td>\n      <td>93442</td>\n    </tr>\n    <tr>\n      <th>15</th>\n      <td>fannie</td>\n      <td>T</td>\n      <td>N</td>\n      <td>Y</td>\n      <td>163</td>\n    </tr>\n    <tr>\n      <th>21</th>\n      <td>fannie</td>\n      <td>T</td>\n      <td>Y</td>\n      <td>Y</td>\n      <td>16450</td>\n    </tr>\n    <tr>\n      <th>22</th>\n      <td>freddie:non-standard</td>\n      <td>!</td>\n      <td>N</td>\n      <td>N</td>\n      <td>328603752</td>\n    </tr>\n    <tr>\n      <th>26</th>\n      <td>freddie:non-standard</td>\n      <td>!</td>\n      <td>N</td>\n      <td>Y</td>\n      <td>16601448</td>\n    </tr>\n    <tr>\n      <th>30</th>\n      <td>freddie:non-standard</td>\n      <td>!</td>\n      <td>Y</td>\n      <td>Y</td>\n      <td>305331</td>\n    </tr>\n    <tr>\n      <th>23</th>\n      <td>freddie:non-standard</td>\n      <td>F</td>\n      <td>N</td>\n      <td>N</td>\n      <td>260803</td>\n    </tr>\n    <tr>\n      <th>27</th>\n      <td>freddie:non-standard</td>\n      <td>F</td>\n      <td>N</td>\n      <td>Y</td>\n      <td>122365</td>\n    </tr>\n    <tr>\n      <th>31</th>\n      <td>freddie:non-standard</td>\n      <td>F</td>\n      <td>Y</td>\n      <td>Y</td>\n      <td>779</td>\n    </tr>\n    <tr>\n      <th>24</th>\n      <td>freddie:non-standard</td>\n      <td>R</td>\n      <td>N</td>\n      <td>N</td>\n      <td>68172</td>\n    </tr>\n    <tr>\n      <th>28</th>\n      <td>freddie:non-standard</td>\n      <td>R</td>\n      <td>N</td>\n      <td>Y</td>\n      <td>91091</td>\n    </tr>\n    <tr>\n      <th>32</th>\n      <td>freddie:non-standard</td>\n      <td>R</td>\n      <td>Y</td>\n      <td>Y</td>\n      <td>161</td>\n    </tr>\n    <tr>\n      <th>25</th>\n      <td>freddie:non-standard</td>\n      <td>T</td>\n      <td>N</td>\n      <td>N</td>\n      <td>168195</td>\n    </tr>\n    <tr>\n      <th>29</th>\n      <td>freddie:non-standard</td>\n      <td>T</td>\n      <td>N</td>\n      <td>Y</td>\n      <td>127822</td>\n    </tr>\n    <tr>\n      <th>33</th>\n      <td>freddie:non-standard</td>\n      <td>T</td>\n      <td>Y</td>\n      <td>Y</td>\n      <td>1699</td>\n    </tr>\n    <tr>\n      <th>34</th>\n      <td>freddie:standard</td>\n      <td>!</td>\n      <td>N</td>\n      <td>N</td>\n      <td>1997621569</td>\n    </tr>\n    <tr>\n      <th>38</th>\n      <td>freddie:standard</td>\n      <td>!</td>\n      <td>N</td>\n      <td>Y</td>\n      <td>25261383</td>\n    </tr>\n    <tr>\n      <th>42</th>\n      <td>freddie:standard</td>\n      <td>!</td>\n      <td>Y</td>\n      <td>Y</td>\n      <td>503552</td>\n    </tr>\n    <tr>\n      <th>35</th>\n      <td>freddie:standard</td>\n      <td>F</td>\n      <td>N</td>\n      <td>N</td>\n      <td>3508603</td>\n    </tr>\n    <tr>\n      <th>39</th>\n      <td>freddie:standard</td>\n      <td>F</td>\n      <td>N</td>\n      <td>Y</td>\n      <td>263872</td>\n    </tr>\n    <tr>\n      <th>43</th>\n      <td>freddie:standard</td>\n      <td>F</td>\n      <td>Y</td>\n      <td>Y</td>\n      <td>1722</td>\n    </tr>\n    <tr>\n      <th>36</th>\n      <td>freddie:standard</td>\n      <td>R</td>\n      <td>N</td>\n      <td>N</td>\n      <td>286367</td>\n    </tr>\n    <tr>\n      <th>40</th>\n      <td>freddie:standard</td>\n      <td>R</td>\n      <td>N</td>\n      <td>Y</td>\n      <td>148732</td>\n    </tr>\n    <tr>\n      <th>44</th>\n      <td>freddie:standard</td>\n      <td>R</td>\n      <td>Y</td>\n      <td>Y</td>\n      <td>291</td>\n    </tr>\n    <tr>\n      <th>37</th>\n      <td>freddie:standard</td>\n      <td>T</td>\n      <td>N</td>\n      <td>N</td>\n      <td>645799</td>\n    </tr>\n    <tr>\n      <th>41</th>\n      <td>freddie:standard</td>\n      <td>T</td>\n      <td>N</td>\n      <td>Y</td>\n      <td>200311</td>\n    </tr>\n    <tr>\n      <th>45</th>\n      <td>freddie:standard</td>\n      <td>T</td>\n      <td>Y</td>\n      <td>Y</td>\n      <td>6345</td>\n    </tr>\n  </tbody>\n</table>\n</div>"
     },
     "execution_count": 5,
     "metadata": {},
     "output_type": "execute_result"
    }
   ],
   "source": [
    "# look at the relationship between mod_flg and borrower assistance plan\n",
    "\n",
    "# R = repayment plan\n",
    "# F = forbearance\n",
    "# T = Trial\n",
    "# N = no plan\n",
    "# 7/9 = Not applicable/available (fannie)\n",
    "\n",
    "# repayment plans: Freddie does more, about 1/3 are Y (standard) for mod_sticky_flg. None for fannie.\n",
    "# forbearance: vast majority are not listed as mod -- perhaps coincidental overlap (ie forbearance on\n",
    "#              a loan that happened to be modified)\n",
    "qry = \\\n",
    "\"\"\"\n",
    "SELECT\n",
    "    src_data,\n",
    "    m.mod_flg AS mf,\n",
    "    m.mod_sticky_flg AS msf,\n",
    "    m.borr_asst_plan AS bap,\n",
    "    count(*) AS ln_mon\n",
    "FROM\n",
    "    unified.frannie ARRAY JOIN monthly AS m\n",
    "GROUP BY\n",
    "  src_data,\n",
    "  mf,\n",
    "  msf,\n",
    "  bap\n",
    "ORDER BY\n",
    "  src_data,\n",
    "  mf,\n",
    "  msf,\n",
    "  bap;\n",
    "\"\"\"\n",
    "\n",
    "df = chu.run_query(qry, client, return_df=True)\n",
    "df.sort_values(['src_data', 'bap', 'mf', 'msf'])[['src_data', 'bap', 'mf', 'msf', 'ln_mon']].head(n=1000)"
   ],
   "metadata": {
    "collapsed": false,
    "pycharm": {
     "name": "#%%\n"
    }
   }
  },
  {
   "cell_type": "code",
   "execution_count": 6,
   "outputs": [
    {
     "name": "stdout",
     "output_type": "stream",
     "text": [
      "[list(['F', 'F', 'F']) list(['F', 'F', 'F', 'F', '7', '7', '7', '7'])\n",
      " list(['F', 'F', '7', '7'])\n",
      " list(['F', 'F', 'F', 'F', 'F', 'F', 'F', '7', '7'])\n",
      " list(['F', 'F', 'F', 'F', 'F']) list(['F', 'F', '7'])\n",
      " list(['F', 'F', 'F', '7', '7', '7', '7', '7'])\n",
      " list(['F', 'F', 'F', 'F', 'F', 'F', 'F', 'F', 'F'])\n",
      " list(['F', 'F', 'F', 'F', 'F', 'F']) list(['F', '7', '7'])\n",
      " list(['F', 'F', 'F', 'F', 'F', 'F', 'F', 'F'])\n",
      " list(['F', 'F', 'F', 'F', 'F', 'F', 'F', 'F', 'F'])\n",
      " list(['F', 'F', 'F', 'F', '7', 'F', '7', '7'])\n",
      " list(['F', 'F', 'F', '7', '7', '7', '7', '7', '7'])\n",
      " list(['F', 'F', '7', '7', '7', 'N', 'F', 'F'])\n",
      " list(['F', 'F', 'F', 'F', 'N', 'N', '7'])\n",
      " list(['F', 'F', '7', '7', '7', '7', '7'])\n",
      " list(['F', 'F', 'F', 'F', 'F', '7', '7', '7', '7'])\n",
      " list(['F', 'F', 'F', 'F', 'F', 'F', 'F', 'F', 'F'])\n",
      " list(['F', 'F', 'F', 'F', 'F', 'F', 'F', 'F', '7'])\n",
      " list(['F', 'F', 'F', 'F', '7', '7', '7', '7', '7'])\n",
      " list(['F', 'F', 'F', '7', '7', '7', '7', '7', '7'])\n",
      " list(['F', 'F', 'F', 'F', 'F', '7', '7', '7', '7'])\n",
      " list(['F', '7', '7', '7', '7', '7', '7', '7', '7'])\n",
      " list(['F', 'F', 'F', 'F', 'F', 'F', 'F', '7', '7']) list(['F', 'F'])\n",
      " list(['F', 'F', 'F', '7'])\n",
      " list(['F', 'F', 'F', 'N', 'N', 'N', '7', '7', '7', '7']) list(['F'])\n",
      " list(['F', 'F', '7', '7', '7', '7', '7', '7', '7'])\n",
      " list(['F', 'F', 'F', 'F', 'F', 'F', 'F'])\n",
      " list(['F', '7', '7', '7', '7', '7', '7', '7', '7'])\n",
      " list(['F', 'F', 'F', 'F', 'N', '7', '7', '7', '7'])\n",
      " list(['F', '7', '7', '7', '7', '7', '7', '7', '7'])\n",
      " list(['F', 'F', 'F', 'F', 'F', 'F', 'F', 'F', '7'])]\n"
     ]
    }
   ],
   "source": [
    "\n",
    "# look at sticky-ness of borr_asst_plan: Fannie\n",
    "# sticky\n",
    "# code '7' seems to indicate end of forbearance\n",
    "\n",
    "qry = \\\n",
    "\"\"\"\n",
    "SELECT\n",
    "    arraySlice(monthly.borr_asst_plan, indexOf(monthly.borr_asst_plan, 'F')) AS bap\n",
    "FROM\n",
    "    fannie.final\n",
    "WHERE\n",
    "    has(monthly.borr_asst_plan, 'F')\n",
    "ORDER BY rand32(1)\n",
    "LIMIT 35\n",
    "\"\"\"\n",
    "\n",
    "df3 = chu.run_query(qry, client, return_df=True)\n",
    "print(np.asarray(df3['bap']))"
   ],
   "metadata": {
    "collapsed": false,
    "pycharm": {
     "name": "#%%\n"
    }
   }
  },
  {
   "cell_type": "code",
   "execution_count": 7,
   "outputs": [
    {
     "name": "stdout",
     "output_type": "stream",
     "text": [
      "[list(['F', 'F', 'F', '!', '!', '!', '!', '!'])\n",
      " list(['F', 'F', 'F', '!', '!', '!', '!', '!', '!'])\n",
      " list(['F', 'F', 'F', 'F', 'F', 'F', 'F', 'F', 'F'])\n",
      " list(['F', '!', '!', '!', 'F', 'F', '!', '!', '!', '!', '!', '!', '!', '!', '!', '!', '!', '!', '!', '!', '!', '!', '!', '!', '!', '!', '!', '!', '!', '!', '!', 'T', 'T', '!', '!', '!', '!', '!', '!', '!', '!', '!', '!', '!', '!', '!', '!', '!', '!', '!', '!', '!', '!'])\n",
      " list(['F', 'F', 'F', 'F', 'F', 'F', 'F', 'F', 'F'])\n",
      " list(['F', '!', '!', '!'])\n",
      " list(['F', 'F', '!', '!', '!', '!', '!', '!', '!', '!', '!', '!', 'F', '!', 'F', '!', '!', '!', '!', '!', '!', '!', '!', '!', '!', '!', '!', '!', '!', '!'])\n",
      " list(['F', 'F', 'F', 'F', 'F', 'F', 'F', '!'])\n",
      " list(['F', 'F', 'F', '!', '!', '!'])\n",
      " list(['F', 'F', 'F', 'F', '!', 'F', 'F', '!', '!'])\n",
      " list(['F', 'F', '!', '!', '!', '!', '!', '!', '!'])\n",
      " list(['F', 'F', 'F', 'F', 'F', '!', 'F', '!', '!', '!', '!', '!', '!', '!', '!', '!', '!', '!', '!', '!', '!', '!', '!', '!', '!', '!', '!', '!', '!', '!', '!', '!', '!', '!', '!', '!', '!', '!', '!'])\n",
      " list(['F', '!', '!', '!', '!', '!', '!', '!', '!', 'F', 'T', 'T', '!', '!', '!', '!', '!', '!', '!', '!', '!', '!', '!', '!', '!', '!', '!', '!', '!', '!', '!', '!', '!', '!', '!', '!', '!', '!'])\n",
      " list(['F', 'F', 'F', 'F', 'F', 'F', '!', '!', '!'])\n",
      " list(['F', 'F', 'F', 'F', 'F', '!', '!', '!'])\n",
      " list(['F', 'F', 'F', 'F', 'F', 'F', '!', '!'])\n",
      " list(['F', 'F', 'F', 'F', 'F', 'F'])\n",
      " list(['F', 'F', 'F', 'F', '!', 'F', '!', '!', '!'])\n",
      " list(['F', 'F', 'F', 'F', 'F', 'F', 'F', 'F', 'F'])\n",
      " list(['F', 'F', '!', '!', '!', '!'])\n",
      " list(['F', 'F', 'F', 'F', 'F', 'F', '!', 'F', 'F'])\n",
      " list(['F', 'F', 'F', '!', '!', '!', '!', '!', '!'])\n",
      " list(['F', 'F', 'F', 'F', '!', '!', '!']) list(['F', '!'])\n",
      " list(['F', 'F', '!', '!', '!']) list(['F', 'F', 'F', '!', '!'])\n",
      " list(['F', '!', '!', '!']) list(['F', 'F', '!'])\n",
      " list(['F', 'F', 'F', 'F', 'F', '!', '!', '!', '!'])\n",
      " list(['F', 'F', 'F', 'F', 'F', 'F', 'F', 'F', '!'])\n",
      " list(['F', 'F', 'F', '!'])\n",
      " list(['F', 'F', 'F', 'F', '!', '!', '!', '!', '!', '!', '!', '!', '!', '!', '!', '!', '!', '!', '!', '!', '!', '!', '!', '!', '!', '!', '!', '!', '!', '!', '!', '!', '!', '!', '!', '!', '!', '!', '!', '!', '!', '!', '!', '!', '!', '!', '!'])\n",
      " list(['F', 'F', 'F', 'F', 'F', 'F', 'F', '!'])\n",
      " list(['F', 'F', 'F', '!', '!', '!', '!', '!', '!'])\n",
      " list(['F', 'F', 'F', 'F', 'F', 'F', '!', '!', '!'])]\n"
     ]
    }
   ],
   "source": [
    "\n",
    "# look at sticky-ness of borr_asst_plan: Freddie, sticky\n",
    "# becomes unpopulated after forbearance ends\n",
    "\n",
    "\n",
    "qry = \\\n",
    "\"\"\"\n",
    "SELECT\n",
    "    arraySlice(monthly.borr_asst_plan, indexOf(monthly.borr_asst_plan, 'F')) AS bap\n",
    "FROM\n",
    "    freddie.final\n",
    "WHERE\n",
    "    has(monthly.borr_asst_plan, 'F')\n",
    "ORDER BY rand32(1)\n",
    "LIMIT 35\n",
    "\"\"\"\n",
    "\n",
    "df4 = chu.run_query(qry, client, return_df=True)\n",
    "print(np.asarray(df4['bap']))"
   ],
   "metadata": {
    "collapsed": false,
    "pycharm": {
     "name": "#%%\n"
    }
   }
  },
  {
   "cell_type": "code",
   "execution_count": 8,
   "outputs": [
    {
     "name": "stdout",
     "output_type": "stream",
     "text": [
      "[list(['R', 'R', '7']) list(['R', 'R', 'R', 'R', 'R', 'R'])\n",
      " list(['R', 'R', 'R', 'R', 'R', 'R']) list(['R', 'R'])\n",
      " list(['R', 'R', 'R', '7', '7', '7', '7']) list(['R', 'R'])\n",
      " list(['R', 'R', 'F', 'F', 'F', 'F'])\n",
      " list(['R', 'R', 'N', '7', '7', '7', '7', '7', '7'])\n",
      " list(['R', 'R', 'R', 'R', 'R', 'R', '7'])\n",
      " list(['R', 'R', 'R', 'N', '7', '7', '7', '7', '7'])\n",
      " list(['R', 'N', 'R', 'R', 'R'])\n",
      " list(['R', '7', '7', 'N', 'N', 'N', '7', 'N', '7']) list(['R', 'R'])\n",
      " list(['R', '7', '7', '7']) list(['R', 'F', 'F', 'F', 'F', 'F', 'F'])\n",
      " list(['R']) list(['R']) list(['R', 'R', 'R', 'R', 'R', 'F', 'F'])\n",
      " list(['R', '7', '7']) list(['R', '7'])\n",
      " list(['R', 'R', 'R', 'N', 'R', 'N', '7', '7', 'N', '!', '!', '!', '!', '!', '!', '!', '!', '!', '!', '!', '!', '!', '!', '!', '!', '!', '!', '!', '!', '!', '!', '!', '!', '!', '!', '!', '!', '!', '!', '!', '!', '!', '!', '!', '!', '!', '!', '!', '!', '!', '!', '!', '!', '!', '!', '!', '!', '!', '!', '!', '!', '!', '!', '!', '!', '!', '!', '!', '!', '!', '!', '!', '!', '!', '!', '!', '!', '!', '!', '!', '!', '!', '!', '!', '!', '!', '!', '!', '!', '!', '!', '!', '!', '!', '!', '!', '!', '!', '!', '!', '!', '!', '!', '!', '!', '!', '!', '!', '!', '!', '!', '!', '!', '!', '!', '!', '!', '!', '!', '!', '!', '!', '!', '!', '!', '!', '!', '!', '!', '!', '!', '!', '!', '!', '!', '!'])\n",
      " list(['R', 'R', 'R', 'R', '7', '7']) list(['R'])\n",
      " list(['R', '7', '7', '7', '7']) list(['R', 'R', 'R', 'R', 'R', '7', '7'])\n",
      " list(['R']) list(['R', 'R', 'R', '7', 'N', 'N'])\n",
      " list(['R', 'R', 'N', 'N', 'R', 'R']) list(['R', 'R', 'R'])\n",
      " list(['R', 'R', 'F', 'F', '7', '7']) list(['R', 'R', 'R', 'R', 'R', 'R'])\n",
      " list(['R', 'F']) list(['R']) list(['R', 'R', 'R', 'R', 'R', '7'])\n",
      " list(['R', 'R', 'R', 'R', '7', 'F', 'F'])]\n"
     ]
    }
   ],
   "source": [
    "\n",
    "# look at sticky-ness of borr_asst_plan: Fannie\n",
    "# sticky\n",
    "# code '7' seems to indicate end of repayment\n",
    "\n",
    "qry = \\\n",
    "\"\"\"\n",
    "SELECT\n",
    "    arraySlice(monthly.borr_asst_plan, indexOf(monthly.borr_asst_plan, 'R')) AS bap\n",
    "FROM\n",
    "    fannie.final\n",
    "WHERE\n",
    "    has(monthly.borr_asst_plan, 'R')\n",
    "ORDER BY rand32(1)\n",
    "LIMIT 35\n",
    "\"\"\"\n",
    "\n",
    "df5 = chu.run_query(qry, client, return_df=True)\n",
    "print(np.asarray(df5['bap']))"
   ],
   "metadata": {
    "collapsed": false,
    "pycharm": {
     "name": "#%%\n"
    }
   }
  },
  {
   "cell_type": "code",
   "execution_count": 9,
   "outputs": [
    {
     "name": "stdout",
     "output_type": "stream",
     "text": [
      "[list(['R', '!', '!', '!', '!', '!', '!', 'T', 'T', 'T', '!', '!', 'T', '!', '!', '!', '!', '!', 'T', 'T', '!', '!', '!', '!', '!', '!', '!', '!', 'T', '!'])\n",
      " list(['R', 'R', '!', '!', '!', '!', '!', '!', '!', '!', '!', '!', '!', '!', '!', '!', '!', '!', '!', '!', '!', '!', '!', '!', '!', '!', '!', '!', '!', '!', '!', '!', '!', '!', '!', '!', '!', '!', '!', '!', '!', '!', '!', '!', '!', '!', '!', '!', '!', '!', '!', '!', '!', '!'])\n",
      " list(['R', 'R', '!', '!', '!', 'T', 'T', 'T', 'T', '!', '!', '!', '!', '!', 'T', 'T', 'T', 'T', 'T', 'T', 'T', '!', '!', '!', '!', '!', '!', '!', '!', '!', '!', '!', '!', '!', '!', '!', '!', '!', '!', '!', '!', '!', '!', '!', '!', '!', '!', '!', '!', '!', '!', '!', '!', '!', '!', '!', '!', '!', '!', '!', '!', '!', '!', '!', '!', '!', '!', '!', '!', '!', '!', '!', '!', '!', '!', '!', '!'])\n",
      " list(['R', 'R', '!', '!', '!', '!', '!', '!', '!', '!', '!', '!', '!', '!', '!', '!', '!', '!', '!', '!', '!', '!', '!', '!', '!', '!', '!', '!', '!', '!', '!', '!', '!', '!', '!', '!', '!', '!', '!', '!', '!', '!', '!', '!', '!', '!', '!', '!', '!', 'T', '!', '!', '!', '!', '!', '!', '!', '!', '!', '!', '!', '!', '!', '!', '!', '!', '!', '!', '!', '!', '!'])\n",
      " list(['R', '!', '!', '!', '!', '!', '!', '!', 'T', 'T', 'T', '!', '!', '!', '!', '!', '!', '!', 'R', 'R', 'R', 'R', 'R', '!', '!', '!', '!', 'F', 'F', 'F', 'F', 'F', 'F', 'F', 'F', 'F'])\n",
      " list(['R', 'R', '!', '!', 'R', 'R', 'R', 'R', 'R', '!', '!', '!', '!', '!', '!', '!', '!', '!', '!', '!', '!', '!', '!', '!', '!', '!', '!', '!', '!', '!', '!', '!', '!', '!', '!', '!', '!', '!', '!', 'R', 'R', 'R', 'R', 'R', '!', '!', '!', '!', '!', '!', '!', '!', '!', '!', '!', '!', '!', '!', '!', '!', '!', '!', '!', '!', '!'])\n",
      " list(['R', 'R', '!', '!', '!', '!', '!', '!', '!', 'T', 'T', 'T', '!', '!', '!', '!', '!', 'R', 'R', '!', '!', 'R', 'R', 'R', '!', '!', '!', '!', '!', '!', '!', '!', '!', '!', '!', '!', '!', '!', '!', '!', '!', '!', '!', 'F', 'F', 'F', 'F', 'F', 'F', 'F', 'F', 'F'])\n",
      " list(['R', 'R', '!', '!', '!', '!', '!', '!', '!', '!', '!', '!', '!', '!', '!', '!', '!', '!', '!', '!', '!', '!', '!', '!', '!', '!', '!', '!', '!', '!', '!', '!', '!', '!', '!', '!', '!', '!', '!', '!', '!', '!', '!', '!', '!', '!', '!', '!', '!', '!', '!', '!', '!', 'F', 'F', 'F', 'F', 'F', 'F', 'F', 'F', 'F', 'F'])\n",
      " list(['R', 'R', 'R', 'R', 'R', 'R', 'R', 'R', 'R', 'R', '!', '!', '!', '!', '!', '!', '!', '!', '!', '!', '!', '!', '!', 'R', '!', 'T', 'T', 'F', '!', '!', '!', '!', '!', '!', '!', '!', '!', '!', '!', '!', '!', '!', '!', '!', '!', '!', '!', '!', '!', '!', '!', '!', '!', '!', '!', '!', '!', '!', '!', '!', '!', '!', '!', '!', '!', '!', '!', '!', '!', '!', '!', '!', '!', '!', 'F', 'F', 'F', 'F', '!', '!'])\n",
      " list(['R', '!', '!', '!', '!', '!', '!', '!', '!', '!', '!', '!', '!', '!', '!', '!', '!', '!', '!', '!', '!', '!', '!', '!', '!', '!'])\n",
      " list(['R', 'R', 'R', '!', '!', '!', '!', '!', '!', '!', '!', '!', '!', '!', '!', '!', '!', '!', '!', '!', '!', '!', '!', 'F', 'F', 'F', 'F'])\n",
      " list(['R', 'R', '!', 'R', '!', '!', '!', '!', '!', '!', '!', '!', '!', '!', '!', '!', '!', '!', '!', '!', '!', '!', '!', '!', '!', '!', '!', '!', '!', '!', '!', '!', '!'])\n",
      " list(['R', '!'])\n",
      " list(['R', 'R', 'R', 'R', 'R', 'R', 'R', 'R', 'R', '!', '!', '!', '!', '!', '!', '!', '!', '!', '!', '!', '!', '!', '!', '!', '!', '!', '!', '!', '!', '!', '!', '!', '!', '!', '!', '!', '!', '!', '!', '!', '!', '!', '!', '!', '!', '!', '!', '!', '!', '!', '!', '!', '!', '!', '!', '!', '!', '!', '!', '!', '!', '!', '!', '!', '!', '!'])\n",
      " list(['R', '!', '!', '!', '!', '!', 'F', 'F', 'F', '!', '!', '!', '!', '!', '!', '!', '!', '!', '!', '!', '!', 'R', 'T', 'T', 'T', 'T', 'T', 'T', '!', 'T', '!'])\n",
      " list(['R', 'R', 'R', 'T', 'T', 'T', '!', '!', '!', '!', '!', '!', '!', '!', '!'])\n",
      " list(['R', 'R', 'R', 'R', 'R', '!', '!', '!', '!', 'T', 'T', '!', '!', '!', '!', '!', '!', '!', '!', '!', '!', 'T', 'T', 'T', 'T', '!', 'T', 'T', 'T', 'T', 'T', 'T', 'T', 'T', '!', '!', '!', '!', '!', '!', '!', '!', '!', '!', '!', '!', '!', '!', '!', '!', '!', '!', '!', '!', '!', '!', '!', '!'])\n",
      " list(['R', '!', '!', '!', '!', '!', '!', '!', '!', '!', '!', '!', '!', '!', '!', '!', '!', '!', '!', '!', '!', '!', '!', '!', '!', '!', '!', '!', '!'])\n",
      " list(['R', 'R', 'R', '!', '!', '!', '!', '!', '!', '!', '!', '!', '!', '!', '!', '!', '!', '!', '!', 'F', 'F', 'F', 'F', 'F', 'F', 'F', 'F', 'F'])\n",
      " list(['R', 'R', 'R', '!', '!', 'R', 'R', '!', '!', '!', '!', '!', '!', '!', '!', '!', '!', '!', '!', '!', '!', '!', '!', '!', '!', '!', '!', '!', '!', '!', '!', '!', '!', '!', '!', '!', '!', '!', '!', '!', '!', '!', '!', '!', '!', '!', '!', '!', '!', '!', '!', '!'])\n",
      " list(['R', 'R', '!', '!', '!', '!', '!', '!', '!', '!', '!', '!', '!', '!', '!', '!', '!', '!', '!', '!', '!', '!', '!', '!', '!', '!', '!', '!', '!', '!', '!'])\n",
      " list(['R', '!', '!', '!', '!', '!', '!', '!', '!', '!', '!', '!', '!', '!', '!', '!', '!', '!', '!', '!', '!', '!', '!', '!', '!', '!', '!', '!', '!', '!', '!', '!', '!', '!', '!', '!', '!', '!', '!', '!', '!', '!', '!', '!', '!', '!', '!', '!', '!', '!', '!', '!', '!', '!', '!', 'R', '!', '!', '!', '!', '!', '!', 'F', 'F', 'F', 'F', 'F', 'F', 'F', 'F', 'T'])\n",
      " list(['R', 'R', 'R', 'R', 'R', 'R', '!'])\n",
      " list(['R', '!', '!', '!', '!', '!', '!', '!', '!', '!', '!', '!', '!', '!', '!', '!', '!', '!', '!'])\n",
      " list(['R', 'R', 'R', 'R', 'R', 'R', '!', '!', '!', '!', '!', '!', '!', '!', '!', '!', '!', '!', '!', '!', '!', '!', '!', '!', '!', '!', '!', '!', '!', '!', '!', '!', '!', '!', '!', '!', 'F', '!', 'T', 'T', 'T', '!', '!', '!', '!', '!', '!', '!', '!', '!', '!', '!', '!', '!', '!', '!', '!', '!'])\n",
      " list(['R', 'R', 'R', 'R', 'R', '!', '!', '!', '!', '!', '!', '!', '!'])\n",
      " list(['R', 'R', '!', '!', '!', '!', '!', '!', '!', '!', '!', '!', '!', '!', '!', '!', '!', '!', '!', '!', '!', '!', '!', '!', '!', '!', '!', '!', '!', '!', '!', '!', '!', '!', '!', '!', '!', '!', '!', '!', '!', '!', '!', '!', '!', '!', '!', '!', '!', '!'])\n",
      " list(['R', 'R', 'R', 'R', 'R', '!', '!', '!', '!', '!', '!', '!'])\n",
      " list(['R', 'R', 'R', 'R', '!', '!', 'R', '!', '!', '!', '!', '!', '!', '!', '!', '!', '!', '!', '!', '!', '!', '!', '!', '!', '!', '!', '!', '!', '!', '!', '!', '!', '!', '!', '!', '!', '!', '!', '!', '!', '!', '!', '!', 'F', 'F', '!', '!', '!', 'F', '!', 'F', '!'])\n",
      " list(['R', 'R', 'R', '!', '!', 'R', 'R', 'R', 'R', 'R', 'R', '!', '!', '!', '!', '!', '!', '!', '!', '!', '!', '!', '!', '!', '!', '!', '!', '!', '!', '!', '!', '!', '!', '!', '!', '!', '!', '!', '!', '!', '!', '!', '!', '!', '!', '!', '!', '!', 'R', 'R', 'R', 'R', '!', '!', '!', '!', '!', '!', 'T', 'T', '!', '!', '!', '!', '!', '!', '!', '!', '!', '!', '!'])\n",
      " list(['R', 'R', 'R', '!', '!', '!', '!', 'R', 'R', 'R', 'R', 'R', 'R', 'R', '!', '!', '!', '!', '!', '!', '!', '!', '!', '!', '!', '!', '!', '!', '!', '!', '!', '!', '!', '!', '!', '!', '!', '!', '!', '!', '!', '!', '!', '!', '!', '!', '!', '!', '!', '!', '!', '!', '!', '!', '!', '!', '!', '!', '!', '!', '!', '!', '!', '!', '!', '!', '!', '!', '!', '!', '!', '!', '!', '!', '!', '!', '!', '!', '!', '!', '!'])\n",
      " list(['R', 'R', 'R', 'R', '!', '!', '!', '!', '!', '!', '!', '!', '!', '!', '!'])\n",
      " list(['R', '!', '!', '!', '!', '!', '!', '!', '!', '!', '!', '!', '!', '!', '!', '!', '!', '!', '!', '!', '!', '!', '!', '!', '!', '!', '!', '!', '!', '!', '!', '!', 'T', 'T', 'T', '!', '!', '!', '!', '!', '!', '!', '!', '!', '!', '!', '!', '!', '!', '!', '!', '!', '!', '!', '!'])\n",
      " list(['R', 'R', 'R', 'R', 'R', '!', '!', '!', '!', '!', '!', '!'])\n",
      " list(['R', 'R', 'R', 'R', '!', '!', '!', '!', '!', '!', '!', '!', '!', '!', '!', '!', '!', '!', '!', '!', '!', '!', '!', '!', '!', '!', '!', '!', '!', '!', '!', '!', '!', '!', '!', '!', '!', '!', '!', '!', '!', '!', '!', '!', '!', '!', '!', '!', '!', '!', '!', '!', '!', '!', '!', '!', '!', '!', '!', '!', '!', '!', '!', '!', '!', '!', 'F', '!', '!', '!'])]\n"
     ]
    }
   ],
   "source": [
    "\n",
    "# look at sticky-ness of borr_asst_plan: Freddie\n",
    "# sticky\n",
    "\n",
    "\n",
    "qry = \\\n",
    "\"\"\"\n",
    "SELECT\n",
    "    arraySlice(monthly.borr_asst_plan, indexOf(monthly.borr_asst_plan, 'R')) AS bap\n",
    "FROM\n",
    "    freddie.final\n",
    "WHERE\n",
    "    has(monthly.borr_asst_plan, 'R')\n",
    "ORDER BY rand32(1)\n",
    "LIMIT 35\n",
    "\"\"\"\n",
    "\n",
    "df6 = chu.run_query(qry, client, return_df=True)\n",
    "print(np.asarray(df6['bap']))"
   ],
   "metadata": {
    "collapsed": false,
    "pycharm": {
     "name": "#%%\n"
    }
   }
  },
  {
   "cell_type": "code",
   "execution_count": 10,
   "outputs": [
    {
     "name": "stdout",
     "output_type": "stream",
     "text": [
      "[list(['T', 'T']) list(['T']) list(['T', '7', '7'])\n",
      " list(['T', 'T', 'T', 'T', 'N', 'N', 'N', '7']) list(['T', 'T', 'T', 'T'])\n",
      " list(['T', 'T', 'T', 'T', 'T']) list(['T', 'T', 'T', 'T', 'T', 'N'])\n",
      " list(['T', 'T', 'T']) list(['T'])\n",
      " list(['T', '7', '7', '7', '7', '7', '7', '7', '7']) list(['T', 'N'])\n",
      " list(['T', 'T', 'F', 'F', 'F', 'N']) list(['T', 'T', 'N', 'N', 'T'])\n",
      " list(['T', '7']) list(['T', 'N', 'N', 'N', '7', '7', '7', '7', '7'])\n",
      " list(['T', 'N', '7', '7', 'F', 'F', 'F', 'F', 'F']) list(['T', 'T', 'T'])\n",
      " list(['T', 'T', 'N', 'N', '7', '7', '7', '7', '7'])\n",
      " list(['T', 'F', 'F', 'F']) list(['T', 'T', 'N', 'N', '7', '7', '7', '7'])\n",
      " list(['T', 'T', 'T', 'T', '7', '7']) list(['T'])\n",
      " list(['T', 'T', 'T', 'T']) list(['T', 'T', 'T', 'N', 'N', 'N'])\n",
      " list(['T', 'T', 'T', 'N', 'N']) list(['T', 'T'])\n",
      " list(['T', 'F', 'F', 'F', '7', '7']) list(['T']) list(['T', 'T', 'T'])\n",
      " list(['T', 'N', 'N', 'T', 'T', 'T', 'T', 'N', 'N']) list(['T'])\n",
      " list(['T', 'N']) list(['T', 'N', 'N', 'T', 'N', 'T', 'T'])\n",
      " list(['T', 'T', 'T']) list(['T', 'T', 'T', 'T'])]\n"
     ]
    }
   ],
   "source": [
    "\n",
    "# look at sticky-ness of borr_asst_plan: Fannie\n",
    "# sticky\n",
    "# code '7' seems to indicate end of trial\n",
    "\n",
    "qry = \\\n",
    "\"\"\"\n",
    "SELECT\n",
    "    arraySlice(monthly.borr_asst_plan, indexOf(monthly.borr_asst_plan, 'T')) AS bap\n",
    "FROM\n",
    "    fannie.final\n",
    "WHERE\n",
    "    has(monthly.borr_asst_plan, 'T')\n",
    "ORDER BY rand32(1)\n",
    "LIMIT 35\n",
    "\"\"\"\n",
    "\n",
    "df7 = chu.run_query(qry, client, return_df=True)\n",
    "print(np.asarray(df7['bap']))"
   ],
   "metadata": {
    "collapsed": false,
    "pycharm": {
     "name": "#%%\n"
    }
   }
  },
  {
   "cell_type": "code",
   "execution_count": 11,
   "outputs": [
    {
     "name": "stdout",
     "output_type": "stream",
     "text": [
      "[list(['T', 'T', 'T', '!', '!', '!', '!', '!', '!', '!', 'T', 'T', 'T', '!', '!', '!', '!', '!', '!', '!', '!', '!', '!', '!', '!', '!', '!', '!', '!', '!', '!', '!', '!', '!', '!', '!', '!', '!', '!', '!', '!', '!', '!', '!', '!', '!', 'F', 'F', 'F', '!', '!', '!'])\n",
      " list(['T', 'T', 'T', 'T', 'T', '!', '!', '!', '!', '!', '!', '!', '!', '!', '!', '!', '!', '!', '!', '!', '!', '!', '!', '!', '!', '!', '!', '!', '!', '!'])\n",
      " list(['T', 'T', '!', '!', '!', '!', '!', '!', '!', '!', '!', '!', '!', '!', '!', '!', '!', '!', '!', '!', '!', '!', '!', '!', '!', '!', '!', '!', '!', '!', '!', '!', '!', '!', '!', '!', '!', '!', '!', '!', '!', '!', '!', '!', '!', '!', '!', '!', '!', '!', '!', '!', '!', '!', '!', '!', '!', '!', '!', '!', '!', '!', '!', '!', '!', '!', '!', '!', '!', '!', '!'])\n",
      " list(['T', 'T', 'T', '!', '!', '!', '!', '!', '!', '!', '!', '!', '!', '!', '!', '!'])\n",
      " list(['T', 'T', 'T', 'T', 'T', 'T', 'T', 'T', 'T', 'T', 'T', '!', '!', 'T', 'T', 'T', '!', '!', '!', '!', '!', '!', '!', '!', '!', '!'])\n",
      " list(['T', 'T', '!', '!', '!', '!', '!', '!', '!', '!', '!', '!', '!', '!', '!', '!', '!', '!', '!', '!', '!', '!', '!', '!', '!', '!', '!', '!', '!', '!', '!', '!', '!', '!', '!', '!', '!', 'F', 'F', 'F', 'F', 'F', 'F', 'F', 'F'])\n",
      " list(['T', 'T', 'T', '!', '!', '!', '!', '!', '!', '!', '!', '!', '!', '!', '!', '!', '!', '!', '!', '!', '!', '!', '!', '!', '!', '!', '!', '!', '!', '!', '!', '!', '!', '!', '!', '!', '!', '!', '!', '!', '!', '!', '!', '!', '!', '!', '!', '!', '!', '!', '!', '!', '!', '!', '!', '!', '!'])\n",
      " list(['T', 'T', 'T', 'T', '!', '!', '!', '!', '!', '!', '!', '!', '!', '!', '!', '!', '!', '!', '!', '!', '!', '!', 'T', 'T', 'T', 'T', '!', '!', '!', '!', '!', '!', '!', '!', '!', '!', '!', '!', '!', '!', '!', '!', '!', '!', '!', '!', '!', 'T', 'T', 'T', '!', '!', '!', '!', '!', '!', '!', '!', '!', 'F', 'F', 'F', '!', '!'])\n",
      " list(['T', 'T', 'T', '!', '!', '!', '!', '!', '!', '!', '!', '!', '!', '!', '!', '!', '!', '!', '!', '!', '!', '!', '!'])\n",
      " list(['T', 'T', 'T', 'T', '!', '!', '!', '!', '!', '!', '!', '!', '!', '!', '!', '!', '!', '!', '!', '!', '!', '!', '!', '!', '!', '!', '!', '!', '!', '!', '!', '!', '!', '!', '!'])\n",
      " list(['T', 'T', 'T', '!', '!', '!', '!', '!', '!', '!', '!', '!', '!', '!', '!', '!', '!', '!', '!', '!', '!', '!', '!', '!', '!', '!', '!', '!', '!', '!', '!', '!', '!', '!', '!', '!', '!', '!', '!', '!', '!', '!', '!', '!', '!', '!', '!', '!', '!', '!', '!', '!', '!', '!', '!'])\n",
      " list(['T', 'T', 'T', '!', '!', '!', '!', '!', '!', '!', '!', '!', '!', '!', '!', '!', '!', '!', '!', '!', '!', '!'])\n",
      " list(['T', 'T', 'T', '!', '!', '!', '!', '!', '!', '!', '!', '!', '!', '!', '!', '!', '!', '!', '!', '!', '!', '!'])\n",
      " list(['T', '!', '!', '!', '!', '!', '!', '!', '!', '!', '!', '!', '!', '!'])\n",
      " list(['T', '!', '!', '!', '!', '!', 'T', '!', '!', '!', '!', '!', '!'])\n",
      " list(['T', 'T', 'T', '!', '!', '!', '!', '!', '!', '!', '!', '!', '!', '!', '!', '!', '!', '!', '!', '!', '!', '!', '!', '!', '!', '!', '!', '!', '!', '!', '!', '!', '!', '!', '!', '!', '!', '!', '!', '!', '!', '!', '!', '!'])\n",
      " list(['T', 'T', 'T', '!', '!', '!', '!', '!', '!', '!', '!', '!', '!', '!', '!', '!', '!', '!', '!', '!', '!', '!', '!', '!', '!', '!', '!', '!', '!', '!', '!', '!', '!', '!', '!', '!', '!', '!', '!', '!', '!', '!', '!', '!', '!', '!', '!', '!', '!', '!', '!', '!', '!', '!', '!', '!', '!', '!', '!', '!', '!', '!', '!'])\n",
      " list(['T', 'T', '!', '!', '!', '!', '!', '!', '!', '!', '!', '!', '!', '!', '!', '!', '!', '!', '!', '!', '!', '!', '!', '!', '!', '!', '!', '!', '!', '!', '!', '!', '!', '!', '!', '!', '!', '!', '!', '!', '!', '!', '!'])\n",
      " list(['T', 'T', 'T', 'T', '!', '!', '!', '!', '!', '!', '!', '!', '!', '!', '!', '!', '!', '!', '!', '!', '!', '!', 'F', 'F', 'F', 'F', 'F', 'F', 'F', '!', '!'])\n",
      " list(['T', 'T', 'T', '!', '!', '!', '!', '!', '!', '!', '!', '!', '!', '!', '!', '!', '!', '!', '!'])\n",
      " list(['T', '!', 'T', '!', '!', '!', '!', '!', '!', '!', '!', '!', '!', '!', '!', '!', '!', '!', '!', '!', '!', '!', '!', '!', '!', '!', '!', '!', '!', '!', '!', '!', 'F', 'F', 'F', 'F', '!', '!', '!', '!', '!', '!', '!', '!', '!', '!', '!', '!', '!', '!', '!', '!', '!', '!', '!', '!', '!', '!', '!', '!', '!', '!', '!', '!', '!', '!', '!', '!', '!', '!', '!'])\n",
      " list(['T', 'T', 'T', '!', '!', '!', '!', '!', '!', '!', '!', '!', '!', '!', '!', '!', '!', '!', '!', '!', '!', '!', '!', '!', '!', '!', '!', '!', '!', '!', '!', '!', '!', '!', '!', '!', '!', '!', '!', '!', '!', '!', '!', '!', '!', '!', '!', '!', '!', '!', '!', '!', '!', '!', '!', '!', '!', '!', '!', '!', '!', '!', '!', '!', '!', '!', '!', '!', '!', '!', '!', '!', '!'])\n",
      " list(['T', 'T', 'T', 'T', '!', '!', '!', '!', '!', '!', '!', '!'])\n",
      " list(['T', 'T', 'T', 'T', '!', '!', '!', '!', '!', '!', '!', '!', '!', '!', '!', '!', '!', '!', '!', '!', '!', '!', '!', '!', '!', '!', '!', '!', '!', '!', '!', '!', '!', '!', '!', '!', '!', '!', '!', '!', '!'])\n",
      " list(['T', 'T', 'T', '!', '!', '!', '!', '!', '!', '!', '!', '!', 'R', 'R', '!', 'R', 'R', '!', '!', '!', '!', '!', '!', '!', '!', '!', '!', '!', '!', '!', '!', '!', '!', '!', '!', '!', '!', '!', '!', '!', '!', '!', '!'])\n",
      " list(['T', '!', '!', '!', '!', '!', '!', '!', '!', '!', '!', '!', '!', '!', '!', '!', '!', '!', '!'])\n",
      " list(['T', 'T', 'T', '!', '!', '!', '!', '!', '!', '!', '!', '!', '!', '!', '!', '!', '!', '!', '!', '!', '!', '!', '!', '!', '!'])\n",
      " list(['T', 'T', 'T', 'T', '!', '!', 'T', '!', '!', '!', '!', '!', '!', '!', '!', '!', '!', '!', '!', '!', '!', '!', '!', '!', '!', '!', '!'])\n",
      " list(['T', 'T', 'T', '!', '!', '!', '!', '!', '!', '!', '!', 'F', 'F', 'F', 'F', 'F', 'F', 'F', 'F', 'F'])\n",
      " list(['T', 'T', 'T', 'T', 'T', '!', '!', '!', '!', '!', '!', '!', '!', '!', '!', '!', '!', '!', '!', '!', '!', '!', '!', '!', 'T', 'T', '!', '!', '!', '!', '!', '!', '!', '!', '!', '!', '!', '!', '!', '!', '!', '!', '!', '!', '!', '!', '!', '!', '!', '!', '!', '!', '!', '!', '!', '!', '!', '!', '!', '!', '!', '!', '!'])\n",
      " list(['T', 'T', 'T', 'T', '!', '!', '!', '!', 'F', 'F', 'F', 'F', 'F', 'F', 'F'])\n",
      " list(['T', 'T', 'T', '!', '!', '!', '!', '!', '!', '!', '!', '!', '!', '!', '!', '!', '!', '!', '!', '!', '!', '!', '!', '!', '!', '!', '!', '!', '!', '!', '!', '!', '!', '!', '!', '!'])\n",
      " list(['T', 'T', 'T', '!', '!', '!', '!', '!', '!', '!', '!', '!', '!', '!', '!', '!', '!', '!', '!', '!', '!', '!', '!', '!', '!', '!', '!', '!', '!', '!', '!', '!', '!', '!', '!', '!', '!', '!', '!'])\n",
      " list(['T', 'T', 'T', 'T', 'T', '!', '!', '!', '!', '!', '!', '!', '!', '!', '!', '!', '!', '!', '!', '!', '!', '!', '!', '!', '!', '!', '!', '!', '!', '!', '!', '!', '!', '!', '!', '!', '!', '!', '!', '!', '!', '!', '!', '!', '!', '!', '!', '!', '!', '!', '!', '!', '!', '!', '!', '!', '!', '!', '!', '!', '!', '!', '!', '!'])\n",
      " list(['T', 'T', 'T', 'T', 'T', 'T', '!', '!', '!', '!', '!', '!', '!', '!', '!', '!', '!', 'T', 'T', '!', '!', '!', '!', '!', '!', '!', '!', '!', '!', '!', '!', '!', '!', '!', '!', '!', '!', '!', '!', '!', '!', '!', '!', '!'])]\n"
     ]
    }
   ],
   "source": [
    "\n",
    "# look at sticky-ness of borr_asst_plan: Fannie\n",
    "# sticky\n",
    "# code '7' seems to indicate end of trial\n",
    "\n",
    "qry = \\\n",
    "\"\"\"\n",
    "SELECT\n",
    "    arraySlice(monthly.borr_asst_plan, indexOf(monthly.borr_asst_plan, 'T')) AS bap\n",
    "FROM\n",
    "    freddie.final\n",
    "WHERE\n",
    "    has(monthly.borr_asst_plan, 'T')\n",
    "ORDER BY rand32(1)\n",
    "LIMIT 35\n",
    "\"\"\"\n",
    "\n",
    "df8 = chu.run_query(qry, client, return_df=True)\n",
    "print(np.asarray(df8['bap']))"
   ],
   "metadata": {
    "collapsed": false,
    "pycharm": {
     "name": "#%%\n"
    }
   }
  },
  {
   "cell_type": "code",
   "execution_count": 19,
   "outputs": [
    {
     "data": {
      "text/plain": "   dec2020     nl   \n0     0     68031587\n1     1     26004490",
      "text/html": "<div>\n<style scoped>\n    .dataframe tbody tr th:only-of-type {\n        vertical-align: middle;\n    }\n\n    .dataframe tbody tr th {\n        vertical-align: top;\n    }\n\n    .dataframe thead th {\n        text-align: right;\n    }\n</style>\n<table border=\"1\" class=\"dataframe\">\n  <thead>\n    <tr style=\"text-align: center;\">\n      <th></th>\n      <th>dec2020</th>\n      <th>nl</th>\n    </tr>\n  </thead>\n  <tbody>\n    <tr>\n      <th>0</th>\n      <td>0</td>\n      <td>68031587</td>\n    </tr>\n    <tr>\n      <th>1</th>\n      <td>1</td>\n      <td>26004490</td>\n    </tr>\n  </tbody>\n</table>\n</div>"
     },
     "execution_count": 19,
     "metadata": {},
     "output_type": "execute_result"
    }
   ],
   "source": [
    "# loans active 12/2020\n",
    "qry = \\\n",
    "\"\"\"\n",
    "SELECT\n",
    "    has(monthly.dt, toDate('2020-12-01')) AS dec2020,\n",
    "    count(*) AS nl\n",
    "FROM\n",
    "    unified.frannie\n",
    "GROUP BY dec2020\n",
    "\"\"\"\n",
    "\n",
    "df8b = chu.run_query(qry, client, return_df=True)\n",
    "df8b.head()"
   ],
   "metadata": {
    "collapsed": false,
    "pycharm": {
     "name": "#%%\n"
    }
   }
  },
  {
   "cell_type": "code",
   "execution_count": 18,
   "outputs": [
    {
     "data": {
      "text/plain": "   bap     nl   \n0   0   93877028\n1   1     159049",
      "text/html": "<div>\n<style scoped>\n    .dataframe tbody tr th:only-of-type {\n        vertical-align: middle;\n    }\n\n    .dataframe tbody tr th {\n        vertical-align: top;\n    }\n\n    .dataframe thead th {\n        text-align: right;\n    }\n</style>\n<table border=\"1\" class=\"dataframe\">\n  <thead>\n    <tr style=\"text-align: center;\">\n      <th></th>\n      <th>bap</th>\n      <th>nl</th>\n    </tr>\n  </thead>\n  <tbody>\n    <tr>\n      <th>0</th>\n      <td>0</td>\n      <td>93877028</td>\n    </tr>\n    <tr>\n      <th>1</th>\n      <td>1</td>\n      <td>159049</td>\n    </tr>\n  </tbody>\n</table>\n</div>"
     },
     "execution_count": 18,
     "metadata": {},
     "output_type": "execute_result"
    }
   ],
   "source": [
    "# loans with bap = R\n",
    "qry = \\\n",
    "\"\"\"\n",
    "SELECT\n",
    "    has(monthly.borr_asst_plan, 'R') AS bap,\n",
    "    count(*) AS nl\n",
    "FROM\n",
    "    unified.frannie\n",
    "GROUP BY bap\n",
    "\"\"\"\n",
    "\n",
    "df8c = chu.run_query(qry, client, return_df=True)\n",
    "df8c.head()"
   ],
   "metadata": {
    "collapsed": false,
    "pycharm": {
     "name": "#%%\n"
    }
   }
  },
  {
   "cell_type": "code",
   "execution_count": 17,
   "outputs": [
    {
     "data": {
      "text/plain": "   bap     nl   \n0   0   92202937\n1   1    1833140",
      "text/html": "<div>\n<style scoped>\n    .dataframe tbody tr th:only-of-type {\n        vertical-align: middle;\n    }\n\n    .dataframe tbody tr th {\n        vertical-align: top;\n    }\n\n    .dataframe thead th {\n        text-align: right;\n    }\n</style>\n<table border=\"1\" class=\"dataframe\">\n  <thead>\n    <tr style=\"text-align: center;\">\n      <th></th>\n      <th>bap</th>\n      <th>nl</th>\n    </tr>\n  </thead>\n  <tbody>\n    <tr>\n      <th>0</th>\n      <td>0</td>\n      <td>92202937</td>\n    </tr>\n    <tr>\n      <th>1</th>\n      <td>1</td>\n      <td>1833140</td>\n    </tr>\n  </tbody>\n</table>\n</div>"
     },
     "execution_count": 17,
     "metadata": {},
     "output_type": "execute_result"
    }
   ],
   "source": [
    "# loans with bap = F\n",
    "qry = \\\n",
    "\"\"\"\n",
    "SELECT\n",
    "    has(monthly.borr_asst_plan, 'F') AS bap,\n",
    "    count(*) AS nl\n",
    "FROM\n",
    "    unified.frannie\n",
    "GROUP BY bap\n",
    "\"\"\"\n",
    "\n",
    "df8b = chu.run_query(qry, client, return_df=True)\n",
    "df8b.head()"
   ],
   "metadata": {
    "collapsed": false,
    "pycharm": {
     "name": "#%%\n"
    }
   }
  },
  {
   "cell_type": "code",
   "execution_count": 16,
   "outputs": [
    {
     "data": {
      "text/plain": "   bap     nl   \n0   0   93691931\n1   1     344146",
      "text/html": "<div>\n<style scoped>\n    .dataframe tbody tr th:only-of-type {\n        vertical-align: middle;\n    }\n\n    .dataframe tbody tr th {\n        vertical-align: top;\n    }\n\n    .dataframe thead th {\n        text-align: right;\n    }\n</style>\n<table border=\"1\" class=\"dataframe\">\n  <thead>\n    <tr style=\"text-align: center;\">\n      <th></th>\n      <th>bap</th>\n      <th>nl</th>\n    </tr>\n  </thead>\n  <tbody>\n    <tr>\n      <th>0</th>\n      <td>0</td>\n      <td>93691931</td>\n    </tr>\n    <tr>\n      <th>1</th>\n      <td>1</td>\n      <td>344146</td>\n    </tr>\n  </tbody>\n</table>\n</div>"
     },
     "execution_count": 16,
     "metadata": {},
     "output_type": "execute_result"
    }
   ],
   "source": [
    "# loans with bap = T\n",
    "qry = \\\n",
    "\"\"\"\n",
    "SELECT\n",
    "    has(monthly.borr_asst_plan, 'T') AS bap,\n",
    "    count(*) AS nl\n",
    "FROM\n",
    "    unified.frannie\n",
    "GROUP BY bap\n",
    "\"\"\"\n",
    "\n",
    "df8a = chu.run_query(qry, client, return_df=True)\n",
    "df8a.head()"
   ],
   "metadata": {
    "collapsed": false,
    "pycharm": {
     "name": "#%%\n"
    }
   }
  },
  {
   "cell_type": "code",
   "execution_count": 12,
   "outputs": [
    {
     "data": {
      "text/plain": "          src_data        prior_dq    nl  \n0                 fannie      0     389596\n1                 fannie      1     459035\n2                 fannie      2      65110\n3                 fannie      3      22219\n4                 fannie      4      13528\n5                 fannie      5      12753\n6                 fannie      6      54364\n7   freddie:non-standard      0       3212\n8   freddie:non-standard      1      27502\n9   freddie:non-standard      2       7703\n10  freddie:non-standard      3       4524\n11  freddie:non-standard      4       3401\n12  freddie:non-standard      5       3586\n13  freddie:non-standard      6      23647\n14      freddie:standard      0      77542\n15      freddie:standard      1     508616\n16      freddie:standard      2      62766\n17      freddie:standard      3      24375\n18      freddie:standard      4      12714\n19      freddie:standard      5      10506\n20      freddie:standard      6      46441",
      "text/html": "<div>\n<style scoped>\n    .dataframe tbody tr th:only-of-type {\n        vertical-align: middle;\n    }\n\n    .dataframe tbody tr th {\n        vertical-align: top;\n    }\n\n    .dataframe thead th {\n        text-align: right;\n    }\n</style>\n<table border=\"1\" class=\"dataframe\">\n  <thead>\n    <tr style=\"text-align: center;\">\n      <th></th>\n      <th>src_data</th>\n      <th>prior_dq</th>\n      <th>nl</th>\n    </tr>\n  </thead>\n  <tbody>\n    <tr>\n      <th>0</th>\n      <td>fannie</td>\n      <td>0</td>\n      <td>389596</td>\n    </tr>\n    <tr>\n      <th>1</th>\n      <td>fannie</td>\n      <td>1</td>\n      <td>459035</td>\n    </tr>\n    <tr>\n      <th>2</th>\n      <td>fannie</td>\n      <td>2</td>\n      <td>65110</td>\n    </tr>\n    <tr>\n      <th>3</th>\n      <td>fannie</td>\n      <td>3</td>\n      <td>22219</td>\n    </tr>\n    <tr>\n      <th>4</th>\n      <td>fannie</td>\n      <td>4</td>\n      <td>13528</td>\n    </tr>\n    <tr>\n      <th>5</th>\n      <td>fannie</td>\n      <td>5</td>\n      <td>12753</td>\n    </tr>\n    <tr>\n      <th>6</th>\n      <td>fannie</td>\n      <td>6</td>\n      <td>54364</td>\n    </tr>\n    <tr>\n      <th>7</th>\n      <td>freddie:non-standard</td>\n      <td>0</td>\n      <td>3212</td>\n    </tr>\n    <tr>\n      <th>8</th>\n      <td>freddie:non-standard</td>\n      <td>1</td>\n      <td>27502</td>\n    </tr>\n    <tr>\n      <th>9</th>\n      <td>freddie:non-standard</td>\n      <td>2</td>\n      <td>7703</td>\n    </tr>\n    <tr>\n      <th>10</th>\n      <td>freddie:non-standard</td>\n      <td>3</td>\n      <td>4524</td>\n    </tr>\n    <tr>\n      <th>11</th>\n      <td>freddie:non-standard</td>\n      <td>4</td>\n      <td>3401</td>\n    </tr>\n    <tr>\n      <th>12</th>\n      <td>freddie:non-standard</td>\n      <td>5</td>\n      <td>3586</td>\n    </tr>\n    <tr>\n      <th>13</th>\n      <td>freddie:non-standard</td>\n      <td>6</td>\n      <td>23647</td>\n    </tr>\n    <tr>\n      <th>14</th>\n      <td>freddie:standard</td>\n      <td>0</td>\n      <td>77542</td>\n    </tr>\n    <tr>\n      <th>15</th>\n      <td>freddie:standard</td>\n      <td>1</td>\n      <td>508616</td>\n    </tr>\n    <tr>\n      <th>16</th>\n      <td>freddie:standard</td>\n      <td>2</td>\n      <td>62766</td>\n    </tr>\n    <tr>\n      <th>17</th>\n      <td>freddie:standard</td>\n      <td>3</td>\n      <td>24375</td>\n    </tr>\n    <tr>\n      <th>18</th>\n      <td>freddie:standard</td>\n      <td>4</td>\n      <td>12714</td>\n    </tr>\n    <tr>\n      <th>19</th>\n      <td>freddie:standard</td>\n      <td>5</td>\n      <td>10506</td>\n    </tr>\n    <tr>\n      <th>20</th>\n      <td>freddie:standard</td>\n      <td>6</td>\n      <td>46441</td>\n    </tr>\n  </tbody>\n</table>\n</div>"
     },
     "execution_count": 12,
     "metadata": {},
     "output_type": "execute_result"
    }
   ],
   "source": [
    "\n",
    "# look at relations between borr_asst_plan=F and max prior dq\n",
    "\n",
    "qry = \\\n",
    "\"\"\"\n",
    "SELECT\n",
    "  src_data,\n",
    "  prior_dq > 6 ? 6 : prior_dq AS prior_dq,\n",
    "  count(*) AS nl\n",
    "FROM (\n",
    "    SELECT\n",
    "        src_data,\n",
    "        arrayMax(arraySlice(monthly.months_dq, 1, indexOf(monthly.borr_asst_plan, 'F'))) AS prior_dq\n",
    "    FROM\n",
    "        unified.frannie\n",
    "    WHERE\n",
    "        has(monthly.borr_asst_plan, 'F'))\n",
    "GROUP BY src_data, prior_dq\n",
    "ORDER BY src_data, prior_dq\n",
    "\"\"\"\n",
    "\n",
    "df9 = chu.run_query(qry, client, return_df=True)\n",
    "df9.head(n=1000)"
   ],
   "metadata": {
    "collapsed": false,
    "pycharm": {
     "name": "#%%\n"
    }
   }
  },
  {
   "cell_type": "code",
   "execution_count": 13,
   "outputs": [
    {
     "data": {
      "text/plain": "          src_data        prior_dq   nl  \n0                 fannie      0       639\n1                 fannie      1      3369\n2                 fannie      2      5086\n3                 fannie      3      3897\n4                 fannie      4      1062\n5                 fannie      5      1056\n6                 fannie      6      3453\n7   freddie:non-standard      0        19\n8   freddie:non-standard      1      2873\n9   freddie:non-standard      2      4821\n10  freddie:non-standard      3      3564\n11  freddie:non-standard      4      2850\n12  freddie:non-standard      5      2577\n13  freddie:non-standard      6     17539\n14      freddie:standard      0       296\n15      freddie:standard      1     25977\n16      freddie:standard      2     23676\n17      freddie:standard      3     12996\n18      freddie:standard      4      7453\n19      freddie:standard      5      6410\n20      freddie:standard      6     29436",
      "text/html": "<div>\n<style scoped>\n    .dataframe tbody tr th:only-of-type {\n        vertical-align: middle;\n    }\n\n    .dataframe tbody tr th {\n        vertical-align: top;\n    }\n\n    .dataframe thead th {\n        text-align: right;\n    }\n</style>\n<table border=\"1\" class=\"dataframe\">\n  <thead>\n    <tr style=\"text-align: center;\">\n      <th></th>\n      <th>src_data</th>\n      <th>prior_dq</th>\n      <th>nl</th>\n    </tr>\n  </thead>\n  <tbody>\n    <tr>\n      <th>0</th>\n      <td>fannie</td>\n      <td>0</td>\n      <td>639</td>\n    </tr>\n    <tr>\n      <th>1</th>\n      <td>fannie</td>\n      <td>1</td>\n      <td>3369</td>\n    </tr>\n    <tr>\n      <th>2</th>\n      <td>fannie</td>\n      <td>2</td>\n      <td>5086</td>\n    </tr>\n    <tr>\n      <th>3</th>\n      <td>fannie</td>\n      <td>3</td>\n      <td>3897</td>\n    </tr>\n    <tr>\n      <th>4</th>\n      <td>fannie</td>\n      <td>4</td>\n      <td>1062</td>\n    </tr>\n    <tr>\n      <th>5</th>\n      <td>fannie</td>\n      <td>5</td>\n      <td>1056</td>\n    </tr>\n    <tr>\n      <th>6</th>\n      <td>fannie</td>\n      <td>6</td>\n      <td>3453</td>\n    </tr>\n    <tr>\n      <th>7</th>\n      <td>freddie:non-standard</td>\n      <td>0</td>\n      <td>19</td>\n    </tr>\n    <tr>\n      <th>8</th>\n      <td>freddie:non-standard</td>\n      <td>1</td>\n      <td>2873</td>\n    </tr>\n    <tr>\n      <th>9</th>\n      <td>freddie:non-standard</td>\n      <td>2</td>\n      <td>4821</td>\n    </tr>\n    <tr>\n      <th>10</th>\n      <td>freddie:non-standard</td>\n      <td>3</td>\n      <td>3564</td>\n    </tr>\n    <tr>\n      <th>11</th>\n      <td>freddie:non-standard</td>\n      <td>4</td>\n      <td>2850</td>\n    </tr>\n    <tr>\n      <th>12</th>\n      <td>freddie:non-standard</td>\n      <td>5</td>\n      <td>2577</td>\n    </tr>\n    <tr>\n      <th>13</th>\n      <td>freddie:non-standard</td>\n      <td>6</td>\n      <td>17539</td>\n    </tr>\n    <tr>\n      <th>14</th>\n      <td>freddie:standard</td>\n      <td>0</td>\n      <td>296</td>\n    </tr>\n    <tr>\n      <th>15</th>\n      <td>freddie:standard</td>\n      <td>1</td>\n      <td>25977</td>\n    </tr>\n    <tr>\n      <th>16</th>\n      <td>freddie:standard</td>\n      <td>2</td>\n      <td>23676</td>\n    </tr>\n    <tr>\n      <th>17</th>\n      <td>freddie:standard</td>\n      <td>3</td>\n      <td>12996</td>\n    </tr>\n    <tr>\n      <th>18</th>\n      <td>freddie:standard</td>\n      <td>4</td>\n      <td>7453</td>\n    </tr>\n    <tr>\n      <th>19</th>\n      <td>freddie:standard</td>\n      <td>5</td>\n      <td>6410</td>\n    </tr>\n    <tr>\n      <th>20</th>\n      <td>freddie:standard</td>\n      <td>6</td>\n      <td>29436</td>\n    </tr>\n  </tbody>\n</table>\n</div>"
     },
     "execution_count": 13,
     "metadata": {},
     "output_type": "execute_result"
    }
   ],
   "source": [
    "\n",
    "# look at relations between borr_asst_plan=R and max prior dq\n",
    "\n",
    "qry = \\\n",
    "\"\"\"\n",
    "SELECT\n",
    "  src_data,\n",
    "  prior_dq > 6 ? 6 : prior_dq AS prior_dq,\n",
    "  count(*) AS nl\n",
    "FROM (\n",
    "    SELECT\n",
    "        src_data,\n",
    "        arrayMax(arraySlice(monthly.months_dq, 1, indexOf(monthly.borr_asst_plan, 'R'))) AS prior_dq\n",
    "    FROM\n",
    "        unified.frannie\n",
    "    WHERE\n",
    "        has(monthly.borr_asst_plan, 'R'))\n",
    "GROUP BY src_data, prior_dq\n",
    "ORDER BY src_data, prior_dq\n",
    "\"\"\"\n",
    "\n",
    "df9 = chu.run_query(qry, client, return_df=True)\n",
    "df9.head(n=1000)"
   ],
   "metadata": {
    "collapsed": false,
    "pycharm": {
     "name": "#%%\n"
    }
   }
  },
  {
   "cell_type": "code",
   "execution_count": 26,
   "outputs": [
    {
     "data": {
      "text/plain": "   avg_num_months_\n0     3.873561    ",
      "text/html": "<div>\n<style scoped>\n    .dataframe tbody tr th:only-of-type {\n        vertical-align: middle;\n    }\n\n    .dataframe tbody tr th {\n        vertical-align: top;\n    }\n\n    .dataframe thead th {\n        text-align: right;\n    }\n</style>\n<table border=\"1\" class=\"dataframe\">\n  <thead>\n    <tr style=\"text-align: center;\">\n      <th></th>\n      <th>avg_num_months_</th>\n    </tr>\n  </thead>\n  <tbody>\n    <tr>\n      <th>0</th>\n      <td>3.873561</td>\n    </tr>\n  </tbody>\n</table>\n</div>"
     },
     "execution_count": 26,
     "metadata": {},
     "output_type": "execute_result"
    }
   ],
   "source": [
    "# of months bap=F distribution\n",
    "\n",
    "qry = \\\n",
    "\"\"\"\n",
    "SELECT\n",
    "  avg(num_months)\n",
    "FROM (\n",
    "    SELECT\n",
    "        arrayElement(monthly.borr_asst_plan, length(monthly.borr_asst_plan)) AS last_element,\n",
    "        countEqual(monthly.borr_asst_plan, 'F') AS num_months\n",
    "    FROM\n",
    "        unified.frannie\n",
    "    WHERE\n",
    "        has(monthly.borr_asst_plan, 'F')\n",
    "        AND last_element != 'F')\n",
    "\"\"\"\n",
    "\n",
    "df9a = chu.run_query(qry, client, return_df=True)\n",
    "df9a.head(n=1000)\n"
   ],
   "metadata": {
    "collapsed": false,
    "pycharm": {
     "name": "#%%\n"
    }
   }
  },
  {
   "cell_type": "code",
   "execution_count": 24,
   "outputs": [
    {
     "data": {
      "text/plain": "    num_months  num_loans\n0        1       138393  \n1        2       178454  \n2        3       226409  \n3        4       169221  \n4        5       132907  \n5        6       130958  \n6        7        75330  \n7        8        38372  \n8        9         4301  \n9       10         2185  \n10      11         1598  \n11      12         1030  \n12      13          712  \n13      14          532  \n14      15          347  \n15      16          225  \n16      17          182  \n17      18          202  \n18      19           94  \n19      20           59  \n20      21           33  \n21      22           35  \n22      23           18  \n23      24           31  \n24      25           26  \n25      26           19  \n26      27           15  \n27      28           17  \n28      29            7  \n29      30            7  \n30      31            4  \n31      32            2  \n32      33            2  \n33      34            3  \n34      35            2  \n35      36            1  \n36      37            3  \n37      38            2  \n38      41            1  \n39      42            1  \n40      43            1  \n41      50            1  \n42      51            1  \n43      55            1  ",
      "text/html": "<div>\n<style scoped>\n    .dataframe tbody tr th:only-of-type {\n        vertical-align: middle;\n    }\n\n    .dataframe tbody tr th {\n        vertical-align: top;\n    }\n\n    .dataframe thead th {\n        text-align: right;\n    }\n</style>\n<table border=\"1\" class=\"dataframe\">\n  <thead>\n    <tr style=\"text-align: center;\">\n      <th></th>\n      <th>num_months</th>\n      <th>num_loans</th>\n    </tr>\n  </thead>\n  <tbody>\n    <tr>\n      <th>0</th>\n      <td>1</td>\n      <td>138393</td>\n    </tr>\n    <tr>\n      <th>1</th>\n      <td>2</td>\n      <td>178454</td>\n    </tr>\n    <tr>\n      <th>2</th>\n      <td>3</td>\n      <td>226409</td>\n    </tr>\n    <tr>\n      <th>3</th>\n      <td>4</td>\n      <td>169221</td>\n    </tr>\n    <tr>\n      <th>4</th>\n      <td>5</td>\n      <td>132907</td>\n    </tr>\n    <tr>\n      <th>5</th>\n      <td>6</td>\n      <td>130958</td>\n    </tr>\n    <tr>\n      <th>6</th>\n      <td>7</td>\n      <td>75330</td>\n    </tr>\n    <tr>\n      <th>7</th>\n      <td>8</td>\n      <td>38372</td>\n    </tr>\n    <tr>\n      <th>8</th>\n      <td>9</td>\n      <td>4301</td>\n    </tr>\n    <tr>\n      <th>9</th>\n      <td>10</td>\n      <td>2185</td>\n    </tr>\n    <tr>\n      <th>10</th>\n      <td>11</td>\n      <td>1598</td>\n    </tr>\n    <tr>\n      <th>11</th>\n      <td>12</td>\n      <td>1030</td>\n    </tr>\n    <tr>\n      <th>12</th>\n      <td>13</td>\n      <td>712</td>\n    </tr>\n    <tr>\n      <th>13</th>\n      <td>14</td>\n      <td>532</td>\n    </tr>\n    <tr>\n      <th>14</th>\n      <td>15</td>\n      <td>347</td>\n    </tr>\n    <tr>\n      <th>15</th>\n      <td>16</td>\n      <td>225</td>\n    </tr>\n    <tr>\n      <th>16</th>\n      <td>17</td>\n      <td>182</td>\n    </tr>\n    <tr>\n      <th>17</th>\n      <td>18</td>\n      <td>202</td>\n    </tr>\n    <tr>\n      <th>18</th>\n      <td>19</td>\n      <td>94</td>\n    </tr>\n    <tr>\n      <th>19</th>\n      <td>20</td>\n      <td>59</td>\n    </tr>\n    <tr>\n      <th>20</th>\n      <td>21</td>\n      <td>33</td>\n    </tr>\n    <tr>\n      <th>21</th>\n      <td>22</td>\n      <td>35</td>\n    </tr>\n    <tr>\n      <th>22</th>\n      <td>23</td>\n      <td>18</td>\n    </tr>\n    <tr>\n      <th>23</th>\n      <td>24</td>\n      <td>31</td>\n    </tr>\n    <tr>\n      <th>24</th>\n      <td>25</td>\n      <td>26</td>\n    </tr>\n    <tr>\n      <th>25</th>\n      <td>26</td>\n      <td>19</td>\n    </tr>\n    <tr>\n      <th>26</th>\n      <td>27</td>\n      <td>15</td>\n    </tr>\n    <tr>\n      <th>27</th>\n      <td>28</td>\n      <td>17</td>\n    </tr>\n    <tr>\n      <th>28</th>\n      <td>29</td>\n      <td>7</td>\n    </tr>\n    <tr>\n      <th>29</th>\n      <td>30</td>\n      <td>7</td>\n    </tr>\n    <tr>\n      <th>30</th>\n      <td>31</td>\n      <td>4</td>\n    </tr>\n    <tr>\n      <th>31</th>\n      <td>32</td>\n      <td>2</td>\n    </tr>\n    <tr>\n      <th>32</th>\n      <td>33</td>\n      <td>2</td>\n    </tr>\n    <tr>\n      <th>33</th>\n      <td>34</td>\n      <td>3</td>\n    </tr>\n    <tr>\n      <th>34</th>\n      <td>35</td>\n      <td>2</td>\n    </tr>\n    <tr>\n      <th>35</th>\n      <td>36</td>\n      <td>1</td>\n    </tr>\n    <tr>\n      <th>36</th>\n      <td>37</td>\n      <td>3</td>\n    </tr>\n    <tr>\n      <th>37</th>\n      <td>38</td>\n      <td>2</td>\n    </tr>\n    <tr>\n      <th>38</th>\n      <td>41</td>\n      <td>1</td>\n    </tr>\n    <tr>\n      <th>39</th>\n      <td>42</td>\n      <td>1</td>\n    </tr>\n    <tr>\n      <th>40</th>\n      <td>43</td>\n      <td>1</td>\n    </tr>\n    <tr>\n      <th>41</th>\n      <td>50</td>\n      <td>1</td>\n    </tr>\n    <tr>\n      <th>42</th>\n      <td>51</td>\n      <td>1</td>\n    </tr>\n    <tr>\n      <th>43</th>\n      <td>55</td>\n      <td>1</td>\n    </tr>\n  </tbody>\n</table>\n</div>"
     },
     "execution_count": 24,
     "metadata": {},
     "output_type": "execute_result"
    }
   ],
   "source": [
    "# of months bap=F distribution\n",
    "\n",
    "qry = \\\n",
    "\"\"\"\n",
    "SELECT\n",
    "  num_months,\n",
    "  count(*) AS num_loans\n",
    "FROM (\n",
    "    SELECT\n",
    "        arrayElement(monthly.borr_asst_plan, length(monthly.borr_asst_plan)) AS last_element,\n",
    "        countEqual(monthly.borr_asst_plan, 'F') AS num_months\n",
    "    FROM\n",
    "        unified.frannie\n",
    "    WHERE\n",
    "        has(monthly.borr_asst_plan, 'F')\n",
    "        AND last_element != 'F')\n",
    "GROUP BY num_months\n",
    "ORDER BY num_months\n",
    "\"\"\"\n",
    "\n",
    "df9a = chu.run_query(qry, client, return_df=True)\n",
    "df9a.head(n=1000)\n"
   ],
   "metadata": {
    "collapsed": false,
    "pycharm": {
     "name": "#%%\n"
    }
   }
  },
  {
   "cell_type": "code",
   "execution_count": 25,
   "outputs": [
    {
     "data": {
      "text/plain": "    num_months  num_loans\n0        1        39226  \n1        2        25572  \n2        3        19278  \n3        4        15451  \n4        5        15900  \n5        6        11136  \n6        7         5651  \n7        8         3812  \n8        9         2857  \n9       10         2361  \n10      11         2045  \n11      12         1607  \n12      13         1186  \n13      14          791  \n14      15          612  \n15      16          538  \n16      17          410  \n17      18          331  \n18      19          261  \n19      20          213  \n20      21          193  \n21      22          123  \n22      23          131  \n23      24          104  \n24      25           63  \n25      26           59  \n26      27           51  \n27      28           47  \n28      29           38  \n29      30           33  \n30      31           24  \n31      32           25  \n32      33           23  \n33      34           17  \n34      35           13  \n35      36           24  \n36      37            8  \n37      38            6  \n38      39            8  \n39      40            1  \n40      41            4  \n41      42            4  \n42      43            2  \n43      44            2  \n44      45            1  \n45      46            3  \n46      47            1  \n47      50            1  \n48      51            1  \n49      52            1  \n50      54            2  \n51      55            1  \n52      56            1  \n53      57            1  \n54      59            2  \n55      63            1  ",
      "text/html": "<div>\n<style scoped>\n    .dataframe tbody tr th:only-of-type {\n        vertical-align: middle;\n    }\n\n    .dataframe tbody tr th {\n        vertical-align: top;\n    }\n\n    .dataframe thead th {\n        text-align: right;\n    }\n</style>\n<table border=\"1\" class=\"dataframe\">\n  <thead>\n    <tr style=\"text-align: center;\">\n      <th></th>\n      <th>num_months</th>\n      <th>num_loans</th>\n    </tr>\n  </thead>\n  <tbody>\n    <tr>\n      <th>0</th>\n      <td>1</td>\n      <td>39226</td>\n    </tr>\n    <tr>\n      <th>1</th>\n      <td>2</td>\n      <td>25572</td>\n    </tr>\n    <tr>\n      <th>2</th>\n      <td>3</td>\n      <td>19278</td>\n    </tr>\n    <tr>\n      <th>3</th>\n      <td>4</td>\n      <td>15451</td>\n    </tr>\n    <tr>\n      <th>4</th>\n      <td>5</td>\n      <td>15900</td>\n    </tr>\n    <tr>\n      <th>5</th>\n      <td>6</td>\n      <td>11136</td>\n    </tr>\n    <tr>\n      <th>6</th>\n      <td>7</td>\n      <td>5651</td>\n    </tr>\n    <tr>\n      <th>7</th>\n      <td>8</td>\n      <td>3812</td>\n    </tr>\n    <tr>\n      <th>8</th>\n      <td>9</td>\n      <td>2857</td>\n    </tr>\n    <tr>\n      <th>9</th>\n      <td>10</td>\n      <td>2361</td>\n    </tr>\n    <tr>\n      <th>10</th>\n      <td>11</td>\n      <td>2045</td>\n    </tr>\n    <tr>\n      <th>11</th>\n      <td>12</td>\n      <td>1607</td>\n    </tr>\n    <tr>\n      <th>12</th>\n      <td>13</td>\n      <td>1186</td>\n    </tr>\n    <tr>\n      <th>13</th>\n      <td>14</td>\n      <td>791</td>\n    </tr>\n    <tr>\n      <th>14</th>\n      <td>15</td>\n      <td>612</td>\n    </tr>\n    <tr>\n      <th>15</th>\n      <td>16</td>\n      <td>538</td>\n    </tr>\n    <tr>\n      <th>16</th>\n      <td>17</td>\n      <td>410</td>\n    </tr>\n    <tr>\n      <th>17</th>\n      <td>18</td>\n      <td>331</td>\n    </tr>\n    <tr>\n      <th>18</th>\n      <td>19</td>\n      <td>261</td>\n    </tr>\n    <tr>\n      <th>19</th>\n      <td>20</td>\n      <td>213</td>\n    </tr>\n    <tr>\n      <th>20</th>\n      <td>21</td>\n      <td>193</td>\n    </tr>\n    <tr>\n      <th>21</th>\n      <td>22</td>\n      <td>123</td>\n    </tr>\n    <tr>\n      <th>22</th>\n      <td>23</td>\n      <td>131</td>\n    </tr>\n    <tr>\n      <th>23</th>\n      <td>24</td>\n      <td>104</td>\n    </tr>\n    <tr>\n      <th>24</th>\n      <td>25</td>\n      <td>63</td>\n    </tr>\n    <tr>\n      <th>25</th>\n      <td>26</td>\n      <td>59</td>\n    </tr>\n    <tr>\n      <th>26</th>\n      <td>27</td>\n      <td>51</td>\n    </tr>\n    <tr>\n      <th>27</th>\n      <td>28</td>\n      <td>47</td>\n    </tr>\n    <tr>\n      <th>28</th>\n      <td>29</td>\n      <td>38</td>\n    </tr>\n    <tr>\n      <th>29</th>\n      <td>30</td>\n      <td>33</td>\n    </tr>\n    <tr>\n      <th>30</th>\n      <td>31</td>\n      <td>24</td>\n    </tr>\n    <tr>\n      <th>31</th>\n      <td>32</td>\n      <td>25</td>\n    </tr>\n    <tr>\n      <th>32</th>\n      <td>33</td>\n      <td>23</td>\n    </tr>\n    <tr>\n      <th>33</th>\n      <td>34</td>\n      <td>17</td>\n    </tr>\n    <tr>\n      <th>34</th>\n      <td>35</td>\n      <td>13</td>\n    </tr>\n    <tr>\n      <th>35</th>\n      <td>36</td>\n      <td>24</td>\n    </tr>\n    <tr>\n      <th>36</th>\n      <td>37</td>\n      <td>8</td>\n    </tr>\n    <tr>\n      <th>37</th>\n      <td>38</td>\n      <td>6</td>\n    </tr>\n    <tr>\n      <th>38</th>\n      <td>39</td>\n      <td>8</td>\n    </tr>\n    <tr>\n      <th>39</th>\n      <td>40</td>\n      <td>1</td>\n    </tr>\n    <tr>\n      <th>40</th>\n      <td>41</td>\n      <td>4</td>\n    </tr>\n    <tr>\n      <th>41</th>\n      <td>42</td>\n      <td>4</td>\n    </tr>\n    <tr>\n      <th>42</th>\n      <td>43</td>\n      <td>2</td>\n    </tr>\n    <tr>\n      <th>43</th>\n      <td>44</td>\n      <td>2</td>\n    </tr>\n    <tr>\n      <th>44</th>\n      <td>45</td>\n      <td>1</td>\n    </tr>\n    <tr>\n      <th>45</th>\n      <td>46</td>\n      <td>3</td>\n    </tr>\n    <tr>\n      <th>46</th>\n      <td>47</td>\n      <td>1</td>\n    </tr>\n    <tr>\n      <th>47</th>\n      <td>50</td>\n      <td>1</td>\n    </tr>\n    <tr>\n      <th>48</th>\n      <td>51</td>\n      <td>1</td>\n    </tr>\n    <tr>\n      <th>49</th>\n      <td>52</td>\n      <td>1</td>\n    </tr>\n    <tr>\n      <th>50</th>\n      <td>54</td>\n      <td>2</td>\n    </tr>\n    <tr>\n      <th>51</th>\n      <td>55</td>\n      <td>1</td>\n    </tr>\n    <tr>\n      <th>52</th>\n      <td>56</td>\n      <td>1</td>\n    </tr>\n    <tr>\n      <th>53</th>\n      <td>57</td>\n      <td>1</td>\n    </tr>\n    <tr>\n      <th>54</th>\n      <td>59</td>\n      <td>2</td>\n    </tr>\n    <tr>\n      <th>55</th>\n      <td>63</td>\n      <td>1</td>\n    </tr>\n  </tbody>\n</table>\n</div>"
     },
     "execution_count": 25,
     "metadata": {},
     "output_type": "execute_result"
    }
   ],
   "source": [
    "# of months bap=R distribution\n",
    "\n",
    "qry = \\\n",
    "\"\"\"\n",
    "SELECT\n",
    "  num_months,\n",
    "  count(*) AS num_loans\n",
    "FROM (\n",
    "    SELECT\n",
    "        arrayElement(monthly.borr_asst_plan, length(monthly.borr_asst_plan)) AS last_element,\n",
    "        countEqual(monthly.borr_asst_plan, 'R') AS num_months\n",
    "    FROM\n",
    "        unified.frannie\n",
    "    WHERE\n",
    "        has(monthly.borr_asst_plan, 'R')\n",
    "        AND last_element != 'R')\n",
    "GROUP BY num_months\n",
    "ORDER BY num_months\n",
    "\"\"\"\n",
    "\n",
    "df9a = chu.run_query(qry, client, return_df=True)\n",
    "df9a.head(n=1000)\n"
   ],
   "metadata": {
    "collapsed": false,
    "pycharm": {
     "name": "#%%\n"
    }
   }
  },
  {
   "cell_type": "code",
   "execution_count": 23,
   "outputs": [
    {
     "data": {
      "text/plain": "    num_months  num_loans\n0        1        36340  \n1        2        52699  \n2        3       113715  \n3        4        46514  \n4        5        22784  \n5        6        16201  \n6        7        10601  \n7        8         7142  \n8        9         4580  \n9       10         3047  \n10      11         2189  \n11      12         1646  \n12      13         1132  \n13      14          765  \n14      15          548  \n15      16          387  \n16      17          270  \n17      18          202  \n18      19          152  \n19      20          106  \n20      21           83  \n21      22           45  \n22      23           50  \n23      24           31  \n24      25           22  \n25      26           14  \n26      27           15  \n27      28           13  \n28      29            7  \n29      30            3  \n30      31            3  \n31      32            5  \n32      33            3  \n33      34            2  \n34      35            2  \n35      36            2  \n36      38            1  \n37      39            2  \n38      40            1  \n39      41            2  \n40      44            1  \n41      53            1  \n42      55            1  \n43      64            1  ",
      "text/html": "<div>\n<style scoped>\n    .dataframe tbody tr th:only-of-type {\n        vertical-align: middle;\n    }\n\n    .dataframe tbody tr th {\n        vertical-align: top;\n    }\n\n    .dataframe thead th {\n        text-align: right;\n    }\n</style>\n<table border=\"1\" class=\"dataframe\">\n  <thead>\n    <tr style=\"text-align: center;\">\n      <th></th>\n      <th>num_months</th>\n      <th>num_loans</th>\n    </tr>\n  </thead>\n  <tbody>\n    <tr>\n      <th>0</th>\n      <td>1</td>\n      <td>36340</td>\n    </tr>\n    <tr>\n      <th>1</th>\n      <td>2</td>\n      <td>52699</td>\n    </tr>\n    <tr>\n      <th>2</th>\n      <td>3</td>\n      <td>113715</td>\n    </tr>\n    <tr>\n      <th>3</th>\n      <td>4</td>\n      <td>46514</td>\n    </tr>\n    <tr>\n      <th>4</th>\n      <td>5</td>\n      <td>22784</td>\n    </tr>\n    <tr>\n      <th>5</th>\n      <td>6</td>\n      <td>16201</td>\n    </tr>\n    <tr>\n      <th>6</th>\n      <td>7</td>\n      <td>10601</td>\n    </tr>\n    <tr>\n      <th>7</th>\n      <td>8</td>\n      <td>7142</td>\n    </tr>\n    <tr>\n      <th>8</th>\n      <td>9</td>\n      <td>4580</td>\n    </tr>\n    <tr>\n      <th>9</th>\n      <td>10</td>\n      <td>3047</td>\n    </tr>\n    <tr>\n      <th>10</th>\n      <td>11</td>\n      <td>2189</td>\n    </tr>\n    <tr>\n      <th>11</th>\n      <td>12</td>\n      <td>1646</td>\n    </tr>\n    <tr>\n      <th>12</th>\n      <td>13</td>\n      <td>1132</td>\n    </tr>\n    <tr>\n      <th>13</th>\n      <td>14</td>\n      <td>765</td>\n    </tr>\n    <tr>\n      <th>14</th>\n      <td>15</td>\n      <td>548</td>\n    </tr>\n    <tr>\n      <th>15</th>\n      <td>16</td>\n      <td>387</td>\n    </tr>\n    <tr>\n      <th>16</th>\n      <td>17</td>\n      <td>270</td>\n    </tr>\n    <tr>\n      <th>17</th>\n      <td>18</td>\n      <td>202</td>\n    </tr>\n    <tr>\n      <th>18</th>\n      <td>19</td>\n      <td>152</td>\n    </tr>\n    <tr>\n      <th>19</th>\n      <td>20</td>\n      <td>106</td>\n    </tr>\n    <tr>\n      <th>20</th>\n      <td>21</td>\n      <td>83</td>\n    </tr>\n    <tr>\n      <th>21</th>\n      <td>22</td>\n      <td>45</td>\n    </tr>\n    <tr>\n      <th>22</th>\n      <td>23</td>\n      <td>50</td>\n    </tr>\n    <tr>\n      <th>23</th>\n      <td>24</td>\n      <td>31</td>\n    </tr>\n    <tr>\n      <th>24</th>\n      <td>25</td>\n      <td>22</td>\n    </tr>\n    <tr>\n      <th>25</th>\n      <td>26</td>\n      <td>14</td>\n    </tr>\n    <tr>\n      <th>26</th>\n      <td>27</td>\n      <td>15</td>\n    </tr>\n    <tr>\n      <th>27</th>\n      <td>28</td>\n      <td>13</td>\n    </tr>\n    <tr>\n      <th>28</th>\n      <td>29</td>\n      <td>7</td>\n    </tr>\n    <tr>\n      <th>29</th>\n      <td>30</td>\n      <td>3</td>\n    </tr>\n    <tr>\n      <th>30</th>\n      <td>31</td>\n      <td>3</td>\n    </tr>\n    <tr>\n      <th>31</th>\n      <td>32</td>\n      <td>5</td>\n    </tr>\n    <tr>\n      <th>32</th>\n      <td>33</td>\n      <td>3</td>\n    </tr>\n    <tr>\n      <th>33</th>\n      <td>34</td>\n      <td>2</td>\n    </tr>\n    <tr>\n      <th>34</th>\n      <td>35</td>\n      <td>2</td>\n    </tr>\n    <tr>\n      <th>35</th>\n      <td>36</td>\n      <td>2</td>\n    </tr>\n    <tr>\n      <th>36</th>\n      <td>38</td>\n      <td>1</td>\n    </tr>\n    <tr>\n      <th>37</th>\n      <td>39</td>\n      <td>2</td>\n    </tr>\n    <tr>\n      <th>38</th>\n      <td>40</td>\n      <td>1</td>\n    </tr>\n    <tr>\n      <th>39</th>\n      <td>41</td>\n      <td>2</td>\n    </tr>\n    <tr>\n      <th>40</th>\n      <td>44</td>\n      <td>1</td>\n    </tr>\n    <tr>\n      <th>41</th>\n      <td>53</td>\n      <td>1</td>\n    </tr>\n    <tr>\n      <th>42</th>\n      <td>55</td>\n      <td>1</td>\n    </tr>\n    <tr>\n      <th>43</th>\n      <td>64</td>\n      <td>1</td>\n    </tr>\n  </tbody>\n</table>\n</div>"
     },
     "execution_count": 23,
     "metadata": {},
     "output_type": "execute_result"
    }
   ],
   "source": [
    "# of months bap=R distribution\n",
    "\n",
    "qry = \\\n",
    "\"\"\"\n",
    "SELECT\n",
    "  num_months,\n",
    "  count(*) AS num_loans\n",
    "FROM (\n",
    "    SELECT\n",
    "        arrayElement(monthly.borr_asst_plan, length(monthly.borr_asst_plan)) AS last_element,\n",
    "        countEqual(monthly.borr_asst_plan, 'T') AS num_months\n",
    "    FROM\n",
    "        unified.frannie\n",
    "    WHERE\n",
    "        has(monthly.borr_asst_plan, 'T')\n",
    "        AND last_element != 'T')\n",
    "GROUP BY num_months\n",
    "ORDER BY num_months\n",
    "\"\"\"\n",
    "\n",
    "df9a = chu.run_query(qry, client, return_df=True)\n",
    "df9a.head(n=1000)\n",
    "\n"
   ],
   "metadata": {
    "collapsed": false,
    "pycharm": {
     "name": "#%%\n"
    }
   }
  },
  {
   "cell_type": "markdown",
   "source": [
    "Conclusions on borr_asst_plan:\n",
    "\n",
    "- Flags are sticky\n",
    "- Can have multiple episodes of plans\n",
    "- Some but not of overlap with mods\n",
    "- F: most were had at most months_dq=1\n",
    "- R: most were 1+ months_dq prior, mostly used by Freddie\n",
    "- Tend to be short term in nature"
   ],
   "metadata": {
    "collapsed": false
   }
  },
  {
   "cell_type": "code",
   "execution_count": 14,
   "outputs": [
    {
     "data": {
      "text/plain": "         src_data       msf    ln  \n0                fannie   N    6885\n1                fannie   Y  367806\n2  freddie:non-standard   N   13020\n3  freddie:non-standard   Y  134159\n4      freddie:standard   N   15014\n5      freddie:standard   Y  256527",
      "text/html": "<div>\n<style scoped>\n    .dataframe tbody tr th:only-of-type {\n        vertical-align: middle;\n    }\n\n    .dataframe tbody tr th {\n        vertical-align: top;\n    }\n\n    .dataframe thead th {\n        text-align: right;\n    }\n</style>\n<table border=\"1\" class=\"dataframe\">\n  <thead>\n    <tr style=\"text-align: center;\">\n      <th></th>\n      <th>src_data</th>\n      <th>msf</th>\n      <th>ln</th>\n    </tr>\n  </thead>\n  <tbody>\n    <tr>\n      <th>0</th>\n      <td>fannie</td>\n      <td>N</td>\n      <td>6885</td>\n    </tr>\n    <tr>\n      <th>1</th>\n      <td>fannie</td>\n      <td>Y</td>\n      <td>367806</td>\n    </tr>\n    <tr>\n      <th>2</th>\n      <td>freddie:non-standard</td>\n      <td>N</td>\n      <td>13020</td>\n    </tr>\n    <tr>\n      <th>3</th>\n      <td>freddie:non-standard</td>\n      <td>Y</td>\n      <td>134159</td>\n    </tr>\n    <tr>\n      <th>4</th>\n      <td>freddie:standard</td>\n      <td>N</td>\n      <td>15014</td>\n    </tr>\n    <tr>\n      <th>5</th>\n      <td>freddie:standard</td>\n      <td>Y</td>\n      <td>256527</td>\n    </tr>\n  </tbody>\n</table>\n</div>"
     },
     "execution_count": 14,
     "metadata": {},
     "output_type": "execute_result"
    }
   ],
   "source": [
    "\n",
    "# look at relations between mod_flg and interest reductions\n",
    "qry = \\\n",
    "\"\"\"\n",
    "SELECT\n",
    "    src_data,\n",
    "    msf,\n",
    "    COUNT(*) AS ln\n",
    "FROM (\n",
    "    SELECT\n",
    "        ln_id,\n",
    "        src_data,\n",
    "        ln_amort_cd,\n",
    "        arrayMap((ir, zb) -> IF(zb='!', ln_orig_ir - ir, 0.0), monthly.ir, monthly.zb_cd) AS delta_ir,\n",
    "        arrayMax(delta_ir) AS md,\n",
    "        arrayFirstIndex(x-> IF(x > 0.25, 1, 0), delta_ir) AS fbig,\n",
    "        arrayElement(monthly.mod_sticky_flg, fbig) AS msf\n",
    "    FROM\n",
    "        unified.frannie\n",
    "    WHERE\n",
    "        md > 0.25\n",
    "        AND ln_amort_cd = 'FRM')\n",
    "GROUP BY src_data, msf\n",
    "ORDER BY src_data, msf\n",
    "\"\"\"\n",
    "\n",
    "dfa = chu.run_query(qry, client, return_df=True)\n",
    "dfa.head(n=1000)"
   ],
   "metadata": {
    "collapsed": false,
    "pycharm": {
     "name": "#%%\n"
    }
   }
  },
  {
   "cell_type": "code",
   "execution_count": 15,
   "outputs": [
    {
     "data": {
      "text/plain": "         src_data        ir_reduction  ln_mods  ir_reduction_rate\n0                fannie     368559     593724       0.620758     \n1  freddie:non-standard     140750     174341       0.807326     \n2      freddie:standard     270713     434767       0.622662     ",
      "text/html": "<div>\n<style scoped>\n    .dataframe tbody tr th:only-of-type {\n        vertical-align: middle;\n    }\n\n    .dataframe tbody tr th {\n        vertical-align: top;\n    }\n\n    .dataframe thead th {\n        text-align: right;\n    }\n</style>\n<table border=\"1\" class=\"dataframe\">\n  <thead>\n    <tr style=\"text-align: center;\">\n      <th></th>\n      <th>src_data</th>\n      <th>ir_reduction</th>\n      <th>ln_mods</th>\n      <th>ir_reduction_rate</th>\n    </tr>\n  </thead>\n  <tbody>\n    <tr>\n      <th>0</th>\n      <td>fannie</td>\n      <td>368559</td>\n      <td>593724</td>\n      <td>0.620758</td>\n    </tr>\n    <tr>\n      <th>1</th>\n      <td>freddie:non-standard</td>\n      <td>140750</td>\n      <td>174341</td>\n      <td>0.807326</td>\n    </tr>\n    <tr>\n      <th>2</th>\n      <td>freddie:standard</td>\n      <td>270713</td>\n      <td>434767</td>\n      <td>0.622662</td>\n    </tr>\n  </tbody>\n</table>\n</div>"
     },
     "execution_count": 15,
     "metadata": {},
     "output_type": "execute_result"
    }
   ],
   "source": [
    "# look at relations between mod_flg and interest reductions\n",
    "qry = \\\n",
    "\"\"\"\n",
    "SELECT\n",
    "    src_data,\n",
    "    sum(IF(max_delta_ir > 0.25, 1, 0)) AS ir_reduction,\n",
    "    count(*) AS ln_mods,\n",
    "    sum(IF(max_delta_ir > 0.25, 1, 0)) / count(*) AS ir_reduction_rate\n",
    "FROM (\n",
    "    SELECT\n",
    "        ln_id,\n",
    "        src_data,\n",
    "        ln_amort_cd,\n",
    "        arrayMap((ir, zb) -> IF(zb='!', ln_orig_ir - ir, 0.0), monthly.ir, monthly.zb_cd) AS delta_ir,\n",
    "        arrayMax(delta_ir) AS max_delta_ir\n",
    "    FROM\n",
    "        unified.frannie\n",
    "    WHERE\n",
    "        has(monthly.mod_sticky_flg, 'Y')\n",
    "        AND ln_amort_cd = 'FRM')\n",
    "GROUP BY src_data\n",
    "ORDER BY src_data\n",
    "\"\"\"\n",
    "\n",
    "dfb = chu.run_query(qry, client, return_df=True)\n",
    "dfb.head(n=1000)"
   ],
   "metadata": {
    "collapsed": false,
    "pycharm": {
     "name": "#%%\n"
    }
   }
  },
  {
   "cell_type": "markdown",
   "source": [
    "Almost all ir reductions are marked as mods\n",
    "mods involve ir reduction about 60% of the time"
   ],
   "metadata": {
    "collapsed": false,
    "pycharm": {
     "name": "#%% md\n"
    }
   }
  },
  {
   "cell_type": "markdown",
   "source": [
    "freddie/fannie comparisons"
   ],
   "metadata": {
    "collapsed": false,
    "pycharm": {
     "name": "#%% md\n"
    }
   }
  },
  {
   "cell_type": "code",
   "execution_count": 45,
   "outputs": [
    {
     "data": {
      "text/plain": "          src_data       ln_purp_cd     nl       distr  \n0                 fannie      C      13563437  27.720440\n1                 fannie      P      17538824  35.845186\n2                 fannie      R      17812585  36.404688\n3                 fannie      U         14525   0.029686\n4   freddie:non-standard      C       1284985  19.565635\n5   freddie:non-standard      P       3454285  52.596162\n6   freddie:non-standard      R       1819708  27.707516\n7   freddie:non-standard      U          8583   0.130688\n8       freddie:standard      C       9687698  25.137294\n9       freddie:standard      P      12879922  33.420363\n10      freddie:standard      R      15971525  41.442344",
      "text/html": "<div>\n<style scoped>\n    .dataframe tbody tr th:only-of-type {\n        vertical-align: middle;\n    }\n\n    .dataframe tbody tr th {\n        vertical-align: top;\n    }\n\n    .dataframe thead th {\n        text-align: right;\n    }\n</style>\n<table border=\"1\" class=\"dataframe\">\n  <thead>\n    <tr style=\"text-align: center;\">\n      <th></th>\n      <th>src_data</th>\n      <th>ln_purp_cd</th>\n      <th>nl</th>\n      <th>distr</th>\n    </tr>\n  </thead>\n  <tbody>\n    <tr>\n      <th>0</th>\n      <td>fannie</td>\n      <td>C</td>\n      <td>13563437</td>\n      <td>27.720440</td>\n    </tr>\n    <tr>\n      <th>1</th>\n      <td>fannie</td>\n      <td>P</td>\n      <td>17538824</td>\n      <td>35.845186</td>\n    </tr>\n    <tr>\n      <th>2</th>\n      <td>fannie</td>\n      <td>R</td>\n      <td>17812585</td>\n      <td>36.404688</td>\n    </tr>\n    <tr>\n      <th>3</th>\n      <td>fannie</td>\n      <td>U</td>\n      <td>14525</td>\n      <td>0.029686</td>\n    </tr>\n    <tr>\n      <th>4</th>\n      <td>freddie:non-standard</td>\n      <td>C</td>\n      <td>1284985</td>\n      <td>19.565635</td>\n    </tr>\n    <tr>\n      <th>5</th>\n      <td>freddie:non-standard</td>\n      <td>P</td>\n      <td>3454285</td>\n      <td>52.596162</td>\n    </tr>\n    <tr>\n      <th>6</th>\n      <td>freddie:non-standard</td>\n      <td>R</td>\n      <td>1819708</td>\n      <td>27.707516</td>\n    </tr>\n    <tr>\n      <th>7</th>\n      <td>freddie:non-standard</td>\n      <td>U</td>\n      <td>8583</td>\n      <td>0.130688</td>\n    </tr>\n    <tr>\n      <th>8</th>\n      <td>freddie:standard</td>\n      <td>C</td>\n      <td>9687698</td>\n      <td>25.137294</td>\n    </tr>\n    <tr>\n      <th>9</th>\n      <td>freddie:standard</td>\n      <td>P</td>\n      <td>12879922</td>\n      <td>33.420363</td>\n    </tr>\n    <tr>\n      <th>10</th>\n      <td>freddie:standard</td>\n      <td>R</td>\n      <td>15971525</td>\n      <td>41.442344</td>\n    </tr>\n  </tbody>\n</table>\n</div>"
     },
     "execution_count": 45,
     "metadata": {},
     "output_type": "execute_result"
    }
   ],
   "source": [
    "# ln_purp_cd\n",
    "qry = \\\n",
    "\"\"\"\n",
    "SELECT\n",
    "    src_data,\n",
    "    ln_purp_cd,\n",
    "    count(*) AS nl\n",
    "FROM\n",
    "    unified.frannie\n",
    "GROUP BY src_data, ln_purp_cd\n",
    "ORDER BY src_data, ln_purp_cd\n",
    "\"\"\"\n",
    "\n",
    "dfx1 = chu.run_query(qry, client, return_df=True)\n",
    "dfx1.head(n=1000)\n",
    "\n",
    "dfx = dfx1.groupby('src_data')['nl'].sum()\n",
    "dfx.rename('tots')\n",
    "dfx.name='tot'\n",
    "dfx1 = dfx1.merge(dfx, on='src_data')\n",
    "dfx1['distr'] = 100.0 * dfx1['nl'] / dfx1['tot']\n",
    "dfx1[['src_data', 'ln_purp_cd', 'nl', 'distr']].head(n=100)"
   ],
   "metadata": {
    "collapsed": false,
    "pycharm": {
     "name": "#%%\n"
    }
   }
  },
  {
   "cell_type": "code",
   "execution_count": 46,
   "outputs": [
    {
     "data": {
      "text/plain": "         src_data       ln_hrprog_flg     nl       distr  \n0                fannie        !       37651429  76.950568\n1                fannie        N       10688365  21.844477\n2                fannie        Y         589577   1.204955\n3  freddie:non-standard        H         152004   2.314467\n4  freddie:non-standard        N        6415557  97.685533\n5      freddie:standard        H         544867   1.413801\n6      freddie:standard        N       37994278  98.586199",
      "text/html": "<div>\n<style scoped>\n    .dataframe tbody tr th:only-of-type {\n        vertical-align: middle;\n    }\n\n    .dataframe tbody tr th {\n        vertical-align: top;\n    }\n\n    .dataframe thead th {\n        text-align: right;\n    }\n</style>\n<table border=\"1\" class=\"dataframe\">\n  <thead>\n    <tr style=\"text-align: center;\">\n      <th></th>\n      <th>src_data</th>\n      <th>ln_hrprog_flg</th>\n      <th>nl</th>\n      <th>distr</th>\n    </tr>\n  </thead>\n  <tbody>\n    <tr>\n      <th>0</th>\n      <td>fannie</td>\n      <td>!</td>\n      <td>37651429</td>\n      <td>76.950568</td>\n    </tr>\n    <tr>\n      <th>1</th>\n      <td>fannie</td>\n      <td>N</td>\n      <td>10688365</td>\n      <td>21.844477</td>\n    </tr>\n    <tr>\n      <th>2</th>\n      <td>fannie</td>\n      <td>Y</td>\n      <td>589577</td>\n      <td>1.204955</td>\n    </tr>\n    <tr>\n      <th>3</th>\n      <td>freddie:non-standard</td>\n      <td>H</td>\n      <td>152004</td>\n      <td>2.314467</td>\n    </tr>\n    <tr>\n      <th>4</th>\n      <td>freddie:non-standard</td>\n      <td>N</td>\n      <td>6415557</td>\n      <td>97.685533</td>\n    </tr>\n    <tr>\n      <th>5</th>\n      <td>freddie:standard</td>\n      <td>H</td>\n      <td>544867</td>\n      <td>1.413801</td>\n    </tr>\n    <tr>\n      <th>6</th>\n      <td>freddie:standard</td>\n      <td>N</td>\n      <td>37994278</td>\n      <td>98.586199</td>\n    </tr>\n  </tbody>\n</table>\n</div>"
     },
     "execution_count": 46,
     "metadata": {},
     "output_type": "execute_result"
    }
   ],
   "source": [
    "# ln_hrprog_flg\n",
    "qry = \\\n",
    "\"\"\"\n",
    "SELECT\n",
    "    src_data,\n",
    "    ln_hrprog_flg,\n",
    "    count(*) AS nl\n",
    "FROM\n",
    "    unified.frannie\n",
    "GROUP BY src_data, ln_hrprog_flg\n",
    "ORDER BY src_data, ln_hrprog_flg\n",
    "\"\"\"\n",
    "\n",
    "dfx1 = chu.run_query(qry, client, return_df=True)\n",
    "dfx1.head(n=1000)\n",
    "\n",
    "dfx = dfx1.groupby('src_data')['nl'].sum()\n",
    "dfx.rename('tots')\n",
    "dfx.name='tot'\n",
    "dfx1 = dfx1.merge(dfx, on='src_data')\n",
    "dfx1['distr'] = 100.0 * dfx1['nl'] / dfx1['tot']\n",
    "dfx1[['src_data', 'ln_hrprog_flg', 'nl', 'distr']].head(n=100)"
   ],
   "metadata": {
    "collapsed": false,
    "pycharm": {
     "name": "#%%\n"
    }
   }
  },
  {
   "cell_type": "code",
   "execution_count": 47,
   "outputs": [
    {
     "data": {
      "text/plain": "          src_data       prop_type_cd     nl       distr  \n0                 fannie      CO        3989227   8.153031\n1                 fannie      CP         216089   0.441635\n2                 fannie      MH         337740   0.690260\n3                 fannie      PU        9196313  18.795077\n4                 fannie      SF       35190002  71.919997\n5   freddie:non-standard       !             69   0.001051\n6   freddie:non-standard      CO         754873  11.493963\n7   freddie:non-standard      CP          13501   0.205571\n8   freddie:non-standard      MH          31420   0.478412\n9   freddie:non-standard      PU         988537  15.051813\n10  freddie:non-standard      SF        4779161  72.769191\n11      freddie:standard       !           1746   0.004530\n12      freddie:standard      CO        2622991   6.806044\n13      freddie:standard      CP          72257   0.187490\n14      freddie:standard      MH         188148   0.488200\n15      freddie:standard      PU        6972043  18.090809\n16      freddie:standard      SF       28681960  74.422928",
      "text/html": "<div>\n<style scoped>\n    .dataframe tbody tr th:only-of-type {\n        vertical-align: middle;\n    }\n\n    .dataframe tbody tr th {\n        vertical-align: top;\n    }\n\n    .dataframe thead th {\n        text-align: right;\n    }\n</style>\n<table border=\"1\" class=\"dataframe\">\n  <thead>\n    <tr style=\"text-align: center;\">\n      <th></th>\n      <th>src_data</th>\n      <th>prop_type_cd</th>\n      <th>nl</th>\n      <th>distr</th>\n    </tr>\n  </thead>\n  <tbody>\n    <tr>\n      <th>0</th>\n      <td>fannie</td>\n      <td>CO</td>\n      <td>3989227</td>\n      <td>8.153031</td>\n    </tr>\n    <tr>\n      <th>1</th>\n      <td>fannie</td>\n      <td>CP</td>\n      <td>216089</td>\n      <td>0.441635</td>\n    </tr>\n    <tr>\n      <th>2</th>\n      <td>fannie</td>\n      <td>MH</td>\n      <td>337740</td>\n      <td>0.690260</td>\n    </tr>\n    <tr>\n      <th>3</th>\n      <td>fannie</td>\n      <td>PU</td>\n      <td>9196313</td>\n      <td>18.795077</td>\n    </tr>\n    <tr>\n      <th>4</th>\n      <td>fannie</td>\n      <td>SF</td>\n      <td>35190002</td>\n      <td>71.919997</td>\n    </tr>\n    <tr>\n      <th>5</th>\n      <td>freddie:non-standard</td>\n      <td>!</td>\n      <td>69</td>\n      <td>0.001051</td>\n    </tr>\n    <tr>\n      <th>6</th>\n      <td>freddie:non-standard</td>\n      <td>CO</td>\n      <td>754873</td>\n      <td>11.493963</td>\n    </tr>\n    <tr>\n      <th>7</th>\n      <td>freddie:non-standard</td>\n      <td>CP</td>\n      <td>13501</td>\n      <td>0.205571</td>\n    </tr>\n    <tr>\n      <th>8</th>\n      <td>freddie:non-standard</td>\n      <td>MH</td>\n      <td>31420</td>\n      <td>0.478412</td>\n    </tr>\n    <tr>\n      <th>9</th>\n      <td>freddie:non-standard</td>\n      <td>PU</td>\n      <td>988537</td>\n      <td>15.051813</td>\n    </tr>\n    <tr>\n      <th>10</th>\n      <td>freddie:non-standard</td>\n      <td>SF</td>\n      <td>4779161</td>\n      <td>72.769191</td>\n    </tr>\n    <tr>\n      <th>11</th>\n      <td>freddie:standard</td>\n      <td>!</td>\n      <td>1746</td>\n      <td>0.004530</td>\n    </tr>\n    <tr>\n      <th>12</th>\n      <td>freddie:standard</td>\n      <td>CO</td>\n      <td>2622991</td>\n      <td>6.806044</td>\n    </tr>\n    <tr>\n      <th>13</th>\n      <td>freddie:standard</td>\n      <td>CP</td>\n      <td>72257</td>\n      <td>0.187490</td>\n    </tr>\n    <tr>\n      <th>14</th>\n      <td>freddie:standard</td>\n      <td>MH</td>\n      <td>188148</td>\n      <td>0.488200</td>\n    </tr>\n    <tr>\n      <th>15</th>\n      <td>freddie:standard</td>\n      <td>PU</td>\n      <td>6972043</td>\n      <td>18.090809</td>\n    </tr>\n    <tr>\n      <th>16</th>\n      <td>freddie:standard</td>\n      <td>SF</td>\n      <td>28681960</td>\n      <td>74.422928</td>\n    </tr>\n  </tbody>\n</table>\n</div>"
     },
     "execution_count": 47,
     "metadata": {},
     "output_type": "execute_result"
    }
   ],
   "source": [
    "\n",
    "# prop_type_cd\n",
    "qry = \\\n",
    "\"\"\"\n",
    "SELECT\n",
    "    src_data,\n",
    "    prop_type_cd,\n",
    "    count(*) AS nl\n",
    "FROM\n",
    "    unified.frannie\n",
    "GROUP BY src_data, prop_type_cd\n",
    "ORDER BY src_data, prop_type_cd\n",
    "\"\"\"\n",
    "\n",
    "dfx1 = chu.run_query(qry, client, return_df=True)\n",
    "dfx1.head(n=1000)\n",
    "\n",
    "dfx = dfx1.groupby('src_data')['nl'].sum()\n",
    "dfx.rename('tots')\n",
    "dfx.name='tot'\n",
    "dfx1 = dfx1.merge(dfx, on='src_data')\n",
    "dfx1['distr'] = 100.0 * dfx1['nl'] / dfx1['tot']\n",
    "dfx1[['src_data', 'prop_type_cd', 'nl', 'distr']].head(n=100)"
   ],
   "metadata": {
    "collapsed": false,
    "pycharm": {
     "name": "#%%\n"
    }
   }
  },
  {
   "cell_type": "code",
   "execution_count": 48,
   "outputs": [
    {
     "data": {
      "text/plain": "          src_data       prop_occ_cd     nl       distr  \n0                 fannie       I       3330499   6.806748\n1                 fannie       P      43671118  89.253381\n2                 fannie       S       1927600   3.939556\n3                 fannie       U           154   0.000315\n4   freddie:non-standard       I        329580   5.018301\n5   freddie:non-standard       P       5903110  89.882835\n6   freddie:non-standard       S        326316   4.968602\n7   freddie:non-standard       U          8555   0.130261\n8       freddie:standard       I       2129497   5.525543\n9       freddie:standard       P      34957733  90.707080\n10      freddie:standard       S       1451915   3.767377",
      "text/html": "<div>\n<style scoped>\n    .dataframe tbody tr th:only-of-type {\n        vertical-align: middle;\n    }\n\n    .dataframe tbody tr th {\n        vertical-align: top;\n    }\n\n    .dataframe thead th {\n        text-align: right;\n    }\n</style>\n<table border=\"1\" class=\"dataframe\">\n  <thead>\n    <tr style=\"text-align: center;\">\n      <th></th>\n      <th>src_data</th>\n      <th>prop_occ_cd</th>\n      <th>nl</th>\n      <th>distr</th>\n    </tr>\n  </thead>\n  <tbody>\n    <tr>\n      <th>0</th>\n      <td>fannie</td>\n      <td>I</td>\n      <td>3330499</td>\n      <td>6.806748</td>\n    </tr>\n    <tr>\n      <th>1</th>\n      <td>fannie</td>\n      <td>P</td>\n      <td>43671118</td>\n      <td>89.253381</td>\n    </tr>\n    <tr>\n      <th>2</th>\n      <td>fannie</td>\n      <td>S</td>\n      <td>1927600</td>\n      <td>3.939556</td>\n    </tr>\n    <tr>\n      <th>3</th>\n      <td>fannie</td>\n      <td>U</td>\n      <td>154</td>\n      <td>0.000315</td>\n    </tr>\n    <tr>\n      <th>4</th>\n      <td>freddie:non-standard</td>\n      <td>I</td>\n      <td>329580</td>\n      <td>5.018301</td>\n    </tr>\n    <tr>\n      <th>5</th>\n      <td>freddie:non-standard</td>\n      <td>P</td>\n      <td>5903110</td>\n      <td>89.882835</td>\n    </tr>\n    <tr>\n      <th>6</th>\n      <td>freddie:non-standard</td>\n      <td>S</td>\n      <td>326316</td>\n      <td>4.968602</td>\n    </tr>\n    <tr>\n      <th>7</th>\n      <td>freddie:non-standard</td>\n      <td>U</td>\n      <td>8555</td>\n      <td>0.130261</td>\n    </tr>\n    <tr>\n      <th>8</th>\n      <td>freddie:standard</td>\n      <td>I</td>\n      <td>2129497</td>\n      <td>5.525543</td>\n    </tr>\n    <tr>\n      <th>9</th>\n      <td>freddie:standard</td>\n      <td>P</td>\n      <td>34957733</td>\n      <td>90.707080</td>\n    </tr>\n    <tr>\n      <th>10</th>\n      <td>freddie:standard</td>\n      <td>S</td>\n      <td>1451915</td>\n      <td>3.767377</td>\n    </tr>\n  </tbody>\n</table>\n</div>"
     },
     "execution_count": 48,
     "metadata": {},
     "output_type": "execute_result"
    }
   ],
   "source": [
    "\n",
    "# prop_occ_cd\n",
    "qry = \\\n",
    "\"\"\"\n",
    "SELECT\n",
    "    src_data,\n",
    "    prop_occ_cd,\n",
    "    count(*) AS nl\n",
    "FROM\n",
    "    unified.frannie\n",
    "GROUP BY src_data, prop_occ_cd\n",
    "ORDER BY src_data, prop_occ_cd\n",
    "\"\"\"\n",
    "\n",
    "dfx1 = chu.run_query(qry, client, return_df=True)\n",
    "dfx1.head(n=1000)\n",
    "\n",
    "dfx = dfx1.groupby('src_data')['nl'].sum()\n",
    "dfx.rename('tots')\n",
    "dfx.name='tot'\n",
    "dfx1 = dfx1.merge(dfx, on='src_data')\n",
    "dfx1['distr'] = 100.0 * dfx1['nl'] / dfx1['tot']\n",
    "dfx1[['src_data', 'prop_occ_cd', 'nl', 'distr']].head(n=100)"
   ],
   "metadata": {
    "collapsed": false,
    "pycharm": {
     "name": "#%%\n"
    }
   }
  },
  {
   "cell_type": "code",
   "execution_count": 49,
   "outputs": [
    {
     "data": {
      "text/plain": "         src_data        min_ln_orig_ltv_  avg_ln_orig_ltv_  max_ln_orig_ltv_\n0                fannie          1             71.211866            999      \n1  freddie:non-standard          5             76.806368            145      \n2      freddie:standard          1             70.777542            809      ",
      "text/html": "<div>\n<style scoped>\n    .dataframe tbody tr th:only-of-type {\n        vertical-align: middle;\n    }\n\n    .dataframe tbody tr th {\n        vertical-align: top;\n    }\n\n    .dataframe thead th {\n        text-align: right;\n    }\n</style>\n<table border=\"1\" class=\"dataframe\">\n  <thead>\n    <tr style=\"text-align: center;\">\n      <th></th>\n      <th>src_data</th>\n      <th>min_ln_orig_ltv_</th>\n      <th>avg_ln_orig_ltv_</th>\n      <th>max_ln_orig_ltv_</th>\n    </tr>\n  </thead>\n  <tbody>\n    <tr>\n      <th>0</th>\n      <td>fannie</td>\n      <td>1</td>\n      <td>71.211866</td>\n      <td>999</td>\n    </tr>\n    <tr>\n      <th>1</th>\n      <td>freddie:non-standard</td>\n      <td>5</td>\n      <td>76.806368</td>\n      <td>145</td>\n    </tr>\n    <tr>\n      <th>2</th>\n      <td>freddie:standard</td>\n      <td>1</td>\n      <td>70.777542</td>\n      <td>809</td>\n    </tr>\n  </tbody>\n</table>\n</div>"
     },
     "execution_count": 49,
     "metadata": {},
     "output_type": "execute_result"
    }
   ],
   "source": [
    "\n",
    "\n",
    "# ln_orig_ltv\n",
    "qry = \\\n",
    "\"\"\"\n",
    "SELECT\n",
    "    src_data,\n",
    "    min(ln_orig_ltv),\n",
    "    avg(ln_orig_ltv),\n",
    "    max(ln_orig_ltv)\n",
    "FROM\n",
    "    unified.frannie\n",
    "WHERE\n",
    "    ln_orig_ltv > 0\n",
    "GROUP BY src_data\n",
    "ORDER BY src_data\n",
    "\"\"\"\n",
    "\n",
    "dfx1 = chu.run_query(qry, client, return_df=True)\n",
    "dfx1.head(n=1000)"
   ],
   "metadata": {
    "collapsed": false,
    "pycharm": {
     "name": "#%%\n"
    }
   }
  },
  {
   "cell_type": "code",
   "execution_count": 50,
   "outputs": [
    {
     "data": {
      "text/plain": "         src_data        min_ln_orig_cltv_  avg_ln_orig_cltv_  max_ln_orig_cltv_\n0                fannie          1              72.034021             999       \n1  freddie:non-standard          5              78.502685             401       \n2      freddie:standard          1              72.000797             899       ",
      "text/html": "<div>\n<style scoped>\n    .dataframe tbody tr th:only-of-type {\n        vertical-align: middle;\n    }\n\n    .dataframe tbody tr th {\n        vertical-align: top;\n    }\n\n    .dataframe thead th {\n        text-align: right;\n    }\n</style>\n<table border=\"1\" class=\"dataframe\">\n  <thead>\n    <tr style=\"text-align: center;\">\n      <th></th>\n      <th>src_data</th>\n      <th>min_ln_orig_cltv_</th>\n      <th>avg_ln_orig_cltv_</th>\n      <th>max_ln_orig_cltv_</th>\n    </tr>\n  </thead>\n  <tbody>\n    <tr>\n      <th>0</th>\n      <td>fannie</td>\n      <td>1</td>\n      <td>72.034021</td>\n      <td>999</td>\n    </tr>\n    <tr>\n      <th>1</th>\n      <td>freddie:non-standard</td>\n      <td>5</td>\n      <td>78.502685</td>\n      <td>401</td>\n    </tr>\n    <tr>\n      <th>2</th>\n      <td>freddie:standard</td>\n      <td>1</td>\n      <td>72.000797</td>\n      <td>899</td>\n    </tr>\n  </tbody>\n</table>\n</div>"
     },
     "execution_count": 50,
     "metadata": {},
     "output_type": "execute_result"
    }
   ],
   "source": [
    "\n",
    "\n",
    "# ln_orig_cltv\n",
    "qry = \\\n",
    "\"\"\"\n",
    "SELECT\n",
    "    src_data,\n",
    "    min(ln_orig_cltv),\n",
    "    avg(ln_orig_cltv),\n",
    "    max(ln_orig_cltv)\n",
    "FROM\n",
    "    unified.frannie\n",
    "WHERE\n",
    "    ln_orig_cltv > 0\n",
    "GROUP BY src_data\n",
    "ORDER BY src_data\n",
    "\"\"\"\n",
    "\n",
    "dfx1 = chu.run_query(qry, client, return_df=True)\n",
    "dfx1.head(n=1000)"
   ],
   "metadata": {
    "collapsed": false,
    "pycharm": {
     "name": "#%%\n"
    }
   }
  },
  {
   "cell_type": "code",
   "execution_count": 51,
   "outputs": [
    {
     "data": {
      "text/plain": "         src_data        min_borr_orig_fico_  avg_borr_orig_fico_  max_borr_orig_fico_\n0                fannie          300              745.126012               850        \n1  freddie:non-standard          300              720.790632               850        \n2      freddie:standard          300              741.210257               850        ",
      "text/html": "<div>\n<style scoped>\n    .dataframe tbody tr th:only-of-type {\n        vertical-align: middle;\n    }\n\n    .dataframe tbody tr th {\n        vertical-align: top;\n    }\n\n    .dataframe thead th {\n        text-align: right;\n    }\n</style>\n<table border=\"1\" class=\"dataframe\">\n  <thead>\n    <tr style=\"text-align: center;\">\n      <th></th>\n      <th>src_data</th>\n      <th>min_borr_orig_fico_</th>\n      <th>avg_borr_orig_fico_</th>\n      <th>max_borr_orig_fico_</th>\n    </tr>\n  </thead>\n  <tbody>\n    <tr>\n      <th>0</th>\n      <td>fannie</td>\n      <td>300</td>\n      <td>745.126012</td>\n      <td>850</td>\n    </tr>\n    <tr>\n      <th>1</th>\n      <td>freddie:non-standard</td>\n      <td>300</td>\n      <td>720.790632</td>\n      <td>850</td>\n    </tr>\n    <tr>\n      <th>2</th>\n      <td>freddie:standard</td>\n      <td>300</td>\n      <td>741.210257</td>\n      <td>850</td>\n    </tr>\n  </tbody>\n</table>\n</div>"
     },
     "execution_count": 51,
     "metadata": {},
     "output_type": "execute_result"
    }
   ],
   "source": [
    "\n",
    "\n",
    "# borr_orig_fico\n",
    "qry = \\\n",
    "\"\"\"\n",
    "SELECT\n",
    "    src_data,\n",
    "    min(borr_orig_fico),\n",
    "    avg(borr_orig_fico),\n",
    "    max(borr_orig_fico)\n",
    "FROM\n",
    "    unified.frannie\n",
    "WHERE\n",
    "    borr_orig_fico > 0\n",
    "GROUP BY src_data\n",
    "ORDER BY src_data\n",
    "\"\"\"\n",
    "\n",
    "dfx1 = chu.run_query(qry, client, return_df=True)\n",
    "dfx1.head(n=1000)"
   ],
   "metadata": {
    "collapsed": false,
    "pycharm": {
     "name": "#%%\n"
    }
   }
  },
  {
   "cell_type": "code",
   "execution_count": 52,
   "outputs": [
    {
     "data": {
      "text/plain": "         src_data        min_borr_dti_  avg_borr_dti_  max_borr_dti_\n0                fannie        1          33.504046         64      \n1  freddie:non-standard        1          34.439928         65      \n2      freddie:standard        1          33.015878         65      ",
      "text/html": "<div>\n<style scoped>\n    .dataframe tbody tr th:only-of-type {\n        vertical-align: middle;\n    }\n\n    .dataframe tbody tr th {\n        vertical-align: top;\n    }\n\n    .dataframe thead th {\n        text-align: right;\n    }\n</style>\n<table border=\"1\" class=\"dataframe\">\n  <thead>\n    <tr style=\"text-align: center;\">\n      <th></th>\n      <th>src_data</th>\n      <th>min_borr_dti_</th>\n      <th>avg_borr_dti_</th>\n      <th>max_borr_dti_</th>\n    </tr>\n  </thead>\n  <tbody>\n    <tr>\n      <th>0</th>\n      <td>fannie</td>\n      <td>1</td>\n      <td>33.504046</td>\n      <td>64</td>\n    </tr>\n    <tr>\n      <th>1</th>\n      <td>freddie:non-standard</td>\n      <td>1</td>\n      <td>34.439928</td>\n      <td>65</td>\n    </tr>\n    <tr>\n      <th>2</th>\n      <td>freddie:standard</td>\n      <td>1</td>\n      <td>33.015878</td>\n      <td>65</td>\n    </tr>\n  </tbody>\n</table>\n</div>"
     },
     "execution_count": 52,
     "metadata": {},
     "output_type": "execute_result"
    }
   ],
   "source": [
    "# borr_dti\n",
    "qry = \\\n",
    "\"\"\"\n",
    "SELECT\n",
    "    src_data,\n",
    "    min(borr_dti),\n",
    "    avg(borr_dti),\n",
    "    max(borr_dti)\n",
    "FROM\n",
    "    unified.frannie\n",
    "WHERE\n",
    "    borr_dti > 0\n",
    "GROUP BY src_data\n",
    "ORDER BY src_data\n",
    "\"\"\"\n",
    "\n",
    "dfx1 = chu.run_query(qry, client, return_df=True)\n",
    "dfx1.head(n=1000)"
   ],
   "metadata": {
    "collapsed": false,
    "pycharm": {
     "name": "#%%\n"
    }
   }
  },
  {
   "cell_type": "code",
   "execution_count": 53,
   "outputs": [
    {
     "data": {
      "text/plain": "         src_data        min_ln_orig_prin_  avg_ln_orig_prin_  max_ln_orig_prin_\n0                fannie       1000.0          202958.224519        1473000.0    \n1  freddie:non-standard       1000.0          187646.641729        1387000.0    \n2      freddie:standard       1000.0          192674.690059        1473000.0    ",
      "text/html": "<div>\n<style scoped>\n    .dataframe tbody tr th:only-of-type {\n        vertical-align: middle;\n    }\n\n    .dataframe tbody tr th {\n        vertical-align: top;\n    }\n\n    .dataframe thead th {\n        text-align: right;\n    }\n</style>\n<table border=\"1\" class=\"dataframe\">\n  <thead>\n    <tr style=\"text-align: center;\">\n      <th></th>\n      <th>src_data</th>\n      <th>min_ln_orig_prin_</th>\n      <th>avg_ln_orig_prin_</th>\n      <th>max_ln_orig_prin_</th>\n    </tr>\n  </thead>\n  <tbody>\n    <tr>\n      <th>0</th>\n      <td>fannie</td>\n      <td>1000.0</td>\n      <td>202958.224519</td>\n      <td>1473000.0</td>\n    </tr>\n    <tr>\n      <th>1</th>\n      <td>freddie:non-standard</td>\n      <td>1000.0</td>\n      <td>187646.641729</td>\n      <td>1387000.0</td>\n    </tr>\n    <tr>\n      <th>2</th>\n      <td>freddie:standard</td>\n      <td>1000.0</td>\n      <td>192674.690059</td>\n      <td>1473000.0</td>\n    </tr>\n  </tbody>\n</table>\n</div>"
     },
     "execution_count": 53,
     "metadata": {},
     "output_type": "execute_result"
    }
   ],
   "source": [
    "# ln_orig_prin\n",
    "qry = \\\n",
    "\"\"\"\n",
    "SELECT\n",
    "    src_data,\n",
    "    min(ln_orig_prin),\n",
    "    avg(ln_orig_prin),\n",
    "    max(ln_orig_prin)\n",
    "FROM\n",
    "    unified.frannie\n",
    "WHERE\n",
    "    ln_orig_prin > 0\n",
    "GROUP BY src_data\n",
    "ORDER BY src_data\n",
    "\"\"\"\n",
    "\n",
    "dfx1 = chu.run_query(qry, client, return_df=True)\n",
    "dfx1.head(n=1000)"
   ],
   "metadata": {
    "collapsed": false,
    "pycharm": {
     "name": "#%%\n"
    }
   }
  },
  {
   "cell_type": "code",
   "execution_count": 54,
   "outputs": [
    {
     "data": {
      "text/plain": "         src_data        min_ln_orig_ir_  avg_ln_orig_ir_  max_ln_orig_ir_\n0                fannie       1.75           4.965874           16.50     \n1  freddie:non-standard       0.50           6.015233           14.05     \n2      freddie:standard       1.75           5.091005           13.95     ",
      "text/html": "<div>\n<style scoped>\n    .dataframe tbody tr th:only-of-type {\n        vertical-align: middle;\n    }\n\n    .dataframe tbody tr th {\n        vertical-align: top;\n    }\n\n    .dataframe thead th {\n        text-align: right;\n    }\n</style>\n<table border=\"1\" class=\"dataframe\">\n  <thead>\n    <tr style=\"text-align: center;\">\n      <th></th>\n      <th>src_data</th>\n      <th>min_ln_orig_ir_</th>\n      <th>avg_ln_orig_ir_</th>\n      <th>max_ln_orig_ir_</th>\n    </tr>\n  </thead>\n  <tbody>\n    <tr>\n      <th>0</th>\n      <td>fannie</td>\n      <td>1.75</td>\n      <td>4.965874</td>\n      <td>16.50</td>\n    </tr>\n    <tr>\n      <th>1</th>\n      <td>freddie:non-standard</td>\n      <td>0.50</td>\n      <td>6.015233</td>\n      <td>14.05</td>\n    </tr>\n    <tr>\n      <th>2</th>\n      <td>freddie:standard</td>\n      <td>1.75</td>\n      <td>5.091005</td>\n      <td>13.95</td>\n    </tr>\n  </tbody>\n</table>\n</div>"
     },
     "execution_count": 54,
     "metadata": {},
     "output_type": "execute_result"
    }
   ],
   "source": [
    "# ln_orig_ir\n",
    "qry = \\\n",
    "\"\"\"\n",
    "SELECT\n",
    "    src_data,\n",
    "    min(ln_orig_ir),\n",
    "    avg(ln_orig_ir),\n",
    "    max(ln_orig_ir)\n",
    "FROM\n",
    "    unified.frannie\n",
    "WHERE\n",
    "    ln_orig_ir > 0\n",
    "GROUP BY src_data\n",
    "ORDER BY src_data\n",
    "\"\"\"\n",
    "\n",
    "dfx1 = chu.run_query(qry, client, return_df=True)\n",
    "dfx1.head(n=1000)"
   ],
   "metadata": {
    "collapsed": false,
    "pycharm": {
     "name": "#%%\n"
    }
   }
  },
  {
   "cell_type": "code",
   "execution_count": 55,
   "outputs": [
    {
     "data": {
      "text/plain": "         src_data        min_ln_mi_pct_  avg_ln_mi_pct_  max_ln_mi_pct_\n0                fannie       0.12          24.026512         65.0     \n1  freddie:non-standard       1.00          25.300741         53.0     \n2      freddie:standard       1.00          24.069388         54.0     ",
      "text/html": "<div>\n<style scoped>\n    .dataframe tbody tr th:only-of-type {\n        vertical-align: middle;\n    }\n\n    .dataframe tbody tr th {\n        vertical-align: top;\n    }\n\n    .dataframe thead th {\n        text-align: right;\n    }\n</style>\n<table border=\"1\" class=\"dataframe\">\n  <thead>\n    <tr style=\"text-align: center;\">\n      <th></th>\n      <th>src_data</th>\n      <th>min_ln_mi_pct_</th>\n      <th>avg_ln_mi_pct_</th>\n      <th>max_ln_mi_pct_</th>\n    </tr>\n  </thead>\n  <tbody>\n    <tr>\n      <th>0</th>\n      <td>fannie</td>\n      <td>0.12</td>\n      <td>24.026512</td>\n      <td>65.0</td>\n    </tr>\n    <tr>\n      <th>1</th>\n      <td>freddie:non-standard</td>\n      <td>1.00</td>\n      <td>25.300741</td>\n      <td>53.0</td>\n    </tr>\n    <tr>\n      <th>2</th>\n      <td>freddie:standard</td>\n      <td>1.00</td>\n      <td>24.069388</td>\n      <td>54.0</td>\n    </tr>\n  </tbody>\n</table>\n</div>"
     },
     "execution_count": 55,
     "metadata": {},
     "output_type": "execute_result"
    }
   ],
   "source": [
    "# ln_mi_pct\n",
    "qry = \\\n",
    "\"\"\"\n",
    "SELECT\n",
    "    src_data,\n",
    "    min(ln_mi_pct),\n",
    "    avg(ln_mi_pct),\n",
    "    max(ln_mi_pct)\n",
    "FROM\n",
    "    unified.frannie\n",
    "WHERE\n",
    "    ln_mi_pct > 0\n",
    "GROUP BY src_data\n",
    "ORDER BY src_data\n",
    "\"\"\"\n",
    "\n",
    "dfx1 = chu.run_query(qry, client, return_df=True)\n",
    "dfx1.head(n=1000)"
   ],
   "metadata": {
    "collapsed": false,
    "pycharm": {
     "name": "#%%\n"
    }
   }
  },
  {
   "cell_type": "code",
   "execution_count": 57,
   "outputs": [
    {
     "data": {
      "text/plain": "         src_data          nl    min_ln_defrl_amt_  avg_ln_defrl_amt_  max_ln_defrl_amt_\n0                fannie  210800     119.580002         6707.312578        70043.328125  \n1  freddie:non-standard   88241       0.010000        48999.011408       527100.000000  \n2      freddie:standard  268046       6.000000        17445.250117       501884.343750  ",
      "text/html": "<div>\n<style scoped>\n    .dataframe tbody tr th:only-of-type {\n        vertical-align: middle;\n    }\n\n    .dataframe tbody tr th {\n        vertical-align: top;\n    }\n\n    .dataframe thead th {\n        text-align: right;\n    }\n</style>\n<table border=\"1\" class=\"dataframe\">\n  <thead>\n    <tr style=\"text-align: center;\">\n      <th></th>\n      <th>src_data</th>\n      <th>nl</th>\n      <th>min_ln_defrl_amt_</th>\n      <th>avg_ln_defrl_amt_</th>\n      <th>max_ln_defrl_amt_</th>\n    </tr>\n  </thead>\n  <tbody>\n    <tr>\n      <th>0</th>\n      <td>fannie</td>\n      <td>210800</td>\n      <td>119.580002</td>\n      <td>6707.312578</td>\n      <td>70043.328125</td>\n    </tr>\n    <tr>\n      <th>1</th>\n      <td>freddie:non-standard</td>\n      <td>88241</td>\n      <td>0.010000</td>\n      <td>48999.011408</td>\n      <td>527100.000000</td>\n    </tr>\n    <tr>\n      <th>2</th>\n      <td>freddie:standard</td>\n      <td>268046</td>\n      <td>6.000000</td>\n      <td>17445.250117</td>\n      <td>501884.343750</td>\n    </tr>\n  </tbody>\n</table>\n</div>"
     },
     "execution_count": 57,
     "metadata": {},
     "output_type": "execute_result"
    }
   ],
   "source": [
    "\n",
    "# ln_defrl_amt\n",
    "qry = \\\n",
    "\"\"\"\n",
    "SELECT\n",
    "    src_data,\n",
    "    count(*) as nl,\n",
    "    min(ln_defrl_amt),\n",
    "    avg(ln_defrl_amt),\n",
    "    max(ln_defrl_amt)\n",
    "FROM\n",
    "    unified.frannie\n",
    "WHERE\n",
    "    ln_defrl_amt > 0\n",
    "GROUP BY src_data\n",
    "ORDER BY src_data\n",
    "\"\"\"\n",
    "\n",
    "dfx1 = chu.run_query(qry, client, return_df=True)\n",
    "dfx1.head(n=1000)"
   ],
   "metadata": {
    "collapsed": false,
    "pycharm": {
     "name": "#%%\n"
    }
   }
  },
  {
   "cell_type": "code",
   "execution_count": 59,
   "outputs": [
    {
     "data": {
      "text/plain": "         src_data        forbearance  payplan    nl  \n0                fannie    209495       2293   210800\n1  freddie:non-standard     20354       9466    88241\n2      freddie:standard    186219      16842   268046",
      "text/html": "<div>\n<style scoped>\n    .dataframe tbody tr th:only-of-type {\n        vertical-align: middle;\n    }\n\n    .dataframe tbody tr th {\n        vertical-align: top;\n    }\n\n    .dataframe thead th {\n        text-align: right;\n    }\n</style>\n<table border=\"1\" class=\"dataframe\">\n  <thead>\n    <tr style=\"text-align: center;\">\n      <th></th>\n      <th>src_data</th>\n      <th>forbearance</th>\n      <th>payplan</th>\n      <th>nl</th>\n    </tr>\n  </thead>\n  <tbody>\n    <tr>\n      <th>0</th>\n      <td>fannie</td>\n      <td>209495</td>\n      <td>2293</td>\n      <td>210800</td>\n    </tr>\n    <tr>\n      <th>1</th>\n      <td>freddie:non-standard</td>\n      <td>20354</td>\n      <td>9466</td>\n      <td>88241</td>\n    </tr>\n    <tr>\n      <th>2</th>\n      <td>freddie:standard</td>\n      <td>186219</td>\n      <td>16842</td>\n      <td>268046</td>\n    </tr>\n  </tbody>\n</table>\n</div>"
     },
     "execution_count": 59,
     "metadata": {},
     "output_type": "execute_result"
    }
   ],
   "source": [
    "\n",
    "\n",
    "# ln_defrl_amt\n",
    "qry = \\\n",
    "\"\"\"\n",
    "SELECT\n",
    "    src_data,\n",
    "    sum(IF(has(monthly.borr_asst_plan, 'F'), 1, 0)) AS forbearance,\n",
    "    sum(IF(has(monthly.borr_asst_plan, 'R'), 1, 0)) AS payplan,\n",
    "    count(*) AS nl\n",
    "FROM\n",
    "    unified.frannie\n",
    "WHERE\n",
    "    ln_defrl_amt > 0\n",
    "GROUP BY src_data\n",
    "ORDER BY src_data\n",
    "\"\"\"\n",
    "\n",
    "dfx1 = chu.run_query(qry, client, return_df=True)\n",
    "dfx1.head(n=1000)"
   ],
   "metadata": {
    "collapsed": false,
    "pycharm": {
     "name": "#%%\n"
    }
   }
  }
 ],
 "metadata": {
  "kernelspec": {
   "display_name": "Python 3",
   "language": "python",
   "name": "python3"
  },
  "language_info": {
   "codemirror_mode": {
    "name": "ipython",
    "version": 2
   },
   "file_extension": ".py",
   "mimetype": "text/x-python",
   "name": "python",
   "nbconvert_exporter": "python",
   "pygments_lexer": "ipython2",
   "version": "2.7.6"
  }
 },
 "nbformat": 4,
 "nbformat_minor": 0
}