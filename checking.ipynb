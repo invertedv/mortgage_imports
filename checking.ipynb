{
 "cells": [
  {
   "cell_type": "markdown",
   "metadata": {
    "collapsed": true,
    "pycharm": {
     "name": "#%% md\n"
    }
   },
   "source": [
    "## investigations\n",
    "Conclusions on mods:\n",
    "\n",
    "- Freddie data only flags mod on the month it occurs, Fannie keeps the flag for the duration of the mod.\n",
    "- The mod_sticky_flg unifies the data: it is always Y after a mod\n",
    "- Mods have significant prior dq\n",
    "\n",
    "Conclusions on borr_asst_plan:\n",
    "\n",
    "- Flags are sticky\n",
    "- Can have multiple episodes of plans\n",
    "- Some but not a lot of overlap with mods\n",
    "- F: most were had at most months_dq=1\n",
    "- R: most were 1+ months_dq prior, mostly used by Freddie\n",
    "- Tend to be short term in nature\n",
    "- Fannie only reporting since 7/2020\n",
    "\n",
    "Conclusions on interest rate reductions:\n",
    "\n",
    "- Almost all ir reductions are marked as mods\n",
    "- mods involve ir reduction about 60% of the time\n",
    "\n",
    "Conclusions on Deferrals\n",
    "\n",
    "- Fannie started reporting 7/2020. Freddie goes back in time.\n",
    "- Some overlap with borr_asst_plan when defrl_amt > 0 first time"
   ]
  },
  {
   "cell_type": "code",
   "source": [
    "import mortgage_imports.clickhouse_utilities as cu\n",
    "import pandas as pd\n",
    "import numpy as np\n",
    "from muti import chu"
   ],
   "metadata": {
    "collapsed": false,
    "pycharm": {
     "name": "#%%\n"
    }
   },
   "execution_count": 57,
   "outputs": []
  },
  {
   "cell_type": "code",
   "execution_count": 58,
   "outputs": [],
   "source": [
    "# pandas options\n",
    "pd.set_option('display.max_columns', None)\n",
    "pd.set_option('display.width', 1000)\n",
    "pd.set_option('display.colheader_justify', 'center')\n",
    "pd.set_option('display.max_rows', 1000)\n",
    "client = chu.make_connection()"
   ],
   "metadata": {
    "collapsed": false,
    "pycharm": {
     "name": "#%%\n"
    }
   }
  },
  {
   "cell_type": "code",
   "execution_count": 59,
   "outputs": [
    {
     "data": {
      "text/plain": "          src_data       mf msf    ln_mon  \n0                 fannie  !   !    33987606\n1                 fannie  !   Y      368597\n2                 fannie  N   N  2386167365\n3                 fannie  N   Y       96590\n4                 fannie  Y   Y    38026197\n5   freddie:non-standard  N   N   329102871\n6   freddie:non-standard  N   Y    16940777\n7   freddie:non-standard  Y   Y      307970\n8       freddie:standard  N   N  2002063990\n9       freddie:standard  N   Y    25872646\n10      freddie:standard  Y   Y      511910",
      "text/html": "<div>\n<style scoped>\n    .dataframe tbody tr th:only-of-type {\n        vertical-align: middle;\n    }\n\n    .dataframe tbody tr th {\n        vertical-align: top;\n    }\n\n    .dataframe thead th {\n        text-align: right;\n    }\n</style>\n<table border=\"1\" class=\"dataframe\">\n  <thead>\n    <tr style=\"text-align: center;\">\n      <th></th>\n      <th>src_data</th>\n      <th>mf</th>\n      <th>msf</th>\n      <th>ln_mon</th>\n    </tr>\n  </thead>\n  <tbody>\n    <tr>\n      <th>0</th>\n      <td>fannie</td>\n      <td>!</td>\n      <td>!</td>\n      <td>33987606</td>\n    </tr>\n    <tr>\n      <th>1</th>\n      <td>fannie</td>\n      <td>!</td>\n      <td>Y</td>\n      <td>368597</td>\n    </tr>\n    <tr>\n      <th>2</th>\n      <td>fannie</td>\n      <td>N</td>\n      <td>N</td>\n      <td>2386167365</td>\n    </tr>\n    <tr>\n      <th>3</th>\n      <td>fannie</td>\n      <td>N</td>\n      <td>Y</td>\n      <td>96590</td>\n    </tr>\n    <tr>\n      <th>4</th>\n      <td>fannie</td>\n      <td>Y</td>\n      <td>Y</td>\n      <td>38026197</td>\n    </tr>\n    <tr>\n      <th>5</th>\n      <td>freddie:non-standard</td>\n      <td>N</td>\n      <td>N</td>\n      <td>329102871</td>\n    </tr>\n    <tr>\n      <th>6</th>\n      <td>freddie:non-standard</td>\n      <td>N</td>\n      <td>Y</td>\n      <td>16940777</td>\n    </tr>\n    <tr>\n      <th>7</th>\n      <td>freddie:non-standard</td>\n      <td>Y</td>\n      <td>Y</td>\n      <td>307970</td>\n    </tr>\n    <tr>\n      <th>8</th>\n      <td>freddie:standard</td>\n      <td>N</td>\n      <td>N</td>\n      <td>2002063990</td>\n    </tr>\n    <tr>\n      <th>9</th>\n      <td>freddie:standard</td>\n      <td>N</td>\n      <td>Y</td>\n      <td>25872646</td>\n    </tr>\n    <tr>\n      <th>10</th>\n      <td>freddie:standard</td>\n      <td>Y</td>\n      <td>Y</td>\n      <td>511910</td>\n    </tr>\n  </tbody>\n</table>\n</div>"
     },
     "execution_count": 59,
     "metadata": {},
     "output_type": "execute_result"
    }
   ],
   "source": [
    "qry = \\\n",
    "\"\"\"\n",
    "SELECT\n",
    "    src_data,\n",
    "    m.mod_flg AS mf,\n",
    "    m.mod_sticky_flg AS msf,\n",
    "    COUNT(*) AS ln_mon\n",
    "FROM\n",
    "    unified.frannie ARRAY JOIN monthly AS m\n",
    "GROUP BY\n",
    "  src_data,\n",
    "  mf,\n",
    "  msf\n",
    "ORDER BY\n",
    "  src_data,\n",
    "  mf,\n",
    "  msf;\n",
    "\"\"\"\n",
    "\n",
    "df1 = chu.run_query(qry, client, return_df=True)\n",
    "df1.head(n=100)"
   ],
   "metadata": {
    "collapsed": false,
    "pycharm": {
     "name": "#%%\n"
    }
   }
  },
  {
   "cell_type": "code",
   "execution_count": 60,
   "outputs": [
    {
     "data": {
      "text/plain": "          src_data        prior_dq    nl  \n0                 fannie      0        599\n1                 fannie      1       3064\n2                 fannie      2      18248\n3                 fannie      3      45688\n4                 fannie      4      74425\n5                 fannie      5      82729\n6                 fannie      6     368971\n7   freddie:non-standard      0       1102\n8   freddie:non-standard      1       5397\n9   freddie:non-standard      2      11783\n10  freddie:non-standard      3      19447\n11  freddie:non-standard      4      25525\n12  freddie:non-standard      5      27451\n13  freddie:non-standard      6     163025\n14      freddie:standard      0       1611\n15      freddie:standard      1       9045\n16      freddie:standard      2      20171\n17      freddie:standard      3      36163\n18      freddie:standard      4      49966\n19      freddie:standard      5      57702\n20      freddie:standard      6     260109",
      "text/html": "<div>\n<style scoped>\n    .dataframe tbody tr th:only-of-type {\n        vertical-align: middle;\n    }\n\n    .dataframe tbody tr th {\n        vertical-align: top;\n    }\n\n    .dataframe thead th {\n        text-align: right;\n    }\n</style>\n<table border=\"1\" class=\"dataframe\">\n  <thead>\n    <tr style=\"text-align: center;\">\n      <th></th>\n      <th>src_data</th>\n      <th>prior_dq</th>\n      <th>nl</th>\n    </tr>\n  </thead>\n  <tbody>\n    <tr>\n      <th>0</th>\n      <td>fannie</td>\n      <td>0</td>\n      <td>599</td>\n    </tr>\n    <tr>\n      <th>1</th>\n      <td>fannie</td>\n      <td>1</td>\n      <td>3064</td>\n    </tr>\n    <tr>\n      <th>2</th>\n      <td>fannie</td>\n      <td>2</td>\n      <td>18248</td>\n    </tr>\n    <tr>\n      <th>3</th>\n      <td>fannie</td>\n      <td>3</td>\n      <td>45688</td>\n    </tr>\n    <tr>\n      <th>4</th>\n      <td>fannie</td>\n      <td>4</td>\n      <td>74425</td>\n    </tr>\n    <tr>\n      <th>5</th>\n      <td>fannie</td>\n      <td>5</td>\n      <td>82729</td>\n    </tr>\n    <tr>\n      <th>6</th>\n      <td>fannie</td>\n      <td>6</td>\n      <td>368971</td>\n    </tr>\n    <tr>\n      <th>7</th>\n      <td>freddie:non-standard</td>\n      <td>0</td>\n      <td>1102</td>\n    </tr>\n    <tr>\n      <th>8</th>\n      <td>freddie:non-standard</td>\n      <td>1</td>\n      <td>5397</td>\n    </tr>\n    <tr>\n      <th>9</th>\n      <td>freddie:non-standard</td>\n      <td>2</td>\n      <td>11783</td>\n    </tr>\n    <tr>\n      <th>10</th>\n      <td>freddie:non-standard</td>\n      <td>3</td>\n      <td>19447</td>\n    </tr>\n    <tr>\n      <th>11</th>\n      <td>freddie:non-standard</td>\n      <td>4</td>\n      <td>25525</td>\n    </tr>\n    <tr>\n      <th>12</th>\n      <td>freddie:non-standard</td>\n      <td>5</td>\n      <td>27451</td>\n    </tr>\n    <tr>\n      <th>13</th>\n      <td>freddie:non-standard</td>\n      <td>6</td>\n      <td>163025</td>\n    </tr>\n    <tr>\n      <th>14</th>\n      <td>freddie:standard</td>\n      <td>0</td>\n      <td>1611</td>\n    </tr>\n    <tr>\n      <th>15</th>\n      <td>freddie:standard</td>\n      <td>1</td>\n      <td>9045</td>\n    </tr>\n    <tr>\n      <th>16</th>\n      <td>freddie:standard</td>\n      <td>2</td>\n      <td>20171</td>\n    </tr>\n    <tr>\n      <th>17</th>\n      <td>freddie:standard</td>\n      <td>3</td>\n      <td>36163</td>\n    </tr>\n    <tr>\n      <th>18</th>\n      <td>freddie:standard</td>\n      <td>4</td>\n      <td>49966</td>\n    </tr>\n    <tr>\n      <th>19</th>\n      <td>freddie:standard</td>\n      <td>5</td>\n      <td>57702</td>\n    </tr>\n    <tr>\n      <th>20</th>\n      <td>freddie:standard</td>\n      <td>6</td>\n      <td>260109</td>\n    </tr>\n  </tbody>\n</table>\n</div>"
     },
     "execution_count": 60,
     "metadata": {},
     "output_type": "execute_result"
    }
   ],
   "source": [
    "# look at relations between mod_flg and dq on that date and max prior dq\n",
    "# most frequently they are reset to current at the mod date and were 6+ months dq prior\n",
    "qry = \\\n",
    "\"\"\"\n",
    "SELECT\n",
    "  src_data,\n",
    "  prior_dq > 6 ? 6 : prior_dq AS prior_dq,\n",
    "  count(*) AS nl\n",
    "FROM (\n",
    "    SELECT\n",
    "        src_data,\n",
    "        arrayMax(arraySlice(monthly.months_dq, 1, indexOf(monthly.mod_flg, 'Y'))) AS prior_dq\n",
    "    FROM\n",
    "        unified.frannie\n",
    "    WHERE\n",
    "        has(monthly.mod_flg, 'Y'))\n",
    "GROUP BY src_data, prior_dq\n",
    "ORDER BY src_data, prior_dq\n",
    "\"\"\"\n",
    "\n",
    "df2 = chu.run_query(qry, client, return_df=True)\n",
    "df2.head(n=1000)"
   ],
   "metadata": {
    "collapsed": false,
    "pycharm": {
     "name": "#%%\n"
    }
   }
  },
  {
   "cell_type": "markdown",
   "source": [
    "you can see that the effect of the sticky mod flag--little effect on Fannie, big effect of Freddie\n",
    "where the flag only appears on the month of the mod\n",
    "\n",
    "modded loans tend to be very dq in their history"
   ],
   "metadata": {
    "collapsed": false,
    "pycharm": {
     "name": "#%% md\n"
    }
   }
  },
  {
   "cell_type": "code",
   "execution_count": 61,
   "outputs": [
    {
     "data": {
      "text/plain": "          src_data       bap mf msf    ln_mon  \n0                 fannie   !  !   !    30623409\n2                 fannie   !  !   Y      333358\n4                 fannie   !  N   N  2250206298\n10                fannie   !  N   Y       77256\n16                fannie   !  Y   Y    35892258\n1                 fannie   7  !   !     3364197\n3                 fannie   7  !   Y       35239\n5                 fannie   7  N   N   129464692\n11                fannie   7  N   Y       14887\n17                fannie   7  Y   Y     1458903\n6                 fannie   F  N   N     4906953\n12                fannie   F  N   Y        1674\n18                fannie   F  Y   Y      373776\n7                 fannie   N  N   N     1449918\n13                fannie   N  N   Y        2575\n19                fannie   N  Y   Y      278319\n8                 fannie   R  N   N       46060\n14                fannie   R  N   Y          37\n20                fannie   R  Y   Y        6491\n9                 fannie   T  N   N       93444\n15                fannie   T  N   Y         161\n21                fannie   T  Y   Y       16450\n22  freddie:non-standard   !  N   N   328605706\n26  freddie:non-standard   !  N   Y    16599494\n30  freddie:non-standard   !  Y   Y      305331\n23  freddie:non-standard   F  N   N      260784\n27  freddie:non-standard   F  N   Y      122384\n31  freddie:non-standard   F  Y   Y         779\n24  freddie:non-standard   R  N   N       68170\n28  freddie:non-standard   R  N   Y       91093\n32  freddie:non-standard   R  Y   Y         161\n25  freddie:non-standard   T  N   N      168211\n29  freddie:non-standard   T  N   Y      127806\n33  freddie:non-standard   T  Y   Y        1699\n34      freddie:standard   !  N   N  1997623289\n38      freddie:standard   !  N   Y    25259663\n42      freddie:standard   !  Y   Y      503552\n35      freddie:standard   F  N   N     3508579\n39      freddie:standard   F  N   Y      263896\n43      freddie:standard   F  Y   Y        1722\n36      freddie:standard   R  N   N      286365\n40      freddie:standard   R  N   Y      148734\n44      freddie:standard   R  Y   Y         291\n37      freddie:standard   T  N   N      645757\n41      freddie:standard   T  N   Y      200353\n45      freddie:standard   T  Y   Y        6345",
      "text/html": "<div>\n<style scoped>\n    .dataframe tbody tr th:only-of-type {\n        vertical-align: middle;\n    }\n\n    .dataframe tbody tr th {\n        vertical-align: top;\n    }\n\n    .dataframe thead th {\n        text-align: right;\n    }\n</style>\n<table border=\"1\" class=\"dataframe\">\n  <thead>\n    <tr style=\"text-align: center;\">\n      <th></th>\n      <th>src_data</th>\n      <th>bap</th>\n      <th>mf</th>\n      <th>msf</th>\n      <th>ln_mon</th>\n    </tr>\n  </thead>\n  <tbody>\n    <tr>\n      <th>0</th>\n      <td>fannie</td>\n      <td>!</td>\n      <td>!</td>\n      <td>!</td>\n      <td>30623409</td>\n    </tr>\n    <tr>\n      <th>2</th>\n      <td>fannie</td>\n      <td>!</td>\n      <td>!</td>\n      <td>Y</td>\n      <td>333358</td>\n    </tr>\n    <tr>\n      <th>4</th>\n      <td>fannie</td>\n      <td>!</td>\n      <td>N</td>\n      <td>N</td>\n      <td>2250206298</td>\n    </tr>\n    <tr>\n      <th>10</th>\n      <td>fannie</td>\n      <td>!</td>\n      <td>N</td>\n      <td>Y</td>\n      <td>77256</td>\n    </tr>\n    <tr>\n      <th>16</th>\n      <td>fannie</td>\n      <td>!</td>\n      <td>Y</td>\n      <td>Y</td>\n      <td>35892258</td>\n    </tr>\n    <tr>\n      <th>1</th>\n      <td>fannie</td>\n      <td>7</td>\n      <td>!</td>\n      <td>!</td>\n      <td>3364197</td>\n    </tr>\n    <tr>\n      <th>3</th>\n      <td>fannie</td>\n      <td>7</td>\n      <td>!</td>\n      <td>Y</td>\n      <td>35239</td>\n    </tr>\n    <tr>\n      <th>5</th>\n      <td>fannie</td>\n      <td>7</td>\n      <td>N</td>\n      <td>N</td>\n      <td>129464692</td>\n    </tr>\n    <tr>\n      <th>11</th>\n      <td>fannie</td>\n      <td>7</td>\n      <td>N</td>\n      <td>Y</td>\n      <td>14887</td>\n    </tr>\n    <tr>\n      <th>17</th>\n      <td>fannie</td>\n      <td>7</td>\n      <td>Y</td>\n      <td>Y</td>\n      <td>1458903</td>\n    </tr>\n    <tr>\n      <th>6</th>\n      <td>fannie</td>\n      <td>F</td>\n      <td>N</td>\n      <td>N</td>\n      <td>4906953</td>\n    </tr>\n    <tr>\n      <th>12</th>\n      <td>fannie</td>\n      <td>F</td>\n      <td>N</td>\n      <td>Y</td>\n      <td>1674</td>\n    </tr>\n    <tr>\n      <th>18</th>\n      <td>fannie</td>\n      <td>F</td>\n      <td>Y</td>\n      <td>Y</td>\n      <td>373776</td>\n    </tr>\n    <tr>\n      <th>7</th>\n      <td>fannie</td>\n      <td>N</td>\n      <td>N</td>\n      <td>N</td>\n      <td>1449918</td>\n    </tr>\n    <tr>\n      <th>13</th>\n      <td>fannie</td>\n      <td>N</td>\n      <td>N</td>\n      <td>Y</td>\n      <td>2575</td>\n    </tr>\n    <tr>\n      <th>19</th>\n      <td>fannie</td>\n      <td>N</td>\n      <td>Y</td>\n      <td>Y</td>\n      <td>278319</td>\n    </tr>\n    <tr>\n      <th>8</th>\n      <td>fannie</td>\n      <td>R</td>\n      <td>N</td>\n      <td>N</td>\n      <td>46060</td>\n    </tr>\n    <tr>\n      <th>14</th>\n      <td>fannie</td>\n      <td>R</td>\n      <td>N</td>\n      <td>Y</td>\n      <td>37</td>\n    </tr>\n    <tr>\n      <th>20</th>\n      <td>fannie</td>\n      <td>R</td>\n      <td>Y</td>\n      <td>Y</td>\n      <td>6491</td>\n    </tr>\n    <tr>\n      <th>9</th>\n      <td>fannie</td>\n      <td>T</td>\n      <td>N</td>\n      <td>N</td>\n      <td>93444</td>\n    </tr>\n    <tr>\n      <th>15</th>\n      <td>fannie</td>\n      <td>T</td>\n      <td>N</td>\n      <td>Y</td>\n      <td>161</td>\n    </tr>\n    <tr>\n      <th>21</th>\n      <td>fannie</td>\n      <td>T</td>\n      <td>Y</td>\n      <td>Y</td>\n      <td>16450</td>\n    </tr>\n    <tr>\n      <th>22</th>\n      <td>freddie:non-standard</td>\n      <td>!</td>\n      <td>N</td>\n      <td>N</td>\n      <td>328605706</td>\n    </tr>\n    <tr>\n      <th>26</th>\n      <td>freddie:non-standard</td>\n      <td>!</td>\n      <td>N</td>\n      <td>Y</td>\n      <td>16599494</td>\n    </tr>\n    <tr>\n      <th>30</th>\n      <td>freddie:non-standard</td>\n      <td>!</td>\n      <td>Y</td>\n      <td>Y</td>\n      <td>305331</td>\n    </tr>\n    <tr>\n      <th>23</th>\n      <td>freddie:non-standard</td>\n      <td>F</td>\n      <td>N</td>\n      <td>N</td>\n      <td>260784</td>\n    </tr>\n    <tr>\n      <th>27</th>\n      <td>freddie:non-standard</td>\n      <td>F</td>\n      <td>N</td>\n      <td>Y</td>\n      <td>122384</td>\n    </tr>\n    <tr>\n      <th>31</th>\n      <td>freddie:non-standard</td>\n      <td>F</td>\n      <td>Y</td>\n      <td>Y</td>\n      <td>779</td>\n    </tr>\n    <tr>\n      <th>24</th>\n      <td>freddie:non-standard</td>\n      <td>R</td>\n      <td>N</td>\n      <td>N</td>\n      <td>68170</td>\n    </tr>\n    <tr>\n      <th>28</th>\n      <td>freddie:non-standard</td>\n      <td>R</td>\n      <td>N</td>\n      <td>Y</td>\n      <td>91093</td>\n    </tr>\n    <tr>\n      <th>32</th>\n      <td>freddie:non-standard</td>\n      <td>R</td>\n      <td>Y</td>\n      <td>Y</td>\n      <td>161</td>\n    </tr>\n    <tr>\n      <th>25</th>\n      <td>freddie:non-standard</td>\n      <td>T</td>\n      <td>N</td>\n      <td>N</td>\n      <td>168211</td>\n    </tr>\n    <tr>\n      <th>29</th>\n      <td>freddie:non-standard</td>\n      <td>T</td>\n      <td>N</td>\n      <td>Y</td>\n      <td>127806</td>\n    </tr>\n    <tr>\n      <th>33</th>\n      <td>freddie:non-standard</td>\n      <td>T</td>\n      <td>Y</td>\n      <td>Y</td>\n      <td>1699</td>\n    </tr>\n    <tr>\n      <th>34</th>\n      <td>freddie:standard</td>\n      <td>!</td>\n      <td>N</td>\n      <td>N</td>\n      <td>1997623289</td>\n    </tr>\n    <tr>\n      <th>38</th>\n      <td>freddie:standard</td>\n      <td>!</td>\n      <td>N</td>\n      <td>Y</td>\n      <td>25259663</td>\n    </tr>\n    <tr>\n      <th>42</th>\n      <td>freddie:standard</td>\n      <td>!</td>\n      <td>Y</td>\n      <td>Y</td>\n      <td>503552</td>\n    </tr>\n    <tr>\n      <th>35</th>\n      <td>freddie:standard</td>\n      <td>F</td>\n      <td>N</td>\n      <td>N</td>\n      <td>3508579</td>\n    </tr>\n    <tr>\n      <th>39</th>\n      <td>freddie:standard</td>\n      <td>F</td>\n      <td>N</td>\n      <td>Y</td>\n      <td>263896</td>\n    </tr>\n    <tr>\n      <th>43</th>\n      <td>freddie:standard</td>\n      <td>F</td>\n      <td>Y</td>\n      <td>Y</td>\n      <td>1722</td>\n    </tr>\n    <tr>\n      <th>36</th>\n      <td>freddie:standard</td>\n      <td>R</td>\n      <td>N</td>\n      <td>N</td>\n      <td>286365</td>\n    </tr>\n    <tr>\n      <th>40</th>\n      <td>freddie:standard</td>\n      <td>R</td>\n      <td>N</td>\n      <td>Y</td>\n      <td>148734</td>\n    </tr>\n    <tr>\n      <th>44</th>\n      <td>freddie:standard</td>\n      <td>R</td>\n      <td>Y</td>\n      <td>Y</td>\n      <td>291</td>\n    </tr>\n    <tr>\n      <th>37</th>\n      <td>freddie:standard</td>\n      <td>T</td>\n      <td>N</td>\n      <td>N</td>\n      <td>645757</td>\n    </tr>\n    <tr>\n      <th>41</th>\n      <td>freddie:standard</td>\n      <td>T</td>\n      <td>N</td>\n      <td>Y</td>\n      <td>200353</td>\n    </tr>\n    <tr>\n      <th>45</th>\n      <td>freddie:standard</td>\n      <td>T</td>\n      <td>Y</td>\n      <td>Y</td>\n      <td>6345</td>\n    </tr>\n  </tbody>\n</table>\n</div>"
     },
     "execution_count": 61,
     "metadata": {},
     "output_type": "execute_result"
    }
   ],
   "source": [
    "# look at the relationship between mod_flg and borrower assistance plan\n",
    "\n",
    "# R = repayment plan\n",
    "# F = forbearance\n",
    "# T = Trial\n",
    "# N = no plan\n",
    "# 7/9 = Not applicable/available (fannie)\n",
    "\n",
    "# repayment plans: Freddie does more, about 1/3 are Y (standard) for mod_sticky_flg. None for fannie.\n",
    "# forbearance: vast majority are not listed as mod -- perhaps coincidental overlap (ie forbearance on\n",
    "#              a loan that happened to be modified)\n",
    "qry = \\\n",
    "\"\"\"\n",
    "SELECT\n",
    "    src_data,\n",
    "    m.mod_flg AS mf,\n",
    "    m.mod_sticky_flg AS msf,\n",
    "    m.borr_asst_plan AS bap,\n",
    "    count(*) AS ln_mon\n",
    "FROM\n",
    "    unified.frannie ARRAY JOIN monthly AS m\n",
    "GROUP BY\n",
    "  src_data,\n",
    "  mf,\n",
    "  msf,\n",
    "  bap\n",
    "ORDER BY\n",
    "  src_data,\n",
    "  mf,\n",
    "  msf,\n",
    "  bap;\n",
    "\"\"\"\n",
    "\n",
    "df = chu.run_query(qry, client, return_df=True)\n",
    "df.sort_values(['src_data', 'bap', 'mf', 'msf'])[['src_data', 'bap', 'mf', 'msf', 'ln_mon']].head(n=1000)"
   ],
   "metadata": {
    "collapsed": false,
    "pycharm": {
     "name": "#%%\n"
    }
   }
  },
  {
   "cell_type": "code",
   "execution_count": 62,
   "outputs": [
    {
     "name": "stdout",
     "output_type": "stream",
     "text": [
      "[list(['F', 'F', 'F', 'F', 'F', 'F', 'F', 'F', '7'])\n",
      " list(['F', 'F', 'F', 'F', 'F', 'F', 'F', 'F', 'F'])\n",
      " list(['F', 'F', 'F', 'F', 'F', 'F', 'F', '7', '7'])\n",
      " list(['F', 'F', 'F', 'F', 'F', 'F', 'F', 'F', 'F'])\n",
      " list(['F', 'F', 'F', '7', '7', '7', '7', '7', '7'])\n",
      " list(['F', 'F', 'F', 'F', 'N', 'N', 'N', '7', '7']) list(['F', '7', '7'])\n",
      " list(['F', 'F', 'F', '7', '7', '7', '7', '7', '7'])\n",
      " list(['F', 'F', 'F', 'F', 'F', 'F', 'N', '7', '7'])\n",
      " list(['F', 'F', 'F', 'F', 'F', 'F', 'F', '7', '7'])\n",
      " list(['F', 'F', 'F', 'F', 'F', 'F', 'F', 'F', 'F'])\n",
      " list(['F', 'F', 'F', 'F', 'F', 'F', '7', '7', '7']) list(['F', 'F', 'F'])\n",
      " list(['F', 'F', 'F', 'F', 'F', 'F'])\n",
      " list(['F', 'F', 'N', 'F', 'F', 'F', '7', 'N', '7'])\n",
      " list(['F', '7', '7', 'F', '7'])\n",
      " list(['F', 'F', 'N', '7', '7', '7', '7', '7', '7'])\n",
      " list(['F', 'F', 'F', 'F', 'F', '7', '7', '7', 'N']) list(['F', 'F'])\n",
      " list(['F', 'F', 'F', 'F', 'F', 'F', 'F', '7', '7', '7'])\n",
      " list(['F', 'F', 'F', 'F', '7', 'F', 'F', 'F', 'F'])\n",
      " list(['F', 'F', 'F', 'F', 'F', 'F', 'F', 'F', 'F'])\n",
      " list(['F', 'F', 'F', 'F'])\n",
      " list(['F', 'F', 'F', '7', '7', '7', '7', '7', '7'])\n",
      " list(['F', 'F', 'F', 'F', 'F', 'F', 'F', '7', '7'])\n",
      " list(['F', 'F', 'F', 'F', 'F', 'F', 'F', 'F'])\n",
      " list(['F', 'F', 'F', 'F', 'F', 'F', 'F', 'F', 'F'])\n",
      " list(['F', '7', '7', '7', 'F', 'F', 'F', 'F'])\n",
      " list(['F', 'F', 'F', 'F', 'F', 'F', 'F', 'F', 'F'])\n",
      " list(['F', 'F', 'F', 'F', 'F', 'F', 'F', 'F', 'F'])\n",
      " list(['F', 'F', 'T', 'T', 'T', 'T', 'N', '7', '7'])\n",
      " list(['F', 'F', 'F', 'F', 'F', 'F', 'N', 'N', 'N'])\n",
      " list(['F', 'F', 'F', 'F', 'F', 'F', 'F']) list(['F'])\n",
      " list(['F', 'F', 'F', 'F', 'F', 'F', 'F', 'F'])]\n"
     ]
    }
   ],
   "source": [
    "\n",
    "# look at sticky-ness of borr_asst_plan: Fannie\n",
    "# sticky\n",
    "# code '7' seems to indicate end of forbearance\n",
    "\n",
    "qry = \\\n",
    "\"\"\"\n",
    "SELECT\n",
    "    arraySlice(monthly.borr_asst_plan, indexOf(monthly.borr_asst_plan, 'F')) AS bap\n",
    "FROM\n",
    "    fannie.final\n",
    "WHERE\n",
    "    has(monthly.borr_asst_plan, 'F')\n",
    "ORDER BY rand32(1)\n",
    "LIMIT 35\n",
    "\"\"\"\n",
    "\n",
    "df3 = chu.run_query(qry, client, return_df=True)\n",
    "print(np.asarray(df3['bap']))"
   ],
   "metadata": {
    "collapsed": false,
    "pycharm": {
     "name": "#%%\n"
    }
   }
  },
  {
   "cell_type": "code",
   "execution_count": 63,
   "outputs": [
    {
     "name": "stdout",
     "output_type": "stream",
     "text": [
      "[list(['F', 'F', 'F', 'F', 'F', 'F']) list(['F', 'F', '!', '!', '!'])\n",
      " list(['F', 'F', 'F', '!', '!', '!', '!', '!'])\n",
      " list(['F', 'F', 'F', '!', '!', '!', '!', '!'])\n",
      " list(['F', 'F', 'F', 'F', 'F', 'F', 'F'])\n",
      " list(['F', 'F', 'F', 'F', 'F', 'F', 'F', 'F', 'F', 'F', 'F', '!', '!', '!', '!', '!', '!', '!', '!', '!', '!', '!', '!', '!', '!', '!', '!', '!', '!', '!', '!', '!', '!', '!', '!', '!', '!', '!', '!'])\n",
      " list(['F', 'F', 'F']) list(['F', 'F', 'F', 'F', 'F', 'F', 'F'])\n",
      " list(['F', 'F', 'F', 'F', 'F', 'F', 'F', '!'])\n",
      " list(['F', 'F', '!', '!', '!', '!', '!', '!', '!'])\n",
      " list(['F', 'F', 'F', 'F', 'F', 'F', 'F', 'F'])\n",
      " list(['F', 'F', 'F', 'F', 'F', 'F', '!'])\n",
      " list(['F', 'F', 'F', 'F', 'F', '!', '!', '!', '!'])\n",
      " list(['F', 'F', 'F', 'F', '!', '!'])\n",
      " list(['F', '!', '!', '!', '!', '!', '!', '!', '!', '!', 'T', 'T', 'T', '!', '!', '!', '!', '!', '!', '!', '!', '!', '!', '!', '!', '!', '!', '!', '!', '!', '!', '!', '!', '!', '!'])\n",
      " list(['F', 'F', '!']) list(['F', 'F', 'F', 'F', 'F', 'F', 'F', 'F'])\n",
      " list(['F', 'F', 'F', 'F', 'F', 'F', 'F', 'F']) list(['F', 'F', 'F'])\n",
      " list(['F', 'F', 'F', 'F', '!', '!', '!', '!', '!', '!', '!', '!', '!', '!', '!', '!', '!', '!', '!', '!', '!', '!', '!', '!', '!', '!', '!', '!', '!', '!', '!', '!', '!', '!', '!', '!'])\n",
      " list(['F', 'F', 'F', '!', '!', '!', '!'])\n",
      " list(['F', 'F', 'F', 'F', 'F', 'F', 'F', '!']) list(['F', 'F', 'F', 'F'])\n",
      " list(['F', 'F', 'F', 'F', 'F', 'F', '!', '!', '!'])\n",
      " list(['F', 'F', '!', '!', 'T', 'T', 'T', '!', '!', '!', '!', '!', '!', '!', '!', '!', '!', '!', '!', '!', '!', '!', '!', '!', '!', '!', '!', '!', '!', '!', '!', '!', '!', '!', '!', '!', '!', '!'])\n",
      " list(['F', 'F', 'F', '!', '!', '!']) list(['F', 'F', '!'])\n",
      " list(['F', 'F', 'F', 'F', '!', '!', '!', '!']) list(['F', 'F', 'F', 'F'])\n",
      " list(['F', 'F', 'F', 'F', 'F', 'F', '!', '!'])\n",
      " list(['F', 'F', 'F', 'F', '!', 'F', 'F', '!', '!'])\n",
      " list(['F', 'F', 'F', '!', '!', '!', '!'])\n",
      " list(['F', 'F', 'F', 'F', 'F', 'F'])\n",
      " list(['F', '!', '!', '!', '!', '!', '!', '!', '!', '!', '!', '!', '!', '!', '!', '!', '!', '!', '!', '!', '!', '!', '!', '!', '!', '!', '!', '!', '!', '!', '!', '!', '!', '!', '!', '!', '!', '!', '!', '!', '!'])\n",
      " list(['F', 'F', 'F', 'F', 'F', '!'])]\n"
     ]
    }
   ],
   "source": [
    "\n",
    "# look at sticky-ness of borr_asst_plan: Freddie, sticky\n",
    "# becomes unpopulated after forbearance ends\n",
    "\n",
    "\n",
    "qry = \\\n",
    "\"\"\"\n",
    "SELECT\n",
    "    arraySlice(monthly.borr_asst_plan, indexOf(monthly.borr_asst_plan, 'F')) AS bap\n",
    "FROM\n",
    "    freddie.final\n",
    "WHERE\n",
    "    has(monthly.borr_asst_plan, 'F')\n",
    "ORDER BY rand32(1)\n",
    "LIMIT 35\n",
    "\"\"\"\n",
    "\n",
    "df4 = chu.run_query(qry, client, return_df=True)\n",
    "print(np.asarray(df4['bap']))"
   ],
   "metadata": {
    "collapsed": false,
    "pycharm": {
     "name": "#%%\n"
    }
   }
  },
  {
   "cell_type": "code",
   "execution_count": 64,
   "outputs": [
    {
     "name": "stdout",
     "output_type": "stream",
     "text": [
      "[list(['R', 'R', 'N', 'N', 'N', 'R', 'R'])\n",
      " list(['R', 'R', 'N', 'N', 'N', 'N', 'N', '7'])\n",
      " list(['R', 'R', 'R', 'R', 'R', 'R', '7', '7', '7'])\n",
      " list(['R', 'N', 'N', '7', '7', '7', '7', '7', '7'])\n",
      " list(['R', 'R', 'R', 'R', 'R', '7']) list(['R', 'R', 'N'])\n",
      " list(['R', 'R']) list(['R', '7', '7', '7', '7', '7', '7', '7', '7'])\n",
      " list(['R', 'F', '7', '7']) list(['R', 'R'])\n",
      " list(['R', 'R', 'R', '7', '7', '7', '7', '7', '7'])\n",
      " list(['R', 'R', 'N', 'N', 'R', 'R']) list(['R', 'R', 'R', 'R', 'R', 'R'])\n",
      " list(['R', 'F', 'F', 'F', 'F', 'F', 'F', 'F', 'F'])\n",
      " list(['R', 'R', 'R', 'R', 'R', '7']) list(['R', 'R', 'R', 'R', 'R', 'N'])\n",
      " list(['R', 'R', 'R', 'R', 'R', 'R', '7']) list(['R', 'R', 'R', 'F'])\n",
      " list(['R', 'R'])\n",
      " list(['R', 'R', 'F', 'F', 'F', 'F', 'F', 'R', 'N', 'T', 'T'])\n",
      " list(['R', 'R', 'R', 'R', 'R', 'R']) list(['R', '7']) list(['R', '7'])\n",
      " list(['R', 'R', 'R', 'R', 'R', 'R']) list(['R', 'R', 'N', 'N'])\n",
      " list(['R', 'R', 'R', 'R', 'R']) list(['R', 'R', 'R', 'R'])\n",
      " list(['R', 'N', 'F', 'F', 'F', 'F', 'F', 'F', 'F', 'F', 'F'])\n",
      " list(['R', 'R', 'R', 'R', 'R', 'R']) list(['R']) list(['R', 'R', 'R'])\n",
      " list(['R', 'R', 'R', 'R', 'R', 'R', '7']) list(['R', 'R', 'R'])\n",
      " list(['R', 'N', '7', 'R', 'R', 'R', 'R'])\n",
      " list(['R', 'N', '7', '7', '7', '7'])]\n"
     ]
    }
   ],
   "source": [
    "\n",
    "# look at sticky-ness of borr_asst_plan: Fannie\n",
    "# sticky\n",
    "# code '7' seems to indicate end of repayment\n",
    "\n",
    "qry = \\\n",
    "\"\"\"\n",
    "SELECT\n",
    "    arraySlice(monthly.borr_asst_plan, indexOf(monthly.borr_asst_plan, 'R')) AS bap\n",
    "FROM\n",
    "    fannie.final\n",
    "WHERE\n",
    "    has(monthly.borr_asst_plan, 'R')\n",
    "ORDER BY rand32(1)\n",
    "LIMIT 35\n",
    "\"\"\"\n",
    "\n",
    "df5 = chu.run_query(qry, client, return_df=True)\n",
    "print(np.asarray(df5['bap']))"
   ],
   "metadata": {
    "collapsed": false,
    "pycharm": {
     "name": "#%%\n"
    }
   }
  },
  {
   "cell_type": "code",
   "execution_count": 65,
   "outputs": [
    {
     "name": "stdout",
     "output_type": "stream",
     "text": [
      "[list(['R', 'R', 'R', 'R', 'R', '!', '!', '!', '!', '!', '!', '!', '!', '!', '!', '!', '!', '!', '!', '!', '!', '!', '!'])\n",
      " list(['R', 'R', 'R', '!', '!', '!', '!', '!', '!', '!', '!', '!', '!', '!', '!', '!', '!', '!', '!', '!', '!', '!', '!', '!', '!', '!', '!', '!', '!', '!', '!', '!', '!', '!', '!', '!', '!', '!', '!', '!', '!', '!', '!', '!', '!'])\n",
      " list(['R', 'R', '!', '!', '!', '!', '!', '!', '!', '!', '!', '!', '!', '!', '!', '!', '!', '!', '!', '!', '!', '!', '!', '!', '!', '!', '!', '!', '!', '!', '!'])\n",
      " list(['R', 'R', 'R', 'R', 'R', 'R', 'R', 'R', 'R', 'R', 'R', 'R', 'R', '!', '!', '!', '!', 'T', '!', '!', '!', '!', '!', '!', '!', '!', '!', '!', '!', '!', '!', '!', '!', 'R', 'R', '!', '!', '!', '!', '!', '!', '!', '!', '!', '!', '!', '!', '!', '!', '!', '!', '!', '!', '!'])\n",
      " list(['R', 'R', 'R', 'R', '!', '!', '!', '!', '!', '!', '!', '!', '!', '!', '!', '!', '!', '!', '!', '!', '!', '!', '!', '!'])\n",
      " list(['R', 'F', 'F'])\n",
      " list(['R', 'R', '!', '!', '!', '!', '!', '!', '!', '!', '!', '!', '!', '!', '!', '!', '!', '!', '!', '!', '!', '!', '!', '!', '!', '!', 'T', 'T', 'T', '!', '!', '!', '!', '!', '!', '!', '!', '!', '!', '!', '!', '!', '!', '!'])\n",
      " list(['R', 'R', 'R', 'R', 'R', '!', '!', '!', '!', '!', '!', '!', '!', '!', '!', 'R', 'R', 'R', '!', '!', '!', '!', '!', '!', '!', '!', '!', '!', '!', '!', '!', '!', '!', '!', '!', '!', '!', '!', '!', '!', '!', '!', '!', '!', '!', '!', '!', '!', '!', '!', '!', '!', '!', '!', '!', '!', '!', '!', '!', '!', '!', '!', '!', '!'])\n",
      " list(['R', 'R', '!', '!', '!', '!', '!', '!', '!', '!', '!', 'R', 'R', '!', '!', '!', '!', '!', '!', '!', '!', '!', '!', '!'])\n",
      " list(['R', 'R', 'R', 'R', 'R', '!', '!', '!', '!'])\n",
      " list(['R', 'R', 'R', '!', '!', '!', '!', '!', '!', '!', '!', '!', '!', '!', '!', '!', '!', '!', '!', '!', '!', '!', '!', '!', '!', '!', '!', '!', '!', '!', '!', '!'])\n",
      " list(['R', 'R', '!', '!', '!', '!', '!', 'T', 'T', 'T', 'T', '!', '!', '!', '!', '!', '!', '!', '!', '!', '!', '!', '!', '!', '!', '!', '!', '!', '!', '!', '!', '!', '!', '!', '!', '!', '!', '!', '!', '!', '!', '!', '!', '!', '!', '!', '!', '!', '!', '!', '!', '!'])\n",
      " list(['R', '!', '!', '!', 'T', 'T', 'T', '!', '!', '!', '!', '!', '!', '!', '!', '!', '!', '!', '!', '!', '!', '!', '!', '!', '!'])\n",
      " list(['R', '!', '!', '!', '!', '!', '!', '!', '!', '!', '!', '!', '!', '!', '!', '!', '!', '!', '!', '!', '!', '!', '!', '!', '!', '!', '!', '!', '!', '!', '!', '!', '!', '!', '!', '!', '!', '!', '!', '!', '!'])\n",
      " list(['R', 'R', 'R', '!', '!', '!', '!', '!', '!', '!', '!', 'F', 'F', 'F', 'F', '!', '!', '!', '!', '!', '!', '!', '!', '!', '!', '!', '!', '!'])\n",
      " list(['R', 'R', 'R', 'R', 'R', 'R', '!', '!', '!', '!', '!', '!', '!'])\n",
      " list(['R', 'R', 'R', '!', '!', '!', '!', '!', '!', '!', '!', '!', '!'])\n",
      " list(['R', '!', '!', '!', '!', '!', '!', 'F', 'F', 'F', 'F', 'F'])\n",
      " list(['R', 'R', '!', '!', '!', 'R', 'R', 'R', '!', '!', '!', '!', '!', '!', '!', '!', '!', '!', '!', '!', '!', '!', '!', '!', '!', '!', '!', '!', '!', '!', '!', '!', '!', '!', '!', '!', '!', '!', '!', '!', '!', '!', '!', '!', '!', '!', '!', '!', '!', '!', '!', '!', '!', 'F', 'F', 'F', 'F', 'F', 'F', 'F', 'F', 'F'])\n",
      " list(['R', '!', 'T', 'T', 'T', '!', '!', '!', '!', '!', '!', '!', '!', '!', '!', '!', '!', '!', '!', '!', '!', '!', '!', '!'])\n",
      " list(['R', 'R', 'R', '!', '!', 'T', 'T', 'T', '!', '!', '!', '!', '!', '!', '!', '!', '!', '!'])\n",
      " list(['R', 'R', '!', '!', '!', 'T', 'T', 'T', '!', '!', '!', '!', '!', '!', '!', '!', '!', '!', '!', '!', '!', '!', '!', '!', '!', '!', '!', '!', '!', '!', '!', '!', '!', '!', '!', '!', '!', 'T', 'T', 'T', '!', '!', '!', '!', '!', '!', '!', '!', '!', '!', 'R', 'R', 'R', '!', '!', '!', '!', '!', '!', '!', '!', '!', '!', '!', 'R', 'R', '!', '!', '!', '!', '!', '!', '!', '!', '!', '!', '!', '!'])\n",
      " list(['R', '!', '!', '!', '!', '!', '!', '!', '!', '!', '!', '!', '!', '!', '!', '!', '!', '!', '!', '!', '!', '!', '!', '!', '!', '!', '!', '!', '!', '!', '!', '!', '!', '!', '!', '!', '!', '!', '!', '!', '!', '!', '!', '!', '!', '!', '!', '!', '!', '!', '!', '!', '!', '!', '!', '!', '!', '!', '!', '!', '!', '!', '!', '!', '!', '!', 'F', 'F', '!', 'F', 'F', 'F', '!', '!', '!'])\n",
      " list(['R', 'R', 'R', 'R', 'R', 'R', 'R', '!', '!', '!', '!', '!', '!', '!', '!', '!', '!', '!', '!', '!', '!', '!', '!', '!', '!', '!', '!', '!', '!', '!', '!', '!', '!', '!', '!', '!', '!', '!', '!', '!', '!', '!', '!', '!', '!', '!', '!', '!', '!', '!', '!', '!', '!', '!', '!', '!', '!', '!', '!', '!', '!', '!', '!', '!', '!', '!', '!', '!', '!', '!', '!', '!', '!', '!', '!', '!', '!', '!', '!', '!', '!'])\n",
      " list(['R', '!', '!', '!', 'T', 'T', 'T', '!', '!', '!', '!', '!', '!', '!', '!', '!', '!', '!', '!', '!', '!', '!', '!', '!', '!', '!', '!', '!', '!', '!', '!', '!', '!', '!', '!', '!', '!', '!', '!', '!', '!', '!', '!', '!', '!', '!', '!', '!'])\n",
      " list(['R', 'T', 'T', 'T', 'T', '!', '!', '!', '!', '!', '!', '!', '!', '!', '!', 'T', 'T', 'T', '!', '!', '!', '!', '!', '!', '!', '!', 'R', 'R', 'R', '!', '!', '!', '!', '!', '!', '!', '!', '!', '!', '!', '!', '!', '!', '!', '!', '!', '!', '!', '!', '!', '!', '!', '!', '!', '!', '!', '!', '!'])\n",
      " list(['R', '!', '!', '!', '!', '!', '!', '!', '!', '!', '!', '!', '!', '!', '!', '!', '!', '!', '!', '!'])\n",
      " list(['R', 'R', 'R', 'R', 'R', '!', '!', '!', '!', '!', '!', '!', '!', '!', '!', '!', '!', '!', '!', '!', '!', '!'])\n",
      " list(['R', '!', '!', '!', '!', '!', '!', '!', '!', '!', '!', '!', '!', '!', '!', '!', '!', '!', '!', '!', '!', '!', '!', '!', '!', '!', '!', '!', '!', '!', '!', '!', '!', '!', '!', '!', '!', '!', '!', '!', '!', '!', '!', '!', '!', '!', '!'])\n",
      " list(['R', '!', '!', 'T', 'T', '!'])\n",
      " list(['R', '!', '!', '!', '!', '!', '!', '!', '!', '!', '!', '!', '!', '!', '!', '!', '!', '!', '!', '!', '!', '!', '!', '!', '!', '!', '!', '!', '!', '!', '!', '!', '!', '!', '!', '!', '!', '!', '!', '!', '!', '!', '!', '!', '!', '!', '!', '!', '!', '!', '!', '!', '!', '!', '!', '!', '!', '!', '!', '!', '!', '!'])\n",
      " list(['R', '!', '!', '!', '!', '!', '!', '!', '!', '!', '!', '!', '!', '!', '!', '!', '!', '!', '!', '!', '!', '!', '!', '!', '!', '!', '!', '!', '!', '!', '!', '!', '!', '!', '!', '!', '!', '!', '!', '!', '!'])\n",
      " list(['R', 'R', 'R', 'R', '!', '!', '!', '!', '!', '!', '!', '!', '!', '!', '!', '!'])\n",
      " list(['R', 'R', '!', '!', '!', '!', '!', '!', '!', '!', '!', '!', '!', '!', '!', '!', '!', '!', '!', '!', '!', '!', '!', '!', '!', '!', '!', '!', '!', '!', '!', '!', '!', '!', '!', '!', '!', '!', '!', '!', '!', '!', '!', '!', '!', '!', '!', '!', '!', '!', '!', '!', '!', '!', '!', '!', '!', '!', '!', '!', '!', '!', '!', '!', '!', '!', '!', '!', '!', '!', '!', '!', '!', '!', '!'])\n",
      " list(['R', 'R', 'R', 'R', 'R'])]\n"
     ]
    }
   ],
   "source": [
    "\n",
    "# look at sticky-ness of borr_asst_plan: Freddie\n",
    "# sticky\n",
    "\n",
    "\n",
    "qry = \\\n",
    "\"\"\"\n",
    "SELECT\n",
    "    arraySlice(monthly.borr_asst_plan, indexOf(monthly.borr_asst_plan, 'R')) AS bap\n",
    "FROM\n",
    "    freddie.final\n",
    "WHERE\n",
    "    has(monthly.borr_asst_plan, 'R')\n",
    "ORDER BY rand32(1)\n",
    "LIMIT 35\n",
    "\"\"\"\n",
    "\n",
    "df6 = chu.run_query(qry, client, return_df=True)\n",
    "print(np.asarray(df6['bap']))"
   ],
   "metadata": {
    "collapsed": false,
    "pycharm": {
     "name": "#%%\n"
    }
   }
  },
  {
   "cell_type": "code",
   "execution_count": 66,
   "outputs": [
    {
     "name": "stdout",
     "output_type": "stream",
     "text": [
      "[list(['T', 'N', '7', '7', '7', '7', 'N', 'N', 'N'])\n",
      " list(['T', 'T', 'T', 'T', 'T'])\n",
      " list(['T', 'T', 'N', 'N', 'N', 'N', 'F', 'F', 'F']) list(['T'])\n",
      " list(['T', 'N']) list(['T', 'N', 'N', 'N', 'N', 'N', 'N', 'N', 'N'])\n",
      " list(['T', 'T', 'T', 'N', 'N', 'T', 'T', 'T', 'N'])\n",
      " list(['T', 'T', 'N', 'N', 'N']) list(['T']) list(['T', 'T', 'T'])\n",
      " list(['T', 'T', 'T', 'N', 'N', '7', '7', '7', '7'])\n",
      " list(['T', 'T', '7', 'N', 'N', 'N', 'N', 'N', 'N'])\n",
      " list(['T', 'N', 'N', '7']) list(['T', 'T', 'T', 'T', 'T'])\n",
      " list(['T', 'T', 'T', 'N']) list(['T', 'T', 'N', 'T', 'T'])\n",
      " list(['T', 'T', 'N', '7', 'N'])\n",
      " list(['T', 'T', 'T', 'N', 'N', '7', '7', '7'])\n",
      " list(['T', 'T', 'T', 'N', '7', '7', '7']) list(['T', 'T', 'T', '7'])\n",
      " list(['T', '7']) list(['T', 'N'])\n",
      " list(['T', 'N', 'T', 'T', 'T', 'N', '7']) list(['T', 'T', 'T', 'T'])\n",
      " list(['T', 'N', 'N', '7', '7', 'N', '7', '7', '7'])\n",
      " list(['T', 'T', 'T', '7', '7'])\n",
      " list(['T', 'T', '7', '7', '7', '7', 'N', '7', 'N'])\n",
      " list(['T', 'T', 'T', 'T', 'N', 'N', 'N'])\n",
      " list(['T', '7', '7', '7', '7', 'N', 'N', '7', '7'])\n",
      " list(['T', 'N', '7', '7', '7', '7', '7', '7', '7'])\n",
      " list(['T', 'T', 'T', 'N', '7', '7', '7'])\n",
      " list(['T', 'N', 'N', '7', '7', '7', '7']) list(['T', '7'])\n",
      " list(['T', 'N', 'N', 'N', '7', 'F', 'F', 'F']) list(['T'])]\n"
     ]
    }
   ],
   "source": [
    "\n",
    "# look at sticky-ness of borr_asst_plan: Fannie\n",
    "# sticky\n",
    "# code '7' seems to indicate end of trial\n",
    "\n",
    "qry = \\\n",
    "\"\"\"\n",
    "SELECT\n",
    "    arraySlice(monthly.borr_asst_plan, indexOf(monthly.borr_asst_plan, 'T')) AS bap\n",
    "FROM\n",
    "    fannie.final\n",
    "WHERE\n",
    "    has(monthly.borr_asst_plan, 'T')\n",
    "ORDER BY rand32(1)\n",
    "LIMIT 35\n",
    "\"\"\"\n",
    "\n",
    "df7 = chu.run_query(qry, client, return_df=True)\n",
    "print(np.asarray(df7['bap']))"
   ],
   "metadata": {
    "collapsed": false,
    "pycharm": {
     "name": "#%%\n"
    }
   }
  },
  {
   "cell_type": "code",
   "execution_count": 67,
   "outputs": [
    {
     "name": "stdout",
     "output_type": "stream",
     "text": [
      "[list(['T', 'F', 'F', '!', '!', '!', '!', '!', '!', '!', '!', '!', '!', '!'])\n",
      " list(['T', 'T', 'T', 'T', 'T', '!', '!', '!', '!', '!', '!', '!', '!', '!', '!', '!', '!', '!', '!', '!', '!', '!', '!', '!'])\n",
      " list(['T', 'T', 'T', '!', '!', '!', '!', '!', '!', '!', '!', '!', '!', '!', '!', '!', '!', '!', '!', '!', '!', 'T', 'T', 'T', '!', '!', '!', '!', '!', '!', '!', '!', '!', '!', '!', '!', '!', '!', '!', '!', '!', '!', 'T', 'T', 'T', 'T', '!', '!', '!', '!', 'R', 'R', '!', '!', '!', '!', '!', '!', '!', '!', '!', '!', '!', '!', '!', '!', '!', '!', '!', '!', '!', '!', '!', '!', '!', '!', '!', '!', '!'])\n",
      " list(['T', 'T', 'T', 'T', 'T', 'T', 'T', '!', '!', '!', '!', '!'])\n",
      " list(['T', 'T', 'T', '!', '!', '!', '!', '!', '!', '!', '!', '!', '!', '!', '!', '!', '!', '!', '!', '!', '!', '!', '!', '!', '!', '!', 'R', 'R', '!', '!', '!', '!', '!', '!', '!', 'R', '!', '!', '!', '!', '!', '!', '!'])\n",
      " list(['T', 'T', 'T', 'T', '!', '!', '!', '!', '!', '!', '!', '!', '!', '!', '!', '!', '!', '!', '!', '!', '!', '!', '!', '!', '!', 'F', 'F', 'F', 'F', '!', '!', '!', '!'])\n",
      " list(['T', 'T', 'T', '!', '!', '!', '!', '!', '!', '!', '!', '!', '!', '!', 'F', 'F', 'F', '!', '!', '!', '!', '!', 'F', 'F'])\n",
      " list(['T', 'T', 'T', '!', '!', '!', '!', '!', '!', '!', '!', '!', '!', '!', '!', '!', '!', '!', '!', '!', '!', '!', '!', '!', '!', '!', '!', '!', '!', '!', '!', '!', '!', '!', '!', '!', '!', '!', '!', '!', '!', '!', '!', '!', '!', '!', '!', '!', '!', '!', '!', '!', '!', '!', '!', '!', '!', '!', '!', '!', '!', '!', '!'])\n",
      " list(['T', 'T', 'T', '!', '!', '!', '!', '!', '!', '!', '!', '!', '!', '!', '!', '!', '!', '!', '!', '!', '!', '!', 'R', 'R', '!', '!', '!', '!', '!', '!', '!', '!', '!', '!', '!', '!', '!', '!', '!', '!', '!', '!', '!', '!', '!', '!', '!', '!', '!', '!', '!', '!', '!', '!', '!', '!', '!', '!', '!'])\n",
      " list(['T', 'T', 'T', '!', '!', '!', '!', '!', '!', '!', '!', '!', '!', '!', '!', '!', '!', '!', '!', '!', '!', '!', '!', '!', '!', '!', '!', '!', '!', '!', '!', '!', '!', '!', '!', '!', '!', '!', '!', '!', '!', '!', '!', '!', '!', '!', '!', '!', '!', '!', '!', '!', '!', '!', '!', '!', '!', '!', '!', '!', '!', '!', '!', '!', '!', '!', '!', '!', '!', '!', '!', '!', '!', '!', '!', '!'])\n",
      " list(['T', 'T', '!', '!', '!', '!', '!', '!', '!', '!', '!', '!', '!', '!', '!', '!', '!', '!', '!'])\n",
      " list(['T', 'T'])\n",
      " list(['T', 'T', 'T', '!', '!', 'T', 'T', 'T', 'T', 'T', 'T', 'T', '!', '!', '!', '!', 'F', 'F', '!', '!', '!', 'T', 'T', 'T', '!', '!', '!', '!', '!', '!', '!', '!', '!', '!', '!', '!', '!', '!', '!', '!', '!', '!', '!', '!', '!', '!', 'F', 'F', 'F', '!'])\n",
      " list(['T', 'T', 'T', '!', '!', '!', '!', '!', '!', '!', '!', '!', '!', '!', '!', '!', '!', '!', '!', '!', '!', '!', '!', '!', '!', '!', '!', '!', '!', '!', '!', '!', '!', '!', '!'])\n",
      " list(['T', 'F', 'F', 'F', '!', '!', '!', 'T', 'T', 'T', '!', '!', '!', '!', '!', '!', '!', '!', '!', '!', '!', '!', '!', '!', '!', '!', '!', '!', '!', '!', '!', 'F', 'F', 'F', 'F', 'F', 'F', 'F', 'F', 'F'])\n",
      " list(['T', '!', '!', '!', '!', '!', '!', '!', '!', '!', '!', '!', '!', '!', '!', '!', '!', '!', '!', '!', '!', '!', '!', '!', '!', '!', '!', '!', '!', '!', '!', '!', '!', '!', '!', '!', '!', '!', '!', '!', '!', '!', '!', '!', '!', '!', '!', '!', '!', '!', '!', '!', '!', '!', '!', '!', '!', '!', '!', '!', '!', '!', '!', '!', '!', '!', '!', '!', '!', '!', '!', '!', '!', '!', '!', '!', '!', '!', '!', '!', '!', '!'])\n",
      " list(['T', 'T', 'T', 'T', '!', '!', '!'])\n",
      " list(['T', '!', '!', 'R', 'T', '!', '!', '!', '!', '!', '!', '!', '!', '!', '!', '!', '!', '!', '!', '!', '!', '!', '!', '!', '!', '!', '!', '!', '!', '!', '!', '!', '!', '!', '!', '!', '!', '!', '!', '!', '!', '!', '!', '!', '!'])\n",
      " list(['T', '!', '!', '!', '!', '!', '!', '!', '!', '!'])\n",
      " list(['T', '!', '!', '!', '!', '!', '!', '!', '!', '!', '!', '!'])\n",
      " list(['T', 'T', 'T', '!', '!', '!', '!', '!', '!', '!', '!', '!', '!', '!', '!', '!', '!', '!', '!', '!', '!', '!', '!', '!', '!', '!', '!', '!', '!', '!', '!', '!', '!', '!', '!', '!', '!', '!', '!'])\n",
      " list(['T', 'T', 'T', 'T', '!', '!', '!', '!', '!', '!', '!', '!', '!', '!', '!', '!', '!', '!', '!', '!', '!', '!', '!', '!', '!', '!', '!', '!', '!', '!', '!', '!', '!', '!', '!', '!', '!', '!', '!', '!', '!', '!', '!', '!', '!', '!', '!', '!', '!', '!', '!', '!', '!', '!', '!', '!', '!', '!', '!', '!', '!', '!', '!', '!', '!', '!'])\n",
      " list(['T', 'T', 'T', 'T', '!', '!', '!', '!', '!', '!', '!', '!', '!', '!', '!', '!', '!', '!', '!', '!', '!', '!', '!', '!', '!', '!', '!', '!', '!', '!', '!', '!', '!', '!', '!', '!', '!', '!', '!', '!', '!', '!'])\n",
      " list(['T', 'T', '!', '!', '!', '!', '!', '!', '!', '!', '!', '!', '!', '!', '!', '!', '!', '!', '!', '!', '!', '!', '!', '!', '!', '!', '!', '!', '!', '!', '!', '!'])\n",
      " list(['T', 'T', 'T', '!', '!', '!', '!', '!', '!', '!', '!', '!', '!', '!', '!', '!', '!', '!', '!', '!', '!', '!', '!', '!', '!', '!', '!', '!', '!', '!', '!', '!', '!', '!', '!', '!', '!', '!', '!', '!', '!', '!', '!', 'F', 'F', 'F', 'F', 'F', 'F', 'F', 'F', 'F'])\n",
      " list(['T', 'T', 'T', '!', '!', '!', '!', '!', '!', '!', '!', '!', '!', '!', '!', '!', '!', '!', '!', '!', '!', '!', '!', '!', '!', '!', '!', '!', '!', '!', '!', '!', '!', '!', '!', '!', '!', '!', '!', '!', '!', '!', '!', '!', '!', '!', '!', '!', '!', '!', '!', '!', '!', '!', '!', '!', '!', '!', '!', '!', '!', '!', '!', '!', '!', '!', '!', '!', '!', '!', '!', '!', '!', '!', '!', '!', '!', '!', '!'])\n",
      " list(['T', 'T', 'T', 'T', 'T', '!', '!', '!', '!', '!', '!', '!', '!', '!', '!', '!', '!', '!', '!', '!', '!', '!', '!', '!', '!', '!', '!', '!', '!', '!', '!', '!', 'F', 'F', 'F', 'F'])\n",
      " list(['T', 'T', '!', '!', '!', '!', '!', '!', '!', '!', '!', '!', '!', '!', '!'])\n",
      " list(['T', 'T', '!', '!', '!', '!', '!'])\n",
      " list(['T', 'T', 'T', '!', '!', '!', '!', '!', '!', '!', '!', '!', '!', '!', '!'])\n",
      " list(['T', 'T', 'T', '!', '!', 'T', 'T', 'T', 'T', '!', '!', '!', '!', '!', '!', '!', '!', '!', '!', 'T', 'T', 'T', '!', '!', '!', '!', '!', '!', '!', '!', '!', '!', '!', '!', '!', '!', '!', '!', '!', '!', '!', '!', '!', '!', '!', '!', '!', '!', '!', '!', '!', '!', '!', '!', '!', '!', '!', '!', '!', '!', '!', '!', '!', '!', '!', '!', '!', '!', '!', '!', '!', '!', '!', '!', '!', '!', '!', '!'])\n",
      " list(['T', '!', 'T', 'T', '!', '!', '!', '!', '!', '!', '!', '!', '!', '!', '!', '!', '!', '!', '!', '!', '!', '!', '!', '!', '!', '!', '!', '!', '!', '!', '!', '!'])\n",
      " list(['T', 'T', 'T', '!', '!', '!', '!', '!', '!', '!', '!', '!', '!', '!', '!', '!', '!', '!', '!', '!', '!', '!', '!', '!', '!', '!', 'R', '!', '!', '!', '!', '!', '!', '!', '!', '!', '!', '!', '!', '!', '!', '!', '!', '!', '!', '!', '!', '!', '!', '!', '!', '!', '!', '!'])\n",
      " list(['T', '!', '!', '!', '!'])\n",
      " list(['T', 'T', 'T', '!', '!', '!', '!', '!', '!', '!', '!', '!', '!', '!', '!', '!', '!', '!', '!', '!', '!', '!', '!'])]\n"
     ]
    }
   ],
   "source": [
    "\n",
    "# look at sticky-ness of borr_asst_plan: Fannie\n",
    "# sticky\n",
    "# code '7' seems to indicate end of trial\n",
    "\n",
    "qry = \\\n",
    "\"\"\"\n",
    "SELECT\n",
    "    arraySlice(monthly.borr_asst_plan, indexOf(monthly.borr_asst_plan, 'T')) AS bap\n",
    "FROM\n",
    "    freddie.final\n",
    "WHERE\n",
    "    has(monthly.borr_asst_plan, 'T')\n",
    "ORDER BY rand32(1)\n",
    "LIMIT 35\n",
    "\"\"\"\n",
    "\n",
    "df8 = chu.run_query(qry, client, return_df=True)\n",
    "print(np.asarray(df8['bap']))"
   ],
   "metadata": {
    "collapsed": false,
    "pycharm": {
     "name": "#%%\n"
    }
   }
  },
  {
   "cell_type": "code",
   "execution_count": 68,
   "outputs": [
    {
     "data": {
      "text/plain": "   dec2020     nl   \n0     0     68031587\n1     1     26004490",
      "text/html": "<div>\n<style scoped>\n    .dataframe tbody tr th:only-of-type {\n        vertical-align: middle;\n    }\n\n    .dataframe tbody tr th {\n        vertical-align: top;\n    }\n\n    .dataframe thead th {\n        text-align: right;\n    }\n</style>\n<table border=\"1\" class=\"dataframe\">\n  <thead>\n    <tr style=\"text-align: center;\">\n      <th></th>\n      <th>dec2020</th>\n      <th>nl</th>\n    </tr>\n  </thead>\n  <tbody>\n    <tr>\n      <th>0</th>\n      <td>0</td>\n      <td>68031587</td>\n    </tr>\n    <tr>\n      <th>1</th>\n      <td>1</td>\n      <td>26004490</td>\n    </tr>\n  </tbody>\n</table>\n</div>"
     },
     "execution_count": 68,
     "metadata": {},
     "output_type": "execute_result"
    }
   ],
   "source": [
    "# loans active 12/2020\n",
    "qry = \\\n",
    "\"\"\"\n",
    "SELECT\n",
    "    has(monthly.dt, toDate('2020-12-01')) AS dec2020,\n",
    "    count(*) AS nl\n",
    "FROM\n",
    "    unified.frannie\n",
    "GROUP BY dec2020\n",
    "\"\"\"\n",
    "\n",
    "df8b = chu.run_query(qry, client, return_df=True)\n",
    "df8b.head()"
   ],
   "metadata": {
    "collapsed": false,
    "pycharm": {
     "name": "#%%\n"
    }
   }
  },
  {
   "cell_type": "code",
   "execution_count": 69,
   "outputs": [
    {
     "data": {
      "text/plain": "   bap     nl   \n0   0   93877028\n1   1     159049",
      "text/html": "<div>\n<style scoped>\n    .dataframe tbody tr th:only-of-type {\n        vertical-align: middle;\n    }\n\n    .dataframe tbody tr th {\n        vertical-align: top;\n    }\n\n    .dataframe thead th {\n        text-align: right;\n    }\n</style>\n<table border=\"1\" class=\"dataframe\">\n  <thead>\n    <tr style=\"text-align: center;\">\n      <th></th>\n      <th>bap</th>\n      <th>nl</th>\n    </tr>\n  </thead>\n  <tbody>\n    <tr>\n      <th>0</th>\n      <td>0</td>\n      <td>93877028</td>\n    </tr>\n    <tr>\n      <th>1</th>\n      <td>1</td>\n      <td>159049</td>\n    </tr>\n  </tbody>\n</table>\n</div>"
     },
     "execution_count": 69,
     "metadata": {},
     "output_type": "execute_result"
    }
   ],
   "source": [
    "# loans with bap = R\n",
    "qry = \\\n",
    "\"\"\"\n",
    "SELECT\n",
    "    has(monthly.borr_asst_plan, 'R') AS bap,\n",
    "    count(*) AS nl\n",
    "FROM\n",
    "    unified.frannie\n",
    "GROUP BY bap\n",
    "\"\"\"\n",
    "\n",
    "df8c = chu.run_query(qry, client, return_df=True)\n",
    "df8c.head()"
   ],
   "metadata": {
    "collapsed": false,
    "pycharm": {
     "name": "#%%\n"
    }
   }
  },
  {
   "cell_type": "code",
   "execution_count": 70,
   "outputs": [
    {
     "data": {
      "text/plain": "           src_data            dt        nl  \n0                  fannie  2020-04-01  647614\n1                  fannie  2020-05-01  161401\n2                  fannie  2020-06-01   48741\n3                  fannie  2020-07-01   34086\n4                  fannie  2020-08-01   26188\n5                  fannie  2020-09-01   22855\n6                  fannie  2020-03-01   21363\n7                  fannie  2020-12-01   19278\n8                  fannie  2020-10-01   18554\n9                  fannie  2020-11-01   16413\n10                 fannie  2020-02-01      41\n11                 fannie  2020-01-01      25\n12                 fannie  2019-11-01      19\n13                 fannie  2019-12-01      13\n14                 fannie  2019-10-01       7\n15                 fannie  2019-09-01       6\n16                 fannie  2019-08-01       1\n17   freddie:non-standard  2020-04-01   21783\n18   freddie:non-standard  2020-05-01   11095\n19   freddie:non-standard  2017-10-01    4515\n20   freddie:non-standard  2020-06-01    4323\n21   freddie:non-standard  2020-09-01    2874\n22   freddie:non-standard  2020-07-01    2865\n23   freddie:non-standard  2017-11-01    2406\n24   freddie:non-standard  2017-09-01    2257\n25   freddie:non-standard  2020-03-01    1746\n26   freddie:non-standard  2020-08-01    1713\n27   freddie:non-standard  2020-10-01    1617\n28   freddie:non-standard  2020-11-01    1167\n29   freddie:non-standard  2020-12-01    1019\n30   freddie:non-standard  2014-04-01     627\n31   freddie:non-standard  2014-02-01     509\n32   freddie:non-standard  2014-05-01     495\n33   freddie:non-standard  2014-03-01     488\n34   freddie:non-standard  2014-06-01     485\n35   freddie:non-standard  2014-07-01     485\n36   freddie:non-standard  2014-01-01     470\n37   freddie:non-standard  2014-08-01     458\n38   freddie:non-standard  2017-12-01     453\n39   freddie:non-standard  2014-09-01     436\n40   freddie:non-standard  2014-12-01     435\n41   freddie:non-standard  2014-10-01     393\n42   freddie:non-standard  2015-01-01     372\n43   freddie:non-standard  2015-03-01     316\n44   freddie:non-standard  2014-11-01     302\n45   freddie:non-standard  2015-02-01     302\n46   freddie:non-standard  2018-01-01     282\n47   freddie:non-standard  2015-04-01     265\n48   freddie:non-standard  2018-10-01     246\n49   freddie:non-standard  2015-05-01     246\n50   freddie:non-standard  2019-01-01     239\n51   freddie:non-standard  2015-06-01     219\n52   freddie:non-standard  2015-07-01     213\n53   freddie:non-standard  2015-08-01     197\n54   freddie:non-standard  2015-10-01     186\n55   freddie:non-standard  2016-03-01     185\n56   freddie:non-standard  2016-02-01     178\n57   freddie:non-standard  2015-09-01     172\n58   freddie:non-standard  2015-11-01     170\n59   freddie:non-standard  2019-06-01     168\n60   freddie:non-standard  2018-09-01     164\n61   freddie:non-standard  2018-11-01     160\n62   freddie:non-standard  2015-12-01     157\n63   freddie:non-standard  2016-08-01     150\n64   freddie:non-standard  2018-05-01     146\n65   freddie:non-standard  2016-01-01     144\n66   freddie:non-standard  2016-10-01     139\n67   freddie:non-standard  2018-12-01     136\n68   freddie:non-standard  2016-05-01     134\n69   freddie:non-standard  2017-08-01     133\n70   freddie:non-standard  2017-01-01     133\n71   freddie:non-standard  2016-04-01     128\n72   freddie:non-standard  2016-06-01     128\n73   freddie:non-standard  2016-11-01     121\n74   freddie:non-standard  2018-02-01     118\n75   freddie:non-standard  2016-09-01     117\n76   freddie:non-standard  2016-12-01     116\n77   freddie:non-standard  2017-02-01     104\n78   freddie:non-standard  2019-02-01     103\n79   freddie:non-standard  2016-07-01     102\n80   freddie:non-standard  2019-07-01     101\n81   freddie:non-standard  2018-03-01      99\n82   freddie:non-standard  2018-07-01      98\n83   freddie:non-standard  2020-02-01      91\n84   freddie:non-standard  2017-03-01      91\n85   freddie:non-standard  2017-05-01      84\n86   freddie:non-standard  2019-04-01      84\n87   freddie:non-standard  2017-04-01      81\n88   freddie:non-standard  2018-06-01      79\n89   freddie:non-standard  2019-05-01      76\n90   freddie:non-standard  2019-10-01      74\n91   freddie:non-standard  2017-06-01      74\n92   freddie:non-standard  2018-04-01      71\n93   freddie:non-standard  2017-07-01      67\n94   freddie:non-standard  2019-11-01      64\n95   freddie:non-standard  2019-03-01      60\n96   freddie:non-standard  2020-01-01      59\n97   freddie:non-standard  2019-08-01      59\n98   freddie:non-standard  2018-08-01      56\n99   freddie:non-standard  2019-09-01      54\n100  freddie:non-standard  2019-12-01      48\n101      freddie:standard  2020-04-01  272963\n102      freddie:standard  2020-05-01  158198\n103      freddie:standard  2020-06-01   58784\n104      freddie:standard  2020-09-01   42992\n105      freddie:standard  2020-07-01   32618\n106      freddie:standard  2020-08-01   21168\n107      freddie:standard  2017-10-01   19078\n108      freddie:standard  2020-10-01   18477\n109      freddie:standard  2017-11-01   15917\n110      freddie:standard  2020-12-01   13770\n111      freddie:standard  2020-11-01   13667\n112      freddie:standard  2020-03-01   12823\n113      freddie:standard  2017-09-01    9257\n114      freddie:standard  2019-01-01    2161\n115      freddie:standard  2017-12-01    1868\n116      freddie:standard  2018-10-01    1667\n117      freddie:standard  2014-04-01    1560\n118      freddie:standard  2018-01-01    1495\n119      freddie:standard  2014-08-01    1197\n120      freddie:standard  2014-07-01    1190\n121      freddie:standard  2014-09-01    1180\n122      freddie:standard  2014-05-01    1136\n123      freddie:standard  2018-11-01    1113\n124      freddie:standard  2018-12-01    1099\n125      freddie:standard  2014-06-01    1095\n126      freddie:standard  2014-02-01    1087\n127      freddie:standard  2018-09-01    1086\n128      freddie:standard  2014-12-01    1062\n129      freddie:standard  2014-01-01    1061\n130      freddie:standard  2014-03-01    1045\n131      freddie:standard  2019-02-01    1035\n132      freddie:standard  2014-10-01     996\n133      freddie:standard  2015-01-01     954\n134      freddie:standard  2019-10-01     921\n135      freddie:standard  2019-07-01     906\n136      freddie:standard  2016-09-01     844\n137      freddie:standard  2015-02-01     833\n138      freddie:standard  2015-03-01     797\n139      freddie:standard  2014-11-01     797\n140      freddie:standard  2019-06-01     786\n141      freddie:standard  2015-04-01     763\n142      freddie:standard  2019-11-01     694\n143      freddie:standard  2017-08-01     693\n144      freddie:standard  2019-08-01     645\n145      freddie:standard  2015-05-01     640\n146      freddie:standard  2018-03-01     633\n147      freddie:standard  2019-04-01     607\n148      freddie:standard  2020-02-01     595\n149      freddie:standard  2016-08-01     591\n150      freddie:standard  2020-01-01     570\n151      freddie:standard  2019-12-01     560\n152      freddie:standard  2016-10-01     555\n153      freddie:standard  2015-08-01     553\n154      freddie:standard  2015-06-01     549\n155      freddie:standard  2015-07-01     542\n156      freddie:standard  2015-10-01     541\n157      freddie:standard  2016-02-01     539\n158      freddie:standard  2019-09-01     537\n159      freddie:standard  2019-03-01     531\n160      freddie:standard  2018-05-01     526\n161      freddie:standard  2016-11-01     514\n162      freddie:standard  2015-12-01     510\n163      freddie:standard  2018-06-01     507\n164      freddie:standard  2015-11-01     488\n165      freddie:standard  2016-03-01     482\n166      freddie:standard  2016-01-01     479\n167      freddie:standard  2017-01-01     478\n168      freddie:standard  2015-09-01     476\n169      freddie:standard  2018-02-01     469\n170      freddie:standard  2016-04-01     468\n171      freddie:standard  2018-07-01     467\n172      freddie:standard  2018-08-01     465\n173      freddie:standard  2019-05-01     460\n174      freddie:standard  2016-12-01     459\n175      freddie:standard  2017-02-01     425\n176      freddie:standard  2016-05-01     417\n177      freddie:standard  2017-03-01     405\n178      freddie:standard  2016-06-01     399\n179      freddie:standard  2018-04-01     372\n180      freddie:standard  2016-07-01     365\n181      freddie:standard  2017-04-01     353\n182      freddie:standard  2017-06-01     333\n183      freddie:standard  2017-05-01     327\n184      freddie:standard  2017-07-01     295",
      "text/html": "<div>\n<style scoped>\n    .dataframe tbody tr th:only-of-type {\n        vertical-align: middle;\n    }\n\n    .dataframe tbody tr th {\n        vertical-align: top;\n    }\n\n    .dataframe thead th {\n        text-align: right;\n    }\n</style>\n<table border=\"1\" class=\"dataframe\">\n  <thead>\n    <tr style=\"text-align: center;\">\n      <th></th>\n      <th>src_data</th>\n      <th>dt</th>\n      <th>nl</th>\n    </tr>\n  </thead>\n  <tbody>\n    <tr>\n      <th>0</th>\n      <td>fannie</td>\n      <td>2020-04-01</td>\n      <td>647614</td>\n    </tr>\n    <tr>\n      <th>1</th>\n      <td>fannie</td>\n      <td>2020-05-01</td>\n      <td>161401</td>\n    </tr>\n    <tr>\n      <th>2</th>\n      <td>fannie</td>\n      <td>2020-06-01</td>\n      <td>48741</td>\n    </tr>\n    <tr>\n      <th>3</th>\n      <td>fannie</td>\n      <td>2020-07-01</td>\n      <td>34086</td>\n    </tr>\n    <tr>\n      <th>4</th>\n      <td>fannie</td>\n      <td>2020-08-01</td>\n      <td>26188</td>\n    </tr>\n    <tr>\n      <th>5</th>\n      <td>fannie</td>\n      <td>2020-09-01</td>\n      <td>22855</td>\n    </tr>\n    <tr>\n      <th>6</th>\n      <td>fannie</td>\n      <td>2020-03-01</td>\n      <td>21363</td>\n    </tr>\n    <tr>\n      <th>7</th>\n      <td>fannie</td>\n      <td>2020-12-01</td>\n      <td>19278</td>\n    </tr>\n    <tr>\n      <th>8</th>\n      <td>fannie</td>\n      <td>2020-10-01</td>\n      <td>18554</td>\n    </tr>\n    <tr>\n      <th>9</th>\n      <td>fannie</td>\n      <td>2020-11-01</td>\n      <td>16413</td>\n    </tr>\n    <tr>\n      <th>10</th>\n      <td>fannie</td>\n      <td>2020-02-01</td>\n      <td>41</td>\n    </tr>\n    <tr>\n      <th>11</th>\n      <td>fannie</td>\n      <td>2020-01-01</td>\n      <td>25</td>\n    </tr>\n    <tr>\n      <th>12</th>\n      <td>fannie</td>\n      <td>2019-11-01</td>\n      <td>19</td>\n    </tr>\n    <tr>\n      <th>13</th>\n      <td>fannie</td>\n      <td>2019-12-01</td>\n      <td>13</td>\n    </tr>\n    <tr>\n      <th>14</th>\n      <td>fannie</td>\n      <td>2019-10-01</td>\n      <td>7</td>\n    </tr>\n    <tr>\n      <th>15</th>\n      <td>fannie</td>\n      <td>2019-09-01</td>\n      <td>6</td>\n    </tr>\n    <tr>\n      <th>16</th>\n      <td>fannie</td>\n      <td>2019-08-01</td>\n      <td>1</td>\n    </tr>\n    <tr>\n      <th>17</th>\n      <td>freddie:non-standard</td>\n      <td>2020-04-01</td>\n      <td>21783</td>\n    </tr>\n    <tr>\n      <th>18</th>\n      <td>freddie:non-standard</td>\n      <td>2020-05-01</td>\n      <td>11095</td>\n    </tr>\n    <tr>\n      <th>19</th>\n      <td>freddie:non-standard</td>\n      <td>2017-10-01</td>\n      <td>4515</td>\n    </tr>\n    <tr>\n      <th>20</th>\n      <td>freddie:non-standard</td>\n      <td>2020-06-01</td>\n      <td>4323</td>\n    </tr>\n    <tr>\n      <th>21</th>\n      <td>freddie:non-standard</td>\n      <td>2020-09-01</td>\n      <td>2874</td>\n    </tr>\n    <tr>\n      <th>22</th>\n      <td>freddie:non-standard</td>\n      <td>2020-07-01</td>\n      <td>2865</td>\n    </tr>\n    <tr>\n      <th>23</th>\n      <td>freddie:non-standard</td>\n      <td>2017-11-01</td>\n      <td>2406</td>\n    </tr>\n    <tr>\n      <th>24</th>\n      <td>freddie:non-standard</td>\n      <td>2017-09-01</td>\n      <td>2257</td>\n    </tr>\n    <tr>\n      <th>25</th>\n      <td>freddie:non-standard</td>\n      <td>2020-03-01</td>\n      <td>1746</td>\n    </tr>\n    <tr>\n      <th>26</th>\n      <td>freddie:non-standard</td>\n      <td>2020-08-01</td>\n      <td>1713</td>\n    </tr>\n    <tr>\n      <th>27</th>\n      <td>freddie:non-standard</td>\n      <td>2020-10-01</td>\n      <td>1617</td>\n    </tr>\n    <tr>\n      <th>28</th>\n      <td>freddie:non-standard</td>\n      <td>2020-11-01</td>\n      <td>1167</td>\n    </tr>\n    <tr>\n      <th>29</th>\n      <td>freddie:non-standard</td>\n      <td>2020-12-01</td>\n      <td>1019</td>\n    </tr>\n    <tr>\n      <th>30</th>\n      <td>freddie:non-standard</td>\n      <td>2014-04-01</td>\n      <td>627</td>\n    </tr>\n    <tr>\n      <th>31</th>\n      <td>freddie:non-standard</td>\n      <td>2014-02-01</td>\n      <td>509</td>\n    </tr>\n    <tr>\n      <th>32</th>\n      <td>freddie:non-standard</td>\n      <td>2014-05-01</td>\n      <td>495</td>\n    </tr>\n    <tr>\n      <th>33</th>\n      <td>freddie:non-standard</td>\n      <td>2014-03-01</td>\n      <td>488</td>\n    </tr>\n    <tr>\n      <th>34</th>\n      <td>freddie:non-standard</td>\n      <td>2014-06-01</td>\n      <td>485</td>\n    </tr>\n    <tr>\n      <th>35</th>\n      <td>freddie:non-standard</td>\n      <td>2014-07-01</td>\n      <td>485</td>\n    </tr>\n    <tr>\n      <th>36</th>\n      <td>freddie:non-standard</td>\n      <td>2014-01-01</td>\n      <td>470</td>\n    </tr>\n    <tr>\n      <th>37</th>\n      <td>freddie:non-standard</td>\n      <td>2014-08-01</td>\n      <td>458</td>\n    </tr>\n    <tr>\n      <th>38</th>\n      <td>freddie:non-standard</td>\n      <td>2017-12-01</td>\n      <td>453</td>\n    </tr>\n    <tr>\n      <th>39</th>\n      <td>freddie:non-standard</td>\n      <td>2014-09-01</td>\n      <td>436</td>\n    </tr>\n    <tr>\n      <th>40</th>\n      <td>freddie:non-standard</td>\n      <td>2014-12-01</td>\n      <td>435</td>\n    </tr>\n    <tr>\n      <th>41</th>\n      <td>freddie:non-standard</td>\n      <td>2014-10-01</td>\n      <td>393</td>\n    </tr>\n    <tr>\n      <th>42</th>\n      <td>freddie:non-standard</td>\n      <td>2015-01-01</td>\n      <td>372</td>\n    </tr>\n    <tr>\n      <th>43</th>\n      <td>freddie:non-standard</td>\n      <td>2015-03-01</td>\n      <td>316</td>\n    </tr>\n    <tr>\n      <th>44</th>\n      <td>freddie:non-standard</td>\n      <td>2014-11-01</td>\n      <td>302</td>\n    </tr>\n    <tr>\n      <th>45</th>\n      <td>freddie:non-standard</td>\n      <td>2015-02-01</td>\n      <td>302</td>\n    </tr>\n    <tr>\n      <th>46</th>\n      <td>freddie:non-standard</td>\n      <td>2018-01-01</td>\n      <td>282</td>\n    </tr>\n    <tr>\n      <th>47</th>\n      <td>freddie:non-standard</td>\n      <td>2015-04-01</td>\n      <td>265</td>\n    </tr>\n    <tr>\n      <th>48</th>\n      <td>freddie:non-standard</td>\n      <td>2018-10-01</td>\n      <td>246</td>\n    </tr>\n    <tr>\n      <th>49</th>\n      <td>freddie:non-standard</td>\n      <td>2015-05-01</td>\n      <td>246</td>\n    </tr>\n    <tr>\n      <th>50</th>\n      <td>freddie:non-standard</td>\n      <td>2019-01-01</td>\n      <td>239</td>\n    </tr>\n    <tr>\n      <th>51</th>\n      <td>freddie:non-standard</td>\n      <td>2015-06-01</td>\n      <td>219</td>\n    </tr>\n    <tr>\n      <th>52</th>\n      <td>freddie:non-standard</td>\n      <td>2015-07-01</td>\n      <td>213</td>\n    </tr>\n    <tr>\n      <th>53</th>\n      <td>freddie:non-standard</td>\n      <td>2015-08-01</td>\n      <td>197</td>\n    </tr>\n    <tr>\n      <th>54</th>\n      <td>freddie:non-standard</td>\n      <td>2015-10-01</td>\n      <td>186</td>\n    </tr>\n    <tr>\n      <th>55</th>\n      <td>freddie:non-standard</td>\n      <td>2016-03-01</td>\n      <td>185</td>\n    </tr>\n    <tr>\n      <th>56</th>\n      <td>freddie:non-standard</td>\n      <td>2016-02-01</td>\n      <td>178</td>\n    </tr>\n    <tr>\n      <th>57</th>\n      <td>freddie:non-standard</td>\n      <td>2015-09-01</td>\n      <td>172</td>\n    </tr>\n    <tr>\n      <th>58</th>\n      <td>freddie:non-standard</td>\n      <td>2015-11-01</td>\n      <td>170</td>\n    </tr>\n    <tr>\n      <th>59</th>\n      <td>freddie:non-standard</td>\n      <td>2019-06-01</td>\n      <td>168</td>\n    </tr>\n    <tr>\n      <th>60</th>\n      <td>freddie:non-standard</td>\n      <td>2018-09-01</td>\n      <td>164</td>\n    </tr>\n    <tr>\n      <th>61</th>\n      <td>freddie:non-standard</td>\n      <td>2018-11-01</td>\n      <td>160</td>\n    </tr>\n    <tr>\n      <th>62</th>\n      <td>freddie:non-standard</td>\n      <td>2015-12-01</td>\n      <td>157</td>\n    </tr>\n    <tr>\n      <th>63</th>\n      <td>freddie:non-standard</td>\n      <td>2016-08-01</td>\n      <td>150</td>\n    </tr>\n    <tr>\n      <th>64</th>\n      <td>freddie:non-standard</td>\n      <td>2018-05-01</td>\n      <td>146</td>\n    </tr>\n    <tr>\n      <th>65</th>\n      <td>freddie:non-standard</td>\n      <td>2016-01-01</td>\n      <td>144</td>\n    </tr>\n    <tr>\n      <th>66</th>\n      <td>freddie:non-standard</td>\n      <td>2016-10-01</td>\n      <td>139</td>\n    </tr>\n    <tr>\n      <th>67</th>\n      <td>freddie:non-standard</td>\n      <td>2018-12-01</td>\n      <td>136</td>\n    </tr>\n    <tr>\n      <th>68</th>\n      <td>freddie:non-standard</td>\n      <td>2016-05-01</td>\n      <td>134</td>\n    </tr>\n    <tr>\n      <th>69</th>\n      <td>freddie:non-standard</td>\n      <td>2017-08-01</td>\n      <td>133</td>\n    </tr>\n    <tr>\n      <th>70</th>\n      <td>freddie:non-standard</td>\n      <td>2017-01-01</td>\n      <td>133</td>\n    </tr>\n    <tr>\n      <th>71</th>\n      <td>freddie:non-standard</td>\n      <td>2016-04-01</td>\n      <td>128</td>\n    </tr>\n    <tr>\n      <th>72</th>\n      <td>freddie:non-standard</td>\n      <td>2016-06-01</td>\n      <td>128</td>\n    </tr>\n    <tr>\n      <th>73</th>\n      <td>freddie:non-standard</td>\n      <td>2016-11-01</td>\n      <td>121</td>\n    </tr>\n    <tr>\n      <th>74</th>\n      <td>freddie:non-standard</td>\n      <td>2018-02-01</td>\n      <td>118</td>\n    </tr>\n    <tr>\n      <th>75</th>\n      <td>freddie:non-standard</td>\n      <td>2016-09-01</td>\n      <td>117</td>\n    </tr>\n    <tr>\n      <th>76</th>\n      <td>freddie:non-standard</td>\n      <td>2016-12-01</td>\n      <td>116</td>\n    </tr>\n    <tr>\n      <th>77</th>\n      <td>freddie:non-standard</td>\n      <td>2017-02-01</td>\n      <td>104</td>\n    </tr>\n    <tr>\n      <th>78</th>\n      <td>freddie:non-standard</td>\n      <td>2019-02-01</td>\n      <td>103</td>\n    </tr>\n    <tr>\n      <th>79</th>\n      <td>freddie:non-standard</td>\n      <td>2016-07-01</td>\n      <td>102</td>\n    </tr>\n    <tr>\n      <th>80</th>\n      <td>freddie:non-standard</td>\n      <td>2019-07-01</td>\n      <td>101</td>\n    </tr>\n    <tr>\n      <th>81</th>\n      <td>freddie:non-standard</td>\n      <td>2018-03-01</td>\n      <td>99</td>\n    </tr>\n    <tr>\n      <th>82</th>\n      <td>freddie:non-standard</td>\n      <td>2018-07-01</td>\n      <td>98</td>\n    </tr>\n    <tr>\n      <th>83</th>\n      <td>freddie:non-standard</td>\n      <td>2020-02-01</td>\n      <td>91</td>\n    </tr>\n    <tr>\n      <th>84</th>\n      <td>freddie:non-standard</td>\n      <td>2017-03-01</td>\n      <td>91</td>\n    </tr>\n    <tr>\n      <th>85</th>\n      <td>freddie:non-standard</td>\n      <td>2017-05-01</td>\n      <td>84</td>\n    </tr>\n    <tr>\n      <th>86</th>\n      <td>freddie:non-standard</td>\n      <td>2019-04-01</td>\n      <td>84</td>\n    </tr>\n    <tr>\n      <th>87</th>\n      <td>freddie:non-standard</td>\n      <td>2017-04-01</td>\n      <td>81</td>\n    </tr>\n    <tr>\n      <th>88</th>\n      <td>freddie:non-standard</td>\n      <td>2018-06-01</td>\n      <td>79</td>\n    </tr>\n    <tr>\n      <th>89</th>\n      <td>freddie:non-standard</td>\n      <td>2019-05-01</td>\n      <td>76</td>\n    </tr>\n    <tr>\n      <th>90</th>\n      <td>freddie:non-standard</td>\n      <td>2019-10-01</td>\n      <td>74</td>\n    </tr>\n    <tr>\n      <th>91</th>\n      <td>freddie:non-standard</td>\n      <td>2017-06-01</td>\n      <td>74</td>\n    </tr>\n    <tr>\n      <th>92</th>\n      <td>freddie:non-standard</td>\n      <td>2018-04-01</td>\n      <td>71</td>\n    </tr>\n    <tr>\n      <th>93</th>\n      <td>freddie:non-standard</td>\n      <td>2017-07-01</td>\n      <td>67</td>\n    </tr>\n    <tr>\n      <th>94</th>\n      <td>freddie:non-standard</td>\n      <td>2019-11-01</td>\n      <td>64</td>\n    </tr>\n    <tr>\n      <th>95</th>\n      <td>freddie:non-standard</td>\n      <td>2019-03-01</td>\n      <td>60</td>\n    </tr>\n    <tr>\n      <th>96</th>\n      <td>freddie:non-standard</td>\n      <td>2020-01-01</td>\n      <td>59</td>\n    </tr>\n    <tr>\n      <th>97</th>\n      <td>freddie:non-standard</td>\n      <td>2019-08-01</td>\n      <td>59</td>\n    </tr>\n    <tr>\n      <th>98</th>\n      <td>freddie:non-standard</td>\n      <td>2018-08-01</td>\n      <td>56</td>\n    </tr>\n    <tr>\n      <th>99</th>\n      <td>freddie:non-standard</td>\n      <td>2019-09-01</td>\n      <td>54</td>\n    </tr>\n    <tr>\n      <th>100</th>\n      <td>freddie:non-standard</td>\n      <td>2019-12-01</td>\n      <td>48</td>\n    </tr>\n    <tr>\n      <th>101</th>\n      <td>freddie:standard</td>\n      <td>2020-04-01</td>\n      <td>272963</td>\n    </tr>\n    <tr>\n      <th>102</th>\n      <td>freddie:standard</td>\n      <td>2020-05-01</td>\n      <td>158198</td>\n    </tr>\n    <tr>\n      <th>103</th>\n      <td>freddie:standard</td>\n      <td>2020-06-01</td>\n      <td>58784</td>\n    </tr>\n    <tr>\n      <th>104</th>\n      <td>freddie:standard</td>\n      <td>2020-09-01</td>\n      <td>42992</td>\n    </tr>\n    <tr>\n      <th>105</th>\n      <td>freddie:standard</td>\n      <td>2020-07-01</td>\n      <td>32618</td>\n    </tr>\n    <tr>\n      <th>106</th>\n      <td>freddie:standard</td>\n      <td>2020-08-01</td>\n      <td>21168</td>\n    </tr>\n    <tr>\n      <th>107</th>\n      <td>freddie:standard</td>\n      <td>2017-10-01</td>\n      <td>19078</td>\n    </tr>\n    <tr>\n      <th>108</th>\n      <td>freddie:standard</td>\n      <td>2020-10-01</td>\n      <td>18477</td>\n    </tr>\n    <tr>\n      <th>109</th>\n      <td>freddie:standard</td>\n      <td>2017-11-01</td>\n      <td>15917</td>\n    </tr>\n    <tr>\n      <th>110</th>\n      <td>freddie:standard</td>\n      <td>2020-12-01</td>\n      <td>13770</td>\n    </tr>\n    <tr>\n      <th>111</th>\n      <td>freddie:standard</td>\n      <td>2020-11-01</td>\n      <td>13667</td>\n    </tr>\n    <tr>\n      <th>112</th>\n      <td>freddie:standard</td>\n      <td>2020-03-01</td>\n      <td>12823</td>\n    </tr>\n    <tr>\n      <th>113</th>\n      <td>freddie:standard</td>\n      <td>2017-09-01</td>\n      <td>9257</td>\n    </tr>\n    <tr>\n      <th>114</th>\n      <td>freddie:standard</td>\n      <td>2019-01-01</td>\n      <td>2161</td>\n    </tr>\n    <tr>\n      <th>115</th>\n      <td>freddie:standard</td>\n      <td>2017-12-01</td>\n      <td>1868</td>\n    </tr>\n    <tr>\n      <th>116</th>\n      <td>freddie:standard</td>\n      <td>2018-10-01</td>\n      <td>1667</td>\n    </tr>\n    <tr>\n      <th>117</th>\n      <td>freddie:standard</td>\n      <td>2014-04-01</td>\n      <td>1560</td>\n    </tr>\n    <tr>\n      <th>118</th>\n      <td>freddie:standard</td>\n      <td>2018-01-01</td>\n      <td>1495</td>\n    </tr>\n    <tr>\n      <th>119</th>\n      <td>freddie:standard</td>\n      <td>2014-08-01</td>\n      <td>1197</td>\n    </tr>\n    <tr>\n      <th>120</th>\n      <td>freddie:standard</td>\n      <td>2014-07-01</td>\n      <td>1190</td>\n    </tr>\n    <tr>\n      <th>121</th>\n      <td>freddie:standard</td>\n      <td>2014-09-01</td>\n      <td>1180</td>\n    </tr>\n    <tr>\n      <th>122</th>\n      <td>freddie:standard</td>\n      <td>2014-05-01</td>\n      <td>1136</td>\n    </tr>\n    <tr>\n      <th>123</th>\n      <td>freddie:standard</td>\n      <td>2018-11-01</td>\n      <td>1113</td>\n    </tr>\n    <tr>\n      <th>124</th>\n      <td>freddie:standard</td>\n      <td>2018-12-01</td>\n      <td>1099</td>\n    </tr>\n    <tr>\n      <th>125</th>\n      <td>freddie:standard</td>\n      <td>2014-06-01</td>\n      <td>1095</td>\n    </tr>\n    <tr>\n      <th>126</th>\n      <td>freddie:standard</td>\n      <td>2014-02-01</td>\n      <td>1087</td>\n    </tr>\n    <tr>\n      <th>127</th>\n      <td>freddie:standard</td>\n      <td>2018-09-01</td>\n      <td>1086</td>\n    </tr>\n    <tr>\n      <th>128</th>\n      <td>freddie:standard</td>\n      <td>2014-12-01</td>\n      <td>1062</td>\n    </tr>\n    <tr>\n      <th>129</th>\n      <td>freddie:standard</td>\n      <td>2014-01-01</td>\n      <td>1061</td>\n    </tr>\n    <tr>\n      <th>130</th>\n      <td>freddie:standard</td>\n      <td>2014-03-01</td>\n      <td>1045</td>\n    </tr>\n    <tr>\n      <th>131</th>\n      <td>freddie:standard</td>\n      <td>2019-02-01</td>\n      <td>1035</td>\n    </tr>\n    <tr>\n      <th>132</th>\n      <td>freddie:standard</td>\n      <td>2014-10-01</td>\n      <td>996</td>\n    </tr>\n    <tr>\n      <th>133</th>\n      <td>freddie:standard</td>\n      <td>2015-01-01</td>\n      <td>954</td>\n    </tr>\n    <tr>\n      <th>134</th>\n      <td>freddie:standard</td>\n      <td>2019-10-01</td>\n      <td>921</td>\n    </tr>\n    <tr>\n      <th>135</th>\n      <td>freddie:standard</td>\n      <td>2019-07-01</td>\n      <td>906</td>\n    </tr>\n    <tr>\n      <th>136</th>\n      <td>freddie:standard</td>\n      <td>2016-09-01</td>\n      <td>844</td>\n    </tr>\n    <tr>\n      <th>137</th>\n      <td>freddie:standard</td>\n      <td>2015-02-01</td>\n      <td>833</td>\n    </tr>\n    <tr>\n      <th>138</th>\n      <td>freddie:standard</td>\n      <td>2015-03-01</td>\n      <td>797</td>\n    </tr>\n    <tr>\n      <th>139</th>\n      <td>freddie:standard</td>\n      <td>2014-11-01</td>\n      <td>797</td>\n    </tr>\n    <tr>\n      <th>140</th>\n      <td>freddie:standard</td>\n      <td>2019-06-01</td>\n      <td>786</td>\n    </tr>\n    <tr>\n      <th>141</th>\n      <td>freddie:standard</td>\n      <td>2015-04-01</td>\n      <td>763</td>\n    </tr>\n    <tr>\n      <th>142</th>\n      <td>freddie:standard</td>\n      <td>2019-11-01</td>\n      <td>694</td>\n    </tr>\n    <tr>\n      <th>143</th>\n      <td>freddie:standard</td>\n      <td>2017-08-01</td>\n      <td>693</td>\n    </tr>\n    <tr>\n      <th>144</th>\n      <td>freddie:standard</td>\n      <td>2019-08-01</td>\n      <td>645</td>\n    </tr>\n    <tr>\n      <th>145</th>\n      <td>freddie:standard</td>\n      <td>2015-05-01</td>\n      <td>640</td>\n    </tr>\n    <tr>\n      <th>146</th>\n      <td>freddie:standard</td>\n      <td>2018-03-01</td>\n      <td>633</td>\n    </tr>\n    <tr>\n      <th>147</th>\n      <td>freddie:standard</td>\n      <td>2019-04-01</td>\n      <td>607</td>\n    </tr>\n    <tr>\n      <th>148</th>\n      <td>freddie:standard</td>\n      <td>2020-02-01</td>\n      <td>595</td>\n    </tr>\n    <tr>\n      <th>149</th>\n      <td>freddie:standard</td>\n      <td>2016-08-01</td>\n      <td>591</td>\n    </tr>\n    <tr>\n      <th>150</th>\n      <td>freddie:standard</td>\n      <td>2020-01-01</td>\n      <td>570</td>\n    </tr>\n    <tr>\n      <th>151</th>\n      <td>freddie:standard</td>\n      <td>2019-12-01</td>\n      <td>560</td>\n    </tr>\n    <tr>\n      <th>152</th>\n      <td>freddie:standard</td>\n      <td>2016-10-01</td>\n      <td>555</td>\n    </tr>\n    <tr>\n      <th>153</th>\n      <td>freddie:standard</td>\n      <td>2015-08-01</td>\n      <td>553</td>\n    </tr>\n    <tr>\n      <th>154</th>\n      <td>freddie:standard</td>\n      <td>2015-06-01</td>\n      <td>549</td>\n    </tr>\n    <tr>\n      <th>155</th>\n      <td>freddie:standard</td>\n      <td>2015-07-01</td>\n      <td>542</td>\n    </tr>\n    <tr>\n      <th>156</th>\n      <td>freddie:standard</td>\n      <td>2015-10-01</td>\n      <td>541</td>\n    </tr>\n    <tr>\n      <th>157</th>\n      <td>freddie:standard</td>\n      <td>2016-02-01</td>\n      <td>539</td>\n    </tr>\n    <tr>\n      <th>158</th>\n      <td>freddie:standard</td>\n      <td>2019-09-01</td>\n      <td>537</td>\n    </tr>\n    <tr>\n      <th>159</th>\n      <td>freddie:standard</td>\n      <td>2019-03-01</td>\n      <td>531</td>\n    </tr>\n    <tr>\n      <th>160</th>\n      <td>freddie:standard</td>\n      <td>2018-05-01</td>\n      <td>526</td>\n    </tr>\n    <tr>\n      <th>161</th>\n      <td>freddie:standard</td>\n      <td>2016-11-01</td>\n      <td>514</td>\n    </tr>\n    <tr>\n      <th>162</th>\n      <td>freddie:standard</td>\n      <td>2015-12-01</td>\n      <td>510</td>\n    </tr>\n    <tr>\n      <th>163</th>\n      <td>freddie:standard</td>\n      <td>2018-06-01</td>\n      <td>507</td>\n    </tr>\n    <tr>\n      <th>164</th>\n      <td>freddie:standard</td>\n      <td>2015-11-01</td>\n      <td>488</td>\n    </tr>\n    <tr>\n      <th>165</th>\n      <td>freddie:standard</td>\n      <td>2016-03-01</td>\n      <td>482</td>\n    </tr>\n    <tr>\n      <th>166</th>\n      <td>freddie:standard</td>\n      <td>2016-01-01</td>\n      <td>479</td>\n    </tr>\n    <tr>\n      <th>167</th>\n      <td>freddie:standard</td>\n      <td>2017-01-01</td>\n      <td>478</td>\n    </tr>\n    <tr>\n      <th>168</th>\n      <td>freddie:standard</td>\n      <td>2015-09-01</td>\n      <td>476</td>\n    </tr>\n    <tr>\n      <th>169</th>\n      <td>freddie:standard</td>\n      <td>2018-02-01</td>\n      <td>469</td>\n    </tr>\n    <tr>\n      <th>170</th>\n      <td>freddie:standard</td>\n      <td>2016-04-01</td>\n      <td>468</td>\n    </tr>\n    <tr>\n      <th>171</th>\n      <td>freddie:standard</td>\n      <td>2018-07-01</td>\n      <td>467</td>\n    </tr>\n    <tr>\n      <th>172</th>\n      <td>freddie:standard</td>\n      <td>2018-08-01</td>\n      <td>465</td>\n    </tr>\n    <tr>\n      <th>173</th>\n      <td>freddie:standard</td>\n      <td>2019-05-01</td>\n      <td>460</td>\n    </tr>\n    <tr>\n      <th>174</th>\n      <td>freddie:standard</td>\n      <td>2016-12-01</td>\n      <td>459</td>\n    </tr>\n    <tr>\n      <th>175</th>\n      <td>freddie:standard</td>\n      <td>2017-02-01</td>\n      <td>425</td>\n    </tr>\n    <tr>\n      <th>176</th>\n      <td>freddie:standard</td>\n      <td>2016-05-01</td>\n      <td>417</td>\n    </tr>\n    <tr>\n      <th>177</th>\n      <td>freddie:standard</td>\n      <td>2017-03-01</td>\n      <td>405</td>\n    </tr>\n    <tr>\n      <th>178</th>\n      <td>freddie:standard</td>\n      <td>2016-06-01</td>\n      <td>399</td>\n    </tr>\n    <tr>\n      <th>179</th>\n      <td>freddie:standard</td>\n      <td>2018-04-01</td>\n      <td>372</td>\n    </tr>\n    <tr>\n      <th>180</th>\n      <td>freddie:standard</td>\n      <td>2016-07-01</td>\n      <td>365</td>\n    </tr>\n    <tr>\n      <th>181</th>\n      <td>freddie:standard</td>\n      <td>2017-04-01</td>\n      <td>353</td>\n    </tr>\n    <tr>\n      <th>182</th>\n      <td>freddie:standard</td>\n      <td>2017-06-01</td>\n      <td>333</td>\n    </tr>\n    <tr>\n      <th>183</th>\n      <td>freddie:standard</td>\n      <td>2017-05-01</td>\n      <td>327</td>\n    </tr>\n    <tr>\n      <th>184</th>\n      <td>freddie:standard</td>\n      <td>2017-07-01</td>\n      <td>295</td>\n    </tr>\n  </tbody>\n</table>\n</div>"
     },
     "execution_count": 70,
     "metadata": {},
     "output_type": "execute_result"
    }
   ],
   "source": [
    "\n",
    "# loans with bap = F: first date distribution\n",
    "qry = \\\n",
    "\"\"\"\n",
    "SELECT\n",
    "    src_data,\n",
    "    arrayElement(monthly.dt, indexOf(monthly.borr_asst_plan, 'F')) AS dt,\n",
    "    count(*) AS nl\n",
    "FROM\n",
    "    unified.frannie\n",
    "WHERE\n",
    "    has(monthly.borr_asst_plan, 'F')\n",
    "GROUP BY src_data, dt\n",
    "ORDER BY src_data, nl DESC\n",
    "\"\"\"\n",
    "\n",
    "df8d = chu.run_query(qry, client, return_df=True)\n",
    "df8d.head(n=1000)"
   ],
   "metadata": {
    "collapsed": false,
    "pycharm": {
     "name": "#%%\n"
    }
   }
  },
  {
   "cell_type": "code",
   "execution_count": 71,
   "outputs": [
    {
     "data": {
      "text/plain": "   bap     nl   \n0   0   92202937\n1   1    1833140",
      "text/html": "<div>\n<style scoped>\n    .dataframe tbody tr th:only-of-type {\n        vertical-align: middle;\n    }\n\n    .dataframe tbody tr th {\n        vertical-align: top;\n    }\n\n    .dataframe thead th {\n        text-align: right;\n    }\n</style>\n<table border=\"1\" class=\"dataframe\">\n  <thead>\n    <tr style=\"text-align: center;\">\n      <th></th>\n      <th>bap</th>\n      <th>nl</th>\n    </tr>\n  </thead>\n  <tbody>\n    <tr>\n      <th>0</th>\n      <td>0</td>\n      <td>92202937</td>\n    </tr>\n    <tr>\n      <th>1</th>\n      <td>1</td>\n      <td>1833140</td>\n    </tr>\n  </tbody>\n</table>\n</div>"
     },
     "execution_count": 71,
     "metadata": {},
     "output_type": "execute_result"
    }
   ],
   "source": [
    "# loans with bap = F\n",
    "qry = \\\n",
    "\"\"\"\n",
    "SELECT\n",
    "    has(monthly.borr_asst_plan, 'F') AS bap,\n",
    "    count(*) AS nl\n",
    "FROM\n",
    "    unified.frannie\n",
    "GROUP BY bap\n",
    "\"\"\"\n",
    "\n",
    "df8b = chu.run_query(qry, client, return_df=True)\n",
    "df8b.head()"
   ],
   "metadata": {
    "collapsed": false,
    "pycharm": {
     "name": "#%%\n"
    }
   }
  },
  {
   "cell_type": "code",
   "execution_count": 72,
   "outputs": [
    {
     "data": {
      "text/plain": "   bap     nl   \n0   0   93691931\n1   1     344146",
      "text/html": "<div>\n<style scoped>\n    .dataframe tbody tr th:only-of-type {\n        vertical-align: middle;\n    }\n\n    .dataframe tbody tr th {\n        vertical-align: top;\n    }\n\n    .dataframe thead th {\n        text-align: right;\n    }\n</style>\n<table border=\"1\" class=\"dataframe\">\n  <thead>\n    <tr style=\"text-align: center;\">\n      <th></th>\n      <th>bap</th>\n      <th>nl</th>\n    </tr>\n  </thead>\n  <tbody>\n    <tr>\n      <th>0</th>\n      <td>0</td>\n      <td>93691931</td>\n    </tr>\n    <tr>\n      <th>1</th>\n      <td>1</td>\n      <td>344146</td>\n    </tr>\n  </tbody>\n</table>\n</div>"
     },
     "execution_count": 72,
     "metadata": {},
     "output_type": "execute_result"
    }
   ],
   "source": [
    "# loans with bap = T\n",
    "qry = \\\n",
    "\"\"\"\n",
    "SELECT\n",
    "    has(monthly.borr_asst_plan, 'T') AS bap,\n",
    "    count(*) AS nl\n",
    "FROM\n",
    "    unified.frannie\n",
    "GROUP BY bap\n",
    "\"\"\"\n",
    "\n",
    "df8a = chu.run_query(qry, client, return_df=True)\n",
    "df8a.head()"
   ],
   "metadata": {
    "collapsed": false,
    "pycharm": {
     "name": "#%%\n"
    }
   }
  },
  {
   "cell_type": "code",
   "execution_count": 73,
   "outputs": [
    {
     "data": {
      "text/plain": "          src_data        prior_dq    nl  \n0                 fannie      0     389598\n1                 fannie      1     459036\n2                 fannie      2      65115\n3                 fannie      3      22216\n4                 fannie      4      13521\n5                 fannie      5      12748\n6                 fannie      6      54371\n7   freddie:non-standard      0       3210\n8   freddie:non-standard      1      27499\n9   freddie:non-standard      2       7696\n10  freddie:non-standard      3       4532\n11  freddie:non-standard      4       3400\n12  freddie:non-standard      5       3589\n13  freddie:non-standard      6      23649\n14      freddie:standard      0      77532\n15      freddie:standard      1     508625\n16      freddie:standard      2      62769\n17      freddie:standard      3      24377\n18      freddie:standard      4      12711\n19      freddie:standard      5      10503\n20      freddie:standard      6      46443",
      "text/html": "<div>\n<style scoped>\n    .dataframe tbody tr th:only-of-type {\n        vertical-align: middle;\n    }\n\n    .dataframe tbody tr th {\n        vertical-align: top;\n    }\n\n    .dataframe thead th {\n        text-align: right;\n    }\n</style>\n<table border=\"1\" class=\"dataframe\">\n  <thead>\n    <tr style=\"text-align: center;\">\n      <th></th>\n      <th>src_data</th>\n      <th>prior_dq</th>\n      <th>nl</th>\n    </tr>\n  </thead>\n  <tbody>\n    <tr>\n      <th>0</th>\n      <td>fannie</td>\n      <td>0</td>\n      <td>389598</td>\n    </tr>\n    <tr>\n      <th>1</th>\n      <td>fannie</td>\n      <td>1</td>\n      <td>459036</td>\n    </tr>\n    <tr>\n      <th>2</th>\n      <td>fannie</td>\n      <td>2</td>\n      <td>65115</td>\n    </tr>\n    <tr>\n      <th>3</th>\n      <td>fannie</td>\n      <td>3</td>\n      <td>22216</td>\n    </tr>\n    <tr>\n      <th>4</th>\n      <td>fannie</td>\n      <td>4</td>\n      <td>13521</td>\n    </tr>\n    <tr>\n      <th>5</th>\n      <td>fannie</td>\n      <td>5</td>\n      <td>12748</td>\n    </tr>\n    <tr>\n      <th>6</th>\n      <td>fannie</td>\n      <td>6</td>\n      <td>54371</td>\n    </tr>\n    <tr>\n      <th>7</th>\n      <td>freddie:non-standard</td>\n      <td>0</td>\n      <td>3210</td>\n    </tr>\n    <tr>\n      <th>8</th>\n      <td>freddie:non-standard</td>\n      <td>1</td>\n      <td>27499</td>\n    </tr>\n    <tr>\n      <th>9</th>\n      <td>freddie:non-standard</td>\n      <td>2</td>\n      <td>7696</td>\n    </tr>\n    <tr>\n      <th>10</th>\n      <td>freddie:non-standard</td>\n      <td>3</td>\n      <td>4532</td>\n    </tr>\n    <tr>\n      <th>11</th>\n      <td>freddie:non-standard</td>\n      <td>4</td>\n      <td>3400</td>\n    </tr>\n    <tr>\n      <th>12</th>\n      <td>freddie:non-standard</td>\n      <td>5</td>\n      <td>3589</td>\n    </tr>\n    <tr>\n      <th>13</th>\n      <td>freddie:non-standard</td>\n      <td>6</td>\n      <td>23649</td>\n    </tr>\n    <tr>\n      <th>14</th>\n      <td>freddie:standard</td>\n      <td>0</td>\n      <td>77532</td>\n    </tr>\n    <tr>\n      <th>15</th>\n      <td>freddie:standard</td>\n      <td>1</td>\n      <td>508625</td>\n    </tr>\n    <tr>\n      <th>16</th>\n      <td>freddie:standard</td>\n      <td>2</td>\n      <td>62769</td>\n    </tr>\n    <tr>\n      <th>17</th>\n      <td>freddie:standard</td>\n      <td>3</td>\n      <td>24377</td>\n    </tr>\n    <tr>\n      <th>18</th>\n      <td>freddie:standard</td>\n      <td>4</td>\n      <td>12711</td>\n    </tr>\n    <tr>\n      <th>19</th>\n      <td>freddie:standard</td>\n      <td>5</td>\n      <td>10503</td>\n    </tr>\n    <tr>\n      <th>20</th>\n      <td>freddie:standard</td>\n      <td>6</td>\n      <td>46443</td>\n    </tr>\n  </tbody>\n</table>\n</div>"
     },
     "execution_count": 73,
     "metadata": {},
     "output_type": "execute_result"
    }
   ],
   "source": [
    "\n",
    "# look at relations between borr_asst_plan=F and max prior dq\n",
    "\n",
    "qry = \\\n",
    "\"\"\"\n",
    "SELECT\n",
    "  src_data,\n",
    "  prior_dq > 6 ? 6 : prior_dq AS prior_dq,\n",
    "  count(*) AS nl\n",
    "FROM (\n",
    "    SELECT\n",
    "        src_data,\n",
    "        arrayMax(arraySlice(monthly.months_dq, 1, indexOf(monthly.borr_asst_plan, 'F'))) AS prior_dq\n",
    "    FROM\n",
    "        unified.frannie\n",
    "    WHERE\n",
    "        has(monthly.borr_asst_plan, 'F'))\n",
    "GROUP BY src_data, prior_dq\n",
    "ORDER BY src_data, prior_dq\n",
    "\"\"\"\n",
    "\n",
    "df9 = chu.run_query(qry, client, return_df=True)\n",
    "df9.head(n=1000)"
   ],
   "metadata": {
    "collapsed": false,
    "pycharm": {
     "name": "#%%\n"
    }
   }
  },
  {
   "cell_type": "code",
   "execution_count": 74,
   "outputs": [
    {
     "data": {
      "text/plain": "          src_data        prior_dq   nl  \n0                 fannie      0       638\n1                 fannie      1      3370\n2                 fannie      2      5087\n3                 fannie      3      3896\n4                 fannie      4      1061\n5                 fannie      5      1055\n6                 fannie      6      3455\n7   freddie:non-standard      0        19\n8   freddie:non-standard      1      2872\n9   freddie:non-standard      2      4829\n10  freddie:non-standard      3      3561\n11  freddie:non-standard      4      2847\n12  freddie:non-standard      5      2578\n13  freddie:non-standard      6     17537\n14      freddie:standard      0       296\n15      freddie:standard      1     25976\n16      freddie:standard      2     23677\n17      freddie:standard      3     12999\n18      freddie:standard      4      7455\n19      freddie:standard      5      6414\n20      freddie:standard      6     29427",
      "text/html": "<div>\n<style scoped>\n    .dataframe tbody tr th:only-of-type {\n        vertical-align: middle;\n    }\n\n    .dataframe tbody tr th {\n        vertical-align: top;\n    }\n\n    .dataframe thead th {\n        text-align: right;\n    }\n</style>\n<table border=\"1\" class=\"dataframe\">\n  <thead>\n    <tr style=\"text-align: center;\">\n      <th></th>\n      <th>src_data</th>\n      <th>prior_dq</th>\n      <th>nl</th>\n    </tr>\n  </thead>\n  <tbody>\n    <tr>\n      <th>0</th>\n      <td>fannie</td>\n      <td>0</td>\n      <td>638</td>\n    </tr>\n    <tr>\n      <th>1</th>\n      <td>fannie</td>\n      <td>1</td>\n      <td>3370</td>\n    </tr>\n    <tr>\n      <th>2</th>\n      <td>fannie</td>\n      <td>2</td>\n      <td>5087</td>\n    </tr>\n    <tr>\n      <th>3</th>\n      <td>fannie</td>\n      <td>3</td>\n      <td>3896</td>\n    </tr>\n    <tr>\n      <th>4</th>\n      <td>fannie</td>\n      <td>4</td>\n      <td>1061</td>\n    </tr>\n    <tr>\n      <th>5</th>\n      <td>fannie</td>\n      <td>5</td>\n      <td>1055</td>\n    </tr>\n    <tr>\n      <th>6</th>\n      <td>fannie</td>\n      <td>6</td>\n      <td>3455</td>\n    </tr>\n    <tr>\n      <th>7</th>\n      <td>freddie:non-standard</td>\n      <td>0</td>\n      <td>19</td>\n    </tr>\n    <tr>\n      <th>8</th>\n      <td>freddie:non-standard</td>\n      <td>1</td>\n      <td>2872</td>\n    </tr>\n    <tr>\n      <th>9</th>\n      <td>freddie:non-standard</td>\n      <td>2</td>\n      <td>4829</td>\n    </tr>\n    <tr>\n      <th>10</th>\n      <td>freddie:non-standard</td>\n      <td>3</td>\n      <td>3561</td>\n    </tr>\n    <tr>\n      <th>11</th>\n      <td>freddie:non-standard</td>\n      <td>4</td>\n      <td>2847</td>\n    </tr>\n    <tr>\n      <th>12</th>\n      <td>freddie:non-standard</td>\n      <td>5</td>\n      <td>2578</td>\n    </tr>\n    <tr>\n      <th>13</th>\n      <td>freddie:non-standard</td>\n      <td>6</td>\n      <td>17537</td>\n    </tr>\n    <tr>\n      <th>14</th>\n      <td>freddie:standard</td>\n      <td>0</td>\n      <td>296</td>\n    </tr>\n    <tr>\n      <th>15</th>\n      <td>freddie:standard</td>\n      <td>1</td>\n      <td>25976</td>\n    </tr>\n    <tr>\n      <th>16</th>\n      <td>freddie:standard</td>\n      <td>2</td>\n      <td>23677</td>\n    </tr>\n    <tr>\n      <th>17</th>\n      <td>freddie:standard</td>\n      <td>3</td>\n      <td>12999</td>\n    </tr>\n    <tr>\n      <th>18</th>\n      <td>freddie:standard</td>\n      <td>4</td>\n      <td>7455</td>\n    </tr>\n    <tr>\n      <th>19</th>\n      <td>freddie:standard</td>\n      <td>5</td>\n      <td>6414</td>\n    </tr>\n    <tr>\n      <th>20</th>\n      <td>freddie:standard</td>\n      <td>6</td>\n      <td>29427</td>\n    </tr>\n  </tbody>\n</table>\n</div>"
     },
     "execution_count": 74,
     "metadata": {},
     "output_type": "execute_result"
    }
   ],
   "source": [
    "\n",
    "# look at relations between borr_asst_plan=R and max prior dq\n",
    "\n",
    "qry = \\\n",
    "\"\"\"\n",
    "SELECT\n",
    "  src_data,\n",
    "  prior_dq > 6 ? 6 : prior_dq AS prior_dq,\n",
    "  count(*) AS nl\n",
    "FROM (\n",
    "    SELECT\n",
    "        src_data,\n",
    "        arrayMax(arraySlice(monthly.months_dq, 1, indexOf(monthly.borr_asst_plan, 'R'))) AS prior_dq\n",
    "    FROM\n",
    "        unified.frannie\n",
    "    WHERE\n",
    "        has(monthly.borr_asst_plan, 'R'))\n",
    "GROUP BY src_data, prior_dq\n",
    "ORDER BY src_data, prior_dq\n",
    "\"\"\"\n",
    "\n",
    "df9 = chu.run_query(qry, client, return_df=True)\n",
    "df9.head(n=1000)"
   ],
   "metadata": {
    "collapsed": false,
    "pycharm": {
     "name": "#%%\n"
    }
   }
  },
  {
   "cell_type": "code",
   "execution_count": 75,
   "outputs": [
    {
     "data": {
      "text/plain": "   avg_num_months_\n0     3.872851    ",
      "text/html": "<div>\n<style scoped>\n    .dataframe tbody tr th:only-of-type {\n        vertical-align: middle;\n    }\n\n    .dataframe tbody tr th {\n        vertical-align: top;\n    }\n\n    .dataframe thead th {\n        text-align: right;\n    }\n</style>\n<table border=\"1\" class=\"dataframe\">\n  <thead>\n    <tr style=\"text-align: center;\">\n      <th></th>\n      <th>avg_num_months_</th>\n    </tr>\n  </thead>\n  <tbody>\n    <tr>\n      <th>0</th>\n      <td>3.872851</td>\n    </tr>\n  </tbody>\n</table>\n</div>"
     },
     "execution_count": 75,
     "metadata": {},
     "output_type": "execute_result"
    }
   ],
   "source": [
    "# of months bap=F distribution\n",
    "\n",
    "qry = \\\n",
    "\"\"\"\n",
    "SELECT\n",
    "  avg(num_months)\n",
    "FROM (\n",
    "    SELECT\n",
    "        arrayElement(monthly.borr_asst_plan, length(monthly.borr_asst_plan)) AS last_element,\n",
    "        countEqual(monthly.borr_asst_plan, 'F') AS num_months\n",
    "    FROM\n",
    "        unified.frannie\n",
    "    WHERE\n",
    "        has(monthly.borr_asst_plan, 'F')\n",
    "        AND last_element != 'F')\n",
    "\"\"\"\n",
    "\n",
    "df9a = chu.run_query(qry, client, return_df=True)\n",
    "df9a.head(n=1000)\n"
   ],
   "metadata": {
    "collapsed": false,
    "pycharm": {
     "name": "#%%\n"
    }
   }
  },
  {
   "cell_type": "code",
   "execution_count": 76,
   "outputs": [
    {
     "data": {
      "text/plain": "    num_months  num_loans\n0        1       138364  \n1        2       178454  \n2        3       226399  \n3        4       169206  \n4        5       132913  \n5        6       130924  \n6        7        75306  \n7        8        38321  \n8        9         4190  \n9       10         2179  \n10      11         1599  \n11      12         1031  \n12      13          711  \n13      14          534  \n14      15          346  \n15      16          227  \n16      17          182  \n17      18          203  \n18      19           96  \n19      20           59  \n20      21           33  \n21      22           35  \n22      23           18  \n23      24           31  \n24      25           26  \n25      26           19  \n26      27           15  \n27      28           17  \n28      29            7  \n29      30            7  \n30      31            4  \n31      32            2  \n32      33            2  \n33      34            3  \n34      35            2  \n35      36            1  \n36      37            3  \n37      38            2  \n38      41            1  \n39      42            1  \n40      43            1  \n41      50            1  \n42      51            1  \n43      55            1  ",
      "text/html": "<div>\n<style scoped>\n    .dataframe tbody tr th:only-of-type {\n        vertical-align: middle;\n    }\n\n    .dataframe tbody tr th {\n        vertical-align: top;\n    }\n\n    .dataframe thead th {\n        text-align: right;\n    }\n</style>\n<table border=\"1\" class=\"dataframe\">\n  <thead>\n    <tr style=\"text-align: center;\">\n      <th></th>\n      <th>num_months</th>\n      <th>num_loans</th>\n    </tr>\n  </thead>\n  <tbody>\n    <tr>\n      <th>0</th>\n      <td>1</td>\n      <td>138364</td>\n    </tr>\n    <tr>\n      <th>1</th>\n      <td>2</td>\n      <td>178454</td>\n    </tr>\n    <tr>\n      <th>2</th>\n      <td>3</td>\n      <td>226399</td>\n    </tr>\n    <tr>\n      <th>3</th>\n      <td>4</td>\n      <td>169206</td>\n    </tr>\n    <tr>\n      <th>4</th>\n      <td>5</td>\n      <td>132913</td>\n    </tr>\n    <tr>\n      <th>5</th>\n      <td>6</td>\n      <td>130924</td>\n    </tr>\n    <tr>\n      <th>6</th>\n      <td>7</td>\n      <td>75306</td>\n    </tr>\n    <tr>\n      <th>7</th>\n      <td>8</td>\n      <td>38321</td>\n    </tr>\n    <tr>\n      <th>8</th>\n      <td>9</td>\n      <td>4190</td>\n    </tr>\n    <tr>\n      <th>9</th>\n      <td>10</td>\n      <td>2179</td>\n    </tr>\n    <tr>\n      <th>10</th>\n      <td>11</td>\n      <td>1599</td>\n    </tr>\n    <tr>\n      <th>11</th>\n      <td>12</td>\n      <td>1031</td>\n    </tr>\n    <tr>\n      <th>12</th>\n      <td>13</td>\n      <td>711</td>\n    </tr>\n    <tr>\n      <th>13</th>\n      <td>14</td>\n      <td>534</td>\n    </tr>\n    <tr>\n      <th>14</th>\n      <td>15</td>\n      <td>346</td>\n    </tr>\n    <tr>\n      <th>15</th>\n      <td>16</td>\n      <td>227</td>\n    </tr>\n    <tr>\n      <th>16</th>\n      <td>17</td>\n      <td>182</td>\n    </tr>\n    <tr>\n      <th>17</th>\n      <td>18</td>\n      <td>203</td>\n    </tr>\n    <tr>\n      <th>18</th>\n      <td>19</td>\n      <td>96</td>\n    </tr>\n    <tr>\n      <th>19</th>\n      <td>20</td>\n      <td>59</td>\n    </tr>\n    <tr>\n      <th>20</th>\n      <td>21</td>\n      <td>33</td>\n    </tr>\n    <tr>\n      <th>21</th>\n      <td>22</td>\n      <td>35</td>\n    </tr>\n    <tr>\n      <th>22</th>\n      <td>23</td>\n      <td>18</td>\n    </tr>\n    <tr>\n      <th>23</th>\n      <td>24</td>\n      <td>31</td>\n    </tr>\n    <tr>\n      <th>24</th>\n      <td>25</td>\n      <td>26</td>\n    </tr>\n    <tr>\n      <th>25</th>\n      <td>26</td>\n      <td>19</td>\n    </tr>\n    <tr>\n      <th>26</th>\n      <td>27</td>\n      <td>15</td>\n    </tr>\n    <tr>\n      <th>27</th>\n      <td>28</td>\n      <td>17</td>\n    </tr>\n    <tr>\n      <th>28</th>\n      <td>29</td>\n      <td>7</td>\n    </tr>\n    <tr>\n      <th>29</th>\n      <td>30</td>\n      <td>7</td>\n    </tr>\n    <tr>\n      <th>30</th>\n      <td>31</td>\n      <td>4</td>\n    </tr>\n    <tr>\n      <th>31</th>\n      <td>32</td>\n      <td>2</td>\n    </tr>\n    <tr>\n      <th>32</th>\n      <td>33</td>\n      <td>2</td>\n    </tr>\n    <tr>\n      <th>33</th>\n      <td>34</td>\n      <td>3</td>\n    </tr>\n    <tr>\n      <th>34</th>\n      <td>35</td>\n      <td>2</td>\n    </tr>\n    <tr>\n      <th>35</th>\n      <td>36</td>\n      <td>1</td>\n    </tr>\n    <tr>\n      <th>36</th>\n      <td>37</td>\n      <td>3</td>\n    </tr>\n    <tr>\n      <th>37</th>\n      <td>38</td>\n      <td>2</td>\n    </tr>\n    <tr>\n      <th>38</th>\n      <td>41</td>\n      <td>1</td>\n    </tr>\n    <tr>\n      <th>39</th>\n      <td>42</td>\n      <td>1</td>\n    </tr>\n    <tr>\n      <th>40</th>\n      <td>43</td>\n      <td>1</td>\n    </tr>\n    <tr>\n      <th>41</th>\n      <td>50</td>\n      <td>1</td>\n    </tr>\n    <tr>\n      <th>42</th>\n      <td>51</td>\n      <td>1</td>\n    </tr>\n    <tr>\n      <th>43</th>\n      <td>55</td>\n      <td>1</td>\n    </tr>\n  </tbody>\n</table>\n</div>"
     },
     "execution_count": 76,
     "metadata": {},
     "output_type": "execute_result"
    }
   ],
   "source": [
    "# of months bap=F distribution\n",
    "\n",
    "qry = \\\n",
    "\"\"\"\n",
    "SELECT\n",
    "  num_months,\n",
    "  count(*) AS num_loans\n",
    "FROM (\n",
    "    SELECT\n",
    "        arrayElement(monthly.borr_asst_plan, length(monthly.borr_asst_plan)) AS last_element,\n",
    "        countEqual(monthly.borr_asst_plan, 'F') AS num_months\n",
    "    FROM\n",
    "        unified.frannie\n",
    "    WHERE\n",
    "        has(monthly.borr_asst_plan, 'F')\n",
    "        AND last_element != 'F')\n",
    "GROUP BY num_months\n",
    "ORDER BY num_months\n",
    "\"\"\"\n",
    "\n",
    "df9a = chu.run_query(qry, client, return_df=True)\n",
    "df9a.head(n=1000)\n"
   ],
   "metadata": {
    "collapsed": false,
    "pycharm": {
     "name": "#%%\n"
    }
   }
  },
  {
   "cell_type": "code",
   "execution_count": 77,
   "outputs": [
    {
     "data": {
      "text/plain": "    num_months  num_loans\n0        1        39228  \n1        2        25574  \n2        3        19281  \n3        4        15455  \n4        5        15901  \n5        6        11138  \n6        7         5652  \n7        8         3811  \n8        9         2856  \n9       10         2361  \n10      11         2044  \n11      12         1607  \n12      13         1187  \n13      14          791  \n14      15          611  \n15      16          538  \n16      17          410  \n17      18          331  \n18      19          261  \n19      20          213  \n20      21          193  \n21      22          123  \n22      23          131  \n23      24          103  \n24      25           63  \n25      26           59  \n26      27           51  \n27      28           47  \n28      29           38  \n29      30           33  \n30      31           24  \n31      32           25  \n32      33           23  \n33      34           17  \n34      35           13  \n35      36           24  \n36      37            8  \n37      38            6  \n38      39            8  \n39      40            1  \n40      41            4  \n41      42            4  \n42      43            2  \n43      44            2  \n44      45            1  \n45      46            3  \n46      47            1  \n47      50            1  \n48      51            1  \n49      52            1  \n50      54            2  \n51      55            1  \n52      56            1  \n53      57            1  \n54      59            2  \n55      63            1  ",
      "text/html": "<div>\n<style scoped>\n    .dataframe tbody tr th:only-of-type {\n        vertical-align: middle;\n    }\n\n    .dataframe tbody tr th {\n        vertical-align: top;\n    }\n\n    .dataframe thead th {\n        text-align: right;\n    }\n</style>\n<table border=\"1\" class=\"dataframe\">\n  <thead>\n    <tr style=\"text-align: center;\">\n      <th></th>\n      <th>num_months</th>\n      <th>num_loans</th>\n    </tr>\n  </thead>\n  <tbody>\n    <tr>\n      <th>0</th>\n      <td>1</td>\n      <td>39228</td>\n    </tr>\n    <tr>\n      <th>1</th>\n      <td>2</td>\n      <td>25574</td>\n    </tr>\n    <tr>\n      <th>2</th>\n      <td>3</td>\n      <td>19281</td>\n    </tr>\n    <tr>\n      <th>3</th>\n      <td>4</td>\n      <td>15455</td>\n    </tr>\n    <tr>\n      <th>4</th>\n      <td>5</td>\n      <td>15901</td>\n    </tr>\n    <tr>\n      <th>5</th>\n      <td>6</td>\n      <td>11138</td>\n    </tr>\n    <tr>\n      <th>6</th>\n      <td>7</td>\n      <td>5652</td>\n    </tr>\n    <tr>\n      <th>7</th>\n      <td>8</td>\n      <td>3811</td>\n    </tr>\n    <tr>\n      <th>8</th>\n      <td>9</td>\n      <td>2856</td>\n    </tr>\n    <tr>\n      <th>9</th>\n      <td>10</td>\n      <td>2361</td>\n    </tr>\n    <tr>\n      <th>10</th>\n      <td>11</td>\n      <td>2044</td>\n    </tr>\n    <tr>\n      <th>11</th>\n      <td>12</td>\n      <td>1607</td>\n    </tr>\n    <tr>\n      <th>12</th>\n      <td>13</td>\n      <td>1187</td>\n    </tr>\n    <tr>\n      <th>13</th>\n      <td>14</td>\n      <td>791</td>\n    </tr>\n    <tr>\n      <th>14</th>\n      <td>15</td>\n      <td>611</td>\n    </tr>\n    <tr>\n      <th>15</th>\n      <td>16</td>\n      <td>538</td>\n    </tr>\n    <tr>\n      <th>16</th>\n      <td>17</td>\n      <td>410</td>\n    </tr>\n    <tr>\n      <th>17</th>\n      <td>18</td>\n      <td>331</td>\n    </tr>\n    <tr>\n      <th>18</th>\n      <td>19</td>\n      <td>261</td>\n    </tr>\n    <tr>\n      <th>19</th>\n      <td>20</td>\n      <td>213</td>\n    </tr>\n    <tr>\n      <th>20</th>\n      <td>21</td>\n      <td>193</td>\n    </tr>\n    <tr>\n      <th>21</th>\n      <td>22</td>\n      <td>123</td>\n    </tr>\n    <tr>\n      <th>22</th>\n      <td>23</td>\n      <td>131</td>\n    </tr>\n    <tr>\n      <th>23</th>\n      <td>24</td>\n      <td>103</td>\n    </tr>\n    <tr>\n      <th>24</th>\n      <td>25</td>\n      <td>63</td>\n    </tr>\n    <tr>\n      <th>25</th>\n      <td>26</td>\n      <td>59</td>\n    </tr>\n    <tr>\n      <th>26</th>\n      <td>27</td>\n      <td>51</td>\n    </tr>\n    <tr>\n      <th>27</th>\n      <td>28</td>\n      <td>47</td>\n    </tr>\n    <tr>\n      <th>28</th>\n      <td>29</td>\n      <td>38</td>\n    </tr>\n    <tr>\n      <th>29</th>\n      <td>30</td>\n      <td>33</td>\n    </tr>\n    <tr>\n      <th>30</th>\n      <td>31</td>\n      <td>24</td>\n    </tr>\n    <tr>\n      <th>31</th>\n      <td>32</td>\n      <td>25</td>\n    </tr>\n    <tr>\n      <th>32</th>\n      <td>33</td>\n      <td>23</td>\n    </tr>\n    <tr>\n      <th>33</th>\n      <td>34</td>\n      <td>17</td>\n    </tr>\n    <tr>\n      <th>34</th>\n      <td>35</td>\n      <td>13</td>\n    </tr>\n    <tr>\n      <th>35</th>\n      <td>36</td>\n      <td>24</td>\n    </tr>\n    <tr>\n      <th>36</th>\n      <td>37</td>\n      <td>8</td>\n    </tr>\n    <tr>\n      <th>37</th>\n      <td>38</td>\n      <td>6</td>\n    </tr>\n    <tr>\n      <th>38</th>\n      <td>39</td>\n      <td>8</td>\n    </tr>\n    <tr>\n      <th>39</th>\n      <td>40</td>\n      <td>1</td>\n    </tr>\n    <tr>\n      <th>40</th>\n      <td>41</td>\n      <td>4</td>\n    </tr>\n    <tr>\n      <th>41</th>\n      <td>42</td>\n      <td>4</td>\n    </tr>\n    <tr>\n      <th>42</th>\n      <td>43</td>\n      <td>2</td>\n    </tr>\n    <tr>\n      <th>43</th>\n      <td>44</td>\n      <td>2</td>\n    </tr>\n    <tr>\n      <th>44</th>\n      <td>45</td>\n      <td>1</td>\n    </tr>\n    <tr>\n      <th>45</th>\n      <td>46</td>\n      <td>3</td>\n    </tr>\n    <tr>\n      <th>46</th>\n      <td>47</td>\n      <td>1</td>\n    </tr>\n    <tr>\n      <th>47</th>\n      <td>50</td>\n      <td>1</td>\n    </tr>\n    <tr>\n      <th>48</th>\n      <td>51</td>\n      <td>1</td>\n    </tr>\n    <tr>\n      <th>49</th>\n      <td>52</td>\n      <td>1</td>\n    </tr>\n    <tr>\n      <th>50</th>\n      <td>54</td>\n      <td>2</td>\n    </tr>\n    <tr>\n      <th>51</th>\n      <td>55</td>\n      <td>1</td>\n    </tr>\n    <tr>\n      <th>52</th>\n      <td>56</td>\n      <td>1</td>\n    </tr>\n    <tr>\n      <th>53</th>\n      <td>57</td>\n      <td>1</td>\n    </tr>\n    <tr>\n      <th>54</th>\n      <td>59</td>\n      <td>2</td>\n    </tr>\n    <tr>\n      <th>55</th>\n      <td>63</td>\n      <td>1</td>\n    </tr>\n  </tbody>\n</table>\n</div>"
     },
     "execution_count": 77,
     "metadata": {},
     "output_type": "execute_result"
    }
   ],
   "source": [
    "# of months bap=R distribution\n",
    "\n",
    "qry = \\\n",
    "\"\"\"\n",
    "SELECT\n",
    "  num_months,\n",
    "  count(*) AS num_loans\n",
    "FROM (\n",
    "    SELECT\n",
    "        arrayElement(monthly.borr_asst_plan, length(monthly.borr_asst_plan)) AS last_element,\n",
    "        countEqual(monthly.borr_asst_plan, 'R') AS num_months\n",
    "    FROM\n",
    "        unified.frannie\n",
    "    WHERE\n",
    "        has(monthly.borr_asst_plan, 'R')\n",
    "        AND last_element != 'R')\n",
    "GROUP BY num_months\n",
    "ORDER BY num_months\n",
    "\"\"\"\n",
    "\n",
    "df9a = chu.run_query(qry, client, return_df=True)\n",
    "df9a.head(n=1000)\n"
   ],
   "metadata": {
    "collapsed": false,
    "pycharm": {
     "name": "#%%\n"
    }
   }
  },
  {
   "cell_type": "code",
   "execution_count": 78,
   "outputs": [
    {
     "data": {
      "text/plain": "    num_months  num_loans\n0        1        36330  \n1        2        52697  \n2        3       113712  \n3        4        46518  \n4        5        22781  \n5        6        16199  \n6        7        10603  \n7        8         7142  \n8        9         4581  \n9       10         3050  \n10      11         2190  \n11      12         1645  \n12      13         1132  \n13      14          765  \n14      15          548  \n15      16          387  \n16      17          270  \n17      18          202  \n18      19          152  \n19      20          106  \n20      21           83  \n21      22           45  \n22      23           50  \n23      24           31  \n24      25           22  \n25      26           14  \n26      27           15  \n27      28           13  \n28      29            7  \n29      30            3  \n30      31            3  \n31      32            5  \n32      33            3  \n33      34            2  \n34      35            2  \n35      36            2  \n36      38            1  \n37      39            2  \n38      40            1  \n39      41            2  \n40      44            1  \n41      53            1  \n42      55            1  \n43      64            1  ",
      "text/html": "<div>\n<style scoped>\n    .dataframe tbody tr th:only-of-type {\n        vertical-align: middle;\n    }\n\n    .dataframe tbody tr th {\n        vertical-align: top;\n    }\n\n    .dataframe thead th {\n        text-align: right;\n    }\n</style>\n<table border=\"1\" class=\"dataframe\">\n  <thead>\n    <tr style=\"text-align: center;\">\n      <th></th>\n      <th>num_months</th>\n      <th>num_loans</th>\n    </tr>\n  </thead>\n  <tbody>\n    <tr>\n      <th>0</th>\n      <td>1</td>\n      <td>36330</td>\n    </tr>\n    <tr>\n      <th>1</th>\n      <td>2</td>\n      <td>52697</td>\n    </tr>\n    <tr>\n      <th>2</th>\n      <td>3</td>\n      <td>113712</td>\n    </tr>\n    <tr>\n      <th>3</th>\n      <td>4</td>\n      <td>46518</td>\n    </tr>\n    <tr>\n      <th>4</th>\n      <td>5</td>\n      <td>22781</td>\n    </tr>\n    <tr>\n      <th>5</th>\n      <td>6</td>\n      <td>16199</td>\n    </tr>\n    <tr>\n      <th>6</th>\n      <td>7</td>\n      <td>10603</td>\n    </tr>\n    <tr>\n      <th>7</th>\n      <td>8</td>\n      <td>7142</td>\n    </tr>\n    <tr>\n      <th>8</th>\n      <td>9</td>\n      <td>4581</td>\n    </tr>\n    <tr>\n      <th>9</th>\n      <td>10</td>\n      <td>3050</td>\n    </tr>\n    <tr>\n      <th>10</th>\n      <td>11</td>\n      <td>2190</td>\n    </tr>\n    <tr>\n      <th>11</th>\n      <td>12</td>\n      <td>1645</td>\n    </tr>\n    <tr>\n      <th>12</th>\n      <td>13</td>\n      <td>1132</td>\n    </tr>\n    <tr>\n      <th>13</th>\n      <td>14</td>\n      <td>765</td>\n    </tr>\n    <tr>\n      <th>14</th>\n      <td>15</td>\n      <td>548</td>\n    </tr>\n    <tr>\n      <th>15</th>\n      <td>16</td>\n      <td>387</td>\n    </tr>\n    <tr>\n      <th>16</th>\n      <td>17</td>\n      <td>270</td>\n    </tr>\n    <tr>\n      <th>17</th>\n      <td>18</td>\n      <td>202</td>\n    </tr>\n    <tr>\n      <th>18</th>\n      <td>19</td>\n      <td>152</td>\n    </tr>\n    <tr>\n      <th>19</th>\n      <td>20</td>\n      <td>106</td>\n    </tr>\n    <tr>\n      <th>20</th>\n      <td>21</td>\n      <td>83</td>\n    </tr>\n    <tr>\n      <th>21</th>\n      <td>22</td>\n      <td>45</td>\n    </tr>\n    <tr>\n      <th>22</th>\n      <td>23</td>\n      <td>50</td>\n    </tr>\n    <tr>\n      <th>23</th>\n      <td>24</td>\n      <td>31</td>\n    </tr>\n    <tr>\n      <th>24</th>\n      <td>25</td>\n      <td>22</td>\n    </tr>\n    <tr>\n      <th>25</th>\n      <td>26</td>\n      <td>14</td>\n    </tr>\n    <tr>\n      <th>26</th>\n      <td>27</td>\n      <td>15</td>\n    </tr>\n    <tr>\n      <th>27</th>\n      <td>28</td>\n      <td>13</td>\n    </tr>\n    <tr>\n      <th>28</th>\n      <td>29</td>\n      <td>7</td>\n    </tr>\n    <tr>\n      <th>29</th>\n      <td>30</td>\n      <td>3</td>\n    </tr>\n    <tr>\n      <th>30</th>\n      <td>31</td>\n      <td>3</td>\n    </tr>\n    <tr>\n      <th>31</th>\n      <td>32</td>\n      <td>5</td>\n    </tr>\n    <tr>\n      <th>32</th>\n      <td>33</td>\n      <td>3</td>\n    </tr>\n    <tr>\n      <th>33</th>\n      <td>34</td>\n      <td>2</td>\n    </tr>\n    <tr>\n      <th>34</th>\n      <td>35</td>\n      <td>2</td>\n    </tr>\n    <tr>\n      <th>35</th>\n      <td>36</td>\n      <td>2</td>\n    </tr>\n    <tr>\n      <th>36</th>\n      <td>38</td>\n      <td>1</td>\n    </tr>\n    <tr>\n      <th>37</th>\n      <td>39</td>\n      <td>2</td>\n    </tr>\n    <tr>\n      <th>38</th>\n      <td>40</td>\n      <td>1</td>\n    </tr>\n    <tr>\n      <th>39</th>\n      <td>41</td>\n      <td>2</td>\n    </tr>\n    <tr>\n      <th>40</th>\n      <td>44</td>\n      <td>1</td>\n    </tr>\n    <tr>\n      <th>41</th>\n      <td>53</td>\n      <td>1</td>\n    </tr>\n    <tr>\n      <th>42</th>\n      <td>55</td>\n      <td>1</td>\n    </tr>\n    <tr>\n      <th>43</th>\n      <td>64</td>\n      <td>1</td>\n    </tr>\n  </tbody>\n</table>\n</div>"
     },
     "execution_count": 78,
     "metadata": {},
     "output_type": "execute_result"
    }
   ],
   "source": [
    "# of months bap=R distribution\n",
    "\n",
    "qry = \\\n",
    "\"\"\"\n",
    "SELECT\n",
    "  num_months,\n",
    "  count(*) AS num_loans\n",
    "FROM (\n",
    "    SELECT\n",
    "        arrayElement(monthly.borr_asst_plan, length(monthly.borr_asst_plan)) AS last_element,\n",
    "        countEqual(monthly.borr_asst_plan, 'T') AS num_months\n",
    "    FROM\n",
    "        unified.frannie\n",
    "    WHERE\n",
    "        has(monthly.borr_asst_plan, 'T')\n",
    "        AND last_element != 'T')\n",
    "GROUP BY num_months\n",
    "ORDER BY num_months\n",
    "\"\"\"\n",
    "\n",
    "df9a = chu.run_query(qry, client, return_df=True)\n",
    "df9a.head(n=1000)\n",
    "\n"
   ],
   "metadata": {
    "collapsed": false,
    "pycharm": {
     "name": "#%%\n"
    }
   }
  },
  {
   "cell_type": "markdown",
   "source": [
    "Conclusions on borr_asst_plan:\n",
    "\n",
    "- Flags are sticky\n",
    "- Can have multiple episodes of plans\n",
    "- Some but not of overlap with mods\n",
    "- F: most were had at most months_dq=1\n",
    "- R: most were 1+ months_dq prior, mostly used by Freddie\n",
    "- Tend to be short term in nature"
   ],
   "metadata": {
    "collapsed": false
   }
  },
  {
   "cell_type": "code",
   "execution_count": 79,
   "outputs": [
    {
     "data": {
      "text/plain": "         src_data       msf    ln  \n0                fannie   N    6885\n1                fannie   Y  367806\n2  freddie:non-standard   N   12971\n3  freddie:non-standard   Y  134208\n4      freddie:standard   N   14897\n5      freddie:standard   Y  256644",
      "text/html": "<div>\n<style scoped>\n    .dataframe tbody tr th:only-of-type {\n        vertical-align: middle;\n    }\n\n    .dataframe tbody tr th {\n        vertical-align: top;\n    }\n\n    .dataframe thead th {\n        text-align: right;\n    }\n</style>\n<table border=\"1\" class=\"dataframe\">\n  <thead>\n    <tr style=\"text-align: center;\">\n      <th></th>\n      <th>src_data</th>\n      <th>msf</th>\n      <th>ln</th>\n    </tr>\n  </thead>\n  <tbody>\n    <tr>\n      <th>0</th>\n      <td>fannie</td>\n      <td>N</td>\n      <td>6885</td>\n    </tr>\n    <tr>\n      <th>1</th>\n      <td>fannie</td>\n      <td>Y</td>\n      <td>367806</td>\n    </tr>\n    <tr>\n      <th>2</th>\n      <td>freddie:non-standard</td>\n      <td>N</td>\n      <td>12971</td>\n    </tr>\n    <tr>\n      <th>3</th>\n      <td>freddie:non-standard</td>\n      <td>Y</td>\n      <td>134208</td>\n    </tr>\n    <tr>\n      <th>4</th>\n      <td>freddie:standard</td>\n      <td>N</td>\n      <td>14897</td>\n    </tr>\n    <tr>\n      <th>5</th>\n      <td>freddie:standard</td>\n      <td>Y</td>\n      <td>256644</td>\n    </tr>\n  </tbody>\n</table>\n</div>"
     },
     "execution_count": 79,
     "metadata": {},
     "output_type": "execute_result"
    }
   ],
   "source": [
    "\n",
    "# look at relations between mod_flg and interest reductions\n",
    "qry = \\\n",
    "\"\"\"\n",
    "SELECT\n",
    "    src_data,\n",
    "    msf,\n",
    "    COUNT(*) AS ln\n",
    "FROM (\n",
    "    SELECT\n",
    "        ln_id,\n",
    "        src_data,\n",
    "        ln_amort_cd,\n",
    "        arrayMap((ir, zb) -> IF(zb='!', ln_orig_ir - ir, 0.0), monthly.ir, monthly.zb_cd) AS delta_ir,\n",
    "        arrayMax(delta_ir) AS md,\n",
    "        arrayFirstIndex(x-> IF(x > 0.25, 1, 0), delta_ir) AS fbig,\n",
    "        arrayElement(monthly.mod_sticky_flg, fbig) AS msf\n",
    "    FROM\n",
    "        unified.frannie\n",
    "    WHERE\n",
    "        md > 0.25\n",
    "        AND ln_amort_cd = 'FRM')\n",
    "GROUP BY src_data, msf\n",
    "ORDER BY src_data, msf\n",
    "\"\"\"\n",
    "\n",
    "dfa = chu.run_query(qry, client, return_df=True)\n",
    "dfa.head(n=1000)"
   ],
   "metadata": {
    "collapsed": false,
    "pycharm": {
     "name": "#%%\n"
    }
   }
  },
  {
   "cell_type": "code",
   "execution_count": 80,
   "outputs": [
    {
     "data": {
      "text/plain": "         src_data        ir_reduction  ln_mods  ir_reduction_rate\n0                fannie     368559     593724       0.620758     \n1  freddie:non-standard     140750     174341       0.807326     \n2      freddie:standard     270713     434767       0.622662     ",
      "text/html": "<div>\n<style scoped>\n    .dataframe tbody tr th:only-of-type {\n        vertical-align: middle;\n    }\n\n    .dataframe tbody tr th {\n        vertical-align: top;\n    }\n\n    .dataframe thead th {\n        text-align: right;\n    }\n</style>\n<table border=\"1\" class=\"dataframe\">\n  <thead>\n    <tr style=\"text-align: center;\">\n      <th></th>\n      <th>src_data</th>\n      <th>ir_reduction</th>\n      <th>ln_mods</th>\n      <th>ir_reduction_rate</th>\n    </tr>\n  </thead>\n  <tbody>\n    <tr>\n      <th>0</th>\n      <td>fannie</td>\n      <td>368559</td>\n      <td>593724</td>\n      <td>0.620758</td>\n    </tr>\n    <tr>\n      <th>1</th>\n      <td>freddie:non-standard</td>\n      <td>140750</td>\n      <td>174341</td>\n      <td>0.807326</td>\n    </tr>\n    <tr>\n      <th>2</th>\n      <td>freddie:standard</td>\n      <td>270713</td>\n      <td>434767</td>\n      <td>0.622662</td>\n    </tr>\n  </tbody>\n</table>\n</div>"
     },
     "execution_count": 80,
     "metadata": {},
     "output_type": "execute_result"
    }
   ],
   "source": [
    "# look at relations between mod_flg and interest reductions\n",
    "qry = \\\n",
    "\"\"\"\n",
    "SELECT\n",
    "    src_data,\n",
    "    sum(IF(max_delta_ir > 0.25, 1, 0)) AS ir_reduction,\n",
    "    count(*) AS ln_mods,\n",
    "    sum(IF(max_delta_ir > 0.25, 1, 0)) / count(*) AS ir_reduction_rate\n",
    "FROM (\n",
    "    SELECT\n",
    "        ln_id,\n",
    "        src_data,\n",
    "        ln_amort_cd,\n",
    "        arrayMap((ir, zb) -> IF(zb='!', ln_orig_ir - ir, 0.0), monthly.ir, monthly.zb_cd) AS delta_ir,\n",
    "        arrayMax(delta_ir) AS max_delta_ir\n",
    "    FROM\n",
    "        unified.frannie\n",
    "    WHERE\n",
    "        has(monthly.mod_sticky_flg, 'Y')\n",
    "        AND ln_amort_cd = 'FRM')\n",
    "GROUP BY src_data\n",
    "ORDER BY src_data\n",
    "\"\"\"\n",
    "\n",
    "dfb = chu.run_query(qry, client, return_df=True)\n",
    "dfb.head(n=1000)"
   ],
   "metadata": {
    "collapsed": false,
    "pycharm": {
     "name": "#%%\n"
    }
   }
  },
  {
   "cell_type": "markdown",
   "source": [
    "Almost all ir reductions are marked as mods\n",
    "mods involve ir reduction about 60% of the time"
   ],
   "metadata": {
    "collapsed": false,
    "pycharm": {
     "name": "#%% md\n"
    }
   }
  },
  {
   "cell_type": "markdown",
   "source": [
    "freddie/fannie comparisons"
   ],
   "metadata": {
    "collapsed": false,
    "pycharm": {
     "name": "#%% md\n"
    }
   }
  },
  {
   "cell_type": "code",
   "execution_count": 81,
   "outputs": [
    {
     "data": {
      "text/plain": "          src_data       ln_purp_cd     nl       distr  \n0                 fannie      C      13563437  27.720440\n1                 fannie      P      17538824  35.845186\n2                 fannie      R      17812585  36.404688\n3                 fannie      U         14525   0.029686\n4   freddie:non-standard      C       1284985  19.565635\n5   freddie:non-standard      P       3454285  52.596162\n6   freddie:non-standard      R       1819708  27.707516\n7   freddie:non-standard      U          8583   0.130688\n8       freddie:standard      C       9687698  25.137294\n9       freddie:standard      P      12879922  33.420363\n10      freddie:standard      R      15971525  41.442344",
      "text/html": "<div>\n<style scoped>\n    .dataframe tbody tr th:only-of-type {\n        vertical-align: middle;\n    }\n\n    .dataframe tbody tr th {\n        vertical-align: top;\n    }\n\n    .dataframe thead th {\n        text-align: right;\n    }\n</style>\n<table border=\"1\" class=\"dataframe\">\n  <thead>\n    <tr style=\"text-align: center;\">\n      <th></th>\n      <th>src_data</th>\n      <th>ln_purp_cd</th>\n      <th>nl</th>\n      <th>distr</th>\n    </tr>\n  </thead>\n  <tbody>\n    <tr>\n      <th>0</th>\n      <td>fannie</td>\n      <td>C</td>\n      <td>13563437</td>\n      <td>27.720440</td>\n    </tr>\n    <tr>\n      <th>1</th>\n      <td>fannie</td>\n      <td>P</td>\n      <td>17538824</td>\n      <td>35.845186</td>\n    </tr>\n    <tr>\n      <th>2</th>\n      <td>fannie</td>\n      <td>R</td>\n      <td>17812585</td>\n      <td>36.404688</td>\n    </tr>\n    <tr>\n      <th>3</th>\n      <td>fannie</td>\n      <td>U</td>\n      <td>14525</td>\n      <td>0.029686</td>\n    </tr>\n    <tr>\n      <th>4</th>\n      <td>freddie:non-standard</td>\n      <td>C</td>\n      <td>1284985</td>\n      <td>19.565635</td>\n    </tr>\n    <tr>\n      <th>5</th>\n      <td>freddie:non-standard</td>\n      <td>P</td>\n      <td>3454285</td>\n      <td>52.596162</td>\n    </tr>\n    <tr>\n      <th>6</th>\n      <td>freddie:non-standard</td>\n      <td>R</td>\n      <td>1819708</td>\n      <td>27.707516</td>\n    </tr>\n    <tr>\n      <th>7</th>\n      <td>freddie:non-standard</td>\n      <td>U</td>\n      <td>8583</td>\n      <td>0.130688</td>\n    </tr>\n    <tr>\n      <th>8</th>\n      <td>freddie:standard</td>\n      <td>C</td>\n      <td>9687698</td>\n      <td>25.137294</td>\n    </tr>\n    <tr>\n      <th>9</th>\n      <td>freddie:standard</td>\n      <td>P</td>\n      <td>12879922</td>\n      <td>33.420363</td>\n    </tr>\n    <tr>\n      <th>10</th>\n      <td>freddie:standard</td>\n      <td>R</td>\n      <td>15971525</td>\n      <td>41.442344</td>\n    </tr>\n  </tbody>\n</table>\n</div>"
     },
     "execution_count": 81,
     "metadata": {},
     "output_type": "execute_result"
    }
   ],
   "source": [
    "# ln_purp_cd\n",
    "qry = \\\n",
    "\"\"\"\n",
    "SELECT\n",
    "    src_data,\n",
    "    ln_purp_cd,\n",
    "    count(*) AS nl\n",
    "FROM\n",
    "    unified.frannie\n",
    "GROUP BY src_data, ln_purp_cd\n",
    "ORDER BY src_data, ln_purp_cd\n",
    "\"\"\"\n",
    "\n",
    "dfx1 = chu.run_query(qry, client, return_df=True)\n",
    "dfx1.head(n=1000)\n",
    "\n",
    "dfx = dfx1.groupby('src_data')['nl'].sum()\n",
    "dfx.rename('tots')\n",
    "dfx.name='tot'\n",
    "dfx1 = dfx1.merge(dfx, on='src_data')\n",
    "dfx1['distr'] = 100.0 * dfx1['nl'] / dfx1['tot']\n",
    "dfx1[['src_data', 'ln_purp_cd', 'nl', 'distr']].head(n=100)"
   ],
   "metadata": {
    "collapsed": false,
    "pycharm": {
     "name": "#%%\n"
    }
   }
  },
  {
   "cell_type": "code",
   "execution_count": 82,
   "outputs": [
    {
     "data": {
      "text/plain": "         src_data       ln_hrprog_flg     nl       distr  \n0                fannie        !       37651429  76.950568\n1                fannie        N       10688365  21.844477\n2                fannie        Y         589577   1.204955\n3  freddie:non-standard        H         152004   2.314467\n4  freddie:non-standard        N        6415557  97.685533\n5      freddie:standard        H         544867   1.413801\n6      freddie:standard        N       37994278  98.586199",
      "text/html": "<div>\n<style scoped>\n    .dataframe tbody tr th:only-of-type {\n        vertical-align: middle;\n    }\n\n    .dataframe tbody tr th {\n        vertical-align: top;\n    }\n\n    .dataframe thead th {\n        text-align: right;\n    }\n</style>\n<table border=\"1\" class=\"dataframe\">\n  <thead>\n    <tr style=\"text-align: center;\">\n      <th></th>\n      <th>src_data</th>\n      <th>ln_hrprog_flg</th>\n      <th>nl</th>\n      <th>distr</th>\n    </tr>\n  </thead>\n  <tbody>\n    <tr>\n      <th>0</th>\n      <td>fannie</td>\n      <td>!</td>\n      <td>37651429</td>\n      <td>76.950568</td>\n    </tr>\n    <tr>\n      <th>1</th>\n      <td>fannie</td>\n      <td>N</td>\n      <td>10688365</td>\n      <td>21.844477</td>\n    </tr>\n    <tr>\n      <th>2</th>\n      <td>fannie</td>\n      <td>Y</td>\n      <td>589577</td>\n      <td>1.204955</td>\n    </tr>\n    <tr>\n      <th>3</th>\n      <td>freddie:non-standard</td>\n      <td>H</td>\n      <td>152004</td>\n      <td>2.314467</td>\n    </tr>\n    <tr>\n      <th>4</th>\n      <td>freddie:non-standard</td>\n      <td>N</td>\n      <td>6415557</td>\n      <td>97.685533</td>\n    </tr>\n    <tr>\n      <th>5</th>\n      <td>freddie:standard</td>\n      <td>H</td>\n      <td>544867</td>\n      <td>1.413801</td>\n    </tr>\n    <tr>\n      <th>6</th>\n      <td>freddie:standard</td>\n      <td>N</td>\n      <td>37994278</td>\n      <td>98.586199</td>\n    </tr>\n  </tbody>\n</table>\n</div>"
     },
     "execution_count": 82,
     "metadata": {},
     "output_type": "execute_result"
    }
   ],
   "source": [
    "# ln_hrprog_flg\n",
    "qry = \\\n",
    "\"\"\"\n",
    "SELECT\n",
    "    src_data,\n",
    "    ln_hrprog_flg,\n",
    "    count(*) AS nl\n",
    "FROM\n",
    "    unified.frannie\n",
    "GROUP BY src_data, ln_hrprog_flg\n",
    "ORDER BY src_data, ln_hrprog_flg\n",
    "\"\"\"\n",
    "\n",
    "dfx1 = chu.run_query(qry, client, return_df=True)\n",
    "dfx1.head(n=1000)\n",
    "\n",
    "dfx = dfx1.groupby('src_data')['nl'].sum()\n",
    "dfx.rename('tots')\n",
    "dfx.name='tot'\n",
    "dfx1 = dfx1.merge(dfx, on='src_data')\n",
    "dfx1['distr'] = 100.0 * dfx1['nl'] / dfx1['tot']\n",
    "dfx1[['src_data', 'ln_hrprog_flg', 'nl', 'distr']].head(n=100)"
   ],
   "metadata": {
    "collapsed": false,
    "pycharm": {
     "name": "#%%\n"
    }
   }
  },
  {
   "cell_type": "code",
   "execution_count": 83,
   "outputs": [
    {
     "data": {
      "text/plain": "          src_data       prop_type_cd     nl       distr  \n0                 fannie      CO        3989227   8.153031\n1                 fannie      CP         216089   0.441635\n2                 fannie      MH         337740   0.690260\n3                 fannie      PU        9196313  18.795077\n4                 fannie      SF       35190002  71.919997\n5   freddie:non-standard       !             69   0.001051\n6   freddie:non-standard      CO         754873  11.493963\n7   freddie:non-standard      CP          13501   0.205571\n8   freddie:non-standard      MH          31420   0.478412\n9   freddie:non-standard      PU         988537  15.051813\n10  freddie:non-standard      SF        4779161  72.769191\n11      freddie:standard       !           1746   0.004530\n12      freddie:standard      CO        2622991   6.806044\n13      freddie:standard      CP          72257   0.187490\n14      freddie:standard      MH         188148   0.488200\n15      freddie:standard      PU        6972043  18.090809\n16      freddie:standard      SF       28681960  74.422928",
      "text/html": "<div>\n<style scoped>\n    .dataframe tbody tr th:only-of-type {\n        vertical-align: middle;\n    }\n\n    .dataframe tbody tr th {\n        vertical-align: top;\n    }\n\n    .dataframe thead th {\n        text-align: right;\n    }\n</style>\n<table border=\"1\" class=\"dataframe\">\n  <thead>\n    <tr style=\"text-align: center;\">\n      <th></th>\n      <th>src_data</th>\n      <th>prop_type_cd</th>\n      <th>nl</th>\n      <th>distr</th>\n    </tr>\n  </thead>\n  <tbody>\n    <tr>\n      <th>0</th>\n      <td>fannie</td>\n      <td>CO</td>\n      <td>3989227</td>\n      <td>8.153031</td>\n    </tr>\n    <tr>\n      <th>1</th>\n      <td>fannie</td>\n      <td>CP</td>\n      <td>216089</td>\n      <td>0.441635</td>\n    </tr>\n    <tr>\n      <th>2</th>\n      <td>fannie</td>\n      <td>MH</td>\n      <td>337740</td>\n      <td>0.690260</td>\n    </tr>\n    <tr>\n      <th>3</th>\n      <td>fannie</td>\n      <td>PU</td>\n      <td>9196313</td>\n      <td>18.795077</td>\n    </tr>\n    <tr>\n      <th>4</th>\n      <td>fannie</td>\n      <td>SF</td>\n      <td>35190002</td>\n      <td>71.919997</td>\n    </tr>\n    <tr>\n      <th>5</th>\n      <td>freddie:non-standard</td>\n      <td>!</td>\n      <td>69</td>\n      <td>0.001051</td>\n    </tr>\n    <tr>\n      <th>6</th>\n      <td>freddie:non-standard</td>\n      <td>CO</td>\n      <td>754873</td>\n      <td>11.493963</td>\n    </tr>\n    <tr>\n      <th>7</th>\n      <td>freddie:non-standard</td>\n      <td>CP</td>\n      <td>13501</td>\n      <td>0.205571</td>\n    </tr>\n    <tr>\n      <th>8</th>\n      <td>freddie:non-standard</td>\n      <td>MH</td>\n      <td>31420</td>\n      <td>0.478412</td>\n    </tr>\n    <tr>\n      <th>9</th>\n      <td>freddie:non-standard</td>\n      <td>PU</td>\n      <td>988537</td>\n      <td>15.051813</td>\n    </tr>\n    <tr>\n      <th>10</th>\n      <td>freddie:non-standard</td>\n      <td>SF</td>\n      <td>4779161</td>\n      <td>72.769191</td>\n    </tr>\n    <tr>\n      <th>11</th>\n      <td>freddie:standard</td>\n      <td>!</td>\n      <td>1746</td>\n      <td>0.004530</td>\n    </tr>\n    <tr>\n      <th>12</th>\n      <td>freddie:standard</td>\n      <td>CO</td>\n      <td>2622991</td>\n      <td>6.806044</td>\n    </tr>\n    <tr>\n      <th>13</th>\n      <td>freddie:standard</td>\n      <td>CP</td>\n      <td>72257</td>\n      <td>0.187490</td>\n    </tr>\n    <tr>\n      <th>14</th>\n      <td>freddie:standard</td>\n      <td>MH</td>\n      <td>188148</td>\n      <td>0.488200</td>\n    </tr>\n    <tr>\n      <th>15</th>\n      <td>freddie:standard</td>\n      <td>PU</td>\n      <td>6972043</td>\n      <td>18.090809</td>\n    </tr>\n    <tr>\n      <th>16</th>\n      <td>freddie:standard</td>\n      <td>SF</td>\n      <td>28681960</td>\n      <td>74.422928</td>\n    </tr>\n  </tbody>\n</table>\n</div>"
     },
     "execution_count": 83,
     "metadata": {},
     "output_type": "execute_result"
    }
   ],
   "source": [
    "\n",
    "# prop_type_cd\n",
    "qry = \\\n",
    "\"\"\"\n",
    "SELECT\n",
    "    src_data,\n",
    "    prop_type_cd,\n",
    "    count(*) AS nl\n",
    "FROM\n",
    "    unified.frannie\n",
    "GROUP BY src_data, prop_type_cd\n",
    "ORDER BY src_data, prop_type_cd\n",
    "\"\"\"\n",
    "\n",
    "dfx1 = chu.run_query(qry, client, return_df=True)\n",
    "dfx1.head(n=1000)\n",
    "\n",
    "dfx = dfx1.groupby('src_data')['nl'].sum()\n",
    "dfx.rename('tots')\n",
    "dfx.name='tot'\n",
    "dfx1 = dfx1.merge(dfx, on='src_data')\n",
    "dfx1['distr'] = 100.0 * dfx1['nl'] / dfx1['tot']\n",
    "dfx1[['src_data', 'prop_type_cd', 'nl', 'distr']].head(n=100)"
   ],
   "metadata": {
    "collapsed": false,
    "pycharm": {
     "name": "#%%\n"
    }
   }
  },
  {
   "cell_type": "code",
   "execution_count": 84,
   "outputs": [
    {
     "data": {
      "text/plain": "          src_data       prop_occ_cd     nl       distr  \n0                 fannie       I       3330499   6.806748\n1                 fannie       P      43671118  89.253381\n2                 fannie       S       1927600   3.939556\n3                 fannie       U           154   0.000315\n4   freddie:non-standard       I        329580   5.018301\n5   freddie:non-standard       P       5903110  89.882835\n6   freddie:non-standard       S        326316   4.968602\n7   freddie:non-standard       U          8555   0.130261\n8       freddie:standard       I       2129497   5.525543\n9       freddie:standard       P      34957733  90.707080\n10      freddie:standard       S       1451915   3.767377",
      "text/html": "<div>\n<style scoped>\n    .dataframe tbody tr th:only-of-type {\n        vertical-align: middle;\n    }\n\n    .dataframe tbody tr th {\n        vertical-align: top;\n    }\n\n    .dataframe thead th {\n        text-align: right;\n    }\n</style>\n<table border=\"1\" class=\"dataframe\">\n  <thead>\n    <tr style=\"text-align: center;\">\n      <th></th>\n      <th>src_data</th>\n      <th>prop_occ_cd</th>\n      <th>nl</th>\n      <th>distr</th>\n    </tr>\n  </thead>\n  <tbody>\n    <tr>\n      <th>0</th>\n      <td>fannie</td>\n      <td>I</td>\n      <td>3330499</td>\n      <td>6.806748</td>\n    </tr>\n    <tr>\n      <th>1</th>\n      <td>fannie</td>\n      <td>P</td>\n      <td>43671118</td>\n      <td>89.253381</td>\n    </tr>\n    <tr>\n      <th>2</th>\n      <td>fannie</td>\n      <td>S</td>\n      <td>1927600</td>\n      <td>3.939556</td>\n    </tr>\n    <tr>\n      <th>3</th>\n      <td>fannie</td>\n      <td>U</td>\n      <td>154</td>\n      <td>0.000315</td>\n    </tr>\n    <tr>\n      <th>4</th>\n      <td>freddie:non-standard</td>\n      <td>I</td>\n      <td>329580</td>\n      <td>5.018301</td>\n    </tr>\n    <tr>\n      <th>5</th>\n      <td>freddie:non-standard</td>\n      <td>P</td>\n      <td>5903110</td>\n      <td>89.882835</td>\n    </tr>\n    <tr>\n      <th>6</th>\n      <td>freddie:non-standard</td>\n      <td>S</td>\n      <td>326316</td>\n      <td>4.968602</td>\n    </tr>\n    <tr>\n      <th>7</th>\n      <td>freddie:non-standard</td>\n      <td>U</td>\n      <td>8555</td>\n      <td>0.130261</td>\n    </tr>\n    <tr>\n      <th>8</th>\n      <td>freddie:standard</td>\n      <td>I</td>\n      <td>2129497</td>\n      <td>5.525543</td>\n    </tr>\n    <tr>\n      <th>9</th>\n      <td>freddie:standard</td>\n      <td>P</td>\n      <td>34957733</td>\n      <td>90.707080</td>\n    </tr>\n    <tr>\n      <th>10</th>\n      <td>freddie:standard</td>\n      <td>S</td>\n      <td>1451915</td>\n      <td>3.767377</td>\n    </tr>\n  </tbody>\n</table>\n</div>"
     },
     "execution_count": 84,
     "metadata": {},
     "output_type": "execute_result"
    }
   ],
   "source": [
    "\n",
    "# prop_occ_cd\n",
    "qry = \\\n",
    "\"\"\"\n",
    "SELECT\n",
    "    src_data,\n",
    "    prop_occ_cd,\n",
    "    count(*) AS nl\n",
    "FROM\n",
    "    unified.frannie\n",
    "GROUP BY src_data, prop_occ_cd\n",
    "ORDER BY src_data, prop_occ_cd\n",
    "\"\"\"\n",
    "\n",
    "dfx1 = chu.run_query(qry, client, return_df=True)\n",
    "dfx1.head(n=1000)\n",
    "\n",
    "dfx = dfx1.groupby('src_data')['nl'].sum()\n",
    "dfx.rename('tots')\n",
    "dfx.name='tot'\n",
    "dfx1 = dfx1.merge(dfx, on='src_data')\n",
    "dfx1['distr'] = 100.0 * dfx1['nl'] / dfx1['tot']\n",
    "dfx1[['src_data', 'prop_occ_cd', 'nl', 'distr']].head(n=100)"
   ],
   "metadata": {
    "collapsed": false,
    "pycharm": {
     "name": "#%%\n"
    }
   }
  },
  {
   "cell_type": "code",
   "execution_count": 85,
   "outputs": [
    {
     "data": {
      "text/plain": "         src_data        min_ln_orig_ltv_  avg_ln_orig_ltv_  max_ln_orig_ltv_\n0                fannie          1             71.211866            999      \n1  freddie:non-standard          5             76.806368            145      \n2      freddie:standard          1             70.777542            809      ",
      "text/html": "<div>\n<style scoped>\n    .dataframe tbody tr th:only-of-type {\n        vertical-align: middle;\n    }\n\n    .dataframe tbody tr th {\n        vertical-align: top;\n    }\n\n    .dataframe thead th {\n        text-align: right;\n    }\n</style>\n<table border=\"1\" class=\"dataframe\">\n  <thead>\n    <tr style=\"text-align: center;\">\n      <th></th>\n      <th>src_data</th>\n      <th>min_ln_orig_ltv_</th>\n      <th>avg_ln_orig_ltv_</th>\n      <th>max_ln_orig_ltv_</th>\n    </tr>\n  </thead>\n  <tbody>\n    <tr>\n      <th>0</th>\n      <td>fannie</td>\n      <td>1</td>\n      <td>71.211866</td>\n      <td>999</td>\n    </tr>\n    <tr>\n      <th>1</th>\n      <td>freddie:non-standard</td>\n      <td>5</td>\n      <td>76.806368</td>\n      <td>145</td>\n    </tr>\n    <tr>\n      <th>2</th>\n      <td>freddie:standard</td>\n      <td>1</td>\n      <td>70.777542</td>\n      <td>809</td>\n    </tr>\n  </tbody>\n</table>\n</div>"
     },
     "execution_count": 85,
     "metadata": {},
     "output_type": "execute_result"
    }
   ],
   "source": [
    "\n",
    "\n",
    "# ln_orig_ltv\n",
    "qry = \\\n",
    "\"\"\"\n",
    "SELECT\n",
    "    src_data,\n",
    "    min(ln_orig_ltv),\n",
    "    avg(ln_orig_ltv),\n",
    "    max(ln_orig_ltv)\n",
    "FROM\n",
    "    unified.frannie\n",
    "WHERE\n",
    "    ln_orig_ltv > 0\n",
    "GROUP BY src_data\n",
    "ORDER BY src_data\n",
    "\"\"\"\n",
    "\n",
    "dfx1 = chu.run_query(qry, client, return_df=True)\n",
    "dfx1.head(n=1000)"
   ],
   "metadata": {
    "collapsed": false,
    "pycharm": {
     "name": "#%%\n"
    }
   }
  },
  {
   "cell_type": "code",
   "execution_count": 86,
   "outputs": [
    {
     "data": {
      "text/plain": "         src_data        min_ln_orig_cltv_  avg_ln_orig_cltv_  max_ln_orig_cltv_\n0                fannie          1              72.034021             999       \n1  freddie:non-standard          5              78.502685             401       \n2      freddie:standard          1              72.000797             899       ",
      "text/html": "<div>\n<style scoped>\n    .dataframe tbody tr th:only-of-type {\n        vertical-align: middle;\n    }\n\n    .dataframe tbody tr th {\n        vertical-align: top;\n    }\n\n    .dataframe thead th {\n        text-align: right;\n    }\n</style>\n<table border=\"1\" class=\"dataframe\">\n  <thead>\n    <tr style=\"text-align: center;\">\n      <th></th>\n      <th>src_data</th>\n      <th>min_ln_orig_cltv_</th>\n      <th>avg_ln_orig_cltv_</th>\n      <th>max_ln_orig_cltv_</th>\n    </tr>\n  </thead>\n  <tbody>\n    <tr>\n      <th>0</th>\n      <td>fannie</td>\n      <td>1</td>\n      <td>72.034021</td>\n      <td>999</td>\n    </tr>\n    <tr>\n      <th>1</th>\n      <td>freddie:non-standard</td>\n      <td>5</td>\n      <td>78.502685</td>\n      <td>401</td>\n    </tr>\n    <tr>\n      <th>2</th>\n      <td>freddie:standard</td>\n      <td>1</td>\n      <td>72.000797</td>\n      <td>899</td>\n    </tr>\n  </tbody>\n</table>\n</div>"
     },
     "execution_count": 86,
     "metadata": {},
     "output_type": "execute_result"
    }
   ],
   "source": [
    "\n",
    "\n",
    "# ln_orig_cltv\n",
    "qry = \\\n",
    "\"\"\"\n",
    "SELECT\n",
    "    src_data,\n",
    "    min(ln_orig_cltv),\n",
    "    avg(ln_orig_cltv),\n",
    "    max(ln_orig_cltv)\n",
    "FROM\n",
    "    unified.frannie\n",
    "WHERE\n",
    "    ln_orig_cltv > 0\n",
    "GROUP BY src_data\n",
    "ORDER BY src_data\n",
    "\"\"\"\n",
    "\n",
    "dfx1 = chu.run_query(qry, client, return_df=True)\n",
    "dfx1.head(n=1000)"
   ],
   "metadata": {
    "collapsed": false,
    "pycharm": {
     "name": "#%%\n"
    }
   }
  },
  {
   "cell_type": "code",
   "execution_count": 87,
   "outputs": [
    {
     "data": {
      "text/plain": "         src_data        min_borr_orig_fico_  avg_borr_orig_fico_  max_borr_orig_fico_\n0                fannie          300              745.126012               850        \n1  freddie:non-standard          300              720.790632               850        \n2      freddie:standard          300              741.210257               850        ",
      "text/html": "<div>\n<style scoped>\n    .dataframe tbody tr th:only-of-type {\n        vertical-align: middle;\n    }\n\n    .dataframe tbody tr th {\n        vertical-align: top;\n    }\n\n    .dataframe thead th {\n        text-align: right;\n    }\n</style>\n<table border=\"1\" class=\"dataframe\">\n  <thead>\n    <tr style=\"text-align: center;\">\n      <th></th>\n      <th>src_data</th>\n      <th>min_borr_orig_fico_</th>\n      <th>avg_borr_orig_fico_</th>\n      <th>max_borr_orig_fico_</th>\n    </tr>\n  </thead>\n  <tbody>\n    <tr>\n      <th>0</th>\n      <td>fannie</td>\n      <td>300</td>\n      <td>745.126012</td>\n      <td>850</td>\n    </tr>\n    <tr>\n      <th>1</th>\n      <td>freddie:non-standard</td>\n      <td>300</td>\n      <td>720.790632</td>\n      <td>850</td>\n    </tr>\n    <tr>\n      <th>2</th>\n      <td>freddie:standard</td>\n      <td>300</td>\n      <td>741.210257</td>\n      <td>850</td>\n    </tr>\n  </tbody>\n</table>\n</div>"
     },
     "execution_count": 87,
     "metadata": {},
     "output_type": "execute_result"
    }
   ],
   "source": [
    "\n",
    "\n",
    "# borr_orig_fico\n",
    "qry = \\\n",
    "\"\"\"\n",
    "SELECT\n",
    "    src_data,\n",
    "    min(borr_orig_fico),\n",
    "    avg(borr_orig_fico),\n",
    "    max(borr_orig_fico)\n",
    "FROM\n",
    "    unified.frannie\n",
    "WHERE\n",
    "    borr_orig_fico > 0\n",
    "GROUP BY src_data\n",
    "ORDER BY src_data\n",
    "\"\"\"\n",
    "\n",
    "dfx1 = chu.run_query(qry, client, return_df=True)\n",
    "dfx1.head(n=1000)"
   ],
   "metadata": {
    "collapsed": false,
    "pycharm": {
     "name": "#%%\n"
    }
   }
  },
  {
   "cell_type": "code",
   "execution_count": 88,
   "outputs": [
    {
     "data": {
      "text/plain": "         src_data        min_borr_dti_  avg_borr_dti_  max_borr_dti_\n0                fannie        1          33.504046         64      \n1  freddie:non-standard        1          34.439928         65      \n2      freddie:standard        1          33.015878         65      ",
      "text/html": "<div>\n<style scoped>\n    .dataframe tbody tr th:only-of-type {\n        vertical-align: middle;\n    }\n\n    .dataframe tbody tr th {\n        vertical-align: top;\n    }\n\n    .dataframe thead th {\n        text-align: right;\n    }\n</style>\n<table border=\"1\" class=\"dataframe\">\n  <thead>\n    <tr style=\"text-align: center;\">\n      <th></th>\n      <th>src_data</th>\n      <th>min_borr_dti_</th>\n      <th>avg_borr_dti_</th>\n      <th>max_borr_dti_</th>\n    </tr>\n  </thead>\n  <tbody>\n    <tr>\n      <th>0</th>\n      <td>fannie</td>\n      <td>1</td>\n      <td>33.504046</td>\n      <td>64</td>\n    </tr>\n    <tr>\n      <th>1</th>\n      <td>freddie:non-standard</td>\n      <td>1</td>\n      <td>34.439928</td>\n      <td>65</td>\n    </tr>\n    <tr>\n      <th>2</th>\n      <td>freddie:standard</td>\n      <td>1</td>\n      <td>33.015878</td>\n      <td>65</td>\n    </tr>\n  </tbody>\n</table>\n</div>"
     },
     "execution_count": 88,
     "metadata": {},
     "output_type": "execute_result"
    }
   ],
   "source": [
    "# borr_dti\n",
    "qry = \\\n",
    "\"\"\"\n",
    "SELECT\n",
    "    src_data,\n",
    "    min(borr_dti),\n",
    "    avg(borr_dti),\n",
    "    max(borr_dti)\n",
    "FROM\n",
    "    unified.frannie\n",
    "WHERE\n",
    "    borr_dti > 0\n",
    "GROUP BY src_data\n",
    "ORDER BY src_data\n",
    "\"\"\"\n",
    "\n",
    "dfx1 = chu.run_query(qry, client, return_df=True)\n",
    "dfx1.head(n=1000)"
   ],
   "metadata": {
    "collapsed": false,
    "pycharm": {
     "name": "#%%\n"
    }
   }
  },
  {
   "cell_type": "code",
   "execution_count": 89,
   "outputs": [
    {
     "data": {
      "text/plain": "         src_data        min_ln_orig_prin_  avg_ln_orig_prin_  max_ln_orig_prin_\n0                fannie       1000.0          202958.224519        1473000.0    \n1  freddie:non-standard       1000.0          187646.641729        1387000.0    \n2      freddie:standard       1000.0          192674.690059        1473000.0    ",
      "text/html": "<div>\n<style scoped>\n    .dataframe tbody tr th:only-of-type {\n        vertical-align: middle;\n    }\n\n    .dataframe tbody tr th {\n        vertical-align: top;\n    }\n\n    .dataframe thead th {\n        text-align: right;\n    }\n</style>\n<table border=\"1\" class=\"dataframe\">\n  <thead>\n    <tr style=\"text-align: center;\">\n      <th></th>\n      <th>src_data</th>\n      <th>min_ln_orig_prin_</th>\n      <th>avg_ln_orig_prin_</th>\n      <th>max_ln_orig_prin_</th>\n    </tr>\n  </thead>\n  <tbody>\n    <tr>\n      <th>0</th>\n      <td>fannie</td>\n      <td>1000.0</td>\n      <td>202958.224519</td>\n      <td>1473000.0</td>\n    </tr>\n    <tr>\n      <th>1</th>\n      <td>freddie:non-standard</td>\n      <td>1000.0</td>\n      <td>187646.641729</td>\n      <td>1387000.0</td>\n    </tr>\n    <tr>\n      <th>2</th>\n      <td>freddie:standard</td>\n      <td>1000.0</td>\n      <td>192674.690059</td>\n      <td>1473000.0</td>\n    </tr>\n  </tbody>\n</table>\n</div>"
     },
     "execution_count": 89,
     "metadata": {},
     "output_type": "execute_result"
    }
   ],
   "source": [
    "# ln_orig_prin\n",
    "qry = \\\n",
    "\"\"\"\n",
    "SELECT\n",
    "    src_data,\n",
    "    min(ln_orig_prin),\n",
    "    avg(ln_orig_prin),\n",
    "    max(ln_orig_prin)\n",
    "FROM\n",
    "    unified.frannie\n",
    "WHERE\n",
    "    ln_orig_prin > 0\n",
    "GROUP BY src_data\n",
    "ORDER BY src_data\n",
    "\"\"\"\n",
    "\n",
    "dfx1 = chu.run_query(qry, client, return_df=True)\n",
    "dfx1.head(n=1000)"
   ],
   "metadata": {
    "collapsed": false,
    "pycharm": {
     "name": "#%%\n"
    }
   }
  },
  {
   "cell_type": "code",
   "execution_count": 90,
   "outputs": [
    {
     "data": {
      "text/plain": "         src_data        min_ln_orig_ir_  avg_ln_orig_ir_  max_ln_orig_ir_\n0                fannie       1.75           4.965874           16.50     \n1  freddie:non-standard       0.50           6.015233           14.05     \n2      freddie:standard       1.75           5.091005           13.95     ",
      "text/html": "<div>\n<style scoped>\n    .dataframe tbody tr th:only-of-type {\n        vertical-align: middle;\n    }\n\n    .dataframe tbody tr th {\n        vertical-align: top;\n    }\n\n    .dataframe thead th {\n        text-align: right;\n    }\n</style>\n<table border=\"1\" class=\"dataframe\">\n  <thead>\n    <tr style=\"text-align: center;\">\n      <th></th>\n      <th>src_data</th>\n      <th>min_ln_orig_ir_</th>\n      <th>avg_ln_orig_ir_</th>\n      <th>max_ln_orig_ir_</th>\n    </tr>\n  </thead>\n  <tbody>\n    <tr>\n      <th>0</th>\n      <td>fannie</td>\n      <td>1.75</td>\n      <td>4.965874</td>\n      <td>16.50</td>\n    </tr>\n    <tr>\n      <th>1</th>\n      <td>freddie:non-standard</td>\n      <td>0.50</td>\n      <td>6.015233</td>\n      <td>14.05</td>\n    </tr>\n    <tr>\n      <th>2</th>\n      <td>freddie:standard</td>\n      <td>1.75</td>\n      <td>5.091005</td>\n      <td>13.95</td>\n    </tr>\n  </tbody>\n</table>\n</div>"
     },
     "execution_count": 90,
     "metadata": {},
     "output_type": "execute_result"
    }
   ],
   "source": [
    "# ln_orig_ir\n",
    "qry = \\\n",
    "\"\"\"\n",
    "SELECT\n",
    "    src_data,\n",
    "    min(ln_orig_ir),\n",
    "    avg(ln_orig_ir),\n",
    "    max(ln_orig_ir)\n",
    "FROM\n",
    "    unified.frannie\n",
    "WHERE\n",
    "    ln_orig_ir > 0\n",
    "GROUP BY src_data\n",
    "ORDER BY src_data\n",
    "\"\"\"\n",
    "\n",
    "dfx1 = chu.run_query(qry, client, return_df=True)\n",
    "dfx1.head(n=1000)"
   ],
   "metadata": {
    "collapsed": false,
    "pycharm": {
     "name": "#%%\n"
    }
   }
  },
  {
   "cell_type": "code",
   "execution_count": 91,
   "outputs": [
    {
     "data": {
      "text/plain": "         src_data        min_ln_mi_pct_  avg_ln_mi_pct_  max_ln_mi_pct_\n0                fannie       0.12          24.026512         65.0     \n1  freddie:non-standard       1.00          25.300741         53.0     \n2      freddie:standard       1.00          24.069388         54.0     ",
      "text/html": "<div>\n<style scoped>\n    .dataframe tbody tr th:only-of-type {\n        vertical-align: middle;\n    }\n\n    .dataframe tbody tr th {\n        vertical-align: top;\n    }\n\n    .dataframe thead th {\n        text-align: right;\n    }\n</style>\n<table border=\"1\" class=\"dataframe\">\n  <thead>\n    <tr style=\"text-align: center;\">\n      <th></th>\n      <th>src_data</th>\n      <th>min_ln_mi_pct_</th>\n      <th>avg_ln_mi_pct_</th>\n      <th>max_ln_mi_pct_</th>\n    </tr>\n  </thead>\n  <tbody>\n    <tr>\n      <th>0</th>\n      <td>fannie</td>\n      <td>0.12</td>\n      <td>24.026512</td>\n      <td>65.0</td>\n    </tr>\n    <tr>\n      <th>1</th>\n      <td>freddie:non-standard</td>\n      <td>1.00</td>\n      <td>25.300741</td>\n      <td>53.0</td>\n    </tr>\n    <tr>\n      <th>2</th>\n      <td>freddie:standard</td>\n      <td>1.00</td>\n      <td>24.069388</td>\n      <td>54.0</td>\n    </tr>\n  </tbody>\n</table>\n</div>"
     },
     "execution_count": 91,
     "metadata": {},
     "output_type": "execute_result"
    }
   ],
   "source": [
    "# ln_mi_pct\n",
    "qry = \\\n",
    "\"\"\"\n",
    "SELECT\n",
    "    src_data,\n",
    "    min(ln_mi_pct),\n",
    "    avg(ln_mi_pct),\n",
    "    max(ln_mi_pct)\n",
    "FROM\n",
    "    unified.frannie\n",
    "WHERE\n",
    "    ln_mi_pct > 0\n",
    "GROUP BY src_data\n",
    "ORDER BY src_data\n",
    "\"\"\"\n",
    "\n",
    "dfx1 = chu.run_query(qry, client, return_df=True)\n",
    "dfx1.head(n=1000)"
   ],
   "metadata": {
    "collapsed": false,
    "pycharm": {
     "name": "#%%\n"
    }
   }
  },
  {
   "cell_type": "code",
   "execution_count": 92,
   "outputs": [
    {
     "data": {
      "text/plain": "         src_data       msf    nl   \n0                fannie   N   761481\n1                fannie   Y    34997\n2  freddie:non-standard   N   179113\n3  freddie:non-standard   Y  4979734\n4      freddie:standard   N  1242125\n5      freddie:standard   Y  4896033",
      "text/html": "<div>\n<style scoped>\n    .dataframe tbody tr th:only-of-type {\n        vertical-align: middle;\n    }\n\n    .dataframe tbody tr th {\n        vertical-align: top;\n    }\n\n    .dataframe thead th {\n        text-align: right;\n    }\n</style>\n<table border=\"1\" class=\"dataframe\">\n  <thead>\n    <tr style=\"text-align: center;\">\n      <th></th>\n      <th>src_data</th>\n      <th>msf</th>\n      <th>nl</th>\n    </tr>\n  </thead>\n  <tbody>\n    <tr>\n      <th>0</th>\n      <td>fannie</td>\n      <td>N</td>\n      <td>761481</td>\n    </tr>\n    <tr>\n      <th>1</th>\n      <td>fannie</td>\n      <td>Y</td>\n      <td>34997</td>\n    </tr>\n    <tr>\n      <th>2</th>\n      <td>freddie:non-standard</td>\n      <td>N</td>\n      <td>179113</td>\n    </tr>\n    <tr>\n      <th>3</th>\n      <td>freddie:non-standard</td>\n      <td>Y</td>\n      <td>4979734</td>\n    </tr>\n    <tr>\n      <th>4</th>\n      <td>freddie:standard</td>\n      <td>N</td>\n      <td>1242125</td>\n    </tr>\n    <tr>\n      <th>5</th>\n      <td>freddie:standard</td>\n      <td>Y</td>\n      <td>4896033</td>\n    </tr>\n  </tbody>\n</table>\n</div>"
     },
     "execution_count": 92,
     "metadata": {},
     "output_type": "execute_result"
    }
   ],
   "source": [
    "\n",
    "# ln_defrl_amt\n",
    "qry = \\\n",
    "\"\"\"\n",
    "SELECT\n",
    "    src_data,\n",
    "    m.mod_sticky_flg AS msf,\n",
    "    count(*) as nl\n",
    "FROM\n",
    "    unified.frannie ARRAY JOIN monthly AS m\n",
    "WHERE\n",
    "    m.defrl_amt > 0\n",
    "GROUP BY src_data, msf\n",
    "ORDER BY src_data, msf\n",
    "\"\"\"\n",
    "\n",
    "dfx1 = chu.run_query(qry, client, return_df=True)\n",
    "dfx1.head(n=1000)"
   ],
   "metadata": {
    "collapsed": false,
    "pycharm": {
     "name": "#%%\n"
    }
   }
  },
  {
   "cell_type": "code",
   "execution_count": 93,
   "outputs": [
    {
     "data": {
      "text/plain": "         src_data       msf    nl  \n0                fannie   N  200738\n1                fannie   Y   10062\n2  freddie:non-standard   N   67254\n3  freddie:non-standard   Y   20987\n4      freddie:standard   N  240845\n5      freddie:standard   Y   27201",
      "text/html": "<div>\n<style scoped>\n    .dataframe tbody tr th:only-of-type {\n        vertical-align: middle;\n    }\n\n    .dataframe tbody tr th {\n        vertical-align: top;\n    }\n\n    .dataframe thead th {\n        text-align: right;\n    }\n</style>\n<table border=\"1\" class=\"dataframe\">\n  <thead>\n    <tr style=\"text-align: center;\">\n      <th></th>\n      <th>src_data</th>\n      <th>msf</th>\n      <th>nl</th>\n    </tr>\n  </thead>\n  <tbody>\n    <tr>\n      <th>0</th>\n      <td>fannie</td>\n      <td>N</td>\n      <td>200738</td>\n    </tr>\n    <tr>\n      <th>1</th>\n      <td>fannie</td>\n      <td>Y</td>\n      <td>10062</td>\n    </tr>\n    <tr>\n      <th>2</th>\n      <td>freddie:non-standard</td>\n      <td>N</td>\n      <td>67254</td>\n    </tr>\n    <tr>\n      <th>3</th>\n      <td>freddie:non-standard</td>\n      <td>Y</td>\n      <td>20987</td>\n    </tr>\n    <tr>\n      <th>4</th>\n      <td>freddie:standard</td>\n      <td>N</td>\n      <td>240845</td>\n    </tr>\n    <tr>\n      <th>5</th>\n      <td>freddie:standard</td>\n      <td>Y</td>\n      <td>27201</td>\n    </tr>\n  </tbody>\n</table>\n</div>"
     },
     "execution_count": 93,
     "metadata": {},
     "output_type": "execute_result"
    }
   ],
   "source": [
    "\n",
    "# mod flg when defrl_amt is first > 0\n",
    "qry = \\\n",
    "\"\"\"\n",
    "SELECT\n",
    "    src_data,\n",
    "    msf,\n",
    "    count(*) AS nl\n",
    "FROM (\n",
    "SELECT\n",
    "    src_data,\n",
    "    arrayFirstIndex(x -> IF(x > 0, 1, 0), monthly.defrl_amt) AS first_def,\n",
    "    arrayElement(monthly.mod_sticky_flg, first_def) AS msf,\n",
    "    arrayElement(monthly.borr_asst_plan, first_def) AS bap\n",
    "FROM\n",
    "    unified.frannie\n",
    "WHERE first_def > 0)\n",
    "GROUP BY src_data, msf\n",
    "ORDER BY src_data, msf\n",
    "\n",
    "\"\"\"\n",
    "\n",
    "dfx1 = chu.run_query(qry, client, return_df=True)\n",
    "dfx1.head(n=1000)"
   ],
   "metadata": {
    "collapsed": false,
    "pycharm": {
     "name": "#%%\n"
    }
   }
  },
  {
   "cell_type": "code",
   "execution_count": 94,
   "outputs": [
    {
     "data": {
      "text/plain": "          src_data       bap    nl  \n0                 fannie   7  139228\n1                 fannie   F   54689\n2                 fannie   N   16708\n3                 fannie   R     109\n4                 fannie   T      66\n5   freddie:non-standard   !   74805\n6   freddie:non-standard   F    9268\n7   freddie:non-standard   R      81\n8   freddie:non-standard   T    4087\n9       freddie:standard   !  113730\n10      freddie:standard   F  145362\n11      freddie:standard   R     416\n12      freddie:standard   T    8538",
      "text/html": "<div>\n<style scoped>\n    .dataframe tbody tr th:only-of-type {\n        vertical-align: middle;\n    }\n\n    .dataframe tbody tr th {\n        vertical-align: top;\n    }\n\n    .dataframe thead th {\n        text-align: right;\n    }\n</style>\n<table border=\"1\" class=\"dataframe\">\n  <thead>\n    <tr style=\"text-align: center;\">\n      <th></th>\n      <th>src_data</th>\n      <th>bap</th>\n      <th>nl</th>\n    </tr>\n  </thead>\n  <tbody>\n    <tr>\n      <th>0</th>\n      <td>fannie</td>\n      <td>7</td>\n      <td>139228</td>\n    </tr>\n    <tr>\n      <th>1</th>\n      <td>fannie</td>\n      <td>F</td>\n      <td>54689</td>\n    </tr>\n    <tr>\n      <th>2</th>\n      <td>fannie</td>\n      <td>N</td>\n      <td>16708</td>\n    </tr>\n    <tr>\n      <th>3</th>\n      <td>fannie</td>\n      <td>R</td>\n      <td>109</td>\n    </tr>\n    <tr>\n      <th>4</th>\n      <td>fannie</td>\n      <td>T</td>\n      <td>66</td>\n    </tr>\n    <tr>\n      <th>5</th>\n      <td>freddie:non-standard</td>\n      <td>!</td>\n      <td>74805</td>\n    </tr>\n    <tr>\n      <th>6</th>\n      <td>freddie:non-standard</td>\n      <td>F</td>\n      <td>9268</td>\n    </tr>\n    <tr>\n      <th>7</th>\n      <td>freddie:non-standard</td>\n      <td>R</td>\n      <td>81</td>\n    </tr>\n    <tr>\n      <th>8</th>\n      <td>freddie:non-standard</td>\n      <td>T</td>\n      <td>4087</td>\n    </tr>\n    <tr>\n      <th>9</th>\n      <td>freddie:standard</td>\n      <td>!</td>\n      <td>113730</td>\n    </tr>\n    <tr>\n      <th>10</th>\n      <td>freddie:standard</td>\n      <td>F</td>\n      <td>145362</td>\n    </tr>\n    <tr>\n      <th>11</th>\n      <td>freddie:standard</td>\n      <td>R</td>\n      <td>416</td>\n    </tr>\n    <tr>\n      <th>12</th>\n      <td>freddie:standard</td>\n      <td>T</td>\n      <td>8538</td>\n    </tr>\n  </tbody>\n</table>\n</div>"
     },
     "execution_count": 94,
     "metadata": {},
     "output_type": "execute_result"
    }
   ],
   "source": [
    "\n",
    "# bap when defrl_amt is first > 0\n",
    "qry = \\\n",
    "\"\"\"\n",
    "SELECT\n",
    "    src_data,\n",
    "    bap,\n",
    "    count(*) AS nl\n",
    "FROM (\n",
    "SELECT\n",
    "    src_data,\n",
    "    arrayFirstIndex(x -> IF(x > 0, 1, 0), monthly.defrl_amt) AS first_def,\n",
    "    arrayElement(monthly.mod_sticky_flg, first_def) AS msf,\n",
    "    arrayElement(monthly.borr_asst_plan, first_def) AS bap\n",
    "FROM\n",
    "    unified.frannie\n",
    "WHERE first_def > 0)\n",
    "GROUP BY src_data, bap\n",
    "ORDER BY src_data, bap\n",
    "\n",
    "\"\"\"\n",
    "\n",
    "dfx1 = chu.run_query(qry, client, return_df=True)\n",
    "dfx1.head(n=1000)"
   ],
   "metadata": {
    "collapsed": false,
    "pycharm": {
     "name": "#%%\n"
    }
   }
  },
  {
   "cell_type": "code",
   "execution_count": 95,
   "outputs": [
    {
     "data": {
      "text/plain": "           src_data            dt        nl  \n0                  fannie  2020-12-01  196148\n1                  fannie  2020-11-01  180986\n2                  fannie  2020-10-01  159728\n3                  fannie  2020-09-01  119703\n4                  fannie  2020-08-01   84579\n5                  fannie  2020-07-01   55334\n6    freddie:non-standard  2015-08-01   58671\n7    freddie:non-standard  2015-07-01   58657\n8    freddie:non-standard  2015-09-01   58652\n9    freddie:non-standard  2015-06-01   58642\n10   freddie:non-standard  2015-05-01   58560\n11   freddie:non-standard  2015-04-01   58486\n12   freddie:non-standard  2015-10-01   58471\n13   freddie:non-standard  2015-11-01   58442\n14   freddie:non-standard  2016-01-01   58437\n15   freddie:non-standard  2015-12-01   58401\n16   freddie:non-standard  2015-03-01   58318\n17   freddie:non-standard  2016-02-01   58299\n18   freddie:non-standard  2016-03-01   58283\n19   freddie:non-standard  2015-02-01   58212\n20   freddie:non-standard  2016-04-01   58058\n21   freddie:non-standard  2015-01-01   58044\n22   freddie:non-standard  2016-05-01   57915\n23   freddie:non-standard  2014-12-01   57887\n24   freddie:non-standard  2016-06-01   57871\n25   freddie:non-standard  2016-07-01   57804\n26   freddie:non-standard  2014-11-01   57687\n27   freddie:non-standard  2016-08-01   57618\n28   freddie:non-standard  2016-11-01   57543\n29   freddie:non-standard  2014-10-01   57502\n30   freddie:non-standard  2016-09-01   57469\n31   freddie:non-standard  2016-10-01   57446\n32   freddie:non-standard  2014-09-01   57225\n33   freddie:non-standard  2014-08-01   56950\n34   freddie:non-standard  2017-04-01   56786\n35   freddie:non-standard  2017-03-01   56724\n36   freddie:non-standard  2014-07-01   56675\n37   freddie:non-standard  2017-02-01   56298\n38   freddie:non-standard  2014-06-01   56208\n39   freddie:non-standard  2016-12-01   56149\n40   freddie:non-standard  2017-01-01   56028\n41   freddie:non-standard  2014-05-01   55886\n42   freddie:non-standard  2014-04-01   55390\n43   freddie:non-standard  2014-03-01   54730\n44   freddie:non-standard  2014-02-01   54022\n45   freddie:non-standard  2017-05-01   53683\n46   freddie:non-standard  2017-06-01   53591\n47   freddie:non-standard  2014-01-01   53307\n48   freddie:non-standard  2017-07-01   52896\n49   freddie:non-standard  2013-12-01   52573\n50   freddie:non-standard  2013-11-01   51885\n51   freddie:non-standard  2013-10-01   51003\n52   freddie:non-standard  2013-09-01   50086\n53   freddie:non-standard  2013-08-01   49178\n54   freddie:non-standard  2013-07-01   48248\n55   freddie:non-standard  2013-06-01   47225\n56   freddie:non-standard  2017-08-01   47205\n57   freddie:non-standard  2017-09-01   47171\n58   freddie:non-standard  2013-05-01   46008\n59   freddie:non-standard  2013-04-01   44986\n60   freddie:non-standard  2013-03-01   44050\n61   freddie:non-standard  2017-10-01   43646\n62   freddie:non-standard  2013-02-01   43006\n63   freddie:non-standard  2017-11-01   42109\n64   freddie:non-standard  2018-02-01   41993\n65   freddie:non-standard  2013-01-01   41845\n66   freddie:non-standard  2018-01-01   41799\n67   freddie:non-standard  2017-12-01   41648\n68   freddie:non-standard  2018-05-01   41028\n69   freddie:non-standard  2018-04-01   40986\n70   freddie:non-standard  2018-03-01   40811\n71   freddie:non-standard  2012-12-01   40523\n72   freddie:non-standard  2012-11-01   39463\n73   freddie:non-standard  2018-07-01   39264\n74   freddie:non-standard  2018-06-01   39141\n75   freddie:non-standard  2012-10-01   38243\n76   freddie:non-standard  2018-10-01   37071\n77   freddie:non-standard  2018-09-01   37052\n78   freddie:non-standard  2012-09-01   37048\n79   freddie:non-standard  2018-08-01   36995\n80   freddie:non-standard  2012-08-01   35867\n81   freddie:non-standard  2012-07-01   34592\n82   freddie:non-standard  2018-11-01   34371\n83   freddie:non-standard  2019-01-01   34258\n84   freddie:non-standard  2019-02-01   34226\n85   freddie:non-standard  2018-12-01   34179\n86   freddie:non-standard  2012-06-01   33301\n87   freddie:non-standard  2012-05-01   32318\n88   freddie:non-standard  2019-03-01   32018\n89   freddie:non-standard  2019-04-01   31958\n90   freddie:non-standard  2012-04-01   31652\n91   freddie:non-standard  2012-03-01   31073\n92   freddie:non-standard  2012-02-01   30620\n93   freddie:non-standard  2012-01-01   30087\n94   freddie:non-standard  2011-12-01   29613\n95   freddie:non-standard  2011-11-01   29124\n96   freddie:non-standard  2011-10-01   28404\n97   freddie:non-standard  2019-05-01   28257\n98   freddie:non-standard  2019-06-01   28197\n99   freddie:non-standard  2019-07-01   28008\n100  freddie:non-standard  2011-09-01   27668\n101  freddie:non-standard  2011-08-01   27061\n102  freddie:non-standard  2011-07-01   26225\n103  freddie:non-standard  2019-08-01   25861\n104  freddie:non-standard  2011-06-01   25330\n105  freddie:non-standard  2019-09-01   24640\n106  freddie:non-standard  2019-10-01   24565\n107  freddie:non-standard  2011-05-01   24332\n108  freddie:non-standard  2011-04-01   23276\n109  freddie:non-standard  2020-10-01   22462\n110  freddie:non-standard  2011-03-01   22351\n111  freddie:non-standard  2020-12-01   22329\n112  freddie:non-standard  2020-11-01   21671\n113  freddie:non-standard  2011-02-01   21064\n114  freddie:non-standard  2020-09-01   20919\n115  freddie:non-standard  2020-08-01   20817\n116  freddie:non-standard  2019-11-01   20816\n117  freddie:non-standard  2019-12-01   20756\n118  freddie:non-standard  2020-06-01   20708\n119  freddie:non-standard  2020-01-01   20608\n120  freddie:non-standard  2020-02-01   20555\n121  freddie:non-standard  2011-01-01   20348\n122  freddie:non-standard  2020-07-01   19520\n123  freddie:non-standard  2010-12-01   19337\n124  freddie:non-standard  2020-03-01   19121\n125  freddie:non-standard  2020-04-01   19084\n126  freddie:non-standard  2020-05-01   19056\n127  freddie:non-standard  2010-11-01   18410\n128  freddie:non-standard  2010-10-01   17453\n129  freddie:non-standard  2010-09-01   16394\n130  freddie:non-standard  2010-08-01   14547\n131  freddie:non-standard  2010-07-01   13477\n132  freddie:non-standard  2010-06-01   12235\n133  freddie:non-standard  2010-05-01   10314\n134  freddie:non-standard  2010-04-01    8429\n135  freddie:non-standard  2010-03-01    6919\n136  freddie:non-standard  2010-02-01    4712\n137  freddie:non-standard  2010-01-01    2996\n138  freddie:non-standard  2009-12-01    1861\n139  freddie:non-standard  2009-11-01    1094\n140  freddie:non-standard  2009-10-01     148\n141  freddie:non-standard  2009-09-01      29\n142  freddie:non-standard  2009-08-01       9\n143  freddie:non-standard  2009-07-01       4\n144  freddie:non-standard  2003-05-01       1\n145      freddie:standard  2020-12-01  184333\n146      freddie:standard  2020-11-01  175072\n147      freddie:standard  2020-10-01  165910\n148      freddie:standard  2020-09-01  144854\n149      freddie:standard  2020-08-01  119396\n150      freddie:standard  2020-07-01   93342\n151      freddie:standard  2020-06-01   75144\n152      freddie:standard  2017-04-01   58038\n153      freddie:standard  2016-11-01   57589\n154      freddie:standard  2017-07-01   57569\n155      freddie:standard  2017-06-01   57474\n156      freddie:standard  2017-03-01   57448\n157      freddie:standard  2016-03-01   57343\n158      freddie:standard  2016-01-01   57318\n159      freddie:standard  2016-02-01   57285\n160      freddie:standard  2016-04-01   57277\n161      freddie:standard  2015-12-01   57241\n162      freddie:standard  2015-11-01   57231\n163      freddie:standard  2015-09-01   57176\n164      freddie:standard  2015-10-01   57173\n165      freddie:standard  2016-05-01   57170\n166      freddie:standard  2015-08-01   57116\n167      freddie:standard  2016-06-01   57067\n168      freddie:standard  2016-10-01   57054\n169      freddie:standard  2016-07-01   57038\n170      freddie:standard  2017-05-01   57024\n171      freddie:standard  2015-07-01   57001\n172      freddie:standard  2015-06-01   56955\n173      freddie:standard  2016-08-01   56871\n174      freddie:standard  2015-05-01   56835\n175      freddie:standard  2016-09-01   56739\n176      freddie:standard  2015-04-01   56728\n177      freddie:standard  2015-03-01   56470\n178      freddie:standard  2015-02-01   56288\n179      freddie:standard  2017-02-01   56030\n180      freddie:standard  2015-01-01   56027\n181      freddie:standard  2014-12-01   55751\n182      freddie:standard  2014-11-01   55489\n183      freddie:standard  2017-09-01   55350\n184      freddie:standard  2018-02-01   55251\n185      freddie:standard  2014-10-01   55214\n186      freddie:standard  2017-01-01   55173\n187      freddie:standard  2018-05-01   55145\n188      freddie:standard  2016-12-01   55062\n189      freddie:standard  2017-08-01   54997\n190      freddie:standard  2014-09-01   54855\n191      freddie:standard  2018-04-01   54685\n192      freddie:standard  2014-08-01   54481\n193      freddie:standard  2018-01-01   54261\n194      freddie:standard  2018-07-01   54199\n195      freddie:standard  2014-07-01   54125\n196      freddie:standard  2018-03-01   53812\n197      freddie:standard  2014-06-01   53506\n198      freddie:standard  2018-06-01   53235\n199      freddie:standard  2017-10-01   53053\n200      freddie:standard  2014-05-01   53031\n201      freddie:standard  2017-12-01   52980\n202      freddie:standard  2018-10-01   52787\n203      freddie:standard  2017-11-01   52491\n204      freddie:standard  2018-09-01   52371\n205      freddie:standard  2014-04-01   52371\n206      freddie:standard  2018-08-01   51858\n207      freddie:standard  2014-03-01   51559\n208      freddie:standard  2019-02-01   51151\n209      freddie:standard  2019-01-01   50825\n210      freddie:standard  2014-02-01   50671\n211      freddie:standard  2018-12-01   50090\n212      freddie:standard  2014-01-01   49802\n213      freddie:standard  2018-11-01   49799\n214      freddie:standard  2013-12-01   48857\n215      freddie:standard  2019-04-01   48822\n216      freddie:standard  2019-03-01   48648\n217      freddie:standard  2013-11-01   48003\n218      freddie:standard  2013-10-01   46632\n219      freddie:standard  2019-07-01   45610\n220      freddie:standard  2019-06-01   45569\n221      freddie:standard  2019-05-01   45338\n222      freddie:standard  2013-09-01   45330\n223      freddie:standard  2013-08-01   44092\n224      freddie:standard  2019-08-01   43654\n225      freddie:standard  2013-07-01   42920\n226      freddie:standard  2019-10-01   42703\n227      freddie:standard  2019-09-01   42451\n228      freddie:standard  2013-06-01   41774\n229      freddie:standard  2013-05-01   40295\n230      freddie:standard  2020-02-01   39167\n231      freddie:standard  2019-12-01   39134\n232      freddie:standard  2019-11-01   39042\n233      freddie:standard  2020-01-01   38996\n234      freddie:standard  2013-04-01   38968\n235      freddie:standard  2013-03-01   37832\n236      freddie:standard  2020-03-01   36748\n237      freddie:standard  2020-04-01   36687\n238      freddie:standard  2020-05-01   36665\n239      freddie:standard  2013-02-01   36601\n240      freddie:standard  2013-01-01   35263\n241      freddie:standard  2012-12-01   33706\n242      freddie:standard  2012-11-01   32349\n243      freddie:standard  2012-10-01   30923\n244      freddie:standard  2012-09-01   29549\n245      freddie:standard  2012-08-01   28021\n246      freddie:standard  2012-07-01   26339\n247      freddie:standard  2012-06-01   24832\n248      freddie:standard  2012-05-01   23537\n249      freddie:standard  2012-04-01   22679\n250      freddie:standard  2012-03-01   22098\n251      freddie:standard  2012-02-01   21638\n252      freddie:standard  2012-01-01   21183\n253      freddie:standard  2011-12-01   20805\n254      freddie:standard  2011-11-01   20442\n255      freddie:standard  2011-10-01   19875\n256      freddie:standard  2011-09-01   19284\n257      freddie:standard  2011-08-01   18872\n258      freddie:standard  2011-07-01   18261\n259      freddie:standard  2011-06-01   17581\n260      freddie:standard  2011-05-01   16838\n261      freddie:standard  2011-04-01   16110\n262      freddie:standard  2011-03-01   15417\n263      freddie:standard  2011-02-01   14549\n264      freddie:standard  2011-01-01   13954\n265      freddie:standard  2010-12-01   13200\n266      freddie:standard  2010-11-01   12563\n267      freddie:standard  2010-10-01   11955\n268      freddie:standard  2010-09-01   11228\n269      freddie:standard  2010-08-01    9831\n270      freddie:standard  2010-07-01    9050\n271      freddie:standard  2010-06-01    8227\n272      freddie:standard  2010-05-01    7003\n273      freddie:standard  2010-04-01    5780\n274      freddie:standard  2010-03-01    4823\n275      freddie:standard  2010-02-01    3632\n276      freddie:standard  2010-01-01    2294\n277      freddie:standard  2009-12-01    1222\n278      freddie:standard  2009-11-01     539\n279      freddie:standard  2009-10-01      82\n280      freddie:standard  2009-09-01      17\n281      freddie:standard  2009-08-01       7\n282      freddie:standard  2009-07-01       6",
      "text/html": "<div>\n<style scoped>\n    .dataframe tbody tr th:only-of-type {\n        vertical-align: middle;\n    }\n\n    .dataframe tbody tr th {\n        vertical-align: top;\n    }\n\n    .dataframe thead th {\n        text-align: right;\n    }\n</style>\n<table border=\"1\" class=\"dataframe\">\n  <thead>\n    <tr style=\"text-align: center;\">\n      <th></th>\n      <th>src_data</th>\n      <th>dt</th>\n      <th>nl</th>\n    </tr>\n  </thead>\n  <tbody>\n    <tr>\n      <th>0</th>\n      <td>fannie</td>\n      <td>2020-12-01</td>\n      <td>196148</td>\n    </tr>\n    <tr>\n      <th>1</th>\n      <td>fannie</td>\n      <td>2020-11-01</td>\n      <td>180986</td>\n    </tr>\n    <tr>\n      <th>2</th>\n      <td>fannie</td>\n      <td>2020-10-01</td>\n      <td>159728</td>\n    </tr>\n    <tr>\n      <th>3</th>\n      <td>fannie</td>\n      <td>2020-09-01</td>\n      <td>119703</td>\n    </tr>\n    <tr>\n      <th>4</th>\n      <td>fannie</td>\n      <td>2020-08-01</td>\n      <td>84579</td>\n    </tr>\n    <tr>\n      <th>5</th>\n      <td>fannie</td>\n      <td>2020-07-01</td>\n      <td>55334</td>\n    </tr>\n    <tr>\n      <th>6</th>\n      <td>freddie:non-standard</td>\n      <td>2015-08-01</td>\n      <td>58671</td>\n    </tr>\n    <tr>\n      <th>7</th>\n      <td>freddie:non-standard</td>\n      <td>2015-07-01</td>\n      <td>58657</td>\n    </tr>\n    <tr>\n      <th>8</th>\n      <td>freddie:non-standard</td>\n      <td>2015-09-01</td>\n      <td>58652</td>\n    </tr>\n    <tr>\n      <th>9</th>\n      <td>freddie:non-standard</td>\n      <td>2015-06-01</td>\n      <td>58642</td>\n    </tr>\n    <tr>\n      <th>10</th>\n      <td>freddie:non-standard</td>\n      <td>2015-05-01</td>\n      <td>58560</td>\n    </tr>\n    <tr>\n      <th>11</th>\n      <td>freddie:non-standard</td>\n      <td>2015-04-01</td>\n      <td>58486</td>\n    </tr>\n    <tr>\n      <th>12</th>\n      <td>freddie:non-standard</td>\n      <td>2015-10-01</td>\n      <td>58471</td>\n    </tr>\n    <tr>\n      <th>13</th>\n      <td>freddie:non-standard</td>\n      <td>2015-11-01</td>\n      <td>58442</td>\n    </tr>\n    <tr>\n      <th>14</th>\n      <td>freddie:non-standard</td>\n      <td>2016-01-01</td>\n      <td>58437</td>\n    </tr>\n    <tr>\n      <th>15</th>\n      <td>freddie:non-standard</td>\n      <td>2015-12-01</td>\n      <td>58401</td>\n    </tr>\n    <tr>\n      <th>16</th>\n      <td>freddie:non-standard</td>\n      <td>2015-03-01</td>\n      <td>58318</td>\n    </tr>\n    <tr>\n      <th>17</th>\n      <td>freddie:non-standard</td>\n      <td>2016-02-01</td>\n      <td>58299</td>\n    </tr>\n    <tr>\n      <th>18</th>\n      <td>freddie:non-standard</td>\n      <td>2016-03-01</td>\n      <td>58283</td>\n    </tr>\n    <tr>\n      <th>19</th>\n      <td>freddie:non-standard</td>\n      <td>2015-02-01</td>\n      <td>58212</td>\n    </tr>\n    <tr>\n      <th>20</th>\n      <td>freddie:non-standard</td>\n      <td>2016-04-01</td>\n      <td>58058</td>\n    </tr>\n    <tr>\n      <th>21</th>\n      <td>freddie:non-standard</td>\n      <td>2015-01-01</td>\n      <td>58044</td>\n    </tr>\n    <tr>\n      <th>22</th>\n      <td>freddie:non-standard</td>\n      <td>2016-05-01</td>\n      <td>57915</td>\n    </tr>\n    <tr>\n      <th>23</th>\n      <td>freddie:non-standard</td>\n      <td>2014-12-01</td>\n      <td>57887</td>\n    </tr>\n    <tr>\n      <th>24</th>\n      <td>freddie:non-standard</td>\n      <td>2016-06-01</td>\n      <td>57871</td>\n    </tr>\n    <tr>\n      <th>25</th>\n      <td>freddie:non-standard</td>\n      <td>2016-07-01</td>\n      <td>57804</td>\n    </tr>\n    <tr>\n      <th>26</th>\n      <td>freddie:non-standard</td>\n      <td>2014-11-01</td>\n      <td>57687</td>\n    </tr>\n    <tr>\n      <th>27</th>\n      <td>freddie:non-standard</td>\n      <td>2016-08-01</td>\n      <td>57618</td>\n    </tr>\n    <tr>\n      <th>28</th>\n      <td>freddie:non-standard</td>\n      <td>2016-11-01</td>\n      <td>57543</td>\n    </tr>\n    <tr>\n      <th>29</th>\n      <td>freddie:non-standard</td>\n      <td>2014-10-01</td>\n      <td>57502</td>\n    </tr>\n    <tr>\n      <th>30</th>\n      <td>freddie:non-standard</td>\n      <td>2016-09-01</td>\n      <td>57469</td>\n    </tr>\n    <tr>\n      <th>31</th>\n      <td>freddie:non-standard</td>\n      <td>2016-10-01</td>\n      <td>57446</td>\n    </tr>\n    <tr>\n      <th>32</th>\n      <td>freddie:non-standard</td>\n      <td>2014-09-01</td>\n      <td>57225</td>\n    </tr>\n    <tr>\n      <th>33</th>\n      <td>freddie:non-standard</td>\n      <td>2014-08-01</td>\n      <td>56950</td>\n    </tr>\n    <tr>\n      <th>34</th>\n      <td>freddie:non-standard</td>\n      <td>2017-04-01</td>\n      <td>56786</td>\n    </tr>\n    <tr>\n      <th>35</th>\n      <td>freddie:non-standard</td>\n      <td>2017-03-01</td>\n      <td>56724</td>\n    </tr>\n    <tr>\n      <th>36</th>\n      <td>freddie:non-standard</td>\n      <td>2014-07-01</td>\n      <td>56675</td>\n    </tr>\n    <tr>\n      <th>37</th>\n      <td>freddie:non-standard</td>\n      <td>2017-02-01</td>\n      <td>56298</td>\n    </tr>\n    <tr>\n      <th>38</th>\n      <td>freddie:non-standard</td>\n      <td>2014-06-01</td>\n      <td>56208</td>\n    </tr>\n    <tr>\n      <th>39</th>\n      <td>freddie:non-standard</td>\n      <td>2016-12-01</td>\n      <td>56149</td>\n    </tr>\n    <tr>\n      <th>40</th>\n      <td>freddie:non-standard</td>\n      <td>2017-01-01</td>\n      <td>56028</td>\n    </tr>\n    <tr>\n      <th>41</th>\n      <td>freddie:non-standard</td>\n      <td>2014-05-01</td>\n      <td>55886</td>\n    </tr>\n    <tr>\n      <th>42</th>\n      <td>freddie:non-standard</td>\n      <td>2014-04-01</td>\n      <td>55390</td>\n    </tr>\n    <tr>\n      <th>43</th>\n      <td>freddie:non-standard</td>\n      <td>2014-03-01</td>\n      <td>54730</td>\n    </tr>\n    <tr>\n      <th>44</th>\n      <td>freddie:non-standard</td>\n      <td>2014-02-01</td>\n      <td>54022</td>\n    </tr>\n    <tr>\n      <th>45</th>\n      <td>freddie:non-standard</td>\n      <td>2017-05-01</td>\n      <td>53683</td>\n    </tr>\n    <tr>\n      <th>46</th>\n      <td>freddie:non-standard</td>\n      <td>2017-06-01</td>\n      <td>53591</td>\n    </tr>\n    <tr>\n      <th>47</th>\n      <td>freddie:non-standard</td>\n      <td>2014-01-01</td>\n      <td>53307</td>\n    </tr>\n    <tr>\n      <th>48</th>\n      <td>freddie:non-standard</td>\n      <td>2017-07-01</td>\n      <td>52896</td>\n    </tr>\n    <tr>\n      <th>49</th>\n      <td>freddie:non-standard</td>\n      <td>2013-12-01</td>\n      <td>52573</td>\n    </tr>\n    <tr>\n      <th>50</th>\n      <td>freddie:non-standard</td>\n      <td>2013-11-01</td>\n      <td>51885</td>\n    </tr>\n    <tr>\n      <th>51</th>\n      <td>freddie:non-standard</td>\n      <td>2013-10-01</td>\n      <td>51003</td>\n    </tr>\n    <tr>\n      <th>52</th>\n      <td>freddie:non-standard</td>\n      <td>2013-09-01</td>\n      <td>50086</td>\n    </tr>\n    <tr>\n      <th>53</th>\n      <td>freddie:non-standard</td>\n      <td>2013-08-01</td>\n      <td>49178</td>\n    </tr>\n    <tr>\n      <th>54</th>\n      <td>freddie:non-standard</td>\n      <td>2013-07-01</td>\n      <td>48248</td>\n    </tr>\n    <tr>\n      <th>55</th>\n      <td>freddie:non-standard</td>\n      <td>2013-06-01</td>\n      <td>47225</td>\n    </tr>\n    <tr>\n      <th>56</th>\n      <td>freddie:non-standard</td>\n      <td>2017-08-01</td>\n      <td>47205</td>\n    </tr>\n    <tr>\n      <th>57</th>\n      <td>freddie:non-standard</td>\n      <td>2017-09-01</td>\n      <td>47171</td>\n    </tr>\n    <tr>\n      <th>58</th>\n      <td>freddie:non-standard</td>\n      <td>2013-05-01</td>\n      <td>46008</td>\n    </tr>\n    <tr>\n      <th>59</th>\n      <td>freddie:non-standard</td>\n      <td>2013-04-01</td>\n      <td>44986</td>\n    </tr>\n    <tr>\n      <th>60</th>\n      <td>freddie:non-standard</td>\n      <td>2013-03-01</td>\n      <td>44050</td>\n    </tr>\n    <tr>\n      <th>61</th>\n      <td>freddie:non-standard</td>\n      <td>2017-10-01</td>\n      <td>43646</td>\n    </tr>\n    <tr>\n      <th>62</th>\n      <td>freddie:non-standard</td>\n      <td>2013-02-01</td>\n      <td>43006</td>\n    </tr>\n    <tr>\n      <th>63</th>\n      <td>freddie:non-standard</td>\n      <td>2017-11-01</td>\n      <td>42109</td>\n    </tr>\n    <tr>\n      <th>64</th>\n      <td>freddie:non-standard</td>\n      <td>2018-02-01</td>\n      <td>41993</td>\n    </tr>\n    <tr>\n      <th>65</th>\n      <td>freddie:non-standard</td>\n      <td>2013-01-01</td>\n      <td>41845</td>\n    </tr>\n    <tr>\n      <th>66</th>\n      <td>freddie:non-standard</td>\n      <td>2018-01-01</td>\n      <td>41799</td>\n    </tr>\n    <tr>\n      <th>67</th>\n      <td>freddie:non-standard</td>\n      <td>2017-12-01</td>\n      <td>41648</td>\n    </tr>\n    <tr>\n      <th>68</th>\n      <td>freddie:non-standard</td>\n      <td>2018-05-01</td>\n      <td>41028</td>\n    </tr>\n    <tr>\n      <th>69</th>\n      <td>freddie:non-standard</td>\n      <td>2018-04-01</td>\n      <td>40986</td>\n    </tr>\n    <tr>\n      <th>70</th>\n      <td>freddie:non-standard</td>\n      <td>2018-03-01</td>\n      <td>40811</td>\n    </tr>\n    <tr>\n      <th>71</th>\n      <td>freddie:non-standard</td>\n      <td>2012-12-01</td>\n      <td>40523</td>\n    </tr>\n    <tr>\n      <th>72</th>\n      <td>freddie:non-standard</td>\n      <td>2012-11-01</td>\n      <td>39463</td>\n    </tr>\n    <tr>\n      <th>73</th>\n      <td>freddie:non-standard</td>\n      <td>2018-07-01</td>\n      <td>39264</td>\n    </tr>\n    <tr>\n      <th>74</th>\n      <td>freddie:non-standard</td>\n      <td>2018-06-01</td>\n      <td>39141</td>\n    </tr>\n    <tr>\n      <th>75</th>\n      <td>freddie:non-standard</td>\n      <td>2012-10-01</td>\n      <td>38243</td>\n    </tr>\n    <tr>\n      <th>76</th>\n      <td>freddie:non-standard</td>\n      <td>2018-10-01</td>\n      <td>37071</td>\n    </tr>\n    <tr>\n      <th>77</th>\n      <td>freddie:non-standard</td>\n      <td>2018-09-01</td>\n      <td>37052</td>\n    </tr>\n    <tr>\n      <th>78</th>\n      <td>freddie:non-standard</td>\n      <td>2012-09-01</td>\n      <td>37048</td>\n    </tr>\n    <tr>\n      <th>79</th>\n      <td>freddie:non-standard</td>\n      <td>2018-08-01</td>\n      <td>36995</td>\n    </tr>\n    <tr>\n      <th>80</th>\n      <td>freddie:non-standard</td>\n      <td>2012-08-01</td>\n      <td>35867</td>\n    </tr>\n    <tr>\n      <th>81</th>\n      <td>freddie:non-standard</td>\n      <td>2012-07-01</td>\n      <td>34592</td>\n    </tr>\n    <tr>\n      <th>82</th>\n      <td>freddie:non-standard</td>\n      <td>2018-11-01</td>\n      <td>34371</td>\n    </tr>\n    <tr>\n      <th>83</th>\n      <td>freddie:non-standard</td>\n      <td>2019-01-01</td>\n      <td>34258</td>\n    </tr>\n    <tr>\n      <th>84</th>\n      <td>freddie:non-standard</td>\n      <td>2019-02-01</td>\n      <td>34226</td>\n    </tr>\n    <tr>\n      <th>85</th>\n      <td>freddie:non-standard</td>\n      <td>2018-12-01</td>\n      <td>34179</td>\n    </tr>\n    <tr>\n      <th>86</th>\n      <td>freddie:non-standard</td>\n      <td>2012-06-01</td>\n      <td>33301</td>\n    </tr>\n    <tr>\n      <th>87</th>\n      <td>freddie:non-standard</td>\n      <td>2012-05-01</td>\n      <td>32318</td>\n    </tr>\n    <tr>\n      <th>88</th>\n      <td>freddie:non-standard</td>\n      <td>2019-03-01</td>\n      <td>32018</td>\n    </tr>\n    <tr>\n      <th>89</th>\n      <td>freddie:non-standard</td>\n      <td>2019-04-01</td>\n      <td>31958</td>\n    </tr>\n    <tr>\n      <th>90</th>\n      <td>freddie:non-standard</td>\n      <td>2012-04-01</td>\n      <td>31652</td>\n    </tr>\n    <tr>\n      <th>91</th>\n      <td>freddie:non-standard</td>\n      <td>2012-03-01</td>\n      <td>31073</td>\n    </tr>\n    <tr>\n      <th>92</th>\n      <td>freddie:non-standard</td>\n      <td>2012-02-01</td>\n      <td>30620</td>\n    </tr>\n    <tr>\n      <th>93</th>\n      <td>freddie:non-standard</td>\n      <td>2012-01-01</td>\n      <td>30087</td>\n    </tr>\n    <tr>\n      <th>94</th>\n      <td>freddie:non-standard</td>\n      <td>2011-12-01</td>\n      <td>29613</td>\n    </tr>\n    <tr>\n      <th>95</th>\n      <td>freddie:non-standard</td>\n      <td>2011-11-01</td>\n      <td>29124</td>\n    </tr>\n    <tr>\n      <th>96</th>\n      <td>freddie:non-standard</td>\n      <td>2011-10-01</td>\n      <td>28404</td>\n    </tr>\n    <tr>\n      <th>97</th>\n      <td>freddie:non-standard</td>\n      <td>2019-05-01</td>\n      <td>28257</td>\n    </tr>\n    <tr>\n      <th>98</th>\n      <td>freddie:non-standard</td>\n      <td>2019-06-01</td>\n      <td>28197</td>\n    </tr>\n    <tr>\n      <th>99</th>\n      <td>freddie:non-standard</td>\n      <td>2019-07-01</td>\n      <td>28008</td>\n    </tr>\n    <tr>\n      <th>100</th>\n      <td>freddie:non-standard</td>\n      <td>2011-09-01</td>\n      <td>27668</td>\n    </tr>\n    <tr>\n      <th>101</th>\n      <td>freddie:non-standard</td>\n      <td>2011-08-01</td>\n      <td>27061</td>\n    </tr>\n    <tr>\n      <th>102</th>\n      <td>freddie:non-standard</td>\n      <td>2011-07-01</td>\n      <td>26225</td>\n    </tr>\n    <tr>\n      <th>103</th>\n      <td>freddie:non-standard</td>\n      <td>2019-08-01</td>\n      <td>25861</td>\n    </tr>\n    <tr>\n      <th>104</th>\n      <td>freddie:non-standard</td>\n      <td>2011-06-01</td>\n      <td>25330</td>\n    </tr>\n    <tr>\n      <th>105</th>\n      <td>freddie:non-standard</td>\n      <td>2019-09-01</td>\n      <td>24640</td>\n    </tr>\n    <tr>\n      <th>106</th>\n      <td>freddie:non-standard</td>\n      <td>2019-10-01</td>\n      <td>24565</td>\n    </tr>\n    <tr>\n      <th>107</th>\n      <td>freddie:non-standard</td>\n      <td>2011-05-01</td>\n      <td>24332</td>\n    </tr>\n    <tr>\n      <th>108</th>\n      <td>freddie:non-standard</td>\n      <td>2011-04-01</td>\n      <td>23276</td>\n    </tr>\n    <tr>\n      <th>109</th>\n      <td>freddie:non-standard</td>\n      <td>2020-10-01</td>\n      <td>22462</td>\n    </tr>\n    <tr>\n      <th>110</th>\n      <td>freddie:non-standard</td>\n      <td>2011-03-01</td>\n      <td>22351</td>\n    </tr>\n    <tr>\n      <th>111</th>\n      <td>freddie:non-standard</td>\n      <td>2020-12-01</td>\n      <td>22329</td>\n    </tr>\n    <tr>\n      <th>112</th>\n      <td>freddie:non-standard</td>\n      <td>2020-11-01</td>\n      <td>21671</td>\n    </tr>\n    <tr>\n      <th>113</th>\n      <td>freddie:non-standard</td>\n      <td>2011-02-01</td>\n      <td>21064</td>\n    </tr>\n    <tr>\n      <th>114</th>\n      <td>freddie:non-standard</td>\n      <td>2020-09-01</td>\n      <td>20919</td>\n    </tr>\n    <tr>\n      <th>115</th>\n      <td>freddie:non-standard</td>\n      <td>2020-08-01</td>\n      <td>20817</td>\n    </tr>\n    <tr>\n      <th>116</th>\n      <td>freddie:non-standard</td>\n      <td>2019-11-01</td>\n      <td>20816</td>\n    </tr>\n    <tr>\n      <th>117</th>\n      <td>freddie:non-standard</td>\n      <td>2019-12-01</td>\n      <td>20756</td>\n    </tr>\n    <tr>\n      <th>118</th>\n      <td>freddie:non-standard</td>\n      <td>2020-06-01</td>\n      <td>20708</td>\n    </tr>\n    <tr>\n      <th>119</th>\n      <td>freddie:non-standard</td>\n      <td>2020-01-01</td>\n      <td>20608</td>\n    </tr>\n    <tr>\n      <th>120</th>\n      <td>freddie:non-standard</td>\n      <td>2020-02-01</td>\n      <td>20555</td>\n    </tr>\n    <tr>\n      <th>121</th>\n      <td>freddie:non-standard</td>\n      <td>2011-01-01</td>\n      <td>20348</td>\n    </tr>\n    <tr>\n      <th>122</th>\n      <td>freddie:non-standard</td>\n      <td>2020-07-01</td>\n      <td>19520</td>\n    </tr>\n    <tr>\n      <th>123</th>\n      <td>freddie:non-standard</td>\n      <td>2010-12-01</td>\n      <td>19337</td>\n    </tr>\n    <tr>\n      <th>124</th>\n      <td>freddie:non-standard</td>\n      <td>2020-03-01</td>\n      <td>19121</td>\n    </tr>\n    <tr>\n      <th>125</th>\n      <td>freddie:non-standard</td>\n      <td>2020-04-01</td>\n      <td>19084</td>\n    </tr>\n    <tr>\n      <th>126</th>\n      <td>freddie:non-standard</td>\n      <td>2020-05-01</td>\n      <td>19056</td>\n    </tr>\n    <tr>\n      <th>127</th>\n      <td>freddie:non-standard</td>\n      <td>2010-11-01</td>\n      <td>18410</td>\n    </tr>\n    <tr>\n      <th>128</th>\n      <td>freddie:non-standard</td>\n      <td>2010-10-01</td>\n      <td>17453</td>\n    </tr>\n    <tr>\n      <th>129</th>\n      <td>freddie:non-standard</td>\n      <td>2010-09-01</td>\n      <td>16394</td>\n    </tr>\n    <tr>\n      <th>130</th>\n      <td>freddie:non-standard</td>\n      <td>2010-08-01</td>\n      <td>14547</td>\n    </tr>\n    <tr>\n      <th>131</th>\n      <td>freddie:non-standard</td>\n      <td>2010-07-01</td>\n      <td>13477</td>\n    </tr>\n    <tr>\n      <th>132</th>\n      <td>freddie:non-standard</td>\n      <td>2010-06-01</td>\n      <td>12235</td>\n    </tr>\n    <tr>\n      <th>133</th>\n      <td>freddie:non-standard</td>\n      <td>2010-05-01</td>\n      <td>10314</td>\n    </tr>\n    <tr>\n      <th>134</th>\n      <td>freddie:non-standard</td>\n      <td>2010-04-01</td>\n      <td>8429</td>\n    </tr>\n    <tr>\n      <th>135</th>\n      <td>freddie:non-standard</td>\n      <td>2010-03-01</td>\n      <td>6919</td>\n    </tr>\n    <tr>\n      <th>136</th>\n      <td>freddie:non-standard</td>\n      <td>2010-02-01</td>\n      <td>4712</td>\n    </tr>\n    <tr>\n      <th>137</th>\n      <td>freddie:non-standard</td>\n      <td>2010-01-01</td>\n      <td>2996</td>\n    </tr>\n    <tr>\n      <th>138</th>\n      <td>freddie:non-standard</td>\n      <td>2009-12-01</td>\n      <td>1861</td>\n    </tr>\n    <tr>\n      <th>139</th>\n      <td>freddie:non-standard</td>\n      <td>2009-11-01</td>\n      <td>1094</td>\n    </tr>\n    <tr>\n      <th>140</th>\n      <td>freddie:non-standard</td>\n      <td>2009-10-01</td>\n      <td>148</td>\n    </tr>\n    <tr>\n      <th>141</th>\n      <td>freddie:non-standard</td>\n      <td>2009-09-01</td>\n      <td>29</td>\n    </tr>\n    <tr>\n      <th>142</th>\n      <td>freddie:non-standard</td>\n      <td>2009-08-01</td>\n      <td>9</td>\n    </tr>\n    <tr>\n      <th>143</th>\n      <td>freddie:non-standard</td>\n      <td>2009-07-01</td>\n      <td>4</td>\n    </tr>\n    <tr>\n      <th>144</th>\n      <td>freddie:non-standard</td>\n      <td>2003-05-01</td>\n      <td>1</td>\n    </tr>\n    <tr>\n      <th>145</th>\n      <td>freddie:standard</td>\n      <td>2020-12-01</td>\n      <td>184333</td>\n    </tr>\n    <tr>\n      <th>146</th>\n      <td>freddie:standard</td>\n      <td>2020-11-01</td>\n      <td>175072</td>\n    </tr>\n    <tr>\n      <th>147</th>\n      <td>freddie:standard</td>\n      <td>2020-10-01</td>\n      <td>165910</td>\n    </tr>\n    <tr>\n      <th>148</th>\n      <td>freddie:standard</td>\n      <td>2020-09-01</td>\n      <td>144854</td>\n    </tr>\n    <tr>\n      <th>149</th>\n      <td>freddie:standard</td>\n      <td>2020-08-01</td>\n      <td>119396</td>\n    </tr>\n    <tr>\n      <th>150</th>\n      <td>freddie:standard</td>\n      <td>2020-07-01</td>\n      <td>93342</td>\n    </tr>\n    <tr>\n      <th>151</th>\n      <td>freddie:standard</td>\n      <td>2020-06-01</td>\n      <td>75144</td>\n    </tr>\n    <tr>\n      <th>152</th>\n      <td>freddie:standard</td>\n      <td>2017-04-01</td>\n      <td>58038</td>\n    </tr>\n    <tr>\n      <th>153</th>\n      <td>freddie:standard</td>\n      <td>2016-11-01</td>\n      <td>57589</td>\n    </tr>\n    <tr>\n      <th>154</th>\n      <td>freddie:standard</td>\n      <td>2017-07-01</td>\n      <td>57569</td>\n    </tr>\n    <tr>\n      <th>155</th>\n      <td>freddie:standard</td>\n      <td>2017-06-01</td>\n      <td>57474</td>\n    </tr>\n    <tr>\n      <th>156</th>\n      <td>freddie:standard</td>\n      <td>2017-03-01</td>\n      <td>57448</td>\n    </tr>\n    <tr>\n      <th>157</th>\n      <td>freddie:standard</td>\n      <td>2016-03-01</td>\n      <td>57343</td>\n    </tr>\n    <tr>\n      <th>158</th>\n      <td>freddie:standard</td>\n      <td>2016-01-01</td>\n      <td>57318</td>\n    </tr>\n    <tr>\n      <th>159</th>\n      <td>freddie:standard</td>\n      <td>2016-02-01</td>\n      <td>57285</td>\n    </tr>\n    <tr>\n      <th>160</th>\n      <td>freddie:standard</td>\n      <td>2016-04-01</td>\n      <td>57277</td>\n    </tr>\n    <tr>\n      <th>161</th>\n      <td>freddie:standard</td>\n      <td>2015-12-01</td>\n      <td>57241</td>\n    </tr>\n    <tr>\n      <th>162</th>\n      <td>freddie:standard</td>\n      <td>2015-11-01</td>\n      <td>57231</td>\n    </tr>\n    <tr>\n      <th>163</th>\n      <td>freddie:standard</td>\n      <td>2015-09-01</td>\n      <td>57176</td>\n    </tr>\n    <tr>\n      <th>164</th>\n      <td>freddie:standard</td>\n      <td>2015-10-01</td>\n      <td>57173</td>\n    </tr>\n    <tr>\n      <th>165</th>\n      <td>freddie:standard</td>\n      <td>2016-05-01</td>\n      <td>57170</td>\n    </tr>\n    <tr>\n      <th>166</th>\n      <td>freddie:standard</td>\n      <td>2015-08-01</td>\n      <td>57116</td>\n    </tr>\n    <tr>\n      <th>167</th>\n      <td>freddie:standard</td>\n      <td>2016-06-01</td>\n      <td>57067</td>\n    </tr>\n    <tr>\n      <th>168</th>\n      <td>freddie:standard</td>\n      <td>2016-10-01</td>\n      <td>57054</td>\n    </tr>\n    <tr>\n      <th>169</th>\n      <td>freddie:standard</td>\n      <td>2016-07-01</td>\n      <td>57038</td>\n    </tr>\n    <tr>\n      <th>170</th>\n      <td>freddie:standard</td>\n      <td>2017-05-01</td>\n      <td>57024</td>\n    </tr>\n    <tr>\n      <th>171</th>\n      <td>freddie:standard</td>\n      <td>2015-07-01</td>\n      <td>57001</td>\n    </tr>\n    <tr>\n      <th>172</th>\n      <td>freddie:standard</td>\n      <td>2015-06-01</td>\n      <td>56955</td>\n    </tr>\n    <tr>\n      <th>173</th>\n      <td>freddie:standard</td>\n      <td>2016-08-01</td>\n      <td>56871</td>\n    </tr>\n    <tr>\n      <th>174</th>\n      <td>freddie:standard</td>\n      <td>2015-05-01</td>\n      <td>56835</td>\n    </tr>\n    <tr>\n      <th>175</th>\n      <td>freddie:standard</td>\n      <td>2016-09-01</td>\n      <td>56739</td>\n    </tr>\n    <tr>\n      <th>176</th>\n      <td>freddie:standard</td>\n      <td>2015-04-01</td>\n      <td>56728</td>\n    </tr>\n    <tr>\n      <th>177</th>\n      <td>freddie:standard</td>\n      <td>2015-03-01</td>\n      <td>56470</td>\n    </tr>\n    <tr>\n      <th>178</th>\n      <td>freddie:standard</td>\n      <td>2015-02-01</td>\n      <td>56288</td>\n    </tr>\n    <tr>\n      <th>179</th>\n      <td>freddie:standard</td>\n      <td>2017-02-01</td>\n      <td>56030</td>\n    </tr>\n    <tr>\n      <th>180</th>\n      <td>freddie:standard</td>\n      <td>2015-01-01</td>\n      <td>56027</td>\n    </tr>\n    <tr>\n      <th>181</th>\n      <td>freddie:standard</td>\n      <td>2014-12-01</td>\n      <td>55751</td>\n    </tr>\n    <tr>\n      <th>182</th>\n      <td>freddie:standard</td>\n      <td>2014-11-01</td>\n      <td>55489</td>\n    </tr>\n    <tr>\n      <th>183</th>\n      <td>freddie:standard</td>\n      <td>2017-09-01</td>\n      <td>55350</td>\n    </tr>\n    <tr>\n      <th>184</th>\n      <td>freddie:standard</td>\n      <td>2018-02-01</td>\n      <td>55251</td>\n    </tr>\n    <tr>\n      <th>185</th>\n      <td>freddie:standard</td>\n      <td>2014-10-01</td>\n      <td>55214</td>\n    </tr>\n    <tr>\n      <th>186</th>\n      <td>freddie:standard</td>\n      <td>2017-01-01</td>\n      <td>55173</td>\n    </tr>\n    <tr>\n      <th>187</th>\n      <td>freddie:standard</td>\n      <td>2018-05-01</td>\n      <td>55145</td>\n    </tr>\n    <tr>\n      <th>188</th>\n      <td>freddie:standard</td>\n      <td>2016-12-01</td>\n      <td>55062</td>\n    </tr>\n    <tr>\n      <th>189</th>\n      <td>freddie:standard</td>\n      <td>2017-08-01</td>\n      <td>54997</td>\n    </tr>\n    <tr>\n      <th>190</th>\n      <td>freddie:standard</td>\n      <td>2014-09-01</td>\n      <td>54855</td>\n    </tr>\n    <tr>\n      <th>191</th>\n      <td>freddie:standard</td>\n      <td>2018-04-01</td>\n      <td>54685</td>\n    </tr>\n    <tr>\n      <th>192</th>\n      <td>freddie:standard</td>\n      <td>2014-08-01</td>\n      <td>54481</td>\n    </tr>\n    <tr>\n      <th>193</th>\n      <td>freddie:standard</td>\n      <td>2018-01-01</td>\n      <td>54261</td>\n    </tr>\n    <tr>\n      <th>194</th>\n      <td>freddie:standard</td>\n      <td>2018-07-01</td>\n      <td>54199</td>\n    </tr>\n    <tr>\n      <th>195</th>\n      <td>freddie:standard</td>\n      <td>2014-07-01</td>\n      <td>54125</td>\n    </tr>\n    <tr>\n      <th>196</th>\n      <td>freddie:standard</td>\n      <td>2018-03-01</td>\n      <td>53812</td>\n    </tr>\n    <tr>\n      <th>197</th>\n      <td>freddie:standard</td>\n      <td>2014-06-01</td>\n      <td>53506</td>\n    </tr>\n    <tr>\n      <th>198</th>\n      <td>freddie:standard</td>\n      <td>2018-06-01</td>\n      <td>53235</td>\n    </tr>\n    <tr>\n      <th>199</th>\n      <td>freddie:standard</td>\n      <td>2017-10-01</td>\n      <td>53053</td>\n    </tr>\n    <tr>\n      <th>200</th>\n      <td>freddie:standard</td>\n      <td>2014-05-01</td>\n      <td>53031</td>\n    </tr>\n    <tr>\n      <th>201</th>\n      <td>freddie:standard</td>\n      <td>2017-12-01</td>\n      <td>52980</td>\n    </tr>\n    <tr>\n      <th>202</th>\n      <td>freddie:standard</td>\n      <td>2018-10-01</td>\n      <td>52787</td>\n    </tr>\n    <tr>\n      <th>203</th>\n      <td>freddie:standard</td>\n      <td>2017-11-01</td>\n      <td>52491</td>\n    </tr>\n    <tr>\n      <th>204</th>\n      <td>freddie:standard</td>\n      <td>2018-09-01</td>\n      <td>52371</td>\n    </tr>\n    <tr>\n      <th>205</th>\n      <td>freddie:standard</td>\n      <td>2014-04-01</td>\n      <td>52371</td>\n    </tr>\n    <tr>\n      <th>206</th>\n      <td>freddie:standard</td>\n      <td>2018-08-01</td>\n      <td>51858</td>\n    </tr>\n    <tr>\n      <th>207</th>\n      <td>freddie:standard</td>\n      <td>2014-03-01</td>\n      <td>51559</td>\n    </tr>\n    <tr>\n      <th>208</th>\n      <td>freddie:standard</td>\n      <td>2019-02-01</td>\n      <td>51151</td>\n    </tr>\n    <tr>\n      <th>209</th>\n      <td>freddie:standard</td>\n      <td>2019-01-01</td>\n      <td>50825</td>\n    </tr>\n    <tr>\n      <th>210</th>\n      <td>freddie:standard</td>\n      <td>2014-02-01</td>\n      <td>50671</td>\n    </tr>\n    <tr>\n      <th>211</th>\n      <td>freddie:standard</td>\n      <td>2018-12-01</td>\n      <td>50090</td>\n    </tr>\n    <tr>\n      <th>212</th>\n      <td>freddie:standard</td>\n      <td>2014-01-01</td>\n      <td>49802</td>\n    </tr>\n    <tr>\n      <th>213</th>\n      <td>freddie:standard</td>\n      <td>2018-11-01</td>\n      <td>49799</td>\n    </tr>\n    <tr>\n      <th>214</th>\n      <td>freddie:standard</td>\n      <td>2013-12-01</td>\n      <td>48857</td>\n    </tr>\n    <tr>\n      <th>215</th>\n      <td>freddie:standard</td>\n      <td>2019-04-01</td>\n      <td>48822</td>\n    </tr>\n    <tr>\n      <th>216</th>\n      <td>freddie:standard</td>\n      <td>2019-03-01</td>\n      <td>48648</td>\n    </tr>\n    <tr>\n      <th>217</th>\n      <td>freddie:standard</td>\n      <td>2013-11-01</td>\n      <td>48003</td>\n    </tr>\n    <tr>\n      <th>218</th>\n      <td>freddie:standard</td>\n      <td>2013-10-01</td>\n      <td>46632</td>\n    </tr>\n    <tr>\n      <th>219</th>\n      <td>freddie:standard</td>\n      <td>2019-07-01</td>\n      <td>45610</td>\n    </tr>\n    <tr>\n      <th>220</th>\n      <td>freddie:standard</td>\n      <td>2019-06-01</td>\n      <td>45569</td>\n    </tr>\n    <tr>\n      <th>221</th>\n      <td>freddie:standard</td>\n      <td>2019-05-01</td>\n      <td>45338</td>\n    </tr>\n    <tr>\n      <th>222</th>\n      <td>freddie:standard</td>\n      <td>2013-09-01</td>\n      <td>45330</td>\n    </tr>\n    <tr>\n      <th>223</th>\n      <td>freddie:standard</td>\n      <td>2013-08-01</td>\n      <td>44092</td>\n    </tr>\n    <tr>\n      <th>224</th>\n      <td>freddie:standard</td>\n      <td>2019-08-01</td>\n      <td>43654</td>\n    </tr>\n    <tr>\n      <th>225</th>\n      <td>freddie:standard</td>\n      <td>2013-07-01</td>\n      <td>42920</td>\n    </tr>\n    <tr>\n      <th>226</th>\n      <td>freddie:standard</td>\n      <td>2019-10-01</td>\n      <td>42703</td>\n    </tr>\n    <tr>\n      <th>227</th>\n      <td>freddie:standard</td>\n      <td>2019-09-01</td>\n      <td>42451</td>\n    </tr>\n    <tr>\n      <th>228</th>\n      <td>freddie:standard</td>\n      <td>2013-06-01</td>\n      <td>41774</td>\n    </tr>\n    <tr>\n      <th>229</th>\n      <td>freddie:standard</td>\n      <td>2013-05-01</td>\n      <td>40295</td>\n    </tr>\n    <tr>\n      <th>230</th>\n      <td>freddie:standard</td>\n      <td>2020-02-01</td>\n      <td>39167</td>\n    </tr>\n    <tr>\n      <th>231</th>\n      <td>freddie:standard</td>\n      <td>2019-12-01</td>\n      <td>39134</td>\n    </tr>\n    <tr>\n      <th>232</th>\n      <td>freddie:standard</td>\n      <td>2019-11-01</td>\n      <td>39042</td>\n    </tr>\n    <tr>\n      <th>233</th>\n      <td>freddie:standard</td>\n      <td>2020-01-01</td>\n      <td>38996</td>\n    </tr>\n    <tr>\n      <th>234</th>\n      <td>freddie:standard</td>\n      <td>2013-04-01</td>\n      <td>38968</td>\n    </tr>\n    <tr>\n      <th>235</th>\n      <td>freddie:standard</td>\n      <td>2013-03-01</td>\n      <td>37832</td>\n    </tr>\n    <tr>\n      <th>236</th>\n      <td>freddie:standard</td>\n      <td>2020-03-01</td>\n      <td>36748</td>\n    </tr>\n    <tr>\n      <th>237</th>\n      <td>freddie:standard</td>\n      <td>2020-04-01</td>\n      <td>36687</td>\n    </tr>\n    <tr>\n      <th>238</th>\n      <td>freddie:standard</td>\n      <td>2020-05-01</td>\n      <td>36665</td>\n    </tr>\n    <tr>\n      <th>239</th>\n      <td>freddie:standard</td>\n      <td>2013-02-01</td>\n      <td>36601</td>\n    </tr>\n    <tr>\n      <th>240</th>\n      <td>freddie:standard</td>\n      <td>2013-01-01</td>\n      <td>35263</td>\n    </tr>\n    <tr>\n      <th>241</th>\n      <td>freddie:standard</td>\n      <td>2012-12-01</td>\n      <td>33706</td>\n    </tr>\n    <tr>\n      <th>242</th>\n      <td>freddie:standard</td>\n      <td>2012-11-01</td>\n      <td>32349</td>\n    </tr>\n    <tr>\n      <th>243</th>\n      <td>freddie:standard</td>\n      <td>2012-10-01</td>\n      <td>30923</td>\n    </tr>\n    <tr>\n      <th>244</th>\n      <td>freddie:standard</td>\n      <td>2012-09-01</td>\n      <td>29549</td>\n    </tr>\n    <tr>\n      <th>245</th>\n      <td>freddie:standard</td>\n      <td>2012-08-01</td>\n      <td>28021</td>\n    </tr>\n    <tr>\n      <th>246</th>\n      <td>freddie:standard</td>\n      <td>2012-07-01</td>\n      <td>26339</td>\n    </tr>\n    <tr>\n      <th>247</th>\n      <td>freddie:standard</td>\n      <td>2012-06-01</td>\n      <td>24832</td>\n    </tr>\n    <tr>\n      <th>248</th>\n      <td>freddie:standard</td>\n      <td>2012-05-01</td>\n      <td>23537</td>\n    </tr>\n    <tr>\n      <th>249</th>\n      <td>freddie:standard</td>\n      <td>2012-04-01</td>\n      <td>22679</td>\n    </tr>\n    <tr>\n      <th>250</th>\n      <td>freddie:standard</td>\n      <td>2012-03-01</td>\n      <td>22098</td>\n    </tr>\n    <tr>\n      <th>251</th>\n      <td>freddie:standard</td>\n      <td>2012-02-01</td>\n      <td>21638</td>\n    </tr>\n    <tr>\n      <th>252</th>\n      <td>freddie:standard</td>\n      <td>2012-01-01</td>\n      <td>21183</td>\n    </tr>\n    <tr>\n      <th>253</th>\n      <td>freddie:standard</td>\n      <td>2011-12-01</td>\n      <td>20805</td>\n    </tr>\n    <tr>\n      <th>254</th>\n      <td>freddie:standard</td>\n      <td>2011-11-01</td>\n      <td>20442</td>\n    </tr>\n    <tr>\n      <th>255</th>\n      <td>freddie:standard</td>\n      <td>2011-10-01</td>\n      <td>19875</td>\n    </tr>\n    <tr>\n      <th>256</th>\n      <td>freddie:standard</td>\n      <td>2011-09-01</td>\n      <td>19284</td>\n    </tr>\n    <tr>\n      <th>257</th>\n      <td>freddie:standard</td>\n      <td>2011-08-01</td>\n      <td>18872</td>\n    </tr>\n    <tr>\n      <th>258</th>\n      <td>freddie:standard</td>\n      <td>2011-07-01</td>\n      <td>18261</td>\n    </tr>\n    <tr>\n      <th>259</th>\n      <td>freddie:standard</td>\n      <td>2011-06-01</td>\n      <td>17581</td>\n    </tr>\n    <tr>\n      <th>260</th>\n      <td>freddie:standard</td>\n      <td>2011-05-01</td>\n      <td>16838</td>\n    </tr>\n    <tr>\n      <th>261</th>\n      <td>freddie:standard</td>\n      <td>2011-04-01</td>\n      <td>16110</td>\n    </tr>\n    <tr>\n      <th>262</th>\n      <td>freddie:standard</td>\n      <td>2011-03-01</td>\n      <td>15417</td>\n    </tr>\n    <tr>\n      <th>263</th>\n      <td>freddie:standard</td>\n      <td>2011-02-01</td>\n      <td>14549</td>\n    </tr>\n    <tr>\n      <th>264</th>\n      <td>freddie:standard</td>\n      <td>2011-01-01</td>\n      <td>13954</td>\n    </tr>\n    <tr>\n      <th>265</th>\n      <td>freddie:standard</td>\n      <td>2010-12-01</td>\n      <td>13200</td>\n    </tr>\n    <tr>\n      <th>266</th>\n      <td>freddie:standard</td>\n      <td>2010-11-01</td>\n      <td>12563</td>\n    </tr>\n    <tr>\n      <th>267</th>\n      <td>freddie:standard</td>\n      <td>2010-10-01</td>\n      <td>11955</td>\n    </tr>\n    <tr>\n      <th>268</th>\n      <td>freddie:standard</td>\n      <td>2010-09-01</td>\n      <td>11228</td>\n    </tr>\n    <tr>\n      <th>269</th>\n      <td>freddie:standard</td>\n      <td>2010-08-01</td>\n      <td>9831</td>\n    </tr>\n    <tr>\n      <th>270</th>\n      <td>freddie:standard</td>\n      <td>2010-07-01</td>\n      <td>9050</td>\n    </tr>\n    <tr>\n      <th>271</th>\n      <td>freddie:standard</td>\n      <td>2010-06-01</td>\n      <td>8227</td>\n    </tr>\n    <tr>\n      <th>272</th>\n      <td>freddie:standard</td>\n      <td>2010-05-01</td>\n      <td>7003</td>\n    </tr>\n    <tr>\n      <th>273</th>\n      <td>freddie:standard</td>\n      <td>2010-04-01</td>\n      <td>5780</td>\n    </tr>\n    <tr>\n      <th>274</th>\n      <td>freddie:standard</td>\n      <td>2010-03-01</td>\n      <td>4823</td>\n    </tr>\n    <tr>\n      <th>275</th>\n      <td>freddie:standard</td>\n      <td>2010-02-01</td>\n      <td>3632</td>\n    </tr>\n    <tr>\n      <th>276</th>\n      <td>freddie:standard</td>\n      <td>2010-01-01</td>\n      <td>2294</td>\n    </tr>\n    <tr>\n      <th>277</th>\n      <td>freddie:standard</td>\n      <td>2009-12-01</td>\n      <td>1222</td>\n    </tr>\n    <tr>\n      <th>278</th>\n      <td>freddie:standard</td>\n      <td>2009-11-01</td>\n      <td>539</td>\n    </tr>\n    <tr>\n      <th>279</th>\n      <td>freddie:standard</td>\n      <td>2009-10-01</td>\n      <td>82</td>\n    </tr>\n    <tr>\n      <th>280</th>\n      <td>freddie:standard</td>\n      <td>2009-09-01</td>\n      <td>17</td>\n    </tr>\n    <tr>\n      <th>281</th>\n      <td>freddie:standard</td>\n      <td>2009-08-01</td>\n      <td>7</td>\n    </tr>\n    <tr>\n      <th>282</th>\n      <td>freddie:standard</td>\n      <td>2009-07-01</td>\n      <td>6</td>\n    </tr>\n  </tbody>\n</table>\n</div>"
     },
     "execution_count": 95,
     "metadata": {},
     "output_type": "execute_result"
    }
   ],
   "source": [
    "\n",
    "# ln_defrl_amt\n",
    "qry = \\\n",
    "\"\"\"\n",
    "SELECT\n",
    "    src_data,\n",
    "    m.dt AS dt,\n",
    "    count(*) as nl\n",
    "FROM\n",
    "    unified.frannie ARRAY JOIN monthly AS m\n",
    "WHERE\n",
    "    m.defrl_amt > 0\n",
    "GROUP BY src_data, dt\n",
    "ORDER BY src_data, nl DESC\n",
    "\"\"\"\n",
    "\n",
    "dfx1 = chu.run_query(qry, client, return_df=True)\n",
    "dfx1.head(n=1000)"
   ],
   "metadata": {
    "collapsed": false,
    "pycharm": {
     "name": "#%%\n"
    }
   }
  },
  {
   "cell_type": "code",
   "execution_count": 96,
   "outputs": [
    {
     "name": "stdout",
     "output_type": "stream",
     "text": [
      "[list([0.0, 0.0, 0.0, 0.0, 0.0, 0.0, 0.0, 0.0, 0.0, 0.0, 0.0, 0.0, 1924.43994140625, 1924.43994140625, 1924.43994140625, 1924.43994140625, 1924.43994140625, 1924.43994140625, 1924.43994140625])\n",
      " list([0.0, 0.0, 0.0, 0.0, 0.0, 0.0, 0.0, 0.0, 0.0, 0.0, 0.0, 0.0, 0.0, 0.0, 0.0, 0.0, 0.0, 0.0, 0.0, 0.0, 0.0, 0.0, 0.0, 0.0, 0.0, 0.0, 0.0, 0.0, 0.0, 0.0, 0.0, 0.0, 0.0, 0.0, 0.0, 0.0, 0.0, 0.0, 0.0, 0.0, 0.0, 0.0, 0.0, 0.0, 0.0, 0.0, 0.0, 0.0, 29059.830078125])\n",
      " list([0.0, 0.0, 0.0, 0.0, 0.0, 0.0, 0.0, 0.0, 0.0, 0.0, 0.0, 1842.8499755859375, 1842.8499755859375, 1842.8499755859375, 1842.8499755859375, 1842.8499755859375])\n",
      " list([0.0, 0.0, 0.0, 0.0, 0.0, 0.0, 0.0, 0.0, 0.0, 0.0, 0.0, 0.0, 0.0, 0.0, 0.0, 0.0, 0.0, 0.0, 0.0, 0.0, 0.0, 0.0, 0.0, 0.0, 0.0, 0.0, 0.0, 0.0, 0.0, 0.0, 0.0, 0.0, 0.0, 0.0, 0.0, 0.0, 0.0, 7832.68017578125, 7832.68017578125, 7832.68017578125, 7832.68017578125, 7832.68017578125])\n",
      " list([0.0, 0.0, 0.0, 0.0, 0.0, 0.0, 0.0, 0.0, 0.0, 0.0, 0.0, 0.0, 0.0, 0.0, 0.0, 0.0, 0.0, 0.0, 0.0, 0.0, 0.0, 0.0, 0.0, 0.0, 0.0, 0.0, 0.0, 0.0, 0.0, 0.0, 0.0, 0.0, 0.0, 0.0, 0.0, 0.0, 0.0, 0.0, 0.0, 0.0, 0.0, 0.0, 0.0, 0.0, 0.0, 0.0, 0.0, 0.0, 0.0, 0.0, 0.0, 0.0, 0.0, 0.0, 0.0, 0.0, 0.0, 0.0, 0.0, 0.0, 0.0, 0.0, 0.0, 0.0, 0.0, 0.0, 0.0, 0.0, 0.0, 0.0, 0.0, 0.0, 0.0, 0.0, 0.0, 0.0, 0.0, 0.0, 0.0, 0.0, 0.0, 0.0, 0.0, 0.0, 0.0, 0.0, 0.0, 0.0, 0.0, 0.0, 0.0, 0.0, 0.0, 0.0, 0.0, 0.0, 0.0, 0.0, 8203.48046875])\n",
      " list([0.0, 0.0, 0.0, 0.0, 0.0, 0.0, 0.0, 0.0, 0.0, 0.0, 0.0, 0.0, 0.0, 0.0, 0.0, 0.0, 0.0, 0.0, 0.0, 0.0, 0.0, 0.0, 0.0, 0.0, 0.0, 0.0, 0.0, 0.0, 0.0, 0.0, 0.0, 0.0, 0.0, 0.0, 0.0, 0.0, 0.0, 0.0, 0.0, 0.0, 0.0, 0.0, 0.0, 7145.10986328125, 7145.10986328125, 7145.10986328125, 7145.10986328125])\n",
      " list([0.0, 0.0, 0.0, 0.0, 0.0, 0.0, 0.0, 0.0, 0.0, 0.0, 0.0, 0.0, 0.0, 0.0, 0.0, 0.0, 0.0, 0.0, 0.0, 0.0, 0.0, 0.0, 0.0, 0.0, 0.0, 0.0, 0.0, 0.0, 0.0, 0.0, 0.0, 0.0, 0.0, 0.0, 0.0, 0.0, 0.0, 0.0, 0.0, 0.0, 0.0, 0.0, 0.0, 0.0, 0.0, 73400.0, 73400.0, 73400.0, 73400.0, 73400.0, 73400.0, 73400.0, 73400.0, 73400.0, 73400.0, 73400.0, 73400.0, 73400.0, 73400.0, 73400.0, 73400.0, 73400.0, 73400.0, 73400.0, 73400.0, 73400.0, 73400.0, 73400.0, 73400.0, 73400.0, 73400.0, 73400.0, 73400.0, 73400.0, 73400.0, 73400.0, 73400.0, 73400.0, 73400.0, 73400.0, 73400.0, 73400.0, 73400.0, 73400.0, 73400.0, 73400.0, 73400.0, 73400.0, 73400.0, 73400.0, 73400.0, 73400.0, 73400.0, 73400.0, 73400.0, 73400.0, 73400.0, 73400.0, 73400.0, 73400.0, 73400.0, 73400.0, 73400.0, 73400.0, 73400.0, 73400.0, 73400.0, 73400.0, 73400.0, 73400.0, 73400.0, 73400.0, 73400.0, 73400.0, 73400.0, 73400.0, 73400.0, 73400.0, 73400.0, 73400.0, 73400.0, 73400.0, 73400.0, 73400.0, 73400.0, 73400.0, 73400.0, 73400.0, 73400.0, 73400.0, 73400.0, 73400.0, 73400.0, 73400.0, 73400.0, 73400.0, 73400.0, 73400.0, 73400.0, 73400.0, 73400.0, 73400.0, 73400.0, 73400.0, 73400.0, 73400.0, 73400.0, 73400.0, 73400.0, 73400.0, 73400.0, 73400.0, 73400.0, 0.0])\n",
      " list([0.0, 0.0, 0.0, 0.0, 0.0, 0.0, 0.0, 0.0, 12547.349609375, 12547.349609375, 12547.349609375])\n",
      " list([0.0, 0.0, 0.0, 0.0, 0.0, 0.0, 0.0, 0.0, 0.0, 0.0, 0.0, 0.0, 0.0, 0.0, 0.0, 0.0, 0.0, 0.0, 0.0, 0.0, 0.0, 0.0, 0.0, 0.0, 0.0, 0.0, 0.0, 0.0, 0.0, 0.0, 0.0, 0.0, 0.0, 0.0, 0.0, 0.0, 0.0, 0.0, 0.0, 0.0, 0.0, 0.0, 0.0, 0.0, 0.0, 0.0, 0.0, 0.0, 0.0, 0.0, 0.0, 0.0, 0.0, 0.0, 32879.73046875])\n",
      " list([0.0, 0.0, 0.0, 0.0, 0.0, 0.0, 0.0, 0.0, 0.0, 0.0, 0.0, 0.0, 0.0, 5819.18994140625, 5819.18994140625, 5819.18994140625, 5819.18994140625])]\n",
      "[list(['N', 'N', 'N', 'N', 'N', 'N', 'N', 'N', 'N', 'N', 'N', 'N', 'N', 'N', 'N', 'N', 'N', 'N', 'N'])\n",
      " list(['N', 'N', 'N', 'N', 'N', 'N', 'N', 'N', 'N', 'N', 'N', 'N', 'N', 'N', 'N', 'N', 'N', 'N', 'N', 'N', 'N', 'N', 'N', 'N', 'N', 'N', 'N', 'N', 'N', 'N', 'N', 'N', 'N', 'N', 'N', 'N', 'N', 'N', 'N', 'N', 'N', 'N', 'N', 'N', 'N', 'N', 'N', 'N', 'N'])\n",
      " list(['N', 'N', 'N', 'N', 'N', 'N', 'N', 'N', 'N', 'N', 'N', 'N', 'N', 'N', 'N', 'N'])\n",
      " list(['N', 'N', 'N', 'N', 'N', 'N', 'N', 'N', 'N', 'N', 'N', 'N', 'N', 'N', 'N', 'N', 'N', 'N', 'N', 'N', 'N', 'N', 'N', 'N', 'N', 'N', 'N', 'N', 'N', 'N', 'N', 'N', 'N', 'N', 'N', 'N', 'N', 'N', 'N', 'N', 'N', 'N'])\n",
      " list(['N', 'N', 'N', 'N', 'N', 'N', 'N', 'N', 'N', 'N', 'N', 'N', 'N', 'N', 'N', 'N', 'N', 'N', 'N', 'N', 'N', 'N', 'N', 'N', 'N', 'N', 'N', 'N', 'N', 'N', 'N', 'N', 'N', 'N', 'N', 'N', 'N', 'N', 'N', 'N', 'N', 'N', 'N', 'N', 'N', 'N', 'N', 'N', 'N', 'N', 'N', 'N', 'N', 'N', 'N', 'N', 'N', 'N', 'N', 'N', 'N', 'N', 'N', 'N', 'N', 'N', 'N', 'N', 'N', 'N', 'N', 'N', 'N', 'N', 'N', 'N', 'N', 'N', 'N', 'N', 'N', 'N', 'N', 'N', 'N', 'N', 'N', 'N', 'N', 'N', 'N', 'N', 'N', 'N', 'N', 'N', 'N', 'N', 'N'])\n",
      " list(['N', 'N', 'N', 'N', 'N', 'N', 'N', 'N', 'N', 'N', 'N', 'N', 'N', 'N', 'N', 'N', 'N', 'N', 'N', 'N', 'N', 'N', 'N', 'N', 'N', 'N', 'N', 'N', 'N', 'N', 'N', 'N', 'N', 'N', 'N', 'N', 'N', 'N', 'N', 'N', 'N', 'N', 'N', 'N', 'N', 'N', 'N'])\n",
      " list(['N', 'N', 'N', 'N', 'N', 'N', 'N', 'N', 'N', 'N', 'N', 'N', 'N', 'N', 'N', 'N', 'N', 'N', 'N', 'N', 'N', 'N', 'N', 'N', 'N', 'N', 'N', 'N', 'N', 'N', 'N', 'N', 'N', 'N', 'N', 'N', 'N', 'N', 'N', 'N', 'N', 'N', 'N', 'N', 'N', 'N', 'Y', 'Y', 'Y', 'Y', 'Y', 'Y', 'Y', 'Y', 'Y', 'Y', 'Y', 'Y', 'Y', 'Y', 'Y', 'Y', 'Y', 'Y', 'Y', 'Y', 'Y', 'Y', 'Y', 'Y', 'Y', 'Y', 'Y', 'Y', 'Y', 'Y', 'Y', 'Y', 'Y', 'Y', 'Y', 'Y', 'Y', 'Y', 'Y', 'Y', 'Y', 'Y', 'Y', 'Y', 'Y', 'Y', 'Y', 'Y', 'Y', 'Y', 'Y', 'Y', 'Y', 'Y', 'Y', 'Y', 'Y', 'Y', 'Y', 'Y', 'Y', 'Y', 'Y', 'Y', 'Y', 'Y', 'Y', 'Y', 'Y', 'Y', 'Y', 'Y', 'Y', 'Y', 'Y', 'Y', 'Y', 'Y', 'Y', 'Y', 'Y', 'Y', 'Y', 'Y', 'Y', 'Y', 'Y', 'Y', 'Y', 'Y', 'Y', 'Y', 'Y', 'Y', 'Y', 'Y', 'Y', 'Y', 'Y', 'Y', 'Y', 'Y', 'Y', 'Y', 'Y', 'Y', 'Y', 'Y'])\n",
      " list(['N', 'N', 'N', 'N', 'N', 'N', 'N', 'N', 'N', 'N', 'N'])\n",
      " list(['N', 'N', 'N', 'N', 'N', 'N', 'N', 'N', 'N', 'N', 'N', 'N', 'N', 'N', 'N', 'N', 'N', 'N', 'N', 'N', 'N', 'N', 'N', 'N', 'N', 'N', 'N', 'N', 'N', 'N', 'N', 'N', 'N', 'N', 'N', 'N', 'N', 'N', 'N', 'N', 'N', 'N', 'N', 'N', 'N', 'N', 'N', 'N', 'N', 'N', 'N', 'N', 'N', 'N', 'N'])\n",
      " list(['N', 'N', 'N', 'N', 'N', 'N', 'N', 'N', 'N', 'N', 'N', 'N', 'N', 'N', 'N', 'N', 'N'])]\n",
      "[list([datetime.date(2019, 6, 1), datetime.date(2019, 7, 1), datetime.date(2019, 8, 1), datetime.date(2019, 9, 1), datetime.date(2019, 10, 1), datetime.date(2019, 11, 1), datetime.date(2019, 12, 1), datetime.date(2020, 1, 1), datetime.date(2020, 2, 1), datetime.date(2020, 3, 1), datetime.date(2020, 4, 1), datetime.date(2020, 5, 1), datetime.date(2020, 6, 1), datetime.date(2020, 7, 1), datetime.date(2020, 8, 1), datetime.date(2020, 9, 1), datetime.date(2020, 10, 1), datetime.date(2020, 11, 1), datetime.date(2020, 12, 1)])\n",
      " list([datetime.date(2016, 12, 1), datetime.date(2017, 1, 1), datetime.date(2017, 2, 1), datetime.date(2017, 3, 1), datetime.date(2017, 4, 1), datetime.date(2017, 5, 1), datetime.date(2017, 6, 1), datetime.date(2017, 7, 1), datetime.date(2017, 8, 1), datetime.date(2017, 9, 1), datetime.date(2017, 10, 1), datetime.date(2017, 11, 1), datetime.date(2017, 12, 1), datetime.date(2018, 1, 1), datetime.date(2018, 2, 1), datetime.date(2018, 3, 1), datetime.date(2018, 4, 1), datetime.date(2018, 5, 1), datetime.date(2018, 6, 1), datetime.date(2018, 7, 1), datetime.date(2018, 8, 1), datetime.date(2018, 9, 1), datetime.date(2018, 10, 1), datetime.date(2018, 11, 1), datetime.date(2018, 12, 1), datetime.date(2019, 1, 1), datetime.date(2019, 2, 1), datetime.date(2019, 3, 1), datetime.date(2019, 4, 1), datetime.date(2019, 5, 1), datetime.date(2019, 6, 1), datetime.date(2019, 7, 1), datetime.date(2019, 8, 1), datetime.date(2019, 9, 1), datetime.date(2019, 10, 1), datetime.date(2019, 11, 1), datetime.date(2019, 12, 1), datetime.date(2020, 1, 1), datetime.date(2020, 2, 1), datetime.date(2020, 3, 1), datetime.date(2020, 4, 1), datetime.date(2020, 5, 1), datetime.date(2020, 6, 1), datetime.date(2020, 7, 1), datetime.date(2020, 8, 1), datetime.date(2020, 9, 1), datetime.date(2020, 10, 1), datetime.date(2020, 11, 1), datetime.date(2020, 12, 1)])\n",
      " list([datetime.date(2019, 9, 1), datetime.date(2019, 10, 1), datetime.date(2019, 11, 1), datetime.date(2019, 12, 1), datetime.date(2020, 1, 1), datetime.date(2020, 2, 1), datetime.date(2020, 3, 1), datetime.date(2020, 4, 1), datetime.date(2020, 5, 1), datetime.date(2020, 6, 1), datetime.date(2020, 7, 1), datetime.date(2020, 8, 1), datetime.date(2020, 9, 1), datetime.date(2020, 10, 1), datetime.date(2020, 11, 1), datetime.date(2020, 12, 1)])\n",
      " list([datetime.date(2017, 7, 1), datetime.date(2017, 8, 1), datetime.date(2017, 9, 1), datetime.date(2017, 10, 1), datetime.date(2017, 11, 1), datetime.date(2017, 12, 1), datetime.date(2018, 1, 1), datetime.date(2018, 2, 1), datetime.date(2018, 3, 1), datetime.date(2018, 4, 1), datetime.date(2018, 5, 1), datetime.date(2018, 6, 1), datetime.date(2018, 7, 1), datetime.date(2018, 8, 1), datetime.date(2018, 9, 1), datetime.date(2018, 10, 1), datetime.date(2018, 11, 1), datetime.date(2018, 12, 1), datetime.date(2019, 1, 1), datetime.date(2019, 2, 1), datetime.date(2019, 3, 1), datetime.date(2019, 4, 1), datetime.date(2019, 5, 1), datetime.date(2019, 6, 1), datetime.date(2019, 7, 1), datetime.date(2019, 8, 1), datetime.date(2019, 9, 1), datetime.date(2019, 10, 1), datetime.date(2019, 11, 1), datetime.date(2019, 12, 1), datetime.date(2020, 1, 1), datetime.date(2020, 2, 1), datetime.date(2020, 3, 1), datetime.date(2020, 4, 1), datetime.date(2020, 5, 1), datetime.date(2020, 6, 1), datetime.date(2020, 7, 1), datetime.date(2020, 8, 1), datetime.date(2020, 9, 1), datetime.date(2020, 10, 1), datetime.date(2020, 11, 1), datetime.date(2020, 12, 1)])\n",
      " list([datetime.date(2012, 10, 1), datetime.date(2012, 11, 1), datetime.date(2012, 12, 1), datetime.date(2013, 1, 1), datetime.date(2013, 2, 1), datetime.date(2013, 3, 1), datetime.date(2013, 4, 1), datetime.date(2013, 5, 1), datetime.date(2013, 6, 1), datetime.date(2013, 7, 1), datetime.date(2013, 8, 1), datetime.date(2013, 9, 1), datetime.date(2013, 10, 1), datetime.date(2013, 11, 1), datetime.date(2013, 12, 1), datetime.date(2014, 1, 1), datetime.date(2014, 2, 1), datetime.date(2014, 3, 1), datetime.date(2014, 4, 1), datetime.date(2014, 5, 1), datetime.date(2014, 6, 1), datetime.date(2014, 7, 1), datetime.date(2014, 8, 1), datetime.date(2014, 9, 1), datetime.date(2014, 10, 1), datetime.date(2014, 11, 1), datetime.date(2014, 12, 1), datetime.date(2015, 1, 1), datetime.date(2015, 2, 1), datetime.date(2015, 3, 1), datetime.date(2015, 4, 1), datetime.date(2015, 5, 1), datetime.date(2015, 6, 1), datetime.date(2015, 7, 1), datetime.date(2015, 8, 1), datetime.date(2015, 9, 1), datetime.date(2015, 10, 1), datetime.date(2015, 11, 1), datetime.date(2015, 12, 1), datetime.date(2016, 1, 1), datetime.date(2016, 2, 1), datetime.date(2016, 3, 1), datetime.date(2016, 4, 1), datetime.date(2016, 5, 1), datetime.date(2016, 6, 1), datetime.date(2016, 7, 1), datetime.date(2016, 8, 1), datetime.date(2016, 9, 1), datetime.date(2016, 10, 1), datetime.date(2016, 11, 1), datetime.date(2016, 12, 1), datetime.date(2017, 1, 1), datetime.date(2017, 2, 1), datetime.date(2017, 3, 1), datetime.date(2017, 4, 1), datetime.date(2017, 5, 1), datetime.date(2017, 6, 1), datetime.date(2017, 7, 1), datetime.date(2017, 8, 1), datetime.date(2017, 9, 1), datetime.date(2017, 10, 1), datetime.date(2017, 11, 1), datetime.date(2017, 12, 1), datetime.date(2018, 1, 1), datetime.date(2018, 2, 1), datetime.date(2018, 3, 1), datetime.date(2018, 4, 1), datetime.date(2018, 5, 1), datetime.date(2018, 6, 1), datetime.date(2018, 7, 1), datetime.date(2018, 8, 1), datetime.date(2018, 9, 1), datetime.date(2018, 10, 1), datetime.date(2018, 11, 1), datetime.date(2018, 12, 1), datetime.date(2019, 1, 1), datetime.date(2019, 2, 1), datetime.date(2019, 3, 1), datetime.date(2019, 4, 1), datetime.date(2019, 5, 1), datetime.date(2019, 6, 1), datetime.date(2019, 7, 1), datetime.date(2019, 8, 1), datetime.date(2019, 9, 1), datetime.date(2019, 10, 1), datetime.date(2019, 11, 1), datetime.date(2019, 12, 1), datetime.date(2020, 1, 1), datetime.date(2020, 2, 1), datetime.date(2020, 3, 1), datetime.date(2020, 4, 1), datetime.date(2020, 5, 1), datetime.date(2020, 6, 1), datetime.date(2020, 7, 1), datetime.date(2020, 8, 1), datetime.date(2020, 9, 1), datetime.date(2020, 10, 1), datetime.date(2020, 11, 1), datetime.date(2020, 12, 1)])\n",
      " list([datetime.date(2017, 2, 1), datetime.date(2017, 3, 1), datetime.date(2017, 4, 1), datetime.date(2017, 5, 1), datetime.date(2017, 6, 1), datetime.date(2017, 7, 1), datetime.date(2017, 8, 1), datetime.date(2017, 9, 1), datetime.date(2017, 10, 1), datetime.date(2017, 11, 1), datetime.date(2017, 12, 1), datetime.date(2018, 1, 1), datetime.date(2018, 2, 1), datetime.date(2018, 3, 1), datetime.date(2018, 4, 1), datetime.date(2018, 5, 1), datetime.date(2018, 6, 1), datetime.date(2018, 7, 1), datetime.date(2018, 8, 1), datetime.date(2018, 9, 1), datetime.date(2018, 10, 1), datetime.date(2018, 11, 1), datetime.date(2018, 12, 1), datetime.date(2019, 1, 1), datetime.date(2019, 2, 1), datetime.date(2019, 3, 1), datetime.date(2019, 4, 1), datetime.date(2019, 5, 1), datetime.date(2019, 6, 1), datetime.date(2019, 7, 1), datetime.date(2019, 8, 1), datetime.date(2019, 9, 1), datetime.date(2019, 10, 1), datetime.date(2019, 11, 1), datetime.date(2019, 12, 1), datetime.date(2020, 1, 1), datetime.date(2020, 2, 1), datetime.date(2020, 3, 1), datetime.date(2020, 4, 1), datetime.date(2020, 5, 1), datetime.date(2020, 6, 1), datetime.date(2020, 7, 1), datetime.date(2020, 8, 1), datetime.date(2020, 9, 1), datetime.date(2020, 10, 1), datetime.date(2020, 11, 1), datetime.date(2020, 12, 1)])\n",
      " list([datetime.date(2006, 11, 1), datetime.date(2006, 12, 1), datetime.date(2007, 1, 1), datetime.date(2007, 2, 1), datetime.date(2007, 3, 1), datetime.date(2007, 4, 1), datetime.date(2007, 5, 1), datetime.date(2007, 6, 1), datetime.date(2007, 7, 1), datetime.date(2007, 8, 1), datetime.date(2007, 9, 1), datetime.date(2007, 10, 1), datetime.date(2007, 11, 1), datetime.date(2007, 12, 1), datetime.date(2008, 1, 1), datetime.date(2008, 2, 1), datetime.date(2008, 3, 1), datetime.date(2008, 4, 1), datetime.date(2008, 5, 1), datetime.date(2008, 6, 1), datetime.date(2008, 7, 1), datetime.date(2008, 8, 1), datetime.date(2008, 9, 1), datetime.date(2008, 10, 1), datetime.date(2008, 11, 1), datetime.date(2008, 12, 1), datetime.date(2009, 1, 1), datetime.date(2009, 2, 1), datetime.date(2009, 3, 1), datetime.date(2009, 4, 1), datetime.date(2009, 5, 1), datetime.date(2009, 6, 1), datetime.date(2009, 7, 1), datetime.date(2009, 8, 1), datetime.date(2009, 9, 1), datetime.date(2009, 10, 1), datetime.date(2009, 11, 1), datetime.date(2009, 12, 1), datetime.date(2010, 1, 1), datetime.date(2010, 2, 1), datetime.date(2010, 3, 1), datetime.date(2010, 4, 1), datetime.date(2010, 5, 1), datetime.date(2010, 6, 1), datetime.date(2010, 7, 1), datetime.date(2010, 8, 1), datetime.date(2010, 9, 1), datetime.date(2010, 10, 1), datetime.date(2010, 11, 1), datetime.date(2010, 12, 1), datetime.date(2011, 1, 1), datetime.date(2011, 2, 1), datetime.date(2011, 3, 1), datetime.date(2011, 4, 1), datetime.date(2011, 5, 1), datetime.date(2011, 6, 1), datetime.date(2011, 7, 1), datetime.date(2011, 8, 1), datetime.date(2011, 9, 1), datetime.date(2011, 10, 1), datetime.date(2011, 11, 1), datetime.date(2011, 12, 1), datetime.date(2012, 1, 1), datetime.date(2012, 2, 1), datetime.date(2012, 3, 1), datetime.date(2012, 4, 1), datetime.date(2012, 5, 1), datetime.date(2012, 6, 1), datetime.date(2012, 7, 1), datetime.date(2012, 8, 1), datetime.date(2012, 9, 1), datetime.date(2012, 10, 1), datetime.date(2012, 11, 1), datetime.date(2012, 12, 1), datetime.date(2013, 1, 1), datetime.date(2013, 2, 1), datetime.date(2013, 3, 1), datetime.date(2013, 4, 1), datetime.date(2013, 5, 1), datetime.date(2013, 6, 1), datetime.date(2013, 7, 1), datetime.date(2013, 8, 1), datetime.date(2013, 9, 1), datetime.date(2013, 10, 1), datetime.date(2013, 11, 1), datetime.date(2013, 12, 1), datetime.date(2014, 1, 1), datetime.date(2014, 2, 1), datetime.date(2014, 3, 1), datetime.date(2014, 4, 1), datetime.date(2014, 5, 1), datetime.date(2014, 6, 1), datetime.date(2014, 7, 1), datetime.date(2014, 8, 1), datetime.date(2014, 9, 1), datetime.date(2014, 10, 1), datetime.date(2014, 11, 1), datetime.date(2014, 12, 1), datetime.date(2015, 1, 1), datetime.date(2015, 2, 1), datetime.date(2015, 3, 1), datetime.date(2015, 4, 1), datetime.date(2015, 5, 1), datetime.date(2015, 6, 1), datetime.date(2015, 7, 1), datetime.date(2015, 8, 1), datetime.date(2015, 9, 1), datetime.date(2015, 10, 1), datetime.date(2015, 11, 1), datetime.date(2015, 12, 1), datetime.date(2016, 1, 1), datetime.date(2016, 2, 1), datetime.date(2016, 3, 1), datetime.date(2016, 4, 1), datetime.date(2016, 5, 1), datetime.date(2016, 6, 1), datetime.date(2016, 7, 1), datetime.date(2016, 8, 1), datetime.date(2016, 9, 1), datetime.date(2016, 10, 1), datetime.date(2016, 11, 1), datetime.date(2016, 12, 1), datetime.date(2017, 1, 1), datetime.date(2017, 2, 1), datetime.date(2017, 3, 1), datetime.date(2017, 4, 1), datetime.date(2017, 5, 1), datetime.date(2017, 6, 1), datetime.date(2017, 7, 1), datetime.date(2017, 8, 1), datetime.date(2017, 9, 1), datetime.date(2017, 10, 1), datetime.date(2017, 11, 1), datetime.date(2017, 12, 1), datetime.date(2018, 1, 1), datetime.date(2018, 2, 1), datetime.date(2018, 3, 1), datetime.date(2018, 4, 1), datetime.date(2018, 5, 1), datetime.date(2018, 6, 1), datetime.date(2018, 7, 1), datetime.date(2018, 8, 1), datetime.date(2018, 9, 1), datetime.date(2018, 10, 1), datetime.date(2018, 11, 1), datetime.date(2018, 12, 1), datetime.date(2019, 1, 1), datetime.date(2019, 2, 1), datetime.date(2019, 3, 1), datetime.date(2019, 4, 1), datetime.date(2019, 5, 1), datetime.date(2019, 6, 1), datetime.date(2019, 7, 1), datetime.date(2019, 8, 1)])\n",
      " list([datetime.date(2020, 2, 1), datetime.date(2020, 3, 1), datetime.date(2020, 4, 1), datetime.date(2020, 5, 1), datetime.date(2020, 6, 1), datetime.date(2020, 7, 1), datetime.date(2020, 8, 1), datetime.date(2020, 9, 1), datetime.date(2020, 10, 1), datetime.date(2020, 11, 1), datetime.date(2020, 12, 1)])\n",
      " list([datetime.date(2016, 6, 1), datetime.date(2016, 7, 1), datetime.date(2016, 8, 1), datetime.date(2016, 9, 1), datetime.date(2016, 10, 1), datetime.date(2016, 11, 1), datetime.date(2016, 12, 1), datetime.date(2017, 1, 1), datetime.date(2017, 2, 1), datetime.date(2017, 3, 1), datetime.date(2017, 4, 1), datetime.date(2017, 5, 1), datetime.date(2017, 6, 1), datetime.date(2017, 7, 1), datetime.date(2017, 8, 1), datetime.date(2017, 9, 1), datetime.date(2017, 10, 1), datetime.date(2017, 11, 1), datetime.date(2017, 12, 1), datetime.date(2018, 1, 1), datetime.date(2018, 2, 1), datetime.date(2018, 3, 1), datetime.date(2018, 4, 1), datetime.date(2018, 5, 1), datetime.date(2018, 6, 1), datetime.date(2018, 7, 1), datetime.date(2018, 8, 1), datetime.date(2018, 9, 1), datetime.date(2018, 10, 1), datetime.date(2018, 11, 1), datetime.date(2018, 12, 1), datetime.date(2019, 1, 1), datetime.date(2019, 2, 1), datetime.date(2019, 3, 1), datetime.date(2019, 4, 1), datetime.date(2019, 5, 1), datetime.date(2019, 6, 1), datetime.date(2019, 7, 1), datetime.date(2019, 8, 1), datetime.date(2019, 9, 1), datetime.date(2019, 10, 1), datetime.date(2019, 11, 1), datetime.date(2019, 12, 1), datetime.date(2020, 1, 1), datetime.date(2020, 2, 1), datetime.date(2020, 3, 1), datetime.date(2020, 4, 1), datetime.date(2020, 5, 1), datetime.date(2020, 6, 1), datetime.date(2020, 7, 1), datetime.date(2020, 8, 1), datetime.date(2020, 9, 1), datetime.date(2020, 10, 1), datetime.date(2020, 11, 1), datetime.date(2020, 12, 1)])\n",
      " list([datetime.date(2019, 8, 1), datetime.date(2019, 9, 1), datetime.date(2019, 10, 1), datetime.date(2019, 11, 1), datetime.date(2019, 12, 1), datetime.date(2020, 1, 1), datetime.date(2020, 2, 1), datetime.date(2020, 3, 1), datetime.date(2020, 4, 1), datetime.date(2020, 5, 1), datetime.date(2020, 6, 1), datetime.date(2020, 7, 1), datetime.date(2020, 8, 1), datetime.date(2020, 9, 1), datetime.date(2020, 10, 1), datetime.date(2020, 11, 1), datetime.date(2020, 12, 1)])]\n"
     ]
    }
   ],
   "source": [
    "\n",
    "# ln_defrl_amt\n",
    "qry = \\\n",
    "\"\"\"\n",
    "SELECT\n",
    "    src_data,\n",
    "    arrayMax(monthly.defrl_amt) AS da,\n",
    "    monthly.borr_asst_plan AS bap,\n",
    "    monthly.mod_sticky_flg AS msf,\n",
    "    monthly.defrl_amt AS mad,\n",
    "    monthly.dt AS dt\n",
    "\n",
    "FROM\n",
    "    unified.frannie\n",
    "WHERE\n",
    "    da > 0\n",
    "ORDER BY rand32()\n",
    "LIMIT 10\n",
    "\"\"\"\n",
    "\n",
    "dfx1 = chu.run_query(qry, client, return_df=True)\n",
    "print(np.asarray(dfx1['mad']))\n",
    "print(np.asarray(dfx1['msf']))\n",
    "print(np.asarray(dfx1['dt']))\n"
   ],
   "metadata": {
    "collapsed": false,
    "pycharm": {
     "name": "#%%\n"
    }
   }
  }
 ],
 "metadata": {
  "kernelspec": {
   "display_name": "Python 3",
   "language": "python",
   "name": "python3"
  },
  "language_info": {
   "codemirror_mode": {
    "name": "ipython",
    "version": 2
   },
   "file_extension": ".py",
   "mimetype": "text/x-python",
   "name": "python",
   "nbconvert_exporter": "python",
   "pygments_lexer": "ipython2",
   "version": "2.7.6"
  }
 },
 "nbformat": 4,
 "nbformat_minor": 0
}