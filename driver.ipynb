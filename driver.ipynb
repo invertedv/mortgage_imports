{
 "cells": [
  {
   "cell_type": "markdown",
   "source": [
    "### Driver Notebook\n",
    "This notebook will build all the databases."
   ],
   "metadata": {
    "collapsed": false
   }
  },
  {
   "cell_type": "code",
   "execution_count": 1,
   "metadata": {
    "collapsed": true
   },
   "outputs": [],
   "source": [
    "# imports from this project\n",
    "\n",
    "import mortgage_imports.econ as miecon\n",
    "import mortgage_imports.fhfa as mifhfa\n",
    "import mortgage_imports.map as mimap\n",
    "import mortgage_imports.rates as mirates\n",
    "import mortgage_imports.fannie as mifannie\n"
   ]
  },
  {
   "cell_type": "code",
   "execution_count": null,
   "outputs": [],
   "source": [
    "%%time\n",
    "\n",
    "# build the auxilliary databases\n",
    "\n",
    "mifhfa.load_fhfa(\"/mnt/driveb/fhfa_data\")\n",
    "mimap.load_map(\"/mnt/driveb/map_data\")\n",
    "miecon.load_econ(\"/mnt/driveb/econ_data\")\n",
    "mirates.load_rates(\"/mnt/driveb/rates_data\")\n"
   ],
   "metadata": {
    "collapsed": false,
    "pycharm": {
     "name": "#%%\n"
    }
   }
  },
  {
   "cell_type": "code",
   "execution_count": 2,
   "outputs": [
    {
     "name": "stdout",
     "output_type": "stream",
     "text": [
      "working on 2000Q1.csv\n",
      "done: 2000Q1.csv\n",
      "Processed 1 files\n",
      "CPU times: user 39.6 ms, sys: 9.97 ms, total: 49.6 ms\n",
      "Wall time: 52.2 s\n"
     ]
    }
   ],
   "source": [
    "%%time\n",
    "\n",
    "# build the fannie database\n",
    "\n",
    "mifannie.load_fannie(\"/mnt/driveb/fannie_data\")"
   ],
   "metadata": {
    "collapsed": false,
    "pycharm": {
     "name": "#%%\n"
    }
   }
  },
  {
   "cell_type": "code",
   "source": [
    "# TODO: replace cltv with ltv if cltv = 0\n",
    "# TODO: if months_dq = -1 (as it does on last record), replace with 0"
   ],
   "metadata": {
    "collapsed": false,
    "pycharm": {
     "name": "#%%\n"
    }
   },
   "execution_count": null,
   "outputs": []
  }
 ],
 "metadata": {
  "kernelspec": {
   "display_name": "Python 3",
   "language": "python",
   "name": "python3"
  },
  "language_info": {
   "codemirror_mode": {
    "name": "ipython",
    "version": 2
   },
   "file_extension": ".py",
   "mimetype": "text/x-python",
   "name": "python",
   "nbconvert_exporter": "python",
   "pygments_lexer": "ipython2",
   "version": "2.7.6"
  }
 },
 "nbformat": 4,
 "nbformat_minor": 0
}