{
 "cells": [
  {
   "cell_type": "markdown",
   "source": [
    "### Driver Notebook\n",
    "This notebook will build all the databases."
   ],
   "metadata": {
    "collapsed": false
   }
  },
  {
   "cell_type": "code",
   "execution_count": 1,
   "metadata": {
    "collapsed": true
   },
   "outputs": [],
   "source": [
    "# imports from this project\n",
    "\n",
    "import mortgage_imports.econ as miecon\n",
    "import mortgage_imports.fhfa as mifhfa\n",
    "import mortgage_imports.map as mimap\n",
    "import mortgage_imports.rates as mirates\n",
    "import mortgage_imports.fannie as mifannie\n",
    "import mortgage_imports.fctimes as fctimes\n",
    "import mortgage_imports.freddie as mifreddie\n"
   ]
  },
  {
   "cell_type": "code",
   "execution_count": 2,
   "outputs": [
    {
     "name": "stdout",
     "output_type": "stream",
     "text": [
      "CPU times: user 63.1 ms, sys: 10.6 ms, total: 73.6 ms\n",
      "Wall time: 1.97 s\n"
     ]
    }
   ],
   "source": [
    "%%time\n",
    "\n",
    "# build the auxilliary databases\n",
    "\n",
    "mifhfa.load_fhfa(\"/mnt/driveb/fhfa_data\")\n",
    "mimap.load_map(\"/mnt/driveb/map_data\")\n",
    "miecon.load_econ(\"/mnt/driveb/econ_data\")\n",
    "mirates.load_rates(\"/mnt/driveb/rates_data\")\n",
    "fctimes.load_fctimes(\"/mnt/driveb/fctimes\")\n"
   ],
   "metadata": {
    "collapsed": false,
    "pycharm": {
     "name": "#%%\n"
    }
   }
  },
  {
   "cell_type": "code",
   "execution_count": 3,
   "outputs": [
    {
     "name": "stdout",
     "output_type": "stream",
     "text": [
      "working on HARPLPPub.csv\n",
      "done: HARPLPPub.csv\n",
      "working on 2020Q4.csv\n",
      "done: 2020Q4.csv\n",
      "working on 2020Q3.csv\n",
      "done: 2020Q3.csv\n",
      "working on 2020Q2.csv\n",
      "done: 2020Q2.csv\n",
      "working on 2020Q1.csv\n",
      "done: 2020Q1.csv\n",
      "working on 2019Q4.csv\n",
      "done: 2019Q4.csv\n",
      "working on 2019Q3.csv\n",
      "done: 2019Q3.csv\n",
      "working on 2019Q2.csv\n",
      "done: 2019Q2.csv\n",
      "working on 2019Q1.csv\n",
      "done: 2019Q1.csv\n",
      "working on 2018Q4.csv\n",
      "done: 2018Q4.csv\n",
      "working on 2018Q3.csv\n",
      "done: 2018Q3.csv\n",
      "working on 2018Q2.csv\n",
      "done: 2018Q2.csv\n",
      "working on 2018Q1.csv\n",
      "done: 2018Q1.csv\n",
      "working on 2017Q4.csv\n",
      "done: 2017Q4.csv\n",
      "working on 2017Q3.csv\n",
      "done: 2017Q3.csv\n",
      "working on 2017Q2.csv\n",
      "done: 2017Q2.csv\n",
      "working on 2017Q1.csv\n",
      "done: 2017Q1.csv\n",
      "working on 2016Q4.csv\n",
      "done: 2016Q4.csv\n",
      "working on 2016Q3.csv\n",
      "done: 2016Q3.csv\n",
      "working on 2016Q2.csv\n",
      "done: 2016Q2.csv\n",
      "working on 2016Q1.csv\n",
      "done: 2016Q1.csv\n",
      "working on 2015Q4.csv\n",
      "done: 2015Q4.csv\n",
      "working on 2015Q3.csv\n",
      "done: 2015Q3.csv\n",
      "working on 2015Q2.csv\n",
      "done: 2015Q2.csv\n",
      "working on 2015Q1.csv\n",
      "done: 2015Q1.csv\n",
      "working on 2014Q4.csv\n",
      "done: 2014Q4.csv\n",
      "working on 2014Q3.csv\n",
      "done: 2014Q3.csv\n",
      "working on 2014Q2.csv\n",
      "done: 2014Q2.csv\n",
      "working on 2014Q1.csv\n",
      "done: 2014Q1.csv\n",
      "working on 2013Q4.csv\n",
      "done: 2013Q4.csv\n",
      "working on 2013Q3.csv\n",
      "done: 2013Q3.csv\n",
      "working on 2013Q2.csv\n",
      "done: 2013Q2.csv\n",
      "working on 2013Q1.csv\n",
      "done: 2013Q1.csv\n",
      "working on 2012Q4.csv\n",
      "done: 2012Q4.csv\n",
      "working on 2012Q3.csv\n",
      "done: 2012Q3.csv\n",
      "working on 2012Q2.csv\n",
      "done: 2012Q2.csv\n",
      "working on 2012Q1.csv\n",
      "done: 2012Q1.csv\n",
      "working on 2011Q4.csv\n",
      "done: 2011Q4.csv\n",
      "working on 2011Q3.csv\n",
      "done: 2011Q3.csv\n",
      "working on 2011Q2.csv\n",
      "done: 2011Q2.csv\n",
      "working on 2011Q1.csv\n",
      "done: 2011Q1.csv\n",
      "working on 2010Q4.csv\n",
      "done: 2010Q4.csv\n",
      "working on 2010Q3.csv\n",
      "done: 2010Q3.csv\n",
      "working on 2010Q2.csv\n",
      "done: 2010Q2.csv\n",
      "working on 2010Q1.csv\n",
      "done: 2010Q1.csv\n",
      "working on 2009Q4.csv\n",
      "done: 2009Q4.csv\n",
      "working on 2009Q3.csv\n",
      "done: 2009Q3.csv\n",
      "working on 2009Q2.csv\n",
      "done: 2009Q2.csv\n",
      "working on 2009Q1.csv\n",
      "done: 2009Q1.csv\n",
      "working on 2008Q4.csv\n",
      "done: 2008Q4.csv\n",
      "working on 2008Q3.csv\n",
      "done: 2008Q3.csv\n",
      "working on 2008Q2.csv\n",
      "done: 2008Q2.csv\n",
      "working on 2008Q1.csv\n",
      "done: 2008Q1.csv\n",
      "working on 2007Q4.csv\n",
      "done: 2007Q4.csv\n",
      "working on 2007Q3.csv\n",
      "done: 2007Q3.csv\n",
      "working on 2007Q2.csv\n",
      "done: 2007Q2.csv\n",
      "working on 2007Q1.csv\n",
      "done: 2007Q1.csv\n",
      "working on 2006Q4.csv\n",
      "done: 2006Q4.csv\n",
      "working on 2006Q3.csv\n",
      "done: 2006Q3.csv\n",
      "working on 2006Q2.csv\n",
      "done: 2006Q2.csv\n",
      "working on 2006Q1.csv\n",
      "done: 2006Q1.csv\n",
      "working on 2005Q4.csv\n",
      "done: 2005Q4.csv\n",
      "working on 2005Q3.csv\n",
      "done: 2005Q3.csv\n",
      "working on 2005Q2.csv\n",
      "done: 2005Q2.csv\n",
      "working on 2005Q1.csv\n",
      "done: 2005Q1.csv\n",
      "working on 2004Q4.csv\n",
      "done: 2004Q4.csv\n",
      "working on 2004Q3.csv\n",
      "done: 2004Q3.csv\n",
      "working on 2004Q2.csv\n",
      "done: 2004Q2.csv\n",
      "working on 2004Q1.csv\n",
      "done: 2004Q1.csv\n",
      "working on 2003Q4.csv\n",
      "done: 2003Q4.csv\n",
      "working on 2003Q3.csv\n",
      "done: 2003Q3.csv\n",
      "working on 2003Q2.csv\n",
      "done: 2003Q2.csv\n",
      "working on 2003Q1.csv\n",
      "done: 2003Q1.csv\n",
      "working on 2002Q4.csv\n",
      "done: 2002Q4.csv\n",
      "working on 2002Q3.csv\n",
      "done: 2002Q3.csv\n",
      "working on 2002Q2.csv\n",
      "done: 2002Q2.csv\n",
      "working on 2002Q1.csv\n",
      "done: 2002Q1.csv\n",
      "working on 2001Q4.csv\n",
      "done: 2001Q4.csv\n",
      "working on 2001Q3.csv\n",
      "done: 2001Q3.csv\n",
      "working on 2001Q2.csv\n",
      "done: 2001Q2.csv\n",
      "working on 2001Q1.csv\n",
      "done: 2001Q1.csv\n",
      "working on 2000Q4.csv\n",
      "done: 2000Q4.csv\n",
      "working on 2000Q3.csv\n",
      "done: 2000Q3.csv\n",
      "working on 2000Q2.csv\n",
      "done: 2000Q2.csv\n",
      "working on 2000Q1.csv\n",
      "done: 2000Q1.csv\n",
      "Processed 85 files\n",
      "CPU times: user 9.05 s, sys: 4.49 s, total: 13.5 s\n",
      "Wall time: 4h 36min 20s\n"
     ]
    }
   ],
   "source": [
    "%%time\n",
    "\n",
    "# build the fannie database\n",
    "\n",
    "mifannie.load_fannie(\"/mnt/driveb/fannie_data\")"
   ],
   "metadata": {
    "collapsed": false,
    "pycharm": {
     "name": "#%%\n"
    }
   }
  },
  {
   "cell_type": "code",
   "source": [
    "%%time\n",
    "\n",
    "# build the freddie database\n",
    "\n",
    "# Non-Standard data\n",
    "mifreddie.load_freddie('/home/will/freddie_data/nonstd/', False)\n",
    "\n",
    "# Standard data\n",
    "mifreddie.load_freddie('/home/will/freddie_data/', True)\n"
   ],
   "metadata": {
    "collapsed": false,
    "pycharm": {
     "name": "#%%\n"
    }
   },
   "execution_count": 2,
   "outputs": [
    {
     "name": "stdout",
     "output_type": "stream",
     "text": [
      "working on historical_data_excl_1999Q1.txt\n",
      "done: historical_data_excl_1999Q1.txt\n",
      "Processed 0 files\n",
      "working on historical_data_1999Q1.txt\n",
      "done: historical_data_1999Q1.txt\n",
      "Processed 0 files\n",
      "CPU times: user 171 ms, sys: 20.9 ms, total: 192 ms\n",
      "Wall time: 2min 20s\n"
     ]
    }
   ]
  }
 ],
 "metadata": {
  "kernelspec": {
   "display_name": "Python 3",
   "language": "python",
   "name": "python3"
  },
  "language_info": {
   "codemirror_mode": {
    "name": "ipython",
    "version": 2
   },
   "file_extension": ".py",
   "mimetype": "text/x-python",
   "name": "python",
   "nbconvert_exporter": "python",
   "pygments_lexer": "ipython2",
   "version": "2.7.6"
  }
 },
 "nbformat": 4,
 "nbformat_minor": 0
}