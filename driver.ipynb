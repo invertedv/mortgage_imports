{
 "cells": [
  {
   "cell_type": "markdown",
   "source": [
    "### Driver Notebook\n",
    "This notebook will build all the databases."
   ],
   "metadata": {
    "collapsed": false
   }
  },
  {
   "cell_type": "code",
   "execution_count": null,
   "metadata": {
    "collapsed": true
   },
   "outputs": [],
   "source": [
    "# imports from this project\n",
    "\n",
    "import mortgage_imports.econ as miecon\n",
    "import mortgage_imports.fhfa as mifhfa\n",
    "import mortgage_imports.map as mimap\n",
    "import mortgage_imports.rates as mirates\n",
    "import mortgage_imports.fannie as mifannie\n",
    "import mortgage_imports.fctimes as fctimes\n",
    "import mortgage_imports.freddie as mifreddie\n",
    "import mortgage_imports.unified as unified\n"
   ]
  },
  {
   "cell_type": "code",
   "execution_count": null,
   "outputs": [],
   "source": [
    "%%time\n",
    "\n",
    "# build the auxilliary databases\n",
    "\n",
    "mifhfa.load_fhfa(\"/mnt/driveb/fhfa_data\")\n",
    "mimap.load_map(\"/mnt/driveb/map_data\")\n",
    "miecon.load_econ(\"/mnt/driveb/econ_data\")\n",
    "mirates.load_rates(\"/mnt/driveb/rates_data\")\n",
    "fctimes.load_fctimes(\"/mnt/driveb/fctimes\")\n"
   ],
   "metadata": {
    "collapsed": false,
    "pycharm": {
     "name": "#%%\n"
    }
   }
  },
  {
   "cell_type": "code",
   "execution_count": null,
   "outputs": [],
   "source": [
    "%%time\n",
    "\n",
    "# build the fannie database\n",
    "\n",
    "mifannie.load_fannie(\"/mnt/driveb/fannie_data\")"
   ],
   "metadata": {
    "collapsed": false,
    "pycharm": {
     "name": "#%%\n"
    }
   }
  },
  {
   "cell_type": "code",
   "source": [
    "%%time\n",
    "\n",
    "# build the freddie database\n",
    "\n",
    "# Non-Standard data\n",
    "mifreddie.load_freddie('/home/will/freddie_data/nonstd/', False)\n",
    "\n",
    "# Standard data\n",
    "mifreddie.load_freddie('/home/will/freddie_data/', True)"
   ],
   "metadata": {
    "collapsed": false,
    "pycharm": {
     "name": "#%%\n"
    }
   },
   "execution_count": null,
   "outputs": []
  },
  {
   "cell_type": "code",
   "execution_count": 3,
   "outputs": [
    {
     "name": "stdout",
     "output_type": "stream",
     "text": [
      "CPU times: user 15.5 ms, sys: 6.84 ms, total: 22.4 ms\n",
      "Wall time: 12.4 s\n"
     ]
    }
   ],
   "source": [
    "%%time\n",
    "\n",
    "# create unified freddie/fannie table\n",
    "\n",
    "unified.unify()\n"
   ],
   "metadata": {
    "collapsed": false,
    "pycharm": {
     "name": "#%%\n"
    }
   }
  }
 ],
 "metadata": {
  "kernelspec": {
   "display_name": "Python 3",
   "language": "python",
   "name": "python3"
  },
  "language_info": {
   "codemirror_mode": {
    "name": "ipython",
    "version": 2
   },
   "file_extension": ".py",
   "mimetype": "text/x-python",
   "name": "python",
   "nbconvert_exporter": "python",
   "pygments_lexer": "ipython2",
   "version": "2.7.6"
  }
 },
 "nbformat": 4,
 "nbformat_minor": 0
}